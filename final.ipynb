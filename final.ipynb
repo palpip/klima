{
 "cells": [
  {
   "cell_type": "code",
   "execution_count": 32,
   "id": "be546166",
   "metadata": {},
   "outputs": [
    {
     "name": "stdout",
     "output_type": "stream",
     "text": [
      "             Stanica Teplota  Smer Rýchlosť Nárazy    Tlak Oblačnosť Počasie  \\\n",
      "50  Oravský Podzámok    21.3     S        1   None    None      None    None   \n",
      "67            Senica    23.4    SZ        2   None  1015.1      None    None   \n",
      "66        Ružomberok    22.8    JZ        3   None    None      None    None   \n",
      "65           Rožňava    24.5    JV        1   None  1013.2      None    None   \n",
      "64           Roztoky    21.6  None        -   None    None      None    None   \n",
      "\n",
      "    Graf            datetime  \n",
      "50   NaN 2025-07-30 14:00:00  \n",
      "67   NaN 2025-07-30 14:00:00  \n",
      "66   NaN 2025-07-30 14:00:00  \n",
      "65   NaN 2025-07-30 14:00:00  \n",
      "64   NaN 2025-07-30 14:00:00  \n"
     ]
    }
   ],
   "source": [
    "import pandas as pd\n",
    "import pandas as pd\n",
    "import re\n",
    "import openpyxl\n",
    "import datetime\n",
    "import sqlite3\n",
    "import pyarrow as pa\n",
    "import pyarrow.parquet as pq\n",
    "from pathlib import Path\n",
    "import decimal\n",
    "TOPDIR = r'/home/pp/program/jupyter/Brezno - Klima/'\n",
    "TEMPDIR= TOPDIR + r'temp/'\n",
    "\n",
    "# Replace 'your_file.parquet' with the path to your Parquet file\n",
    "df = pd.read_parquet(TEMPDIR + 'teplotyx.parquet'   )\n",
    "\n",
    "print(df.head())"
   ]
  },
  {
   "cell_type": "code",
   "execution_count": 33,
   "id": "5e7de493",
   "metadata": {},
   "outputs": [],
   "source": [
    "df.index = df['Stanica']\n",
    "brez = df.loc[['Roztoky'],:]"
   ]
  },
  {
   "cell_type": "code",
   "execution_count": 34,
   "id": "aa5f3faf",
   "metadata": {},
   "outputs": [
    {
     "data": {
      "application/vnd.microsoft.datawrangler.viewer.v0+json": {
       "columns": [
        {
         "name": "Stanica",
         "rawType": "object",
         "type": "string"
        },
        {
         "name": "Stanica",
         "rawType": "object",
         "type": "string"
        },
        {
         "name": "Teplota",
         "rawType": "object",
         "type": "string"
        },
        {
         "name": "Smer",
         "rawType": "object",
         "type": "unknown"
        },
        {
         "name": "Rýchlosť",
         "rawType": "object",
         "type": "string"
        },
        {
         "name": "Nárazy",
         "rawType": "object",
         "type": "unknown"
        },
        {
         "name": "Tlak",
         "rawType": "object",
         "type": "unknown"
        },
        {
         "name": "Oblačnosť",
         "rawType": "object",
         "type": "unknown"
        },
        {
         "name": "Počasie",
         "rawType": "object",
         "type": "unknown"
        },
        {
         "name": "Graf",
         "rawType": "float64",
         "type": "float"
        },
        {
         "name": "datetime",
         "rawType": "datetime64[us]",
         "type": "unknown"
        }
       ],
       "ref": "38c975fe-f23c-4545-aeeb-bf77a33d9ceb",
       "rows": [
        [
         "Roztoky",
         "Roztoky",
         "21.6",
         null,
         "-",
         null,
         null,
         null,
         null,
         null,
         "2025-07-30 14:00:00"
        ],
        [
         "Roztoky",
         "Roztoky",
         "21.9",
         null,
         "-",
         null,
         null,
         null,
         null,
         null,
         "2025-07-30 15:00:00"
        ],
        [
         "Roztoky",
         "Roztoky",
         "22.2",
         null,
         "-",
         null,
         null,
         null,
         null,
         null,
         "2025-07-30 16:00:00"
        ],
        [
         "Roztoky",
         "Roztoky",
         "21.5",
         null,
         "-",
         null,
         null,
         null,
         null,
         null,
         "2025-07-30 17:00:00"
        ],
        [
         "Roztoky",
         "Roztoky",
         "21.8",
         null,
         "-",
         null,
         null,
         null,
         null,
         null,
         "2025-07-30 18:00:00"
        ],
        [
         "Roztoky",
         "Roztoky",
         "20.0",
         null,
         "-",
         null,
         null,
         null,
         null,
         null,
         "2025-07-30 19:00:00"
        ],
        [
         "Roztoky",
         "Roztoky",
         "17.0",
         null,
         "-",
         null,
         null,
         null,
         null,
         null,
         "2025-07-30 20:00:00"
        ],
        [
         "Roztoky",
         "Roztoky",
         "15.3",
         null,
         "-",
         null,
         null,
         null,
         null,
         null,
         "2025-07-30 21:00:00"
        ],
        [
         "Roztoky",
         "Roztoky",
         "13.3",
         null,
         "-",
         null,
         null,
         null,
         null,
         null,
         "2025-07-30 22:00:00"
        ],
        [
         "Roztoky",
         "Roztoky",
         "13.3",
         null,
         "-",
         null,
         null,
         null,
         null,
         null,
         "2025-07-30 23:00:00"
        ],
        [
         "Roztoky",
         "Roztoky",
         "12.2",
         null,
         "-",
         null,
         null,
         null,
         null,
         null,
         "2025-07-31 00:00:00"
        ],
        [
         "Roztoky",
         "Roztoky",
         "12.0",
         null,
         "-",
         null,
         null,
         null,
         null,
         null,
         "2025-07-31 01:00:00"
        ],
        [
         "Roztoky",
         "Roztoky",
         "11.7",
         null,
         "-",
         null,
         null,
         null,
         null,
         null,
         "2025-07-31 02:00:00"
        ],
        [
         "Roztoky",
         "Roztoky",
         "10.9",
         null,
         "-",
         null,
         null,
         null,
         null,
         null,
         "2025-07-31 03:00:00"
        ],
        [
         "Roztoky",
         "Roztoky",
         "10.4",
         null,
         "-",
         null,
         null,
         null,
         null,
         null,
         "2025-07-31 04:00:00"
        ],
        [
         "Roztoky",
         "Roztoky",
         "10.6",
         null,
         "-",
         null,
         null,
         null,
         null,
         null,
         "2025-07-31 05:00:00"
        ],
        [
         "Roztoky",
         "Roztoky",
         "11.5",
         null,
         "-",
         null,
         null,
         null,
         null,
         null,
         "2025-07-31 06:00:00"
        ],
        [
         "Roztoky",
         "Roztoky",
         "13.8",
         null,
         "-",
         null,
         null,
         null,
         null,
         null,
         "2025-07-31 07:00:00"
        ],
        [
         "Roztoky",
         "Roztoky",
         "15.8",
         null,
         "-",
         null,
         null,
         null,
         null,
         null,
         "2025-07-31 08:00:00"
        ],
        [
         "Roztoky",
         "Roztoky",
         "17.2",
         null,
         "-",
         null,
         null,
         null,
         null,
         null,
         "2025-07-31 09:00:00"
        ],
        [
         "Roztoky",
         "Roztoky",
         "18.3",
         null,
         "-",
         null,
         null,
         null,
         null,
         null,
         "2025-07-31 10:00:00"
        ],
        [
         "Roztoky",
         "Roztoky",
         "19.1",
         null,
         "-",
         null,
         null,
         null,
         null,
         null,
         "2025-07-31 11:00:00"
        ],
        [
         "Roztoky",
         "Roztoky",
         "21.6",
         null,
         "-",
         null,
         null,
         null,
         null,
         null,
         "2025-07-31 12:00:00"
        ],
        [
         "Roztoky",
         "Roztoky",
         "17.3",
         null,
         "-",
         null,
         null,
         null,
         null,
         null,
         "2025-07-31 13:00:00"
        ],
        [
         "Roztoky",
         "Roztoky",
         "18.8",
         null,
         "-",
         null,
         null,
         null,
         null,
         null,
         "2025-07-31 14:00:00"
        ],
        [
         "Roztoky",
         "Roztoky",
         "20.7",
         null,
         "-",
         null,
         null,
         null,
         null,
         null,
         "2025-07-31 15:00:00"
        ],
        [
         "Roztoky",
         "Roztoky",
         "20.5",
         null,
         "-",
         null,
         null,
         null,
         null,
         null,
         "2025-07-31 16:00:00"
        ],
        [
         "Roztoky",
         "Roztoky",
         "19.5",
         null,
         "-",
         null,
         null,
         null,
         null,
         null,
         "2025-07-31 17:00:00"
        ],
        [
         "Roztoky",
         "Roztoky",
         "17.3",
         null,
         "-",
         null,
         null,
         null,
         null,
         null,
         "2025-07-31 18:00:00"
        ],
        [
         "Roztoky",
         "Roztoky",
         "17.0",
         null,
         "-",
         null,
         null,
         null,
         null,
         null,
         "2025-07-31 19:00:00"
        ],
        [
         "Roztoky",
         "Roztoky",
         "15.8",
         null,
         "-",
         null,
         null,
         null,
         null,
         null,
         "2025-07-31 20:00:00"
        ],
        [
         "Roztoky",
         "Roztoky",
         "13.6",
         null,
         "-",
         null,
         null,
         null,
         null,
         null,
         "2025-07-31 21:00:00"
        ],
        [
         "Roztoky",
         "Roztoky",
         "12.8",
         null,
         "-",
         null,
         null,
         null,
         null,
         null,
         "2025-07-31 22:00:00"
        ],
        [
         "Roztoky",
         "Roztoky",
         "11.9",
         null,
         "-",
         null,
         null,
         null,
         null,
         null,
         "2025-07-31 23:00:00"
        ],
        [
         "Roztoky",
         "Roztoky",
         "11.6",
         null,
         "-",
         null,
         null,
         null,
         null,
         null,
         "2025-08-01 00:00:00"
        ],
        [
         "Roztoky",
         "Roztoky",
         "10.8",
         null,
         "-",
         null,
         null,
         null,
         null,
         null,
         "2025-08-01 01:00:00"
        ],
        [
         "Roztoky",
         "Roztoky",
         "10.1",
         null,
         "-",
         null,
         null,
         null,
         null,
         null,
         "2025-08-01 02:00:00"
        ],
        [
         "Roztoky",
         "Roztoky",
         "9.7",
         null,
         "-",
         null,
         null,
         null,
         null,
         null,
         "2025-08-01 03:00:00"
        ],
        [
         "Roztoky",
         "Roztoky",
         "9.0",
         null,
         "-",
         null,
         null,
         null,
         null,
         null,
         "2025-08-01 04:00:00"
        ],
        [
         "Roztoky",
         "Roztoky",
         "8.4",
         null,
         "-",
         null,
         null,
         null,
         null,
         null,
         "2025-08-01 05:00:00"
        ],
        [
         "Roztoky",
         "Roztoky",
         "9.0",
         null,
         "-",
         null,
         null,
         null,
         null,
         null,
         "2025-08-01 06:00:00"
        ],
        [
         "Roztoky",
         "Roztoky",
         "11.4",
         null,
         "-",
         null,
         null,
         null,
         null,
         null,
         "2025-08-01 07:00:00"
        ],
        [
         "Roztoky",
         "Roztoky",
         "12.8",
         null,
         "-",
         null,
         null,
         null,
         null,
         null,
         "2025-08-01 08:00:00"
        ],
        [
         "Roztoky",
         "Roztoky",
         "15.3",
         null,
         "-",
         null,
         null,
         null,
         null,
         null,
         "2025-08-01 09:00:00"
        ],
        [
         "Roztoky",
         "Roztoky",
         "17.7",
         null,
         "-",
         null,
         null,
         null,
         null,
         null,
         "2025-08-01 10:00:00"
        ],
        [
         "Roztoky",
         "Roztoky",
         "20.0",
         null,
         "-",
         null,
         null,
         null,
         null,
         null,
         "2025-08-01 11:00:00"
        ],
        [
         "Roztoky",
         "Roztoky",
         "21.6",
         null,
         "-",
         null,
         null,
         null,
         null,
         null,
         "2025-08-01 12:00:00"
        ],
        [
         "Roztoky",
         "Roztoky",
         "22.1",
         null,
         "-",
         null,
         null,
         null,
         null,
         null,
         "2025-08-01 13:00:00"
        ],
        [
         "Roztoky",
         "Roztoky",
         "21.8",
         null,
         "-",
         null,
         null,
         null,
         null,
         null,
         "2025-08-01 14:00:00"
        ],
        [
         "Roztoky",
         "Roztoky",
         "23.3",
         null,
         "-",
         null,
         null,
         null,
         null,
         null,
         "2025-08-01 15:00:00"
        ]
       ],
       "shape": {
        "columns": 10,
        "rows": 608
       }
      },
      "text/html": [
       "<div>\n",
       "<style scoped>\n",
       "    .dataframe tbody tr th:only-of-type {\n",
       "        vertical-align: middle;\n",
       "    }\n",
       "\n",
       "    .dataframe tbody tr th {\n",
       "        vertical-align: top;\n",
       "    }\n",
       "\n",
       "    .dataframe thead th {\n",
       "        text-align: right;\n",
       "    }\n",
       "</style>\n",
       "<table border=\"1\" class=\"dataframe\">\n",
       "  <thead>\n",
       "    <tr style=\"text-align: right;\">\n",
       "      <th></th>\n",
       "      <th>Stanica</th>\n",
       "      <th>Teplota</th>\n",
       "      <th>Smer</th>\n",
       "      <th>Rýchlosť</th>\n",
       "      <th>Nárazy</th>\n",
       "      <th>Tlak</th>\n",
       "      <th>Oblačnosť</th>\n",
       "      <th>Počasie</th>\n",
       "      <th>Graf</th>\n",
       "      <th>datetime</th>\n",
       "    </tr>\n",
       "    <tr>\n",
       "      <th>Stanica</th>\n",
       "      <th></th>\n",
       "      <th></th>\n",
       "      <th></th>\n",
       "      <th></th>\n",
       "      <th></th>\n",
       "      <th></th>\n",
       "      <th></th>\n",
       "      <th></th>\n",
       "      <th></th>\n",
       "      <th></th>\n",
       "    </tr>\n",
       "  </thead>\n",
       "  <tbody>\n",
       "    <tr>\n",
       "      <th>Roztoky</th>\n",
       "      <td>Roztoky</td>\n",
       "      <td>21.6</td>\n",
       "      <td>None</td>\n",
       "      <td>-</td>\n",
       "      <td>None</td>\n",
       "      <td>None</td>\n",
       "      <td>None</td>\n",
       "      <td>None</td>\n",
       "      <td>NaN</td>\n",
       "      <td>2025-07-30 14:00:00</td>\n",
       "    </tr>\n",
       "    <tr>\n",
       "      <th>Roztoky</th>\n",
       "      <td>Roztoky</td>\n",
       "      <td>21.9</td>\n",
       "      <td>None</td>\n",
       "      <td>-</td>\n",
       "      <td>None</td>\n",
       "      <td>None</td>\n",
       "      <td>None</td>\n",
       "      <td>None</td>\n",
       "      <td>NaN</td>\n",
       "      <td>2025-07-30 15:00:00</td>\n",
       "    </tr>\n",
       "    <tr>\n",
       "      <th>Roztoky</th>\n",
       "      <td>Roztoky</td>\n",
       "      <td>22.2</td>\n",
       "      <td>None</td>\n",
       "      <td>-</td>\n",
       "      <td>None</td>\n",
       "      <td>None</td>\n",
       "      <td>None</td>\n",
       "      <td>None</td>\n",
       "      <td>NaN</td>\n",
       "      <td>2025-07-30 16:00:00</td>\n",
       "    </tr>\n",
       "    <tr>\n",
       "      <th>Roztoky</th>\n",
       "      <td>Roztoky</td>\n",
       "      <td>21.5</td>\n",
       "      <td>None</td>\n",
       "      <td>-</td>\n",
       "      <td>None</td>\n",
       "      <td>None</td>\n",
       "      <td>None</td>\n",
       "      <td>None</td>\n",
       "      <td>NaN</td>\n",
       "      <td>2025-07-30 17:00:00</td>\n",
       "    </tr>\n",
       "    <tr>\n",
       "      <th>Roztoky</th>\n",
       "      <td>Roztoky</td>\n",
       "      <td>21.8</td>\n",
       "      <td>None</td>\n",
       "      <td>-</td>\n",
       "      <td>None</td>\n",
       "      <td>None</td>\n",
       "      <td>None</td>\n",
       "      <td>None</td>\n",
       "      <td>NaN</td>\n",
       "      <td>2025-07-30 18:00:00</td>\n",
       "    </tr>\n",
       "    <tr>\n",
       "      <th>...</th>\n",
       "      <td>...</td>\n",
       "      <td>...</td>\n",
       "      <td>...</td>\n",
       "      <td>...</td>\n",
       "      <td>...</td>\n",
       "      <td>...</td>\n",
       "      <td>...</td>\n",
       "      <td>...</td>\n",
       "      <td>...</td>\n",
       "      <td>...</td>\n",
       "    </tr>\n",
       "    <tr>\n",
       "      <th>Roztoky</th>\n",
       "      <td>Roztoky</td>\n",
       "      <td>16.7</td>\n",
       "      <td>None</td>\n",
       "      <td>-</td>\n",
       "      <td>None</td>\n",
       "      <td>None</td>\n",
       "      <td>None</td>\n",
       "      <td>None</td>\n",
       "      <td>NaN</td>\n",
       "      <td>2025-08-24 18:00:00</td>\n",
       "    </tr>\n",
       "    <tr>\n",
       "      <th>Roztoky</th>\n",
       "      <td>Roztoky</td>\n",
       "      <td>12.7</td>\n",
       "      <td>None</td>\n",
       "      <td>-</td>\n",
       "      <td>None</td>\n",
       "      <td>None</td>\n",
       "      <td>None</td>\n",
       "      <td>None</td>\n",
       "      <td>NaN</td>\n",
       "      <td>2025-08-24 19:00:00</td>\n",
       "    </tr>\n",
       "    <tr>\n",
       "      <th>Roztoky</th>\n",
       "      <td>Roztoky</td>\n",
       "      <td>10.0</td>\n",
       "      <td>None</td>\n",
       "      <td>-</td>\n",
       "      <td>None</td>\n",
       "      <td>None</td>\n",
       "      <td>None</td>\n",
       "      <td>None</td>\n",
       "      <td>NaN</td>\n",
       "      <td>2025-08-24 20:00:00</td>\n",
       "    </tr>\n",
       "    <tr>\n",
       "      <th>Roztoky</th>\n",
       "      <td>Roztoky</td>\n",
       "      <td>10.6</td>\n",
       "      <td>None</td>\n",
       "      <td>-</td>\n",
       "      <td>None</td>\n",
       "      <td>None</td>\n",
       "      <td>None</td>\n",
       "      <td>None</td>\n",
       "      <td>NaN</td>\n",
       "      <td>2025-08-24 21:00:00</td>\n",
       "    </tr>\n",
       "    <tr>\n",
       "      <th>Roztoky</th>\n",
       "      <td>Roztoky</td>\n",
       "      <td>7.7</td>\n",
       "      <td>None</td>\n",
       "      <td>-</td>\n",
       "      <td>None</td>\n",
       "      <td>None</td>\n",
       "      <td>None</td>\n",
       "      <td>None</td>\n",
       "      <td>NaN</td>\n",
       "      <td>2025-08-24 22:00:00</td>\n",
       "    </tr>\n",
       "  </tbody>\n",
       "</table>\n",
       "<p>608 rows × 10 columns</p>\n",
       "</div>"
      ],
      "text/plain": [
       "         Stanica Teplota  Smer Rýchlosť Nárazy  Tlak Oblačnosť Počasie  Graf  \\\n",
       "Stanica                                                                        \n",
       "Roztoky  Roztoky    21.6  None        -   None  None      None    None   NaN   \n",
       "Roztoky  Roztoky    21.9  None        -   None  None      None    None   NaN   \n",
       "Roztoky  Roztoky    22.2  None        -   None  None      None    None   NaN   \n",
       "Roztoky  Roztoky    21.5  None        -   None  None      None    None   NaN   \n",
       "Roztoky  Roztoky    21.8  None        -   None  None      None    None   NaN   \n",
       "...          ...     ...   ...      ...    ...   ...       ...     ...   ...   \n",
       "Roztoky  Roztoky    16.7  None        -   None  None      None    None   NaN   \n",
       "Roztoky  Roztoky    12.7  None        -   None  None      None    None   NaN   \n",
       "Roztoky  Roztoky    10.0  None        -   None  None      None    None   NaN   \n",
       "Roztoky  Roztoky    10.6  None        -   None  None      None    None   NaN   \n",
       "Roztoky  Roztoky     7.7  None        -   None  None      None    None   NaN   \n",
       "\n",
       "                   datetime  \n",
       "Stanica                      \n",
       "Roztoky 2025-07-30 14:00:00  \n",
       "Roztoky 2025-07-30 15:00:00  \n",
       "Roztoky 2025-07-30 16:00:00  \n",
       "Roztoky 2025-07-30 17:00:00  \n",
       "Roztoky 2025-07-30 18:00:00  \n",
       "...                     ...  \n",
       "Roztoky 2025-08-24 18:00:00  \n",
       "Roztoky 2025-08-24 19:00:00  \n",
       "Roztoky 2025-08-24 20:00:00  \n",
       "Roztoky 2025-08-24 21:00:00  \n",
       "Roztoky 2025-08-24 22:00:00  \n",
       "\n",
       "[608 rows x 10 columns]"
      ]
     },
     "execution_count": 34,
     "metadata": {},
     "output_type": "execute_result"
    }
   ],
   "source": [
    "brez"
   ]
  },
  {
   "cell_type": "code",
   "execution_count": null,
   "id": "2bc55976",
   "metadata": {},
   "outputs": [],
   "source": []
  },
  {
   "cell_type": "code",
   "execution_count": 35,
   "id": "1ff38872",
   "metadata": {},
   "outputs": [
    {
     "data": {
      "application/vnd.microsoft.datawrangler.viewer.v0+json": {
       "columns": [
        {
         "name": "Stanica",
         "rawType": "object",
         "type": "string"
        },
        {
         "name": "Stanica",
         "rawType": "object",
         "type": "string"
        },
        {
         "name": "Teplota",
         "rawType": "object",
         "type": "string"
        },
        {
         "name": "Smer",
         "rawType": "object",
         "type": "unknown"
        },
        {
         "name": "Rýchlosť",
         "rawType": "object",
         "type": "string"
        },
        {
         "name": "Nárazy",
         "rawType": "object",
         "type": "unknown"
        },
        {
         "name": "Tlak",
         "rawType": "object",
         "type": "unknown"
        },
        {
         "name": "Oblačnosť",
         "rawType": "object",
         "type": "unknown"
        },
        {
         "name": "Počasie",
         "rawType": "object",
         "type": "unknown"
        },
        {
         "name": "Graf",
         "rawType": "float64",
         "type": "float"
        },
        {
         "name": "datetime",
         "rawType": "datetime64[us]",
         "type": "unknown"
        }
       ],
       "ref": "d9d8b8e1-dec3-4a3b-8f8a-3165379c7fdb",
       "rows": [
        [
         "Roztoky",
         "Roztoky",
         "21.6",
         null,
         "-",
         null,
         null,
         null,
         null,
         null,
         "2025-07-30 14:00:00"
        ],
        [
         "Roztoky",
         "Roztoky",
         "21.9",
         null,
         "-",
         null,
         null,
         null,
         null,
         null,
         "2025-07-30 15:00:00"
        ],
        [
         "Roztoky",
         "Roztoky",
         "22.2",
         null,
         "-",
         null,
         null,
         null,
         null,
         null,
         "2025-07-30 16:00:00"
        ],
        [
         "Roztoky",
         "Roztoky",
         "21.5",
         null,
         "-",
         null,
         null,
         null,
         null,
         null,
         "2025-07-30 17:00:00"
        ],
        [
         "Roztoky",
         "Roztoky",
         "21.8",
         null,
         "-",
         null,
         null,
         null,
         null,
         null,
         "2025-07-30 18:00:00"
        ],
        [
         "Roztoky",
         "Roztoky",
         "20.0",
         null,
         "-",
         null,
         null,
         null,
         null,
         null,
         "2025-07-30 19:00:00"
        ],
        [
         "Roztoky",
         "Roztoky",
         "17.0",
         null,
         "-",
         null,
         null,
         null,
         null,
         null,
         "2025-07-30 20:00:00"
        ],
        [
         "Roztoky",
         "Roztoky",
         "15.3",
         null,
         "-",
         null,
         null,
         null,
         null,
         null,
         "2025-07-30 21:00:00"
        ],
        [
         "Roztoky",
         "Roztoky",
         "13.3",
         null,
         "-",
         null,
         null,
         null,
         null,
         null,
         "2025-07-30 22:00:00"
        ],
        [
         "Roztoky",
         "Roztoky",
         "13.3",
         null,
         "-",
         null,
         null,
         null,
         null,
         null,
         "2025-07-30 23:00:00"
        ],
        [
         "Roztoky",
         "Roztoky",
         "12.2",
         null,
         "-",
         null,
         null,
         null,
         null,
         null,
         "2025-07-31 00:00:00"
        ],
        [
         "Roztoky",
         "Roztoky",
         "12.0",
         null,
         "-",
         null,
         null,
         null,
         null,
         null,
         "2025-07-31 01:00:00"
        ],
        [
         "Roztoky",
         "Roztoky",
         "11.7",
         null,
         "-",
         null,
         null,
         null,
         null,
         null,
         "2025-07-31 02:00:00"
        ],
        [
         "Roztoky",
         "Roztoky",
         "10.9",
         null,
         "-",
         null,
         null,
         null,
         null,
         null,
         "2025-07-31 03:00:00"
        ],
        [
         "Roztoky",
         "Roztoky",
         "10.4",
         null,
         "-",
         null,
         null,
         null,
         null,
         null,
         "2025-07-31 04:00:00"
        ],
        [
         "Roztoky",
         "Roztoky",
         "10.6",
         null,
         "-",
         null,
         null,
         null,
         null,
         null,
         "2025-07-31 05:00:00"
        ],
        [
         "Roztoky",
         "Roztoky",
         "11.5",
         null,
         "-",
         null,
         null,
         null,
         null,
         null,
         "2025-07-31 06:00:00"
        ],
        [
         "Roztoky",
         "Roztoky",
         "13.8",
         null,
         "-",
         null,
         null,
         null,
         null,
         null,
         "2025-07-31 07:00:00"
        ],
        [
         "Roztoky",
         "Roztoky",
         "15.8",
         null,
         "-",
         null,
         null,
         null,
         null,
         null,
         "2025-07-31 08:00:00"
        ],
        [
         "Roztoky",
         "Roztoky",
         "17.2",
         null,
         "-",
         null,
         null,
         null,
         null,
         null,
         "2025-07-31 09:00:00"
        ],
        [
         "Roztoky",
         "Roztoky",
         "18.3",
         null,
         "-",
         null,
         null,
         null,
         null,
         null,
         "2025-07-31 10:00:00"
        ],
        [
         "Roztoky",
         "Roztoky",
         "19.1",
         null,
         "-",
         null,
         null,
         null,
         null,
         null,
         "2025-07-31 11:00:00"
        ],
        [
         "Roztoky",
         "Roztoky",
         "21.6",
         null,
         "-",
         null,
         null,
         null,
         null,
         null,
         "2025-07-31 12:00:00"
        ],
        [
         "Roztoky",
         "Roztoky",
         "17.3",
         null,
         "-",
         null,
         null,
         null,
         null,
         null,
         "2025-07-31 13:00:00"
        ],
        [
         "Roztoky",
         "Roztoky",
         "18.8",
         null,
         "-",
         null,
         null,
         null,
         null,
         null,
         "2025-07-31 14:00:00"
        ],
        [
         "Roztoky",
         "Roztoky",
         "20.7",
         null,
         "-",
         null,
         null,
         null,
         null,
         null,
         "2025-07-31 15:00:00"
        ],
        [
         "Roztoky",
         "Roztoky",
         "20.5",
         null,
         "-",
         null,
         null,
         null,
         null,
         null,
         "2025-07-31 16:00:00"
        ],
        [
         "Roztoky",
         "Roztoky",
         "19.5",
         null,
         "-",
         null,
         null,
         null,
         null,
         null,
         "2025-07-31 17:00:00"
        ],
        [
         "Roztoky",
         "Roztoky",
         "17.3",
         null,
         "-",
         null,
         null,
         null,
         null,
         null,
         "2025-07-31 18:00:00"
        ],
        [
         "Roztoky",
         "Roztoky",
         "17.0",
         null,
         "-",
         null,
         null,
         null,
         null,
         null,
         "2025-07-31 19:00:00"
        ],
        [
         "Roztoky",
         "Roztoky",
         "15.8",
         null,
         "-",
         null,
         null,
         null,
         null,
         null,
         "2025-07-31 20:00:00"
        ],
        [
         "Roztoky",
         "Roztoky",
         "13.6",
         null,
         "-",
         null,
         null,
         null,
         null,
         null,
         "2025-07-31 21:00:00"
        ],
        [
         "Roztoky",
         "Roztoky",
         "12.8",
         null,
         "-",
         null,
         null,
         null,
         null,
         null,
         "2025-07-31 22:00:00"
        ],
        [
         "Roztoky",
         "Roztoky",
         "11.9",
         null,
         "-",
         null,
         null,
         null,
         null,
         null,
         "2025-07-31 23:00:00"
        ],
        [
         "Roztoky",
         "Roztoky",
         "11.6",
         null,
         "-",
         null,
         null,
         null,
         null,
         null,
         "2025-08-01 00:00:00"
        ],
        [
         "Roztoky",
         "Roztoky",
         "10.8",
         null,
         "-",
         null,
         null,
         null,
         null,
         null,
         "2025-08-01 01:00:00"
        ],
        [
         "Roztoky",
         "Roztoky",
         "10.1",
         null,
         "-",
         null,
         null,
         null,
         null,
         null,
         "2025-08-01 02:00:00"
        ],
        [
         "Roztoky",
         "Roztoky",
         "9.7",
         null,
         "-",
         null,
         null,
         null,
         null,
         null,
         "2025-08-01 03:00:00"
        ],
        [
         "Roztoky",
         "Roztoky",
         "9.0",
         null,
         "-",
         null,
         null,
         null,
         null,
         null,
         "2025-08-01 04:00:00"
        ],
        [
         "Roztoky",
         "Roztoky",
         "8.4",
         null,
         "-",
         null,
         null,
         null,
         null,
         null,
         "2025-08-01 05:00:00"
        ],
        [
         "Roztoky",
         "Roztoky",
         "9.0",
         null,
         "-",
         null,
         null,
         null,
         null,
         null,
         "2025-08-01 06:00:00"
        ],
        [
         "Roztoky",
         "Roztoky",
         "11.4",
         null,
         "-",
         null,
         null,
         null,
         null,
         null,
         "2025-08-01 07:00:00"
        ],
        [
         "Roztoky",
         "Roztoky",
         "12.8",
         null,
         "-",
         null,
         null,
         null,
         null,
         null,
         "2025-08-01 08:00:00"
        ],
        [
         "Roztoky",
         "Roztoky",
         "15.3",
         null,
         "-",
         null,
         null,
         null,
         null,
         null,
         "2025-08-01 09:00:00"
        ],
        [
         "Roztoky",
         "Roztoky",
         "17.7",
         null,
         "-",
         null,
         null,
         null,
         null,
         null,
         "2025-08-01 10:00:00"
        ],
        [
         "Roztoky",
         "Roztoky",
         "20.0",
         null,
         "-",
         null,
         null,
         null,
         null,
         null,
         "2025-08-01 11:00:00"
        ],
        [
         "Roztoky",
         "Roztoky",
         "21.6",
         null,
         "-",
         null,
         null,
         null,
         null,
         null,
         "2025-08-01 12:00:00"
        ],
        [
         "Roztoky",
         "Roztoky",
         "22.1",
         null,
         "-",
         null,
         null,
         null,
         null,
         null,
         "2025-08-01 13:00:00"
        ],
        [
         "Roztoky",
         "Roztoky",
         "21.8",
         null,
         "-",
         null,
         null,
         null,
         null,
         null,
         "2025-08-01 14:00:00"
        ],
        [
         "Roztoky",
         "Roztoky",
         "23.3",
         null,
         "-",
         null,
         null,
         null,
         null,
         null,
         "2025-08-01 15:00:00"
        ]
       ],
       "shape": {
        "columns": 10,
        "rows": 608
       }
      },
      "text/html": [
       "<div>\n",
       "<style scoped>\n",
       "    .dataframe tbody tr th:only-of-type {\n",
       "        vertical-align: middle;\n",
       "    }\n",
       "\n",
       "    .dataframe tbody tr th {\n",
       "        vertical-align: top;\n",
       "    }\n",
       "\n",
       "    .dataframe thead th {\n",
       "        text-align: right;\n",
       "    }\n",
       "</style>\n",
       "<table border=\"1\" class=\"dataframe\">\n",
       "  <thead>\n",
       "    <tr style=\"text-align: right;\">\n",
       "      <th></th>\n",
       "      <th>Stanica</th>\n",
       "      <th>Teplota</th>\n",
       "      <th>Smer</th>\n",
       "      <th>Rýchlosť</th>\n",
       "      <th>Nárazy</th>\n",
       "      <th>Tlak</th>\n",
       "      <th>Oblačnosť</th>\n",
       "      <th>Počasie</th>\n",
       "      <th>Graf</th>\n",
       "      <th>datetime</th>\n",
       "    </tr>\n",
       "    <tr>\n",
       "      <th>Stanica</th>\n",
       "      <th></th>\n",
       "      <th></th>\n",
       "      <th></th>\n",
       "      <th></th>\n",
       "      <th></th>\n",
       "      <th></th>\n",
       "      <th></th>\n",
       "      <th></th>\n",
       "      <th></th>\n",
       "      <th></th>\n",
       "    </tr>\n",
       "  </thead>\n",
       "  <tbody>\n",
       "    <tr>\n",
       "      <th>Roztoky</th>\n",
       "      <td>Roztoky</td>\n",
       "      <td>21.6</td>\n",
       "      <td>None</td>\n",
       "      <td>-</td>\n",
       "      <td>None</td>\n",
       "      <td>None</td>\n",
       "      <td>None</td>\n",
       "      <td>None</td>\n",
       "      <td>NaN</td>\n",
       "      <td>2025-07-30 14:00:00</td>\n",
       "    </tr>\n",
       "    <tr>\n",
       "      <th>Roztoky</th>\n",
       "      <td>Roztoky</td>\n",
       "      <td>21.9</td>\n",
       "      <td>None</td>\n",
       "      <td>-</td>\n",
       "      <td>None</td>\n",
       "      <td>None</td>\n",
       "      <td>None</td>\n",
       "      <td>None</td>\n",
       "      <td>NaN</td>\n",
       "      <td>2025-07-30 15:00:00</td>\n",
       "    </tr>\n",
       "    <tr>\n",
       "      <th>Roztoky</th>\n",
       "      <td>Roztoky</td>\n",
       "      <td>22.2</td>\n",
       "      <td>None</td>\n",
       "      <td>-</td>\n",
       "      <td>None</td>\n",
       "      <td>None</td>\n",
       "      <td>None</td>\n",
       "      <td>None</td>\n",
       "      <td>NaN</td>\n",
       "      <td>2025-07-30 16:00:00</td>\n",
       "    </tr>\n",
       "    <tr>\n",
       "      <th>Roztoky</th>\n",
       "      <td>Roztoky</td>\n",
       "      <td>21.5</td>\n",
       "      <td>None</td>\n",
       "      <td>-</td>\n",
       "      <td>None</td>\n",
       "      <td>None</td>\n",
       "      <td>None</td>\n",
       "      <td>None</td>\n",
       "      <td>NaN</td>\n",
       "      <td>2025-07-30 17:00:00</td>\n",
       "    </tr>\n",
       "    <tr>\n",
       "      <th>Roztoky</th>\n",
       "      <td>Roztoky</td>\n",
       "      <td>21.8</td>\n",
       "      <td>None</td>\n",
       "      <td>-</td>\n",
       "      <td>None</td>\n",
       "      <td>None</td>\n",
       "      <td>None</td>\n",
       "      <td>None</td>\n",
       "      <td>NaN</td>\n",
       "      <td>2025-07-30 18:00:00</td>\n",
       "    </tr>\n",
       "    <tr>\n",
       "      <th>...</th>\n",
       "      <td>...</td>\n",
       "      <td>...</td>\n",
       "      <td>...</td>\n",
       "      <td>...</td>\n",
       "      <td>...</td>\n",
       "      <td>...</td>\n",
       "      <td>...</td>\n",
       "      <td>...</td>\n",
       "      <td>...</td>\n",
       "      <td>...</td>\n",
       "    </tr>\n",
       "    <tr>\n",
       "      <th>Roztoky</th>\n",
       "      <td>Roztoky</td>\n",
       "      <td>16.7</td>\n",
       "      <td>None</td>\n",
       "      <td>-</td>\n",
       "      <td>None</td>\n",
       "      <td>None</td>\n",
       "      <td>None</td>\n",
       "      <td>None</td>\n",
       "      <td>NaN</td>\n",
       "      <td>2025-08-24 18:00:00</td>\n",
       "    </tr>\n",
       "    <tr>\n",
       "      <th>Roztoky</th>\n",
       "      <td>Roztoky</td>\n",
       "      <td>12.7</td>\n",
       "      <td>None</td>\n",
       "      <td>-</td>\n",
       "      <td>None</td>\n",
       "      <td>None</td>\n",
       "      <td>None</td>\n",
       "      <td>None</td>\n",
       "      <td>NaN</td>\n",
       "      <td>2025-08-24 19:00:00</td>\n",
       "    </tr>\n",
       "    <tr>\n",
       "      <th>Roztoky</th>\n",
       "      <td>Roztoky</td>\n",
       "      <td>10.0</td>\n",
       "      <td>None</td>\n",
       "      <td>-</td>\n",
       "      <td>None</td>\n",
       "      <td>None</td>\n",
       "      <td>None</td>\n",
       "      <td>None</td>\n",
       "      <td>NaN</td>\n",
       "      <td>2025-08-24 20:00:00</td>\n",
       "    </tr>\n",
       "    <tr>\n",
       "      <th>Roztoky</th>\n",
       "      <td>Roztoky</td>\n",
       "      <td>10.6</td>\n",
       "      <td>None</td>\n",
       "      <td>-</td>\n",
       "      <td>None</td>\n",
       "      <td>None</td>\n",
       "      <td>None</td>\n",
       "      <td>None</td>\n",
       "      <td>NaN</td>\n",
       "      <td>2025-08-24 21:00:00</td>\n",
       "    </tr>\n",
       "    <tr>\n",
       "      <th>Roztoky</th>\n",
       "      <td>Roztoky</td>\n",
       "      <td>7.7</td>\n",
       "      <td>None</td>\n",
       "      <td>-</td>\n",
       "      <td>None</td>\n",
       "      <td>None</td>\n",
       "      <td>None</td>\n",
       "      <td>None</td>\n",
       "      <td>NaN</td>\n",
       "      <td>2025-08-24 22:00:00</td>\n",
       "    </tr>\n",
       "  </tbody>\n",
       "</table>\n",
       "<p>608 rows × 10 columns</p>\n",
       "</div>"
      ],
      "text/plain": [
       "         Stanica Teplota  Smer Rýchlosť Nárazy  Tlak Oblačnosť Počasie  Graf  \\\n",
       "Stanica                                                                        \n",
       "Roztoky  Roztoky    21.6  None        -   None  None      None    None   NaN   \n",
       "Roztoky  Roztoky    21.9  None        -   None  None      None    None   NaN   \n",
       "Roztoky  Roztoky    22.2  None        -   None  None      None    None   NaN   \n",
       "Roztoky  Roztoky    21.5  None        -   None  None      None    None   NaN   \n",
       "Roztoky  Roztoky    21.8  None        -   None  None      None    None   NaN   \n",
       "...          ...     ...   ...      ...    ...   ...       ...     ...   ...   \n",
       "Roztoky  Roztoky    16.7  None        -   None  None      None    None   NaN   \n",
       "Roztoky  Roztoky    12.7  None        -   None  None      None    None   NaN   \n",
       "Roztoky  Roztoky    10.0  None        -   None  None      None    None   NaN   \n",
       "Roztoky  Roztoky    10.6  None        -   None  None      None    None   NaN   \n",
       "Roztoky  Roztoky     7.7  None        -   None  None      None    None   NaN   \n",
       "\n",
       "                   datetime  \n",
       "Stanica                      \n",
       "Roztoky 2025-07-30 14:00:00  \n",
       "Roztoky 2025-07-30 15:00:00  \n",
       "Roztoky 2025-07-30 16:00:00  \n",
       "Roztoky 2025-07-30 17:00:00  \n",
       "Roztoky 2025-07-30 18:00:00  \n",
       "...                     ...  \n",
       "Roztoky 2025-08-24 18:00:00  \n",
       "Roztoky 2025-08-24 19:00:00  \n",
       "Roztoky 2025-08-24 20:00:00  \n",
       "Roztoky 2025-08-24 21:00:00  \n",
       "Roztoky 2025-08-24 22:00:00  \n",
       "\n",
       "[608 rows x 10 columns]"
      ]
     },
     "execution_count": 35,
     "metadata": {},
     "output_type": "execute_result"
    }
   ],
   "source": [
    "brez"
   ]
  },
  {
   "cell_type": "code",
   "execution_count": 36,
   "id": "08e66f7e",
   "metadata": {},
   "outputs": [
    {
     "name": "stdout",
     "output_type": "stream",
     "text": [
      "<class 'pandas.core.frame.DataFrame'>\n",
      "Index: 608 entries, Roztoky to Roztoky\n",
      "Data columns (total 10 columns):\n",
      " #   Column     Non-Null Count  Dtype         \n",
      "---  ------     --------------  -----         \n",
      " 0   Stanica    608 non-null    object        \n",
      " 1   Teplota    608 non-null    object        \n",
      " 2   Smer       0 non-null      object        \n",
      " 3   Rýchlosť   608 non-null    object        \n",
      " 4   Nárazy     0 non-null      object        \n",
      " 5   Tlak       0 non-null      object        \n",
      " 6   Oblačnosť  0 non-null      object        \n",
      " 7   Počasie    0 non-null      object        \n",
      " 8   Graf       0 non-null      float64       \n",
      " 9   datetime   608 non-null    datetime64[us]\n",
      "dtypes: datetime64[us](1), float64(1), object(8)\n",
      "memory usage: 68.4+ KB\n"
     ]
    }
   ],
   "source": [
    "brez.info()"
   ]
  },
  {
   "cell_type": "code",
   "execution_count": null,
   "id": "093da99c",
   "metadata": {},
   "outputs": [],
   "source": []
  },
  {
   "cell_type": "code",
   "execution_count": 37,
   "id": "7eed1e76",
   "metadata": {},
   "outputs": [
    {
     "name": "stdout",
     "output_type": "stream",
     "text": [
      "<class 'pandas.core.frame.DataFrame'>\n",
      "Index: 608 entries, Roztoky to Roztoky\n",
      "Data columns (total 10 columns):\n",
      " #   Column     Non-Null Count  Dtype         \n",
      "---  ------     --------------  -----         \n",
      " 0   Stanica    608 non-null    object        \n",
      " 1   Teplota    608 non-null    object        \n",
      " 2   Smer       0 non-null      object        \n",
      " 3   Rýchlosť   608 non-null    object        \n",
      " 4   Nárazy     0 non-null      object        \n",
      " 5   Tlak       0 non-null      object        \n",
      " 6   Oblačnosť  0 non-null      object        \n",
      " 7   Počasie    0 non-null      object        \n",
      " 8   Graf       0 non-null      float64       \n",
      " 9   datetime   608 non-null    datetime64[us]\n",
      "dtypes: datetime64[us](1), float64(1), object(8)\n",
      "memory usage: 68.4+ KB\n"
     ]
    }
   ],
   "source": [
    "tf = brez\n",
    "tf.describe()\n",
    "tf.info()"
   ]
  },
  {
   "cell_type": "code",
   "execution_count": 38,
   "id": "3d9ab5a4",
   "metadata": {},
   "outputs": [
    {
     "name": "stdout",
     "output_type": "stream",
     "text": [
      "          Teplota  Graf                    datetime\n",
      "count  608.000000   0.0                         608\n",
      "mean    18.006579   NaN  2025-08-12 05:43:19.342105\n",
      "min      7.700000   NaN         2025-07-30 14:00:00\n",
      "25%     14.700000   NaN         2025-08-05 21:45:00\n",
      "50%     17.400000   NaN         2025-08-12 05:30:00\n",
      "75%     21.425000   NaN         2025-08-18 13:15:00\n",
      "max     30.400000   NaN         2025-08-24 22:00:00\n",
      "std      5.039347   NaN                         NaN\n"
     ]
    }
   ],
   "source": [
    "tf.Teplota = tf.Teplota.astype(float)\n",
    "print(tf.describe())"
   ]
  },
  {
   "cell_type": "code",
   "execution_count": null,
   "id": "3a833dbf",
   "metadata": {},
   "outputs": [],
   "source": []
  },
  {
   "cell_type": "code",
   "execution_count": null,
   "id": "ce161de3",
   "metadata": {},
   "outputs": [],
   "source": []
  },
  {
   "cell_type": "code",
   "execution_count": 39,
   "id": "b6bc3cc2",
   "metadata": {},
   "outputs": [
    {
     "data": {
      "application/vnd.microsoft.datawrangler.viewer.v0+json": {
       "columns": [
        {
         "name": "Stanica",
         "rawType": "object",
         "type": "string"
        },
        {
         "name": "Stanica",
         "rawType": "object",
         "type": "string"
        },
        {
         "name": "Teplota",
         "rawType": "float64",
         "type": "float"
        },
        {
         "name": "Smer",
         "rawType": "object",
         "type": "unknown"
        },
        {
         "name": "Rýchlosť",
         "rawType": "object",
         "type": "string"
        },
        {
         "name": "Nárazy",
         "rawType": "object",
         "type": "unknown"
        },
        {
         "name": "Tlak",
         "rawType": "object",
         "type": "unknown"
        },
        {
         "name": "Oblačnosť",
         "rawType": "object",
         "type": "unknown"
        },
        {
         "name": "Počasie",
         "rawType": "object",
         "type": "unknown"
        },
        {
         "name": "Graf",
         "rawType": "float64",
         "type": "float"
        },
        {
         "name": "datetime",
         "rawType": "datetime64[us]",
         "type": "unknown"
        }
       ],
       "ref": "b828907d-7094-44a8-8da7-d08b9eb1cad1",
       "rows": [
        [
         "Roztoky",
         "Roztoky",
         "21.6",
         null,
         "-",
         null,
         null,
         null,
         null,
         null,
         "2025-07-30 14:00:00"
        ],
        [
         "Roztoky",
         "Roztoky",
         "21.9",
         null,
         "-",
         null,
         null,
         null,
         null,
         null,
         "2025-07-30 15:00:00"
        ],
        [
         "Roztoky",
         "Roztoky",
         "22.2",
         null,
         "-",
         null,
         null,
         null,
         null,
         null,
         "2025-07-30 16:00:00"
        ],
        [
         "Roztoky",
         "Roztoky",
         "21.5",
         null,
         "-",
         null,
         null,
         null,
         null,
         null,
         "2025-07-30 17:00:00"
        ],
        [
         "Roztoky",
         "Roztoky",
         "21.8",
         null,
         "-",
         null,
         null,
         null,
         null,
         null,
         "2025-07-30 18:00:00"
        ],
        [
         "Roztoky",
         "Roztoky",
         "20.0",
         null,
         "-",
         null,
         null,
         null,
         null,
         null,
         "2025-07-30 19:00:00"
        ],
        [
         "Roztoky",
         "Roztoky",
         "17.0",
         null,
         "-",
         null,
         null,
         null,
         null,
         null,
         "2025-07-30 20:00:00"
        ],
        [
         "Roztoky",
         "Roztoky",
         "15.3",
         null,
         "-",
         null,
         null,
         null,
         null,
         null,
         "2025-07-30 21:00:00"
        ],
        [
         "Roztoky",
         "Roztoky",
         "13.3",
         null,
         "-",
         null,
         null,
         null,
         null,
         null,
         "2025-07-30 22:00:00"
        ],
        [
         "Roztoky",
         "Roztoky",
         "13.3",
         null,
         "-",
         null,
         null,
         null,
         null,
         null,
         "2025-07-30 23:00:00"
        ],
        [
         "Roztoky",
         "Roztoky",
         "12.2",
         null,
         "-",
         null,
         null,
         null,
         null,
         null,
         "2025-07-31 00:00:00"
        ],
        [
         "Roztoky",
         "Roztoky",
         "12.0",
         null,
         "-",
         null,
         null,
         null,
         null,
         null,
         "2025-07-31 01:00:00"
        ],
        [
         "Roztoky",
         "Roztoky",
         "11.7",
         null,
         "-",
         null,
         null,
         null,
         null,
         null,
         "2025-07-31 02:00:00"
        ],
        [
         "Roztoky",
         "Roztoky",
         "10.9",
         null,
         "-",
         null,
         null,
         null,
         null,
         null,
         "2025-07-31 03:00:00"
        ],
        [
         "Roztoky",
         "Roztoky",
         "10.4",
         null,
         "-",
         null,
         null,
         null,
         null,
         null,
         "2025-07-31 04:00:00"
        ],
        [
         "Roztoky",
         "Roztoky",
         "10.6",
         null,
         "-",
         null,
         null,
         null,
         null,
         null,
         "2025-07-31 05:00:00"
        ],
        [
         "Roztoky",
         "Roztoky",
         "11.5",
         null,
         "-",
         null,
         null,
         null,
         null,
         null,
         "2025-07-31 06:00:00"
        ],
        [
         "Roztoky",
         "Roztoky",
         "13.8",
         null,
         "-",
         null,
         null,
         null,
         null,
         null,
         "2025-07-31 07:00:00"
        ],
        [
         "Roztoky",
         "Roztoky",
         "15.8",
         null,
         "-",
         null,
         null,
         null,
         null,
         null,
         "2025-07-31 08:00:00"
        ],
        [
         "Roztoky",
         "Roztoky",
         "17.2",
         null,
         "-",
         null,
         null,
         null,
         null,
         null,
         "2025-07-31 09:00:00"
        ],
        [
         "Roztoky",
         "Roztoky",
         "18.3",
         null,
         "-",
         null,
         null,
         null,
         null,
         null,
         "2025-07-31 10:00:00"
        ],
        [
         "Roztoky",
         "Roztoky",
         "19.1",
         null,
         "-",
         null,
         null,
         null,
         null,
         null,
         "2025-07-31 11:00:00"
        ],
        [
         "Roztoky",
         "Roztoky",
         "21.6",
         null,
         "-",
         null,
         null,
         null,
         null,
         null,
         "2025-07-31 12:00:00"
        ],
        [
         "Roztoky",
         "Roztoky",
         "17.3",
         null,
         "-",
         null,
         null,
         null,
         null,
         null,
         "2025-07-31 13:00:00"
        ],
        [
         "Roztoky",
         "Roztoky",
         "18.8",
         null,
         "-",
         null,
         null,
         null,
         null,
         null,
         "2025-07-31 14:00:00"
        ],
        [
         "Roztoky",
         "Roztoky",
         "20.7",
         null,
         "-",
         null,
         null,
         null,
         null,
         null,
         "2025-07-31 15:00:00"
        ],
        [
         "Roztoky",
         "Roztoky",
         "20.5",
         null,
         "-",
         null,
         null,
         null,
         null,
         null,
         "2025-07-31 16:00:00"
        ],
        [
         "Roztoky",
         "Roztoky",
         "19.5",
         null,
         "-",
         null,
         null,
         null,
         null,
         null,
         "2025-07-31 17:00:00"
        ],
        [
         "Roztoky",
         "Roztoky",
         "17.3",
         null,
         "-",
         null,
         null,
         null,
         null,
         null,
         "2025-07-31 18:00:00"
        ],
        [
         "Roztoky",
         "Roztoky",
         "17.0",
         null,
         "-",
         null,
         null,
         null,
         null,
         null,
         "2025-07-31 19:00:00"
        ],
        [
         "Roztoky",
         "Roztoky",
         "15.8",
         null,
         "-",
         null,
         null,
         null,
         null,
         null,
         "2025-07-31 20:00:00"
        ],
        [
         "Roztoky",
         "Roztoky",
         "13.6",
         null,
         "-",
         null,
         null,
         null,
         null,
         null,
         "2025-07-31 21:00:00"
        ],
        [
         "Roztoky",
         "Roztoky",
         "12.8",
         null,
         "-",
         null,
         null,
         null,
         null,
         null,
         "2025-07-31 22:00:00"
        ],
        [
         "Roztoky",
         "Roztoky",
         "11.9",
         null,
         "-",
         null,
         null,
         null,
         null,
         null,
         "2025-07-31 23:00:00"
        ],
        [
         "Roztoky",
         "Roztoky",
         "11.6",
         null,
         "-",
         null,
         null,
         null,
         null,
         null,
         "2025-08-01 00:00:00"
        ],
        [
         "Roztoky",
         "Roztoky",
         "10.8",
         null,
         "-",
         null,
         null,
         null,
         null,
         null,
         "2025-08-01 01:00:00"
        ],
        [
         "Roztoky",
         "Roztoky",
         "10.1",
         null,
         "-",
         null,
         null,
         null,
         null,
         null,
         "2025-08-01 02:00:00"
        ],
        [
         "Roztoky",
         "Roztoky",
         "9.7",
         null,
         "-",
         null,
         null,
         null,
         null,
         null,
         "2025-08-01 03:00:00"
        ],
        [
         "Roztoky",
         "Roztoky",
         "9.0",
         null,
         "-",
         null,
         null,
         null,
         null,
         null,
         "2025-08-01 04:00:00"
        ],
        [
         "Roztoky",
         "Roztoky",
         "8.4",
         null,
         "-",
         null,
         null,
         null,
         null,
         null,
         "2025-08-01 05:00:00"
        ],
        [
         "Roztoky",
         "Roztoky",
         "9.0",
         null,
         "-",
         null,
         null,
         null,
         null,
         null,
         "2025-08-01 06:00:00"
        ],
        [
         "Roztoky",
         "Roztoky",
         "11.4",
         null,
         "-",
         null,
         null,
         null,
         null,
         null,
         "2025-08-01 07:00:00"
        ],
        [
         "Roztoky",
         "Roztoky",
         "12.8",
         null,
         "-",
         null,
         null,
         null,
         null,
         null,
         "2025-08-01 08:00:00"
        ],
        [
         "Roztoky",
         "Roztoky",
         "15.3",
         null,
         "-",
         null,
         null,
         null,
         null,
         null,
         "2025-08-01 09:00:00"
        ],
        [
         "Roztoky",
         "Roztoky",
         "17.7",
         null,
         "-",
         null,
         null,
         null,
         null,
         null,
         "2025-08-01 10:00:00"
        ],
        [
         "Roztoky",
         "Roztoky",
         "20.0",
         null,
         "-",
         null,
         null,
         null,
         null,
         null,
         "2025-08-01 11:00:00"
        ],
        [
         "Roztoky",
         "Roztoky",
         "21.6",
         null,
         "-",
         null,
         null,
         null,
         null,
         null,
         "2025-08-01 12:00:00"
        ],
        [
         "Roztoky",
         "Roztoky",
         "22.1",
         null,
         "-",
         null,
         null,
         null,
         null,
         null,
         "2025-08-01 13:00:00"
        ],
        [
         "Roztoky",
         "Roztoky",
         "21.8",
         null,
         "-",
         null,
         null,
         null,
         null,
         null,
         "2025-08-01 14:00:00"
        ],
        [
         "Roztoky",
         "Roztoky",
         "23.3",
         null,
         "-",
         null,
         null,
         null,
         null,
         null,
         "2025-08-01 15:00:00"
        ]
       ],
       "shape": {
        "columns": 10,
        "rows": 608
       }
      },
      "text/html": [
       "<div>\n",
       "<style scoped>\n",
       "    .dataframe tbody tr th:only-of-type {\n",
       "        vertical-align: middle;\n",
       "    }\n",
       "\n",
       "    .dataframe tbody tr th {\n",
       "        vertical-align: top;\n",
       "    }\n",
       "\n",
       "    .dataframe thead th {\n",
       "        text-align: right;\n",
       "    }\n",
       "</style>\n",
       "<table border=\"1\" class=\"dataframe\">\n",
       "  <thead>\n",
       "    <tr style=\"text-align: right;\">\n",
       "      <th></th>\n",
       "      <th>Stanica</th>\n",
       "      <th>Teplota</th>\n",
       "      <th>Smer</th>\n",
       "      <th>Rýchlosť</th>\n",
       "      <th>Nárazy</th>\n",
       "      <th>Tlak</th>\n",
       "      <th>Oblačnosť</th>\n",
       "      <th>Počasie</th>\n",
       "      <th>Graf</th>\n",
       "      <th>datetime</th>\n",
       "    </tr>\n",
       "    <tr>\n",
       "      <th>Stanica</th>\n",
       "      <th></th>\n",
       "      <th></th>\n",
       "      <th></th>\n",
       "      <th></th>\n",
       "      <th></th>\n",
       "      <th></th>\n",
       "      <th></th>\n",
       "      <th></th>\n",
       "      <th></th>\n",
       "      <th></th>\n",
       "    </tr>\n",
       "  </thead>\n",
       "  <tbody>\n",
       "    <tr>\n",
       "      <th>Roztoky</th>\n",
       "      <td>Roztoky</td>\n",
       "      <td>21.6</td>\n",
       "      <td>None</td>\n",
       "      <td>-</td>\n",
       "      <td>None</td>\n",
       "      <td>None</td>\n",
       "      <td>None</td>\n",
       "      <td>None</td>\n",
       "      <td>NaN</td>\n",
       "      <td>2025-07-30 14:00:00</td>\n",
       "    </tr>\n",
       "    <tr>\n",
       "      <th>Roztoky</th>\n",
       "      <td>Roztoky</td>\n",
       "      <td>21.9</td>\n",
       "      <td>None</td>\n",
       "      <td>-</td>\n",
       "      <td>None</td>\n",
       "      <td>None</td>\n",
       "      <td>None</td>\n",
       "      <td>None</td>\n",
       "      <td>NaN</td>\n",
       "      <td>2025-07-30 15:00:00</td>\n",
       "    </tr>\n",
       "    <tr>\n",
       "      <th>Roztoky</th>\n",
       "      <td>Roztoky</td>\n",
       "      <td>22.2</td>\n",
       "      <td>None</td>\n",
       "      <td>-</td>\n",
       "      <td>None</td>\n",
       "      <td>None</td>\n",
       "      <td>None</td>\n",
       "      <td>None</td>\n",
       "      <td>NaN</td>\n",
       "      <td>2025-07-30 16:00:00</td>\n",
       "    </tr>\n",
       "    <tr>\n",
       "      <th>Roztoky</th>\n",
       "      <td>Roztoky</td>\n",
       "      <td>21.5</td>\n",
       "      <td>None</td>\n",
       "      <td>-</td>\n",
       "      <td>None</td>\n",
       "      <td>None</td>\n",
       "      <td>None</td>\n",
       "      <td>None</td>\n",
       "      <td>NaN</td>\n",
       "      <td>2025-07-30 17:00:00</td>\n",
       "    </tr>\n",
       "    <tr>\n",
       "      <th>Roztoky</th>\n",
       "      <td>Roztoky</td>\n",
       "      <td>21.8</td>\n",
       "      <td>None</td>\n",
       "      <td>-</td>\n",
       "      <td>None</td>\n",
       "      <td>None</td>\n",
       "      <td>None</td>\n",
       "      <td>None</td>\n",
       "      <td>NaN</td>\n",
       "      <td>2025-07-30 18:00:00</td>\n",
       "    </tr>\n",
       "    <tr>\n",
       "      <th>...</th>\n",
       "      <td>...</td>\n",
       "      <td>...</td>\n",
       "      <td>...</td>\n",
       "      <td>...</td>\n",
       "      <td>...</td>\n",
       "      <td>...</td>\n",
       "      <td>...</td>\n",
       "      <td>...</td>\n",
       "      <td>...</td>\n",
       "      <td>...</td>\n",
       "    </tr>\n",
       "    <tr>\n",
       "      <th>Roztoky</th>\n",
       "      <td>Roztoky</td>\n",
       "      <td>16.7</td>\n",
       "      <td>None</td>\n",
       "      <td>-</td>\n",
       "      <td>None</td>\n",
       "      <td>None</td>\n",
       "      <td>None</td>\n",
       "      <td>None</td>\n",
       "      <td>NaN</td>\n",
       "      <td>2025-08-24 18:00:00</td>\n",
       "    </tr>\n",
       "    <tr>\n",
       "      <th>Roztoky</th>\n",
       "      <td>Roztoky</td>\n",
       "      <td>12.7</td>\n",
       "      <td>None</td>\n",
       "      <td>-</td>\n",
       "      <td>None</td>\n",
       "      <td>None</td>\n",
       "      <td>None</td>\n",
       "      <td>None</td>\n",
       "      <td>NaN</td>\n",
       "      <td>2025-08-24 19:00:00</td>\n",
       "    </tr>\n",
       "    <tr>\n",
       "      <th>Roztoky</th>\n",
       "      <td>Roztoky</td>\n",
       "      <td>10.0</td>\n",
       "      <td>None</td>\n",
       "      <td>-</td>\n",
       "      <td>None</td>\n",
       "      <td>None</td>\n",
       "      <td>None</td>\n",
       "      <td>None</td>\n",
       "      <td>NaN</td>\n",
       "      <td>2025-08-24 20:00:00</td>\n",
       "    </tr>\n",
       "    <tr>\n",
       "      <th>Roztoky</th>\n",
       "      <td>Roztoky</td>\n",
       "      <td>10.6</td>\n",
       "      <td>None</td>\n",
       "      <td>-</td>\n",
       "      <td>None</td>\n",
       "      <td>None</td>\n",
       "      <td>None</td>\n",
       "      <td>None</td>\n",
       "      <td>NaN</td>\n",
       "      <td>2025-08-24 21:00:00</td>\n",
       "    </tr>\n",
       "    <tr>\n",
       "      <th>Roztoky</th>\n",
       "      <td>Roztoky</td>\n",
       "      <td>7.7</td>\n",
       "      <td>None</td>\n",
       "      <td>-</td>\n",
       "      <td>None</td>\n",
       "      <td>None</td>\n",
       "      <td>None</td>\n",
       "      <td>None</td>\n",
       "      <td>NaN</td>\n",
       "      <td>2025-08-24 22:00:00</td>\n",
       "    </tr>\n",
       "  </tbody>\n",
       "</table>\n",
       "<p>608 rows × 10 columns</p>\n",
       "</div>"
      ],
      "text/plain": [
       "         Stanica  Teplota  Smer Rýchlosť Nárazy  Tlak Oblačnosť Počasie  Graf  \\\n",
       "Stanica                                                                         \n",
       "Roztoky  Roztoky     21.6  None        -   None  None      None    None   NaN   \n",
       "Roztoky  Roztoky     21.9  None        -   None  None      None    None   NaN   \n",
       "Roztoky  Roztoky     22.2  None        -   None  None      None    None   NaN   \n",
       "Roztoky  Roztoky     21.5  None        -   None  None      None    None   NaN   \n",
       "Roztoky  Roztoky     21.8  None        -   None  None      None    None   NaN   \n",
       "...          ...      ...   ...      ...    ...   ...       ...     ...   ...   \n",
       "Roztoky  Roztoky     16.7  None        -   None  None      None    None   NaN   \n",
       "Roztoky  Roztoky     12.7  None        -   None  None      None    None   NaN   \n",
       "Roztoky  Roztoky     10.0  None        -   None  None      None    None   NaN   \n",
       "Roztoky  Roztoky     10.6  None        -   None  None      None    None   NaN   \n",
       "Roztoky  Roztoky      7.7  None        -   None  None      None    None   NaN   \n",
       "\n",
       "                   datetime  \n",
       "Stanica                      \n",
       "Roztoky 2025-07-30 14:00:00  \n",
       "Roztoky 2025-07-30 15:00:00  \n",
       "Roztoky 2025-07-30 16:00:00  \n",
       "Roztoky 2025-07-30 17:00:00  \n",
       "Roztoky 2025-07-30 18:00:00  \n",
       "...                     ...  \n",
       "Roztoky 2025-08-24 18:00:00  \n",
       "Roztoky 2025-08-24 19:00:00  \n",
       "Roztoky 2025-08-24 20:00:00  \n",
       "Roztoky 2025-08-24 21:00:00  \n",
       "Roztoky 2025-08-24 22:00:00  \n",
       "\n",
       "[608 rows x 10 columns]"
      ]
     },
     "execution_count": 39,
     "metadata": {},
     "output_type": "execute_result"
    }
   ],
   "source": [
    "tf"
   ]
  },
  {
   "cell_type": "code",
   "execution_count": null,
   "id": "9f73590e",
   "metadata": {},
   "outputs": [],
   "source": []
  },
  {
   "cell_type": "code",
   "execution_count": null,
   "id": "c84612e2",
   "metadata": {},
   "outputs": [],
   "source": []
  },
  {
   "cell_type": "code",
   "execution_count": 40,
   "id": "024b5137",
   "metadata": {},
   "outputs": [
    {
     "name": "stdout",
     "output_type": "stream",
     "text": [
      "<class 'pandas.core.series.Series'>\n",
      "Index: 608 entries, Roztoky to Roztoky\n",
      "Series name: Teplota\n",
      "Non-Null Count  Dtype  \n",
      "--------------  -----  \n",
      "608 non-null    Float32\n",
      "dtypes: Float32(1)\n",
      "memory usage: 23.9+ KB\n"
     ]
    }
   ],
   "source": [
    "tf.Teplota.astype(pd.Float32Dtype()).info() \n"
   ]
  },
  {
   "cell_type": "code",
   "execution_count": 41,
   "id": "df9231d0",
   "metadata": {},
   "outputs": [
    {
     "data": {
      "image/png": "[encoded data removed]",
      "text/plain": [
       "<Figure size 640x480 with 1 Axes>"
      ]
     },
     "metadata": {},
     "output_type": "display_data"
    }
   ],
   "source": [
    "import matplotlib.pyplot as plt\n",
    "plt.hist(tf.Teplota, bins=50)\n",
    "plt.xlabel('Teplota')\n",
    "plt.ylabel('Frequency')\n",
    "plt.title('Histogram of Teplota')\n",
    "plt.show()"
   ]
  },
  {
   "cell_type": "code",
   "execution_count": 42,
   "id": "6cc23201",
   "metadata": {},
   "outputs": [
    {
     "data": {
      "application/vnd.microsoft.datawrangler.viewer.v0+json": {
       "columns": [
        {
         "name": "Stanica",
         "rawType": "object",
         "type": "string"
        },
        {
         "name": "Stanica",
         "rawType": "object",
         "type": "string"
        },
        {
         "name": "Teplota",
         "rawType": "float64",
         "type": "float"
        },
        {
         "name": "Smer",
         "rawType": "object",
         "type": "unknown"
        },
        {
         "name": "Rýchlosť",
         "rawType": "object",
         "type": "string"
        },
        {
         "name": "Nárazy",
         "rawType": "object",
         "type": "unknown"
        },
        {
         "name": "Tlak",
         "rawType": "object",
         "type": "unknown"
        },
        {
         "name": "Oblačnosť",
         "rawType": "object",
         "type": "unknown"
        },
        {
         "name": "Počasie",
         "rawType": "object",
         "type": "unknown"
        },
        {
         "name": "Graf",
         "rawType": "float64",
         "type": "float"
        },
        {
         "name": "datetime",
         "rawType": "datetime64[us]",
         "type": "unknown"
        }
       ],
       "ref": "b18c1997-7093-4027-8e5d-47682f632b14",
       "rows": [
        [
         "Roztoky",
         "Roztoky",
         "21.6",
         null,
         "-",
         null,
         null,
         null,
         null,
         null,
         "2025-07-30 14:00:00"
        ],
        [
         "Roztoky",
         "Roztoky",
         "21.9",
         null,
         "-",
         null,
         null,
         null,
         null,
         null,
         "2025-07-30 15:00:00"
        ],
        [
         "Roztoky",
         "Roztoky",
         "22.2",
         null,
         "-",
         null,
         null,
         null,
         null,
         null,
         "2025-07-30 16:00:00"
        ],
        [
         "Roztoky",
         "Roztoky",
         "21.5",
         null,
         "-",
         null,
         null,
         null,
         null,
         null,
         "2025-07-30 17:00:00"
        ],
        [
         "Roztoky",
         "Roztoky",
         "21.8",
         null,
         "-",
         null,
         null,
         null,
         null,
         null,
         "2025-07-30 18:00:00"
        ],
        [
         "Roztoky",
         "Roztoky",
         "20.0",
         null,
         "-",
         null,
         null,
         null,
         null,
         null,
         "2025-07-30 19:00:00"
        ],
        [
         "Roztoky",
         "Roztoky",
         "17.0",
         null,
         "-",
         null,
         null,
         null,
         null,
         null,
         "2025-07-30 20:00:00"
        ],
        [
         "Roztoky",
         "Roztoky",
         "15.3",
         null,
         "-",
         null,
         null,
         null,
         null,
         null,
         "2025-07-30 21:00:00"
        ],
        [
         "Roztoky",
         "Roztoky",
         "13.3",
         null,
         "-",
         null,
         null,
         null,
         null,
         null,
         "2025-07-30 22:00:00"
        ],
        [
         "Roztoky",
         "Roztoky",
         "13.3",
         null,
         "-",
         null,
         null,
         null,
         null,
         null,
         "2025-07-30 23:00:00"
        ],
        [
         "Roztoky",
         "Roztoky",
         "12.2",
         null,
         "-",
         null,
         null,
         null,
         null,
         null,
         "2025-07-31 00:00:00"
        ],
        [
         "Roztoky",
         "Roztoky",
         "12.0",
         null,
         "-",
         null,
         null,
         null,
         null,
         null,
         "2025-07-31 01:00:00"
        ],
        [
         "Roztoky",
         "Roztoky",
         "11.7",
         null,
         "-",
         null,
         null,
         null,
         null,
         null,
         "2025-07-31 02:00:00"
        ],
        [
         "Roztoky",
         "Roztoky",
         "10.9",
         null,
         "-",
         null,
         null,
         null,
         null,
         null,
         "2025-07-31 03:00:00"
        ],
        [
         "Roztoky",
         "Roztoky",
         "10.4",
         null,
         "-",
         null,
         null,
         null,
         null,
         null,
         "2025-07-31 04:00:00"
        ],
        [
         "Roztoky",
         "Roztoky",
         "10.6",
         null,
         "-",
         null,
         null,
         null,
         null,
         null,
         "2025-07-31 05:00:00"
        ],
        [
         "Roztoky",
         "Roztoky",
         "11.5",
         null,
         "-",
         null,
         null,
         null,
         null,
         null,
         "2025-07-31 06:00:00"
        ],
        [
         "Roztoky",
         "Roztoky",
         "13.8",
         null,
         "-",
         null,
         null,
         null,
         null,
         null,
         "2025-07-31 07:00:00"
        ],
        [
         "Roztoky",
         "Roztoky",
         "15.8",
         null,
         "-",
         null,
         null,
         null,
         null,
         null,
         "2025-07-31 08:00:00"
        ],
        [
         "Roztoky",
         "Roztoky",
         "17.2",
         null,
         "-",
         null,
         null,
         null,
         null,
         null,
         "2025-07-31 09:00:00"
        ],
        [
         "Roztoky",
         "Roztoky",
         "18.3",
         null,
         "-",
         null,
         null,
         null,
         null,
         null,
         "2025-07-31 10:00:00"
        ],
        [
         "Roztoky",
         "Roztoky",
         "19.1",
         null,
         "-",
         null,
         null,
         null,
         null,
         null,
         "2025-07-31 11:00:00"
        ],
        [
         "Roztoky",
         "Roztoky",
         "21.6",
         null,
         "-",
         null,
         null,
         null,
         null,
         null,
         "2025-07-31 12:00:00"
        ],
        [
         "Roztoky",
         "Roztoky",
         "17.3",
         null,
         "-",
         null,
         null,
         null,
         null,
         null,
         "2025-07-31 13:00:00"
        ],
        [
         "Roztoky",
         "Roztoky",
         "18.8",
         null,
         "-",
         null,
         null,
         null,
         null,
         null,
         "2025-07-31 14:00:00"
        ],
        [
         "Roztoky",
         "Roztoky",
         "20.7",
         null,
         "-",
         null,
         null,
         null,
         null,
         null,
         "2025-07-31 15:00:00"
        ],
        [
         "Roztoky",
         "Roztoky",
         "20.5",
         null,
         "-",
         null,
         null,
         null,
         null,
         null,
         "2025-07-31 16:00:00"
        ],
        [
         "Roztoky",
         "Roztoky",
         "19.5",
         null,
         "-",
         null,
         null,
         null,
         null,
         null,
         "2025-07-31 17:00:00"
        ],
        [
         "Roztoky",
         "Roztoky",
         "17.3",
         null,
         "-",
         null,
         null,
         null,
         null,
         null,
         "2025-07-31 18:00:00"
        ],
        [
         "Roztoky",
         "Roztoky",
         "17.0",
         null,
         "-",
         null,
         null,
         null,
         null,
         null,
         "2025-07-31 19:00:00"
        ],
        [
         "Roztoky",
         "Roztoky",
         "15.8",
         null,
         "-",
         null,
         null,
         null,
         null,
         null,
         "2025-07-31 20:00:00"
        ],
        [
         "Roztoky",
         "Roztoky",
         "13.6",
         null,
         "-",
         null,
         null,
         null,
         null,
         null,
         "2025-07-31 21:00:00"
        ],
        [
         "Roztoky",
         "Roztoky",
         "12.8",
         null,
         "-",
         null,
         null,
         null,
         null,
         null,
         "2025-07-31 22:00:00"
        ],
        [
         "Roztoky",
         "Roztoky",
         "11.9",
         null,
         "-",
         null,
         null,
         null,
         null,
         null,
         "2025-07-31 23:00:00"
        ],
        [
         "Roztoky",
         "Roztoky",
         "11.6",
         null,
         "-",
         null,
         null,
         null,
         null,
         null,
         "2025-08-01 00:00:00"
        ],
        [
         "Roztoky",
         "Roztoky",
         "10.8",
         null,
         "-",
         null,
         null,
         null,
         null,
         null,
         "2025-08-01 01:00:00"
        ],
        [
         "Roztoky",
         "Roztoky",
         "10.1",
         null,
         "-",
         null,
         null,
         null,
         null,
         null,
         "2025-08-01 02:00:00"
        ],
        [
         "Roztoky",
         "Roztoky",
         "9.7",
         null,
         "-",
         null,
         null,
         null,
         null,
         null,
         "2025-08-01 03:00:00"
        ],
        [
         "Roztoky",
         "Roztoky",
         "9.0",
         null,
         "-",
         null,
         null,
         null,
         null,
         null,
         "2025-08-01 04:00:00"
        ],
        [
         "Roztoky",
         "Roztoky",
         "8.4",
         null,
         "-",
         null,
         null,
         null,
         null,
         null,
         "2025-08-01 05:00:00"
        ],
        [
         "Roztoky",
         "Roztoky",
         "9.0",
         null,
         "-",
         null,
         null,
         null,
         null,
         null,
         "2025-08-01 06:00:00"
        ],
        [
         "Roztoky",
         "Roztoky",
         "11.4",
         null,
         "-",
         null,
         null,
         null,
         null,
         null,
         "2025-08-01 07:00:00"
        ],
        [
         "Roztoky",
         "Roztoky",
         "12.8",
         null,
         "-",
         null,
         null,
         null,
         null,
         null,
         "2025-08-01 08:00:00"
        ],
        [
         "Roztoky",
         "Roztoky",
         "15.3",
         null,
         "-",
         null,
         null,
         null,
         null,
         null,
         "2025-08-01 09:00:00"
        ],
        [
         "Roztoky",
         "Roztoky",
         "17.7",
         null,
         "-",
         null,
         null,
         null,
         null,
         null,
         "2025-08-01 10:00:00"
        ],
        [
         "Roztoky",
         "Roztoky",
         "20.0",
         null,
         "-",
         null,
         null,
         null,
         null,
         null,
         "2025-08-01 11:00:00"
        ],
        [
         "Roztoky",
         "Roztoky",
         "21.6",
         null,
         "-",
         null,
         null,
         null,
         null,
         null,
         "2025-08-01 12:00:00"
        ],
        [
         "Roztoky",
         "Roztoky",
         "22.1",
         null,
         "-",
         null,
         null,
         null,
         null,
         null,
         "2025-08-01 13:00:00"
        ],
        [
         "Roztoky",
         "Roztoky",
         "21.8",
         null,
         "-",
         null,
         null,
         null,
         null,
         null,
         "2025-08-01 14:00:00"
        ],
        [
         "Roztoky",
         "Roztoky",
         "23.3",
         null,
         "-",
         null,
         null,
         null,
         null,
         null,
         "2025-08-01 15:00:00"
        ]
       ],
       "shape": {
        "columns": 10,
        "rows": 608
       }
      },
      "text/html": [
       "<div>\n",
       "<style scoped>\n",
       "    .dataframe tbody tr th:only-of-type {\n",
       "        vertical-align: middle;\n",
       "    }\n",
       "\n",
       "    .dataframe tbody tr th {\n",
       "        vertical-align: top;\n",
       "    }\n",
       "\n",
       "    .dataframe thead th {\n",
       "        text-align: right;\n",
       "    }\n",
       "</style>\n",
       "<table border=\"1\" class=\"dataframe\">\n",
       "  <thead>\n",
       "    <tr style=\"text-align: right;\">\n",
       "      <th></th>\n",
       "      <th>Stanica</th>\n",
       "      <th>Teplota</th>\n",
       "      <th>Smer</th>\n",
       "      <th>Rýchlosť</th>\n",
       "      <th>Nárazy</th>\n",
       "      <th>Tlak</th>\n",
       "      <th>Oblačnosť</th>\n",
       "      <th>Počasie</th>\n",
       "      <th>Graf</th>\n",
       "      <th>datetime</th>\n",
       "    </tr>\n",
       "    <tr>\n",
       "      <th>Stanica</th>\n",
       "      <th></th>\n",
       "      <th></th>\n",
       "      <th></th>\n",
       "      <th></th>\n",
       "      <th></th>\n",
       "      <th></th>\n",
       "      <th></th>\n",
       "      <th></th>\n",
       "      <th></th>\n",
       "      <th></th>\n",
       "    </tr>\n",
       "  </thead>\n",
       "  <tbody>\n",
       "    <tr>\n",
       "      <th>Roztoky</th>\n",
       "      <td>Roztoky</td>\n",
       "      <td>21.6</td>\n",
       "      <td>None</td>\n",
       "      <td>-</td>\n",
       "      <td>None</td>\n",
       "      <td>None</td>\n",
       "      <td>None</td>\n",
       "      <td>None</td>\n",
       "      <td>NaN</td>\n",
       "      <td>2025-07-30 14:00:00</td>\n",
       "    </tr>\n",
       "    <tr>\n",
       "      <th>Roztoky</th>\n",
       "      <td>Roztoky</td>\n",
       "      <td>21.9</td>\n",
       "      <td>None</td>\n",
       "      <td>-</td>\n",
       "      <td>None</td>\n",
       "      <td>None</td>\n",
       "      <td>None</td>\n",
       "      <td>None</td>\n",
       "      <td>NaN</td>\n",
       "      <td>2025-07-30 15:00:00</td>\n",
       "    </tr>\n",
       "    <tr>\n",
       "      <th>Roztoky</th>\n",
       "      <td>Roztoky</td>\n",
       "      <td>22.2</td>\n",
       "      <td>None</td>\n",
       "      <td>-</td>\n",
       "      <td>None</td>\n",
       "      <td>None</td>\n",
       "      <td>None</td>\n",
       "      <td>None</td>\n",
       "      <td>NaN</td>\n",
       "      <td>2025-07-30 16:00:00</td>\n",
       "    </tr>\n",
       "    <tr>\n",
       "      <th>Roztoky</th>\n",
       "      <td>Roztoky</td>\n",
       "      <td>21.5</td>\n",
       "      <td>None</td>\n",
       "      <td>-</td>\n",
       "      <td>None</td>\n",
       "      <td>None</td>\n",
       "      <td>None</td>\n",
       "      <td>None</td>\n",
       "      <td>NaN</td>\n",
       "      <td>2025-07-30 17:00:00</td>\n",
       "    </tr>\n",
       "    <tr>\n",
       "      <th>Roztoky</th>\n",
       "      <td>Roztoky</td>\n",
       "      <td>21.8</td>\n",
       "      <td>None</td>\n",
       "      <td>-</td>\n",
       "      <td>None</td>\n",
       "      <td>None</td>\n",
       "      <td>None</td>\n",
       "      <td>None</td>\n",
       "      <td>NaN</td>\n",
       "      <td>2025-07-30 18:00:00</td>\n",
       "    </tr>\n",
       "    <tr>\n",
       "      <th>...</th>\n",
       "      <td>...</td>\n",
       "      <td>...</td>\n",
       "      <td>...</td>\n",
       "      <td>...</td>\n",
       "      <td>...</td>\n",
       "      <td>...</td>\n",
       "      <td>...</td>\n",
       "      <td>...</td>\n",
       "      <td>...</td>\n",
       "      <td>...</td>\n",
       "    </tr>\n",
       "    <tr>\n",
       "      <th>Roztoky</th>\n",
       "      <td>Roztoky</td>\n",
       "      <td>16.7</td>\n",
       "      <td>None</td>\n",
       "      <td>-</td>\n",
       "      <td>None</td>\n",
       "      <td>None</td>\n",
       "      <td>None</td>\n",
       "      <td>None</td>\n",
       "      <td>NaN</td>\n",
       "      <td>2025-08-24 18:00:00</td>\n",
       "    </tr>\n",
       "    <tr>\n",
       "      <th>Roztoky</th>\n",
       "      <td>Roztoky</td>\n",
       "      <td>12.7</td>\n",
       "      <td>None</td>\n",
       "      <td>-</td>\n",
       "      <td>None</td>\n",
       "      <td>None</td>\n",
       "      <td>None</td>\n",
       "      <td>None</td>\n",
       "      <td>NaN</td>\n",
       "      <td>2025-08-24 19:00:00</td>\n",
       "    </tr>\n",
       "    <tr>\n",
       "      <th>Roztoky</th>\n",
       "      <td>Roztoky</td>\n",
       "      <td>10.0</td>\n",
       "      <td>None</td>\n",
       "      <td>-</td>\n",
       "      <td>None</td>\n",
       "      <td>None</td>\n",
       "      <td>None</td>\n",
       "      <td>None</td>\n",
       "      <td>NaN</td>\n",
       "      <td>2025-08-24 20:00:00</td>\n",
       "    </tr>\n",
       "    <tr>\n",
       "      <th>Roztoky</th>\n",
       "      <td>Roztoky</td>\n",
       "      <td>10.6</td>\n",
       "      <td>None</td>\n",
       "      <td>-</td>\n",
       "      <td>None</td>\n",
       "      <td>None</td>\n",
       "      <td>None</td>\n",
       "      <td>None</td>\n",
       "      <td>NaN</td>\n",
       "      <td>2025-08-24 21:00:00</td>\n",
       "    </tr>\n",
       "    <tr>\n",
       "      <th>Roztoky</th>\n",
       "      <td>Roztoky</td>\n",
       "      <td>7.7</td>\n",
       "      <td>None</td>\n",
       "      <td>-</td>\n",
       "      <td>None</td>\n",
       "      <td>None</td>\n",
       "      <td>None</td>\n",
       "      <td>None</td>\n",
       "      <td>NaN</td>\n",
       "      <td>2025-08-24 22:00:00</td>\n",
       "    </tr>\n",
       "  </tbody>\n",
       "</table>\n",
       "<p>608 rows × 10 columns</p>\n",
       "</div>"
      ],
      "text/plain": [
       "         Stanica  Teplota  Smer Rýchlosť Nárazy  Tlak Oblačnosť Počasie  Graf  \\\n",
       "Stanica                                                                         \n",
       "Roztoky  Roztoky     21.6  None        -   None  None      None    None   NaN   \n",
       "Roztoky  Roztoky     21.9  None        -   None  None      None    None   NaN   \n",
       "Roztoky  Roztoky     22.2  None        -   None  None      None    None   NaN   \n",
       "Roztoky  Roztoky     21.5  None        -   None  None      None    None   NaN   \n",
       "Roztoky  Roztoky     21.8  None        -   None  None      None    None   NaN   \n",
       "...          ...      ...   ...      ...    ...   ...       ...     ...   ...   \n",
       "Roztoky  Roztoky     16.7  None        -   None  None      None    None   NaN   \n",
       "Roztoky  Roztoky     12.7  None        -   None  None      None    None   NaN   \n",
       "Roztoky  Roztoky     10.0  None        -   None  None      None    None   NaN   \n",
       "Roztoky  Roztoky     10.6  None        -   None  None      None    None   NaN   \n",
       "Roztoky  Roztoky      7.7  None        -   None  None      None    None   NaN   \n",
       "\n",
       "                   datetime  \n",
       "Stanica                      \n",
       "Roztoky 2025-07-30 14:00:00  \n",
       "Roztoky 2025-07-30 15:00:00  \n",
       "Roztoky 2025-07-30 16:00:00  \n",
       "Roztoky 2025-07-30 17:00:00  \n",
       "Roztoky 2025-07-30 18:00:00  \n",
       "...                     ...  \n",
       "Roztoky 2025-08-24 18:00:00  \n",
       "Roztoky 2025-08-24 19:00:00  \n",
       "Roztoky 2025-08-24 20:00:00  \n",
       "Roztoky 2025-08-24 21:00:00  \n",
       "Roztoky 2025-08-24 22:00:00  \n",
       "\n",
       "[608 rows x 10 columns]"
      ]
     },
     "execution_count": 42,
     "metadata": {},
     "output_type": "execute_result"
    }
   ],
   "source": [
    "tf"
   ]
  },
  {
   "cell_type": "code",
   "execution_count": null,
   "id": "e0080c48",
   "metadata": {},
   "outputs": [],
   "source": []
  },
  {
   "cell_type": "code",
   "execution_count": null,
   "id": "d3c7e1a1",
   "metadata": {},
   "outputs": [],
   "source": []
  },
  {
   "cell_type": "code",
   "execution_count": null,
   "id": "433072d0",
   "metadata": {},
   "outputs": [],
   "source": []
  },
  {
   "cell_type": "code",
   "execution_count": 43,
   "id": "b80693ae",
   "metadata": {},
   "outputs": [
    {
     "data": {
      "application/vnd.microsoft.datawrangler.viewer.v0+json": {
       "columns": [
        {
         "name": "Stanica",
         "rawType": "object",
         "type": "string"
        },
        {
         "name": "Stanica",
         "rawType": "object",
         "type": "string"
        },
        {
         "name": "Teplota",
         "rawType": "float64",
         "type": "float"
        },
        {
         "name": "Smer",
         "rawType": "object",
         "type": "unknown"
        },
        {
         "name": "Rýchlosť",
         "rawType": "object",
         "type": "string"
        },
        {
         "name": "Nárazy",
         "rawType": "object",
         "type": "unknown"
        },
        {
         "name": "Tlak",
         "rawType": "object",
         "type": "unknown"
        },
        {
         "name": "Oblačnosť",
         "rawType": "object",
         "type": "unknown"
        },
        {
         "name": "Počasie",
         "rawType": "object",
         "type": "unknown"
        },
        {
         "name": "Graf",
         "rawType": "float64",
         "type": "float"
        },
        {
         "name": "datetime",
         "rawType": "datetime64[us]",
         "type": "unknown"
        }
       ],
       "ref": "2bbe9eee-7243-47b4-ade0-b888bbc4f167",
       "rows": [
        [
         "Roztoky",
         "Roztoky",
         "21.6",
         null,
         "-",
         null,
         null,
         null,
         null,
         null,
         "2025-07-30 14:00:00"
        ],
        [
         "Roztoky",
         "Roztoky",
         "21.9",
         null,
         "-",
         null,
         null,
         null,
         null,
         null,
         "2025-07-30 15:00:00"
        ],
        [
         "Roztoky",
         "Roztoky",
         "22.2",
         null,
         "-",
         null,
         null,
         null,
         null,
         null,
         "2025-07-30 16:00:00"
        ],
        [
         "Roztoky",
         "Roztoky",
         "21.5",
         null,
         "-",
         null,
         null,
         null,
         null,
         null,
         "2025-07-30 17:00:00"
        ],
        [
         "Roztoky",
         "Roztoky",
         "21.8",
         null,
         "-",
         null,
         null,
         null,
         null,
         null,
         "2025-07-30 18:00:00"
        ],
        [
         "Roztoky",
         "Roztoky",
         "20.0",
         null,
         "-",
         null,
         null,
         null,
         null,
         null,
         "2025-07-30 19:00:00"
        ],
        [
         "Roztoky",
         "Roztoky",
         "17.0",
         null,
         "-",
         null,
         null,
         null,
         null,
         null,
         "2025-07-30 20:00:00"
        ],
        [
         "Roztoky",
         "Roztoky",
         "15.3",
         null,
         "-",
         null,
         null,
         null,
         null,
         null,
         "2025-07-30 21:00:00"
        ],
        [
         "Roztoky",
         "Roztoky",
         "13.3",
         null,
         "-",
         null,
         null,
         null,
         null,
         null,
         "2025-07-30 22:00:00"
        ],
        [
         "Roztoky",
         "Roztoky",
         "13.3",
         null,
         "-",
         null,
         null,
         null,
         null,
         null,
         "2025-07-30 23:00:00"
        ],
        [
         "Roztoky",
         "Roztoky",
         "12.2",
         null,
         "-",
         null,
         null,
         null,
         null,
         null,
         "2025-07-31 00:00:00"
        ],
        [
         "Roztoky",
         "Roztoky",
         "12.0",
         null,
         "-",
         null,
         null,
         null,
         null,
         null,
         "2025-07-31 01:00:00"
        ],
        [
         "Roztoky",
         "Roztoky",
         "11.7",
         null,
         "-",
         null,
         null,
         null,
         null,
         null,
         "2025-07-31 02:00:00"
        ],
        [
         "Roztoky",
         "Roztoky",
         "10.9",
         null,
         "-",
         null,
         null,
         null,
         null,
         null,
         "2025-07-31 03:00:00"
        ],
        [
         "Roztoky",
         "Roztoky",
         "10.4",
         null,
         "-",
         null,
         null,
         null,
         null,
         null,
         "2025-07-31 04:00:00"
        ],
        [
         "Roztoky",
         "Roztoky",
         "10.6",
         null,
         "-",
         null,
         null,
         null,
         null,
         null,
         "2025-07-31 05:00:00"
        ],
        [
         "Roztoky",
         "Roztoky",
         "11.5",
         null,
         "-",
         null,
         null,
         null,
         null,
         null,
         "2025-07-31 06:00:00"
        ],
        [
         "Roztoky",
         "Roztoky",
         "13.8",
         null,
         "-",
         null,
         null,
         null,
         null,
         null,
         "2025-07-31 07:00:00"
        ],
        [
         "Roztoky",
         "Roztoky",
         "15.8",
         null,
         "-",
         null,
         null,
         null,
         null,
         null,
         "2025-07-31 08:00:00"
        ],
        [
         "Roztoky",
         "Roztoky",
         "17.2",
         null,
         "-",
         null,
         null,
         null,
         null,
         null,
         "2025-07-31 09:00:00"
        ],
        [
         "Roztoky",
         "Roztoky",
         "18.3",
         null,
         "-",
         null,
         null,
         null,
         null,
         null,
         "2025-07-31 10:00:00"
        ],
        [
         "Roztoky",
         "Roztoky",
         "19.1",
         null,
         "-",
         null,
         null,
         null,
         null,
         null,
         "2025-07-31 11:00:00"
        ],
        [
         "Roztoky",
         "Roztoky",
         "21.6",
         null,
         "-",
         null,
         null,
         null,
         null,
         null,
         "2025-07-31 12:00:00"
        ],
        [
         "Roztoky",
         "Roztoky",
         "17.3",
         null,
         "-",
         null,
         null,
         null,
         null,
         null,
         "2025-07-31 13:00:00"
        ],
        [
         "Roztoky",
         "Roztoky",
         "18.8",
         null,
         "-",
         null,
         null,
         null,
         null,
         null,
         "2025-07-31 14:00:00"
        ],
        [
         "Roztoky",
         "Roztoky",
         "20.7",
         null,
         "-",
         null,
         null,
         null,
         null,
         null,
         "2025-07-31 15:00:00"
        ],
        [
         "Roztoky",
         "Roztoky",
         "20.5",
         null,
         "-",
         null,
         null,
         null,
         null,
         null,
         "2025-07-31 16:00:00"
        ],
        [
         "Roztoky",
         "Roztoky",
         "19.5",
         null,
         "-",
         null,
         null,
         null,
         null,
         null,
         "2025-07-31 17:00:00"
        ],
        [
         "Roztoky",
         "Roztoky",
         "17.3",
         null,
         "-",
         null,
         null,
         null,
         null,
         null,
         "2025-07-31 18:00:00"
        ],
        [
         "Roztoky",
         "Roztoky",
         "17.0",
         null,
         "-",
         null,
         null,
         null,
         null,
         null,
         "2025-07-31 19:00:00"
        ],
        [
         "Roztoky",
         "Roztoky",
         "15.8",
         null,
         "-",
         null,
         null,
         null,
         null,
         null,
         "2025-07-31 20:00:00"
        ],
        [
         "Roztoky",
         "Roztoky",
         "13.6",
         null,
         "-",
         null,
         null,
         null,
         null,
         null,
         "2025-07-31 21:00:00"
        ],
        [
         "Roztoky",
         "Roztoky",
         "12.8",
         null,
         "-",
         null,
         null,
         null,
         null,
         null,
         "2025-07-31 22:00:00"
        ],
        [
         "Roztoky",
         "Roztoky",
         "11.9",
         null,
         "-",
         null,
         null,
         null,
         null,
         null,
         "2025-07-31 23:00:00"
        ],
        [
         "Roztoky",
         "Roztoky",
         "11.6",
         null,
         "-",
         null,
         null,
         null,
         null,
         null,
         "2025-08-01 00:00:00"
        ],
        [
         "Roztoky",
         "Roztoky",
         "10.8",
         null,
         "-",
         null,
         null,
         null,
         null,
         null,
         "2025-08-01 01:00:00"
        ],
        [
         "Roztoky",
         "Roztoky",
         "10.1",
         null,
         "-",
         null,
         null,
         null,
         null,
         null,
         "2025-08-01 02:00:00"
        ],
        [
         "Roztoky",
         "Roztoky",
         "9.7",
         null,
         "-",
         null,
         null,
         null,
         null,
         null,
         "2025-08-01 03:00:00"
        ],
        [
         "Roztoky",
         "Roztoky",
         "9.0",
         null,
         "-",
         null,
         null,
         null,
         null,
         null,
         "2025-08-01 04:00:00"
        ],
        [
         "Roztoky",
         "Roztoky",
         "8.4",
         null,
         "-",
         null,
         null,
         null,
         null,
         null,
         "2025-08-01 05:00:00"
        ],
        [
         "Roztoky",
         "Roztoky",
         "9.0",
         null,
         "-",
         null,
         null,
         null,
         null,
         null,
         "2025-08-01 06:00:00"
        ],
        [
         "Roztoky",
         "Roztoky",
         "11.4",
         null,
         "-",
         null,
         null,
         null,
         null,
         null,
         "2025-08-01 07:00:00"
        ],
        [
         "Roztoky",
         "Roztoky",
         "12.8",
         null,
         "-",
         null,
         null,
         null,
         null,
         null,
         "2025-08-01 08:00:00"
        ],
        [
         "Roztoky",
         "Roztoky",
         "15.3",
         null,
         "-",
         null,
         null,
         null,
         null,
         null,
         "2025-08-01 09:00:00"
        ],
        [
         "Roztoky",
         "Roztoky",
         "17.7",
         null,
         "-",
         null,
         null,
         null,
         null,
         null,
         "2025-08-01 10:00:00"
        ],
        [
         "Roztoky",
         "Roztoky",
         "20.0",
         null,
         "-",
         null,
         null,
         null,
         null,
         null,
         "2025-08-01 11:00:00"
        ],
        [
         "Roztoky",
         "Roztoky",
         "21.6",
         null,
         "-",
         null,
         null,
         null,
         null,
         null,
         "2025-08-01 12:00:00"
        ],
        [
         "Roztoky",
         "Roztoky",
         "22.1",
         null,
         "-",
         null,
         null,
         null,
         null,
         null,
         "2025-08-01 13:00:00"
        ],
        [
         "Roztoky",
         "Roztoky",
         "21.8",
         null,
         "-",
         null,
         null,
         null,
         null,
         null,
         "2025-08-01 14:00:00"
        ],
        [
         "Roztoky",
         "Roztoky",
         "23.3",
         null,
         "-",
         null,
         null,
         null,
         null,
         null,
         "2025-08-01 15:00:00"
        ]
       ],
       "shape": {
        "columns": 10,
        "rows": 608
       }
      },
      "text/html": [
       "<div>\n",
       "<style scoped>\n",
       "    .dataframe tbody tr th:only-of-type {\n",
       "        vertical-align: middle;\n",
       "    }\n",
       "\n",
       "    .dataframe tbody tr th {\n",
       "        vertical-align: top;\n",
       "    }\n",
       "\n",
       "    .dataframe thead th {\n",
       "        text-align: right;\n",
       "    }\n",
       "</style>\n",
       "<table border=\"1\" class=\"dataframe\">\n",
       "  <thead>\n",
       "    <tr style=\"text-align: right;\">\n",
       "      <th></th>\n",
       "      <th>Stanica</th>\n",
       "      <th>Teplota</th>\n",
       "      <th>Smer</th>\n",
       "      <th>Rýchlosť</th>\n",
       "      <th>Nárazy</th>\n",
       "      <th>Tlak</th>\n",
       "      <th>Oblačnosť</th>\n",
       "      <th>Počasie</th>\n",
       "      <th>Graf</th>\n",
       "      <th>datetime</th>\n",
       "    </tr>\n",
       "    <tr>\n",
       "      <th>Stanica</th>\n",
       "      <th></th>\n",
       "      <th></th>\n",
       "      <th></th>\n",
       "      <th></th>\n",
       "      <th></th>\n",
       "      <th></th>\n",
       "      <th></th>\n",
       "      <th></th>\n",
       "      <th></th>\n",
       "      <th></th>\n",
       "    </tr>\n",
       "  </thead>\n",
       "  <tbody>\n",
       "    <tr>\n",
       "      <th>Roztoky</th>\n",
       "      <td>Roztoky</td>\n",
       "      <td>21.6</td>\n",
       "      <td>None</td>\n",
       "      <td>-</td>\n",
       "      <td>None</td>\n",
       "      <td>None</td>\n",
       "      <td>None</td>\n",
       "      <td>None</td>\n",
       "      <td>NaN</td>\n",
       "      <td>2025-07-30 14:00:00</td>\n",
       "    </tr>\n",
       "    <tr>\n",
       "      <th>Roztoky</th>\n",
       "      <td>Roztoky</td>\n",
       "      <td>21.9</td>\n",
       "      <td>None</td>\n",
       "      <td>-</td>\n",
       "      <td>None</td>\n",
       "      <td>None</td>\n",
       "      <td>None</td>\n",
       "      <td>None</td>\n",
       "      <td>NaN</td>\n",
       "      <td>2025-07-30 15:00:00</td>\n",
       "    </tr>\n",
       "    <tr>\n",
       "      <th>Roztoky</th>\n",
       "      <td>Roztoky</td>\n",
       "      <td>22.2</td>\n",
       "      <td>None</td>\n",
       "      <td>-</td>\n",
       "      <td>None</td>\n",
       "      <td>None</td>\n",
       "      <td>None</td>\n",
       "      <td>None</td>\n",
       "      <td>NaN</td>\n",
       "      <td>2025-07-30 16:00:00</td>\n",
       "    </tr>\n",
       "    <tr>\n",
       "      <th>Roztoky</th>\n",
       "      <td>Roztoky</td>\n",
       "      <td>21.5</td>\n",
       "      <td>None</td>\n",
       "      <td>-</td>\n",
       "      <td>None</td>\n",
       "      <td>None</td>\n",
       "      <td>None</td>\n",
       "      <td>None</td>\n",
       "      <td>NaN</td>\n",
       "      <td>2025-07-30 17:00:00</td>\n",
       "    </tr>\n",
       "    <tr>\n",
       "      <th>Roztoky</th>\n",
       "      <td>Roztoky</td>\n",
       "      <td>21.8</td>\n",
       "      <td>None</td>\n",
       "      <td>-</td>\n",
       "      <td>None</td>\n",
       "      <td>None</td>\n",
       "      <td>None</td>\n",
       "      <td>None</td>\n",
       "      <td>NaN</td>\n",
       "      <td>2025-07-30 18:00:00</td>\n",
       "    </tr>\n",
       "    <tr>\n",
       "      <th>...</th>\n",
       "      <td>...</td>\n",
       "      <td>...</td>\n",
       "      <td>...</td>\n",
       "      <td>...</td>\n",
       "      <td>...</td>\n",
       "      <td>...</td>\n",
       "      <td>...</td>\n",
       "      <td>...</td>\n",
       "      <td>...</td>\n",
       "      <td>...</td>\n",
       "    </tr>\n",
       "    <tr>\n",
       "      <th>Roztoky</th>\n",
       "      <td>Roztoky</td>\n",
       "      <td>16.7</td>\n",
       "      <td>None</td>\n",
       "      <td>-</td>\n",
       "      <td>None</td>\n",
       "      <td>None</td>\n",
       "      <td>None</td>\n",
       "      <td>None</td>\n",
       "      <td>NaN</td>\n",
       "      <td>2025-08-24 18:00:00</td>\n",
       "    </tr>\n",
       "    <tr>\n",
       "      <th>Roztoky</th>\n",
       "      <td>Roztoky</td>\n",
       "      <td>12.7</td>\n",
       "      <td>None</td>\n",
       "      <td>-</td>\n",
       "      <td>None</td>\n",
       "      <td>None</td>\n",
       "      <td>None</td>\n",
       "      <td>None</td>\n",
       "      <td>NaN</td>\n",
       "      <td>2025-08-24 19:00:00</td>\n",
       "    </tr>\n",
       "    <tr>\n",
       "      <th>Roztoky</th>\n",
       "      <td>Roztoky</td>\n",
       "      <td>10.0</td>\n",
       "      <td>None</td>\n",
       "      <td>-</td>\n",
       "      <td>None</td>\n",
       "      <td>None</td>\n",
       "      <td>None</td>\n",
       "      <td>None</td>\n",
       "      <td>NaN</td>\n",
       "      <td>2025-08-24 20:00:00</td>\n",
       "    </tr>\n",
       "    <tr>\n",
       "      <th>Roztoky</th>\n",
       "      <td>Roztoky</td>\n",
       "      <td>10.6</td>\n",
       "      <td>None</td>\n",
       "      <td>-</td>\n",
       "      <td>None</td>\n",
       "      <td>None</td>\n",
       "      <td>None</td>\n",
       "      <td>None</td>\n",
       "      <td>NaN</td>\n",
       "      <td>2025-08-24 21:00:00</td>\n",
       "    </tr>\n",
       "    <tr>\n",
       "      <th>Roztoky</th>\n",
       "      <td>Roztoky</td>\n",
       "      <td>7.7</td>\n",
       "      <td>None</td>\n",
       "      <td>-</td>\n",
       "      <td>None</td>\n",
       "      <td>None</td>\n",
       "      <td>None</td>\n",
       "      <td>None</td>\n",
       "      <td>NaN</td>\n",
       "      <td>2025-08-24 22:00:00</td>\n",
       "    </tr>\n",
       "  </tbody>\n",
       "</table>\n",
       "<p>608 rows × 10 columns</p>\n",
       "</div>"
      ],
      "text/plain": [
       "         Stanica  Teplota  Smer Rýchlosť Nárazy  Tlak Oblačnosť Počasie  Graf  \\\n",
       "Stanica                                                                         \n",
       "Roztoky  Roztoky     21.6  None        -   None  None      None    None   NaN   \n",
       "Roztoky  Roztoky     21.9  None        -   None  None      None    None   NaN   \n",
       "Roztoky  Roztoky     22.2  None        -   None  None      None    None   NaN   \n",
       "Roztoky  Roztoky     21.5  None        -   None  None      None    None   NaN   \n",
       "Roztoky  Roztoky     21.8  None        -   None  None      None    None   NaN   \n",
       "...          ...      ...   ...      ...    ...   ...       ...     ...   ...   \n",
       "Roztoky  Roztoky     16.7  None        -   None  None      None    None   NaN   \n",
       "Roztoky  Roztoky     12.7  None        -   None  None      None    None   NaN   \n",
       "Roztoky  Roztoky     10.0  None        -   None  None      None    None   NaN   \n",
       "Roztoky  Roztoky     10.6  None        -   None  None      None    None   NaN   \n",
       "Roztoky  Roztoky      7.7  None        -   None  None      None    None   NaN   \n",
       "\n",
       "                   datetime  \n",
       "Stanica                      \n",
       "Roztoky 2025-07-30 14:00:00  \n",
       "Roztoky 2025-07-30 15:00:00  \n",
       "Roztoky 2025-07-30 16:00:00  \n",
       "Roztoky 2025-07-30 17:00:00  \n",
       "Roztoky 2025-07-30 18:00:00  \n",
       "...                     ...  \n",
       "Roztoky 2025-08-24 18:00:00  \n",
       "Roztoky 2025-08-24 19:00:00  \n",
       "Roztoky 2025-08-24 20:00:00  \n",
       "Roztoky 2025-08-24 21:00:00  \n",
       "Roztoky 2025-08-24 22:00:00  \n",
       "\n",
       "[608 rows x 10 columns]"
      ]
     },
     "execution_count": 43,
     "metadata": {},
     "output_type": "execute_result"
    }
   ],
   "source": [
    "tf"
   ]
  },
  {
   "cell_type": "code",
   "execution_count": 44,
   "id": "381d7278",
   "metadata": {},
   "outputs": [
    {
     "data": {
      "text/plain": [
       "Index(['Stanica', 'Teplota', 'Smer', 'Rýchlosť', 'Nárazy', 'Tlak', 'Oblačnosť',\n",
       "       'Počasie', 'Graf', 'datetime'],\n",
       "      dtype='object')"
      ]
     },
     "execution_count": 44,
     "metadata": {},
     "output_type": "execute_result"
    }
   ],
   "source": [
    "tf.columns"
   ]
  },
  {
   "cell_type": "code",
   "execution_count": 45,
   "id": "22a4fe38",
   "metadata": {},
   "outputs": [
    {
     "data": {
      "application/vnd.microsoft.datawrangler.viewer.v0+json": {
       "columns": [
        {
         "name": "Stanica",
         "rawType": "object",
         "type": "string"
        },
        {
         "name": "datetime",
         "rawType": "datetime64[us]",
         "type": "unknown"
        }
       ],
       "ref": "8d1aa65c-f0c8-4a10-a5d4-1b114282f523",
       "rows": [
        [
         "Roztoky",
         "2025-07-30 14:00:00"
        ],
        [
         "Roztoky",
         "2025-07-30 15:00:00"
        ],
        [
         "Roztoky",
         "2025-07-30 16:00:00"
        ],
        [
         "Roztoky",
         "2025-07-30 17:00:00"
        ],
        [
         "Roztoky",
         "2025-07-30 18:00:00"
        ],
        [
         "Roztoky",
         "2025-07-30 19:00:00"
        ],
        [
         "Roztoky",
         "2025-07-30 20:00:00"
        ],
        [
         "Roztoky",
         "2025-07-30 21:00:00"
        ],
        [
         "Roztoky",
         "2025-07-30 22:00:00"
        ],
        [
         "Roztoky",
         "2025-07-30 23:00:00"
        ],
        [
         "Roztoky",
         "2025-07-31 00:00:00"
        ],
        [
         "Roztoky",
         "2025-07-31 01:00:00"
        ],
        [
         "Roztoky",
         "2025-07-31 02:00:00"
        ],
        [
         "Roztoky",
         "2025-07-31 03:00:00"
        ],
        [
         "Roztoky",
         "2025-07-31 04:00:00"
        ],
        [
         "Roztoky",
         "2025-07-31 05:00:00"
        ],
        [
         "Roztoky",
         "2025-07-31 06:00:00"
        ],
        [
         "Roztoky",
         "2025-07-31 07:00:00"
        ],
        [
         "Roztoky",
         "2025-07-31 08:00:00"
        ],
        [
         "Roztoky",
         "2025-07-31 09:00:00"
        ],
        [
         "Roztoky",
         "2025-07-31 10:00:00"
        ],
        [
         "Roztoky",
         "2025-07-31 11:00:00"
        ],
        [
         "Roztoky",
         "2025-07-31 12:00:00"
        ],
        [
         "Roztoky",
         "2025-07-31 13:00:00"
        ],
        [
         "Roztoky",
         "2025-07-31 14:00:00"
        ],
        [
         "Roztoky",
         "2025-07-31 15:00:00"
        ],
        [
         "Roztoky",
         "2025-07-31 16:00:00"
        ],
        [
         "Roztoky",
         "2025-07-31 17:00:00"
        ],
        [
         "Roztoky",
         "2025-07-31 18:00:00"
        ],
        [
         "Roztoky",
         "2025-07-31 19:00:00"
        ],
        [
         "Roztoky",
         "2025-07-31 20:00:00"
        ],
        [
         "Roztoky",
         "2025-07-31 21:00:00"
        ],
        [
         "Roztoky",
         "2025-07-31 22:00:00"
        ],
        [
         "Roztoky",
         "2025-07-31 23:00:00"
        ],
        [
         "Roztoky",
         "2025-08-01 00:00:00"
        ],
        [
         "Roztoky",
         "2025-08-01 01:00:00"
        ],
        [
         "Roztoky",
         "2025-08-01 02:00:00"
        ],
        [
         "Roztoky",
         "2025-08-01 03:00:00"
        ],
        [
         "Roztoky",
         "2025-08-01 04:00:00"
        ],
        [
         "Roztoky",
         "2025-08-01 05:00:00"
        ],
        [
         "Roztoky",
         "2025-08-01 06:00:00"
        ],
        [
         "Roztoky",
         "2025-08-01 07:00:00"
        ],
        [
         "Roztoky",
         "2025-08-01 08:00:00"
        ],
        [
         "Roztoky",
         "2025-08-01 09:00:00"
        ],
        [
         "Roztoky",
         "2025-08-01 10:00:00"
        ],
        [
         "Roztoky",
         "2025-08-01 11:00:00"
        ],
        [
         "Roztoky",
         "2025-08-01 12:00:00"
        ],
        [
         "Roztoky",
         "2025-08-01 13:00:00"
        ],
        [
         "Roztoky",
         "2025-08-01 14:00:00"
        ],
        [
         "Roztoky",
         "2025-08-01 15:00:00"
        ]
       ],
       "shape": {
        "columns": 1,
        "rows": 608
       }
      },
      "text/plain": [
       "Stanica\n",
       "Roztoky   2025-07-30 14:00:00\n",
       "Roztoky   2025-07-30 15:00:00\n",
       "Roztoky   2025-07-30 16:00:00\n",
       "Roztoky   2025-07-30 17:00:00\n",
       "Roztoky   2025-07-30 18:00:00\n",
       "                  ...        \n",
       "Roztoky   2025-08-24 18:00:00\n",
       "Roztoky   2025-08-24 19:00:00\n",
       "Roztoky   2025-08-24 20:00:00\n",
       "Roztoky   2025-08-24 21:00:00\n",
       "Roztoky   2025-08-24 22:00:00\n",
       "Name: datetime, Length: 608, dtype: datetime64[us]"
      ]
     },
     "execution_count": 45,
     "metadata": {},
     "output_type": "execute_result"
    }
   ],
   "source": [
    "tf['datetime']"
   ]
  },
  {
   "cell_type": "code",
   "execution_count": 46,
   "id": "59c3b72d",
   "metadata": {},
   "outputs": [
    {
     "data": {
      "application/vnd.microsoft.datawrangler.viewer.v0+json": {
       "columns": [
        {
         "name": "Stanica",
         "rawType": "object",
         "type": "string"
        },
        {
         "name": "Stanica",
         "rawType": "object",
         "type": "string"
        },
        {
         "name": "Teplota",
         "rawType": "float64",
         "type": "float"
        },
        {
         "name": "Smer",
         "rawType": "object",
         "type": "unknown"
        },
        {
         "name": "Rýchlosť",
         "rawType": "object",
         "type": "string"
        },
        {
         "name": "Nárazy",
         "rawType": "object",
         "type": "unknown"
        },
        {
         "name": "Tlak",
         "rawType": "object",
         "type": "unknown"
        },
        {
         "name": "Oblačnosť",
         "rawType": "object",
         "type": "unknown"
        },
        {
         "name": "Počasie",
         "rawType": "object",
         "type": "unknown"
        },
        {
         "name": "Graf",
         "rawType": "float64",
         "type": "float"
        },
        {
         "name": "datetime",
         "rawType": "datetime64[us]",
         "type": "unknown"
        }
       ],
       "ref": "7320623f-2ff4-41a9-9b57-e589b8d319e4",
       "rows": [
        [
         "Roztoky",
         "Roztoky",
         "21.6",
         null,
         "-",
         null,
         null,
         null,
         null,
         null,
         "2025-07-30 14:00:00"
        ],
        [
         "Roztoky",
         "Roztoky",
         "21.9",
         null,
         "-",
         null,
         null,
         null,
         null,
         null,
         "2025-07-30 15:00:00"
        ],
        [
         "Roztoky",
         "Roztoky",
         "22.2",
         null,
         "-",
         null,
         null,
         null,
         null,
         null,
         "2025-07-30 16:00:00"
        ],
        [
         "Roztoky",
         "Roztoky",
         "21.5",
         null,
         "-",
         null,
         null,
         null,
         null,
         null,
         "2025-07-30 17:00:00"
        ],
        [
         "Roztoky",
         "Roztoky",
         "21.8",
         null,
         "-",
         null,
         null,
         null,
         null,
         null,
         "2025-07-30 18:00:00"
        ],
        [
         "Roztoky",
         "Roztoky",
         "20.0",
         null,
         "-",
         null,
         null,
         null,
         null,
         null,
         "2025-07-30 19:00:00"
        ],
        [
         "Roztoky",
         "Roztoky",
         "17.0",
         null,
         "-",
         null,
         null,
         null,
         null,
         null,
         "2025-07-30 20:00:00"
        ],
        [
         "Roztoky",
         "Roztoky",
         "15.3",
         null,
         "-",
         null,
         null,
         null,
         null,
         null,
         "2025-07-30 21:00:00"
        ],
        [
         "Roztoky",
         "Roztoky",
         "13.3",
         null,
         "-",
         null,
         null,
         null,
         null,
         null,
         "2025-07-30 22:00:00"
        ],
        [
         "Roztoky",
         "Roztoky",
         "13.3",
         null,
         "-",
         null,
         null,
         null,
         null,
         null,
         "2025-07-30 23:00:00"
        ],
        [
         "Roztoky",
         "Roztoky",
         "12.2",
         null,
         "-",
         null,
         null,
         null,
         null,
         null,
         "2025-07-31 00:00:00"
        ],
        [
         "Roztoky",
         "Roztoky",
         "12.0",
         null,
         "-",
         null,
         null,
         null,
         null,
         null,
         "2025-07-31 01:00:00"
        ],
        [
         "Roztoky",
         "Roztoky",
         "11.7",
         null,
         "-",
         null,
         null,
         null,
         null,
         null,
         "2025-07-31 02:00:00"
        ],
        [
         "Roztoky",
         "Roztoky",
         "10.9",
         null,
         "-",
         null,
         null,
         null,
         null,
         null,
         "2025-07-31 03:00:00"
        ],
        [
         "Roztoky",
         "Roztoky",
         "10.4",
         null,
         "-",
         null,
         null,
         null,
         null,
         null,
         "2025-07-31 04:00:00"
        ],
        [
         "Roztoky",
         "Roztoky",
         "10.6",
         null,
         "-",
         null,
         null,
         null,
         null,
         null,
         "2025-07-31 05:00:00"
        ],
        [
         "Roztoky",
         "Roztoky",
         "11.5",
         null,
         "-",
         null,
         null,
         null,
         null,
         null,
         "2025-07-31 06:00:00"
        ],
        [
         "Roztoky",
         "Roztoky",
         "13.8",
         null,
         "-",
         null,
         null,
         null,
         null,
         null,
         "2025-07-31 07:00:00"
        ],
        [
         "Roztoky",
         "Roztoky",
         "15.8",
         null,
         "-",
         null,
         null,
         null,
         null,
         null,
         "2025-07-31 08:00:00"
        ],
        [
         "Roztoky",
         "Roztoky",
         "17.2",
         null,
         "-",
         null,
         null,
         null,
         null,
         null,
         "2025-07-31 09:00:00"
        ],
        [
         "Roztoky",
         "Roztoky",
         "18.3",
         null,
         "-",
         null,
         null,
         null,
         null,
         null,
         "2025-07-31 10:00:00"
        ],
        [
         "Roztoky",
         "Roztoky",
         "19.1",
         null,
         "-",
         null,
         null,
         null,
         null,
         null,
         "2025-07-31 11:00:00"
        ],
        [
         "Roztoky",
         "Roztoky",
         "21.6",
         null,
         "-",
         null,
         null,
         null,
         null,
         null,
         "2025-07-31 12:00:00"
        ],
        [
         "Roztoky",
         "Roztoky",
         "17.3",
         null,
         "-",
         null,
         null,
         null,
         null,
         null,
         "2025-07-31 13:00:00"
        ],
        [
         "Roztoky",
         "Roztoky",
         "18.8",
         null,
         "-",
         null,
         null,
         null,
         null,
         null,
         "2025-07-31 14:00:00"
        ],
        [
         "Roztoky",
         "Roztoky",
         "20.7",
         null,
         "-",
         null,
         null,
         null,
         null,
         null,
         "2025-07-31 15:00:00"
        ],
        [
         "Roztoky",
         "Roztoky",
         "20.5",
         null,
         "-",
         null,
         null,
         null,
         null,
         null,
         "2025-07-31 16:00:00"
        ],
        [
         "Roztoky",
         "Roztoky",
         "19.5",
         null,
         "-",
         null,
         null,
         null,
         null,
         null,
         "2025-07-31 17:00:00"
        ],
        [
         "Roztoky",
         "Roztoky",
         "17.3",
         null,
         "-",
         null,
         null,
         null,
         null,
         null,
         "2025-07-31 18:00:00"
        ],
        [
         "Roztoky",
         "Roztoky",
         "17.0",
         null,
         "-",
         null,
         null,
         null,
         null,
         null,
         "2025-07-31 19:00:00"
        ],
        [
         "Roztoky",
         "Roztoky",
         "15.8",
         null,
         "-",
         null,
         null,
         null,
         null,
         null,
         "2025-07-31 20:00:00"
        ],
        [
         "Roztoky",
         "Roztoky",
         "13.6",
         null,
         "-",
         null,
         null,
         null,
         null,
         null,
         "2025-07-31 21:00:00"
        ],
        [
         "Roztoky",
         "Roztoky",
         "12.8",
         null,
         "-",
         null,
         null,
         null,
         null,
         null,
         "2025-07-31 22:00:00"
        ],
        [
         "Roztoky",
         "Roztoky",
         "11.9",
         null,
         "-",
         null,
         null,
         null,
         null,
         null,
         "2025-07-31 23:00:00"
        ],
        [
         "Roztoky",
         "Roztoky",
         "11.6",
         null,
         "-",
         null,
         null,
         null,
         null,
         null,
         "2025-08-01 00:00:00"
        ],
        [
         "Roztoky",
         "Roztoky",
         "10.8",
         null,
         "-",
         null,
         null,
         null,
         null,
         null,
         "2025-08-01 01:00:00"
        ],
        [
         "Roztoky",
         "Roztoky",
         "10.1",
         null,
         "-",
         null,
         null,
         null,
         null,
         null,
         "2025-08-01 02:00:00"
        ],
        [
         "Roztoky",
         "Roztoky",
         "9.7",
         null,
         "-",
         null,
         null,
         null,
         null,
         null,
         "2025-08-01 03:00:00"
        ],
        [
         "Roztoky",
         "Roztoky",
         "9.0",
         null,
         "-",
         null,
         null,
         null,
         null,
         null,
         "2025-08-01 04:00:00"
        ],
        [
         "Roztoky",
         "Roztoky",
         "8.4",
         null,
         "-",
         null,
         null,
         null,
         null,
         null,
         "2025-08-01 05:00:00"
        ],
        [
         "Roztoky",
         "Roztoky",
         "9.0",
         null,
         "-",
         null,
         null,
         null,
         null,
         null,
         "2025-08-01 06:00:00"
        ],
        [
         "Roztoky",
         "Roztoky",
         "11.4",
         null,
         "-",
         null,
         null,
         null,
         null,
         null,
         "2025-08-01 07:00:00"
        ],
        [
         "Roztoky",
         "Roztoky",
         "12.8",
         null,
         "-",
         null,
         null,
         null,
         null,
         null,
         "2025-08-01 08:00:00"
        ],
        [
         "Roztoky",
         "Roztoky",
         "15.3",
         null,
         "-",
         null,
         null,
         null,
         null,
         null,
         "2025-08-01 09:00:00"
        ],
        [
         "Roztoky",
         "Roztoky",
         "17.7",
         null,
         "-",
         null,
         null,
         null,
         null,
         null,
         "2025-08-01 10:00:00"
        ],
        [
         "Roztoky",
         "Roztoky",
         "20.0",
         null,
         "-",
         null,
         null,
         null,
         null,
         null,
         "2025-08-01 11:00:00"
        ],
        [
         "Roztoky",
         "Roztoky",
         "21.6",
         null,
         "-",
         null,
         null,
         null,
         null,
         null,
         "2025-08-01 12:00:00"
        ],
        [
         "Roztoky",
         "Roztoky",
         "22.1",
         null,
         "-",
         null,
         null,
         null,
         null,
         null,
         "2025-08-01 13:00:00"
        ],
        [
         "Roztoky",
         "Roztoky",
         "21.8",
         null,
         "-",
         null,
         null,
         null,
         null,
         null,
         "2025-08-01 14:00:00"
        ],
        [
         "Roztoky",
         "Roztoky",
         "23.3",
         null,
         "-",
         null,
         null,
         null,
         null,
         null,
         "2025-08-01 15:00:00"
        ]
       ],
       "shape": {
        "columns": 10,
        "rows": 608
       }
      },
      "text/html": [
       "<div>\n",
       "<style scoped>\n",
       "    .dataframe tbody tr th:only-of-type {\n",
       "        vertical-align: middle;\n",
       "    }\n",
       "\n",
       "    .dataframe tbody tr th {\n",
       "        vertical-align: top;\n",
       "    }\n",
       "\n",
       "    .dataframe thead th {\n",
       "        text-align: right;\n",
       "    }\n",
       "</style>\n",
       "<table border=\"1\" class=\"dataframe\">\n",
       "  <thead>\n",
       "    <tr style=\"text-align: right;\">\n",
       "      <th></th>\n",
       "      <th>Stanica</th>\n",
       "      <th>Teplota</th>\n",
       "      <th>Smer</th>\n",
       "      <th>Rýchlosť</th>\n",
       "      <th>Nárazy</th>\n",
       "      <th>Tlak</th>\n",
       "      <th>Oblačnosť</th>\n",
       "      <th>Počasie</th>\n",
       "      <th>Graf</th>\n",
       "      <th>datetime</th>\n",
       "    </tr>\n",
       "    <tr>\n",
       "      <th>Stanica</th>\n",
       "      <th></th>\n",
       "      <th></th>\n",
       "      <th></th>\n",
       "      <th></th>\n",
       "      <th></th>\n",
       "      <th></th>\n",
       "      <th></th>\n",
       "      <th></th>\n",
       "      <th></th>\n",
       "      <th></th>\n",
       "    </tr>\n",
       "  </thead>\n",
       "  <tbody>\n",
       "    <tr>\n",
       "      <th>Roztoky</th>\n",
       "      <td>Roztoky</td>\n",
       "      <td>21.6</td>\n",
       "      <td>None</td>\n",
       "      <td>-</td>\n",
       "      <td>None</td>\n",
       "      <td>None</td>\n",
       "      <td>None</td>\n",
       "      <td>None</td>\n",
       "      <td>NaN</td>\n",
       "      <td>2025-07-30 14:00:00</td>\n",
       "    </tr>\n",
       "    <tr>\n",
       "      <th>Roztoky</th>\n",
       "      <td>Roztoky</td>\n",
       "      <td>21.9</td>\n",
       "      <td>None</td>\n",
       "      <td>-</td>\n",
       "      <td>None</td>\n",
       "      <td>None</td>\n",
       "      <td>None</td>\n",
       "      <td>None</td>\n",
       "      <td>NaN</td>\n",
       "      <td>2025-07-30 15:00:00</td>\n",
       "    </tr>\n",
       "    <tr>\n",
       "      <th>Roztoky</th>\n",
       "      <td>Roztoky</td>\n",
       "      <td>22.2</td>\n",
       "      <td>None</td>\n",
       "      <td>-</td>\n",
       "      <td>None</td>\n",
       "      <td>None</td>\n",
       "      <td>None</td>\n",
       "      <td>None</td>\n",
       "      <td>NaN</td>\n",
       "      <td>2025-07-30 16:00:00</td>\n",
       "    </tr>\n",
       "    <tr>\n",
       "      <th>Roztoky</th>\n",
       "      <td>Roztoky</td>\n",
       "      <td>21.5</td>\n",
       "      <td>None</td>\n",
       "      <td>-</td>\n",
       "      <td>None</td>\n",
       "      <td>None</td>\n",
       "      <td>None</td>\n",
       "      <td>None</td>\n",
       "      <td>NaN</td>\n",
       "      <td>2025-07-30 17:00:00</td>\n",
       "    </tr>\n",
       "    <tr>\n",
       "      <th>Roztoky</th>\n",
       "      <td>Roztoky</td>\n",
       "      <td>21.8</td>\n",
       "      <td>None</td>\n",
       "      <td>-</td>\n",
       "      <td>None</td>\n",
       "      <td>None</td>\n",
       "      <td>None</td>\n",
       "      <td>None</td>\n",
       "      <td>NaN</td>\n",
       "      <td>2025-07-30 18:00:00</td>\n",
       "    </tr>\n",
       "    <tr>\n",
       "      <th>...</th>\n",
       "      <td>...</td>\n",
       "      <td>...</td>\n",
       "      <td>...</td>\n",
       "      <td>...</td>\n",
       "      <td>...</td>\n",
       "      <td>...</td>\n",
       "      <td>...</td>\n",
       "      <td>...</td>\n",
       "      <td>...</td>\n",
       "      <td>...</td>\n",
       "    </tr>\n",
       "    <tr>\n",
       "      <th>Roztoky</th>\n",
       "      <td>Roztoky</td>\n",
       "      <td>16.7</td>\n",
       "      <td>None</td>\n",
       "      <td>-</td>\n",
       "      <td>None</td>\n",
       "      <td>None</td>\n",
       "      <td>None</td>\n",
       "      <td>None</td>\n",
       "      <td>NaN</td>\n",
       "      <td>2025-08-24 18:00:00</td>\n",
       "    </tr>\n",
       "    <tr>\n",
       "      <th>Roztoky</th>\n",
       "      <td>Roztoky</td>\n",
       "      <td>12.7</td>\n",
       "      <td>None</td>\n",
       "      <td>-</td>\n",
       "      <td>None</td>\n",
       "      <td>None</td>\n",
       "      <td>None</td>\n",
       "      <td>None</td>\n",
       "      <td>NaN</td>\n",
       "      <td>2025-08-24 19:00:00</td>\n",
       "    </tr>\n",
       "    <tr>\n",
       "      <th>Roztoky</th>\n",
       "      <td>Roztoky</td>\n",
       "      <td>10.0</td>\n",
       "      <td>None</td>\n",
       "      <td>-</td>\n",
       "      <td>None</td>\n",
       "      <td>None</td>\n",
       "      <td>None</td>\n",
       "      <td>None</td>\n",
       "      <td>NaN</td>\n",
       "      <td>2025-08-24 20:00:00</td>\n",
       "    </tr>\n",
       "    <tr>\n",
       "      <th>Roztoky</th>\n",
       "      <td>Roztoky</td>\n",
       "      <td>10.6</td>\n",
       "      <td>None</td>\n",
       "      <td>-</td>\n",
       "      <td>None</td>\n",
       "      <td>None</td>\n",
       "      <td>None</td>\n",
       "      <td>None</td>\n",
       "      <td>NaN</td>\n",
       "      <td>2025-08-24 21:00:00</td>\n",
       "    </tr>\n",
       "    <tr>\n",
       "      <th>Roztoky</th>\n",
       "      <td>Roztoky</td>\n",
       "      <td>7.7</td>\n",
       "      <td>None</td>\n",
       "      <td>-</td>\n",
       "      <td>None</td>\n",
       "      <td>None</td>\n",
       "      <td>None</td>\n",
       "      <td>None</td>\n",
       "      <td>NaN</td>\n",
       "      <td>2025-08-24 22:00:00</td>\n",
       "    </tr>\n",
       "  </tbody>\n",
       "</table>\n",
       "<p>608 rows × 10 columns</p>\n",
       "</div>"
      ],
      "text/plain": [
       "         Stanica  Teplota  Smer Rýchlosť Nárazy  Tlak Oblačnosť Počasie  Graf  \\\n",
       "Stanica                                                                         \n",
       "Roztoky  Roztoky     21.6  None        -   None  None      None    None   NaN   \n",
       "Roztoky  Roztoky     21.9  None        -   None  None      None    None   NaN   \n",
       "Roztoky  Roztoky     22.2  None        -   None  None      None    None   NaN   \n",
       "Roztoky  Roztoky     21.5  None        -   None  None      None    None   NaN   \n",
       "Roztoky  Roztoky     21.8  None        -   None  None      None    None   NaN   \n",
       "...          ...      ...   ...      ...    ...   ...       ...     ...   ...   \n",
       "Roztoky  Roztoky     16.7  None        -   None  None      None    None   NaN   \n",
       "Roztoky  Roztoky     12.7  None        -   None  None      None    None   NaN   \n",
       "Roztoky  Roztoky     10.0  None        -   None  None      None    None   NaN   \n",
       "Roztoky  Roztoky     10.6  None        -   None  None      None    None   NaN   \n",
       "Roztoky  Roztoky      7.7  None        -   None  None      None    None   NaN   \n",
       "\n",
       "                   datetime  \n",
       "Stanica                      \n",
       "Roztoky 2025-07-30 14:00:00  \n",
       "Roztoky 2025-07-30 15:00:00  \n",
       "Roztoky 2025-07-30 16:00:00  \n",
       "Roztoky 2025-07-30 17:00:00  \n",
       "Roztoky 2025-07-30 18:00:00  \n",
       "...                     ...  \n",
       "Roztoky 2025-08-24 18:00:00  \n",
       "Roztoky 2025-08-24 19:00:00  \n",
       "Roztoky 2025-08-24 20:00:00  \n",
       "Roztoky 2025-08-24 21:00:00  \n",
       "Roztoky 2025-08-24 22:00:00  \n",
       "\n",
       "[608 rows x 10 columns]"
      ]
     },
     "execution_count": 46,
     "metadata": {},
     "output_type": "execute_result"
    }
   ],
   "source": [
    "tf"
   ]
  },
  {
   "cell_type": "code",
   "execution_count": 47,
   "id": "952988e1",
   "metadata": {},
   "outputs": [
    {
     "data": {
      "application/vnd.microsoft.datawrangler.viewer.v0+json": {
       "columns": [
        {
         "name": "Stanica",
         "rawType": "object",
         "type": "string"
        },
        {
         "name": "datetime",
         "rawType": "datetime64[us]",
         "type": "unknown"
        }
       ],
       "ref": "f3c4e732-16e4-4421-b196-c0babf2df537",
       "rows": [
        [
         "Roztoky",
         "2025-07-30 14:00:00"
        ],
        [
         "Roztoky",
         "2025-07-30 15:00:00"
        ],
        [
         "Roztoky",
         "2025-07-30 16:00:00"
        ],
        [
         "Roztoky",
         "2025-07-30 17:00:00"
        ],
        [
         "Roztoky",
         "2025-07-30 18:00:00"
        ],
        [
         "Roztoky",
         "2025-07-30 19:00:00"
        ],
        [
         "Roztoky",
         "2025-07-30 20:00:00"
        ],
        [
         "Roztoky",
         "2025-07-30 21:00:00"
        ],
        [
         "Roztoky",
         "2025-07-30 22:00:00"
        ],
        [
         "Roztoky",
         "2025-07-30 23:00:00"
        ],
        [
         "Roztoky",
         "2025-07-31 00:00:00"
        ],
        [
         "Roztoky",
         "2025-07-31 01:00:00"
        ],
        [
         "Roztoky",
         "2025-07-31 02:00:00"
        ],
        [
         "Roztoky",
         "2025-07-31 03:00:00"
        ],
        [
         "Roztoky",
         "2025-07-31 04:00:00"
        ],
        [
         "Roztoky",
         "2025-07-31 05:00:00"
        ],
        [
         "Roztoky",
         "2025-07-31 06:00:00"
        ],
        [
         "Roztoky",
         "2025-07-31 07:00:00"
        ],
        [
         "Roztoky",
         "2025-07-31 08:00:00"
        ],
        [
         "Roztoky",
         "2025-07-31 09:00:00"
        ],
        [
         "Roztoky",
         "2025-07-31 10:00:00"
        ],
        [
         "Roztoky",
         "2025-07-31 11:00:00"
        ],
        [
         "Roztoky",
         "2025-07-31 12:00:00"
        ],
        [
         "Roztoky",
         "2025-07-31 13:00:00"
        ],
        [
         "Roztoky",
         "2025-07-31 14:00:00"
        ],
        [
         "Roztoky",
         "2025-07-31 15:00:00"
        ],
        [
         "Roztoky",
         "2025-07-31 16:00:00"
        ],
        [
         "Roztoky",
         "2025-07-31 17:00:00"
        ],
        [
         "Roztoky",
         "2025-07-31 18:00:00"
        ],
        [
         "Roztoky",
         "2025-07-31 19:00:00"
        ],
        [
         "Roztoky",
         "2025-07-31 20:00:00"
        ],
        [
         "Roztoky",
         "2025-07-31 21:00:00"
        ],
        [
         "Roztoky",
         "2025-07-31 22:00:00"
        ],
        [
         "Roztoky",
         "2025-07-31 23:00:00"
        ],
        [
         "Roztoky",
         "2025-08-01 00:00:00"
        ],
        [
         "Roztoky",
         "2025-08-01 01:00:00"
        ],
        [
         "Roztoky",
         "2025-08-01 02:00:00"
        ],
        [
         "Roztoky",
         "2025-08-01 03:00:00"
        ],
        [
         "Roztoky",
         "2025-08-01 04:00:00"
        ],
        [
         "Roztoky",
         "2025-08-01 05:00:00"
        ],
        [
         "Roztoky",
         "2025-08-01 06:00:00"
        ],
        [
         "Roztoky",
         "2025-08-01 07:00:00"
        ],
        [
         "Roztoky",
         "2025-08-01 08:00:00"
        ],
        [
         "Roztoky",
         "2025-08-01 09:00:00"
        ],
        [
         "Roztoky",
         "2025-08-01 10:00:00"
        ],
        [
         "Roztoky",
         "2025-08-01 11:00:00"
        ],
        [
         "Roztoky",
         "2025-08-01 12:00:00"
        ],
        [
         "Roztoky",
         "2025-08-01 13:00:00"
        ],
        [
         "Roztoky",
         "2025-08-01 14:00:00"
        ],
        [
         "Roztoky",
         "2025-08-01 15:00:00"
        ]
       ],
       "shape": {
        "columns": 1,
        "rows": 608
       }
      },
      "text/plain": [
       "Stanica\n",
       "Roztoky   2025-07-30 14:00:00\n",
       "Roztoky   2025-07-30 15:00:00\n",
       "Roztoky   2025-07-30 16:00:00\n",
       "Roztoky   2025-07-30 17:00:00\n",
       "Roztoky   2025-07-30 18:00:00\n",
       "                  ...        \n",
       "Roztoky   2025-08-24 18:00:00\n",
       "Roztoky   2025-08-24 19:00:00\n",
       "Roztoky   2025-08-24 20:00:00\n",
       "Roztoky   2025-08-24 21:00:00\n",
       "Roztoky   2025-08-24 22:00:00\n",
       "Name: datetime, Length: 608, dtype: datetime64[us]"
      ]
     },
     "execution_count": 47,
     "metadata": {},
     "output_type": "execute_result"
    }
   ],
   "source": [
    "tf.datetime"
   ]
  },
  {
   "cell_type": "code",
   "execution_count": 48,
   "id": "b0087248",
   "metadata": {},
   "outputs": [
    {
     "data": {
      "application/vnd.microsoft.datawrangler.viewer.v0+json": {
       "columns": [
        {
         "name": "Stanica",
         "rawType": "object",
         "type": "string"
        },
        {
         "name": "datetime",
         "rawType": "datetime64[us]",
         "type": "unknown"
        }
       ],
       "ref": "45874bbd-5e5e-4b27-b9e5-64540cf7b18a",
       "rows": [
        [
         "Roztoky",
         "2025-07-30 14:00:00"
        ],
        [
         "Roztoky",
         "2025-07-30 15:00:00"
        ],
        [
         "Roztoky",
         "2025-07-30 16:00:00"
        ],
        [
         "Roztoky",
         "2025-07-30 17:00:00"
        ],
        [
         "Roztoky",
         "2025-07-30 18:00:00"
        ],
        [
         "Roztoky",
         "2025-07-30 19:00:00"
        ],
        [
         "Roztoky",
         "2025-07-30 20:00:00"
        ],
        [
         "Roztoky",
         "2025-07-30 21:00:00"
        ],
        [
         "Roztoky",
         "2025-07-30 22:00:00"
        ],
        [
         "Roztoky",
         "2025-07-30 23:00:00"
        ],
        [
         "Roztoky",
         "2025-07-31 00:00:00"
        ],
        [
         "Roztoky",
         "2025-07-31 01:00:00"
        ],
        [
         "Roztoky",
         "2025-07-31 02:00:00"
        ],
        [
         "Roztoky",
         "2025-07-31 03:00:00"
        ],
        [
         "Roztoky",
         "2025-07-31 04:00:00"
        ],
        [
         "Roztoky",
         "2025-07-31 05:00:00"
        ],
        [
         "Roztoky",
         "2025-07-31 06:00:00"
        ],
        [
         "Roztoky",
         "2025-07-31 07:00:00"
        ],
        [
         "Roztoky",
         "2025-07-31 08:00:00"
        ],
        [
         "Roztoky",
         "2025-07-31 09:00:00"
        ],
        [
         "Roztoky",
         "2025-07-31 10:00:00"
        ],
        [
         "Roztoky",
         "2025-07-31 11:00:00"
        ],
        [
         "Roztoky",
         "2025-07-31 12:00:00"
        ],
        [
         "Roztoky",
         "2025-07-31 13:00:00"
        ],
        [
         "Roztoky",
         "2025-07-31 14:00:00"
        ],
        [
         "Roztoky",
         "2025-07-31 15:00:00"
        ],
        [
         "Roztoky",
         "2025-07-31 16:00:00"
        ],
        [
         "Roztoky",
         "2025-07-31 17:00:00"
        ],
        [
         "Roztoky",
         "2025-07-31 18:00:00"
        ],
        [
         "Roztoky",
         "2025-07-31 19:00:00"
        ],
        [
         "Roztoky",
         "2025-07-31 20:00:00"
        ],
        [
         "Roztoky",
         "2025-07-31 21:00:00"
        ],
        [
         "Roztoky",
         "2025-07-31 22:00:00"
        ],
        [
         "Roztoky",
         "2025-07-31 23:00:00"
        ],
        [
         "Roztoky",
         "2025-08-01 00:00:00"
        ],
        [
         "Roztoky",
         "2025-08-01 01:00:00"
        ],
        [
         "Roztoky",
         "2025-08-01 02:00:00"
        ],
        [
         "Roztoky",
         "2025-08-01 03:00:00"
        ],
        [
         "Roztoky",
         "2025-08-01 04:00:00"
        ],
        [
         "Roztoky",
         "2025-08-01 05:00:00"
        ],
        [
         "Roztoky",
         "2025-08-01 06:00:00"
        ],
        [
         "Roztoky",
         "2025-08-01 07:00:00"
        ],
        [
         "Roztoky",
         "2025-08-01 08:00:00"
        ],
        [
         "Roztoky",
         "2025-08-01 09:00:00"
        ],
        [
         "Roztoky",
         "2025-08-01 10:00:00"
        ],
        [
         "Roztoky",
         "2025-08-01 11:00:00"
        ],
        [
         "Roztoky",
         "2025-08-01 12:00:00"
        ],
        [
         "Roztoky",
         "2025-08-01 13:00:00"
        ],
        [
         "Roztoky",
         "2025-08-01 14:00:00"
        ],
        [
         "Roztoky",
         "2025-08-01 15:00:00"
        ]
       ],
       "shape": {
        "columns": 1,
        "rows": 608
       }
      },
      "text/plain": [
       "Stanica\n",
       "Roztoky   2025-07-30 14:00:00\n",
       "Roztoky   2025-07-30 15:00:00\n",
       "Roztoky   2025-07-30 16:00:00\n",
       "Roztoky   2025-07-30 17:00:00\n",
       "Roztoky   2025-07-30 18:00:00\n",
       "                  ...        \n",
       "Roztoky   2025-08-24 18:00:00\n",
       "Roztoky   2025-08-24 19:00:00\n",
       "Roztoky   2025-08-24 20:00:00\n",
       "Roztoky   2025-08-24 21:00:00\n",
       "Roztoky   2025-08-24 22:00:00\n",
       "Name: datetime, Length: 608, dtype: datetime64[us]"
      ]
     },
     "execution_count": 48,
     "metadata": {},
     "output_type": "execute_result"
    }
   ],
   "source": [
    "tf['datetime']"
   ]
  },
  {
   "cell_type": "code",
   "execution_count": 49,
   "id": "7efe72ba",
   "metadata": {},
   "outputs": [
    {
     "data": {
      "application/vnd.microsoft.datawrangler.viewer.v0+json": {
       "columns": [
        {
         "name": "Stanica",
         "rawType": "object",
         "type": "string"
        },
        {
         "name": "datetime",
         "rawType": "datetime64[us]",
         "type": "unknown"
        }
       ],
       "ref": "e37b0163-27b4-4abc-ba81-c55e2a67f5fb",
       "rows": [
        [
         "Roztoky",
         "2025-07-30 14:00:00"
        ],
        [
         "Roztoky",
         "2025-07-30 15:00:00"
        ],
        [
         "Roztoky",
         "2025-07-30 16:00:00"
        ],
        [
         "Roztoky",
         "2025-07-30 17:00:00"
        ],
        [
         "Roztoky",
         "2025-07-30 18:00:00"
        ],
        [
         "Roztoky",
         "2025-07-30 19:00:00"
        ],
        [
         "Roztoky",
         "2025-07-30 20:00:00"
        ],
        [
         "Roztoky",
         "2025-07-30 21:00:00"
        ],
        [
         "Roztoky",
         "2025-07-30 22:00:00"
        ],
        [
         "Roztoky",
         "2025-07-30 23:00:00"
        ],
        [
         "Roztoky",
         "2025-07-31 00:00:00"
        ],
        [
         "Roztoky",
         "2025-07-31 01:00:00"
        ],
        [
         "Roztoky",
         "2025-07-31 02:00:00"
        ],
        [
         "Roztoky",
         "2025-07-31 03:00:00"
        ],
        [
         "Roztoky",
         "2025-07-31 04:00:00"
        ],
        [
         "Roztoky",
         "2025-07-31 05:00:00"
        ],
        [
         "Roztoky",
         "2025-07-31 06:00:00"
        ],
        [
         "Roztoky",
         "2025-07-31 07:00:00"
        ],
        [
         "Roztoky",
         "2025-07-31 08:00:00"
        ],
        [
         "Roztoky",
         "2025-07-31 09:00:00"
        ],
        [
         "Roztoky",
         "2025-07-31 10:00:00"
        ],
        [
         "Roztoky",
         "2025-07-31 11:00:00"
        ],
        [
         "Roztoky",
         "2025-07-31 12:00:00"
        ],
        [
         "Roztoky",
         "2025-07-31 13:00:00"
        ],
        [
         "Roztoky",
         "2025-07-31 14:00:00"
        ],
        [
         "Roztoky",
         "2025-07-31 15:00:00"
        ],
        [
         "Roztoky",
         "2025-07-31 16:00:00"
        ],
        [
         "Roztoky",
         "2025-07-31 17:00:00"
        ],
        [
         "Roztoky",
         "2025-07-31 18:00:00"
        ],
        [
         "Roztoky",
         "2025-07-31 19:00:00"
        ],
        [
         "Roztoky",
         "2025-07-31 20:00:00"
        ],
        [
         "Roztoky",
         "2025-07-31 21:00:00"
        ],
        [
         "Roztoky",
         "2025-07-31 22:00:00"
        ],
        [
         "Roztoky",
         "2025-07-31 23:00:00"
        ],
        [
         "Roztoky",
         "2025-08-01 00:00:00"
        ],
        [
         "Roztoky",
         "2025-08-01 01:00:00"
        ],
        [
         "Roztoky",
         "2025-08-01 02:00:00"
        ],
        [
         "Roztoky",
         "2025-08-01 03:00:00"
        ],
        [
         "Roztoky",
         "2025-08-01 04:00:00"
        ],
        [
         "Roztoky",
         "2025-08-01 05:00:00"
        ],
        [
         "Roztoky",
         "2025-08-01 06:00:00"
        ],
        [
         "Roztoky",
         "2025-08-01 07:00:00"
        ],
        [
         "Roztoky",
         "2025-08-01 08:00:00"
        ],
        [
         "Roztoky",
         "2025-08-01 09:00:00"
        ],
        [
         "Roztoky",
         "2025-08-01 10:00:00"
        ],
        [
         "Roztoky",
         "2025-08-01 11:00:00"
        ],
        [
         "Roztoky",
         "2025-08-01 12:00:00"
        ],
        [
         "Roztoky",
         "2025-08-01 13:00:00"
        ],
        [
         "Roztoky",
         "2025-08-01 14:00:00"
        ],
        [
         "Roztoky",
         "2025-08-01 15:00:00"
        ]
       ],
       "shape": {
        "columns": 1,
        "rows": 608
       }
      },
      "text/plain": [
       "Stanica\n",
       "Roztoky   2025-07-30 14:00:00\n",
       "Roztoky   2025-07-30 15:00:00\n",
       "Roztoky   2025-07-30 16:00:00\n",
       "Roztoky   2025-07-30 17:00:00\n",
       "Roztoky   2025-07-30 18:00:00\n",
       "                  ...        \n",
       "Roztoky   2025-08-24 18:00:00\n",
       "Roztoky   2025-08-24 19:00:00\n",
       "Roztoky   2025-08-24 20:00:00\n",
       "Roztoky   2025-08-24 21:00:00\n",
       "Roztoky   2025-08-24 22:00:00\n",
       "Name: datetime, Length: 608, dtype: datetime64[us]"
      ]
     },
     "execution_count": 49,
     "metadata": {},
     "output_type": "execute_result"
    }
   ],
   "source": [
    "tf['datetime']"
   ]
  },
  {
   "cell_type": "code",
   "execution_count": 50,
   "id": "aacb2adf",
   "metadata": {},
   "outputs": [
    {
     "data": {
      "application/vnd.microsoft.datawrangler.viewer.v0+json": {
       "columns": [
        {
         "name": "Stanica",
         "rawType": "object",
         "type": "string"
        },
        {
         "name": "datetime",
         "rawType": "datetime64[us]",
         "type": "unknown"
        }
       ],
       "ref": "75d9d412-5225-4867-ba95-0b9cb98d6eb7",
       "rows": [
        [
         "Roztoky",
         "2025-07-30 14:00:00"
        ],
        [
         "Roztoky",
         "2025-07-30 15:00:00"
        ],
        [
         "Roztoky",
         "2025-07-30 16:00:00"
        ],
        [
         "Roztoky",
         "2025-07-30 17:00:00"
        ],
        [
         "Roztoky",
         "2025-07-30 18:00:00"
        ],
        [
         "Roztoky",
         "2025-07-30 19:00:00"
        ],
        [
         "Roztoky",
         "2025-07-30 20:00:00"
        ],
        [
         "Roztoky",
         "2025-07-30 21:00:00"
        ],
        [
         "Roztoky",
         "2025-07-30 22:00:00"
        ],
        [
         "Roztoky",
         "2025-07-30 23:00:00"
        ],
        [
         "Roztoky",
         "2025-07-31 00:00:00"
        ],
        [
         "Roztoky",
         "2025-07-31 01:00:00"
        ],
        [
         "Roztoky",
         "2025-07-31 02:00:00"
        ],
        [
         "Roztoky",
         "2025-07-31 03:00:00"
        ],
        [
         "Roztoky",
         "2025-07-31 04:00:00"
        ],
        [
         "Roztoky",
         "2025-07-31 05:00:00"
        ],
        [
         "Roztoky",
         "2025-07-31 06:00:00"
        ],
        [
         "Roztoky",
         "2025-07-31 07:00:00"
        ],
        [
         "Roztoky",
         "2025-07-31 08:00:00"
        ],
        [
         "Roztoky",
         "2025-07-31 09:00:00"
        ],
        [
         "Roztoky",
         "2025-07-31 10:00:00"
        ],
        [
         "Roztoky",
         "2025-07-31 11:00:00"
        ],
        [
         "Roztoky",
         "2025-07-31 12:00:00"
        ],
        [
         "Roztoky",
         "2025-07-31 13:00:00"
        ],
        [
         "Roztoky",
         "2025-07-31 14:00:00"
        ],
        [
         "Roztoky",
         "2025-07-31 15:00:00"
        ],
        [
         "Roztoky",
         "2025-07-31 16:00:00"
        ],
        [
         "Roztoky",
         "2025-07-31 17:00:00"
        ],
        [
         "Roztoky",
         "2025-07-31 18:00:00"
        ],
        [
         "Roztoky",
         "2025-07-31 19:00:00"
        ],
        [
         "Roztoky",
         "2025-07-31 20:00:00"
        ],
        [
         "Roztoky",
         "2025-07-31 21:00:00"
        ],
        [
         "Roztoky",
         "2025-07-31 22:00:00"
        ],
        [
         "Roztoky",
         "2025-07-31 23:00:00"
        ],
        [
         "Roztoky",
         "2025-08-01 00:00:00"
        ],
        [
         "Roztoky",
         "2025-08-01 01:00:00"
        ],
        [
         "Roztoky",
         "2025-08-01 02:00:00"
        ],
        [
         "Roztoky",
         "2025-08-01 03:00:00"
        ],
        [
         "Roztoky",
         "2025-08-01 04:00:00"
        ],
        [
         "Roztoky",
         "2025-08-01 05:00:00"
        ],
        [
         "Roztoky",
         "2025-08-01 06:00:00"
        ],
        [
         "Roztoky",
         "2025-08-01 07:00:00"
        ],
        [
         "Roztoky",
         "2025-08-01 08:00:00"
        ],
        [
         "Roztoky",
         "2025-08-01 09:00:00"
        ],
        [
         "Roztoky",
         "2025-08-01 10:00:00"
        ],
        [
         "Roztoky",
         "2025-08-01 11:00:00"
        ],
        [
         "Roztoky",
         "2025-08-01 12:00:00"
        ],
        [
         "Roztoky",
         "2025-08-01 13:00:00"
        ],
        [
         "Roztoky",
         "2025-08-01 14:00:00"
        ],
        [
         "Roztoky",
         "2025-08-01 15:00:00"
        ]
       ],
       "shape": {
        "columns": 1,
        "rows": 608
       }
      },
      "text/html": [
       "<div>\n",
       "<style scoped>\n",
       "    .dataframe tbody tr th:only-of-type {\n",
       "        vertical-align: middle;\n",
       "    }\n",
       "\n",
       "    .dataframe tbody tr th {\n",
       "        vertical-align: top;\n",
       "    }\n",
       "\n",
       "    .dataframe thead th {\n",
       "        text-align: right;\n",
       "    }\n",
       "</style>\n",
       "<table border=\"1\" class=\"dataframe\">\n",
       "  <thead>\n",
       "    <tr style=\"text-align: right;\">\n",
       "      <th></th>\n",
       "      <th>datetime</th>\n",
       "    </tr>\n",
       "    <tr>\n",
       "      <th>Stanica</th>\n",
       "      <th></th>\n",
       "    </tr>\n",
       "  </thead>\n",
       "  <tbody>\n",
       "    <tr>\n",
       "      <th>Roztoky</th>\n",
       "      <td>2025-07-30 14:00:00</td>\n",
       "    </tr>\n",
       "    <tr>\n",
       "      <th>Roztoky</th>\n",
       "      <td>2025-07-30 15:00:00</td>\n",
       "    </tr>\n",
       "    <tr>\n",
       "      <th>Roztoky</th>\n",
       "      <td>2025-07-30 16:00:00</td>\n",
       "    </tr>\n",
       "    <tr>\n",
       "      <th>Roztoky</th>\n",
       "      <td>2025-07-30 17:00:00</td>\n",
       "    </tr>\n",
       "    <tr>\n",
       "      <th>Roztoky</th>\n",
       "      <td>2025-07-30 18:00:00</td>\n",
       "    </tr>\n",
       "    <tr>\n",
       "      <th>...</th>\n",
       "      <td>...</td>\n",
       "    </tr>\n",
       "    <tr>\n",
       "      <th>Roztoky</th>\n",
       "      <td>2025-08-24 18:00:00</td>\n",
       "    </tr>\n",
       "    <tr>\n",
       "      <th>Roztoky</th>\n",
       "      <td>2025-08-24 19:00:00</td>\n",
       "    </tr>\n",
       "    <tr>\n",
       "      <th>Roztoky</th>\n",
       "      <td>2025-08-24 20:00:00</td>\n",
       "    </tr>\n",
       "    <tr>\n",
       "      <th>Roztoky</th>\n",
       "      <td>2025-08-24 21:00:00</td>\n",
       "    </tr>\n",
       "    <tr>\n",
       "      <th>Roztoky</th>\n",
       "      <td>2025-08-24 22:00:00</td>\n",
       "    </tr>\n",
       "  </tbody>\n",
       "</table>\n",
       "<p>608 rows × 1 columns</p>\n",
       "</div>"
      ],
      "text/plain": [
       "                   datetime\n",
       "Stanica                    \n",
       "Roztoky 2025-07-30 14:00:00\n",
       "Roztoky 2025-07-30 15:00:00\n",
       "Roztoky 2025-07-30 16:00:00\n",
       "Roztoky 2025-07-30 17:00:00\n",
       "Roztoky 2025-07-30 18:00:00\n",
       "...                     ...\n",
       "Roztoky 2025-08-24 18:00:00\n",
       "Roztoky 2025-08-24 19:00:00\n",
       "Roztoky 2025-08-24 20:00:00\n",
       "Roztoky 2025-08-24 21:00:00\n",
       "Roztoky 2025-08-24 22:00:00\n",
       "\n",
       "[608 rows x 1 columns]"
      ]
     },
     "execution_count": 50,
     "metadata": {},
     "output_type": "execute_result"
    }
   ],
   "source": [
    "tf[['datetime']]"
   ]
  },
  {
   "cell_type": "code",
   "execution_count": null,
   "id": "72a5a890",
   "metadata": {},
   "outputs": [],
   "source": []
  },
  {
   "cell_type": "code",
   "execution_count": 51,
   "id": "aac89d50",
   "metadata": {},
   "outputs": [
    {
     "name": "stdout",
     "output_type": "stream",
     "text": [
      "                   datetime  Teplota\n",
      "Stanica                             \n",
      "Roztoky 2025-07-30 14:00:00     21.6\n",
      "Roztoky 2025-07-30 15:00:00     21.9\n",
      "Roztoky 2025-07-30 16:00:00     22.2\n",
      "Roztoky 2025-07-30 17:00:00     21.5\n",
      "Roztoky 2025-07-30 18:00:00     21.8\n",
      "<class 'pandas.core.frame.DataFrame'>\n",
      "Index: 608 entries, Roztoky to Roztoky\n",
      "Data columns (total 2 columns):\n",
      " #   Column    Non-Null Count  Dtype         \n",
      "---  ------    --------------  -----         \n",
      " 0   datetime  608 non-null    datetime64[us]\n",
      " 1   Teplota   608 non-null    float64       \n",
      "dtypes: datetime64[us](1), float64(1)\n",
      "memory usage: 30.4+ KB\n"
     ]
    },
    {
     "data": {
      "application/vnd.microsoft.datawrangler.viewer.v0+json": {
       "columns": [
        {
         "name": "index",
         "rawType": "object",
         "type": "string"
        },
        {
         "name": "Teplota",
         "rawType": "float64",
         "type": "float"
        }
       ],
       "ref": "694ef247-6039-4c99-8f80-61626e587485",
       "rows": [
        [
         "count",
         "608.0"
        ],
        [
         "mean",
         "18.00657894736842"
        ],
        [
         "std",
         "5.039346615065476"
        ],
        [
         "min",
         "7.7"
        ],
        [
         "25%",
         "14.7"
        ],
        [
         "50%",
         "17.4"
        ],
        [
         "75%",
         "21.424999999999997"
        ],
        [
         "max",
         "30.4"
        ]
       ],
       "shape": {
        "columns": 1,
        "rows": 8
       }
      },
      "text/plain": [
       "count    608.000000\n",
       "mean      18.006579\n",
       "std        5.039347\n",
       "min        7.700000\n",
       "25%       14.700000\n",
       "50%       17.400000\n",
       "75%       21.425000\n",
       "max       30.400000\n",
       "Name: Teplota, dtype: float64"
      ]
     },
     "execution_count": 51,
     "metadata": {},
     "output_type": "execute_result"
    }
   ],
   "source": [
    "dt = tf[['datetime', 'Teplota']]\n",
    "print(dt.head())\n",
    "dt.info()\n",
    "dt['Teplota'].astype(float).describe()\n"
   ]
  },
  {
   "cell_type": "code",
   "execution_count": null,
   "id": "688b0da5",
   "metadata": {},
   "outputs": [],
   "source": []
  },
  {
   "cell_type": "code",
   "execution_count": 52,
   "id": "2fc44766",
   "metadata": {},
   "outputs": [
    {
     "data": {
      "image/png": "[encoded data removed]",
      "text/plain": [
       "<Figure size 640x480 with 1 Axes>"
      ]
     },
     "metadata": {},
     "output_type": "display_data"
    }
   ],
   "source": [
    "import seaborn as sns\n",
    "import matplotlib.pyplot as plt \n",
    "sns.boxplot(x=dt['Teplota'].astype(float))\n",
    "plt.show()"
   ]
  },
  {
   "cell_type": "code",
   "execution_count": null,
   "id": "30939c21",
   "metadata": {},
   "outputs": [],
   "source": []
  },
  {
   "cell_type": "code",
   "execution_count": 53,
   "id": "ad3b068f",
   "metadata": {},
   "outputs": [
    {
     "data": {
      "image/png": "[encoded data removed]",
      "text/plain": [
       "<Figure size 640x480 with 1 Axes>"
      ]
     },
     "metadata": {},
     "output_type": "display_data"
    }
   ],
   "source": [
    "sns.swarmplot(x=dt['Teplota'].astype(float).head(1000))\n",
    "plt.show()"
   ]
  },
  {
   "cell_type": "code",
   "execution_count": null,
   "id": "4915d343",
   "metadata": {},
   "outputs": [],
   "source": []
  },
  {
   "cell_type": "code",
   "execution_count": null,
   "id": "76156b86",
   "metadata": {},
   "outputs": [],
   "source": []
  },
  {
   "cell_type": "code",
   "execution_count": 54,
   "id": "038b4fa0",
   "metadata": {},
   "outputs": [
    {
     "name": "stdout",
     "output_type": "stream",
     "text": [
      "<class 'pandas.core.frame.DataFrame'>\n",
      "Index: 10000 entries, Oravský Podzámok to Rožňava\n",
      "Data columns (total 10 columns):\n",
      " #   Column     Non-Null Count  Dtype         \n",
      "---  ------     --------------  -----         \n",
      " 0   Stanica    10000 non-null  object        \n",
      " 1   Teplota    10000 non-null  float64       \n",
      " 2   Smer       9894 non-null   object        \n",
      " 3   Rýchlosť   10000 non-null  object        \n",
      " 4   Nárazy     118 non-null    object        \n",
      " 5   Tlak       3923 non-null   object        \n",
      " 6   Oblačnosť  1587 non-null   object        \n",
      " 7   Počasie    256 non-null    object        \n",
      " 8   Graf       0 non-null      float64       \n",
      " 9   datetime   10000 non-null  datetime64[us]\n",
      "dtypes: datetime64[us](1), float64(2), object(7)\n",
      "memory usage: 859.4+ KB\n"
     ]
    },
    {
     "data": {
      "application/vnd.microsoft.datawrangler.viewer.v0+json": {
       "columns": [
        {
         "name": "index",
         "rawType": "object",
         "type": "string"
        },
        {
         "name": "Teplota",
         "rawType": "float64",
         "type": "float"
        },
        {
         "name": "Graf",
         "rawType": "float64",
         "type": "float"
        },
        {
         "name": "datetime",
         "rawType": "object",
         "type": "unknown"
        }
       ],
       "ref": "42fad2f8-5bb6-4cd8-a6d3-1b3785398bb7",
       "rows": [
        [
         "count",
         "10000.0",
         "0.0",
         "10000"
        ],
        [
         "mean",
         "18.016389999999998",
         null,
         "2025-08-01 16:59:13.560000"
        ],
        [
         "min",
         "1.4",
         null,
         "2025-07-30 14:00:00"
        ],
        [
         "25%",
         "14.5",
         null,
         "2025-07-31 15:00:00"
        ],
        [
         "50%",
         "17.7",
         null,
         "2025-08-01 17:00:00"
        ],
        [
         "75%",
         "21.8",
         null,
         "2025-08-02 19:00:00"
        ],
        [
         "max",
         "30.2",
         null,
         "2025-08-03 21:00:00"
        ],
        [
         "std",
         "4.910842494450471",
         null,
         null
        ]
       ],
       "shape": {
        "columns": 3,
        "rows": 8
       }
      },
      "text/html": [
       "<div>\n",
       "<style scoped>\n",
       "    .dataframe tbody tr th:only-of-type {\n",
       "        vertical-align: middle;\n",
       "    }\n",
       "\n",
       "    .dataframe tbody tr th {\n",
       "        vertical-align: top;\n",
       "    }\n",
       "\n",
       "    .dataframe thead th {\n",
       "        text-align: right;\n",
       "    }\n",
       "</style>\n",
       "<table border=\"1\" class=\"dataframe\">\n",
       "  <thead>\n",
       "    <tr style=\"text-align: right;\">\n",
       "      <th></th>\n",
       "      <th>Teplota</th>\n",
       "      <th>Graf</th>\n",
       "      <th>datetime</th>\n",
       "    </tr>\n",
       "  </thead>\n",
       "  <tbody>\n",
       "    <tr>\n",
       "      <th>count</th>\n",
       "      <td>10000.000000</td>\n",
       "      <td>0.0</td>\n",
       "      <td>10000</td>\n",
       "    </tr>\n",
       "    <tr>\n",
       "      <th>mean</th>\n",
       "      <td>18.016390</td>\n",
       "      <td>NaN</td>\n",
       "      <td>2025-08-01 16:59:13.560000</td>\n",
       "    </tr>\n",
       "    <tr>\n",
       "      <th>min</th>\n",
       "      <td>1.400000</td>\n",
       "      <td>NaN</td>\n",
       "      <td>2025-07-30 14:00:00</td>\n",
       "    </tr>\n",
       "    <tr>\n",
       "      <th>25%</th>\n",
       "      <td>14.500000</td>\n",
       "      <td>NaN</td>\n",
       "      <td>2025-07-31 15:00:00</td>\n",
       "    </tr>\n",
       "    <tr>\n",
       "      <th>50%</th>\n",
       "      <td>17.700000</td>\n",
       "      <td>NaN</td>\n",
       "      <td>2025-08-01 17:00:00</td>\n",
       "    </tr>\n",
       "    <tr>\n",
       "      <th>75%</th>\n",
       "      <td>21.800000</td>\n",
       "      <td>NaN</td>\n",
       "      <td>2025-08-02 19:00:00</td>\n",
       "    </tr>\n",
       "    <tr>\n",
       "      <th>max</th>\n",
       "      <td>30.200000</td>\n",
       "      <td>NaN</td>\n",
       "      <td>2025-08-03 21:00:00</td>\n",
       "    </tr>\n",
       "    <tr>\n",
       "      <th>std</th>\n",
       "      <td>4.910842</td>\n",
       "      <td>NaN</td>\n",
       "      <td>NaN</td>\n",
       "    </tr>\n",
       "  </tbody>\n",
       "</table>\n",
       "</div>"
      ],
      "text/plain": [
       "            Teplota  Graf                    datetime\n",
       "count  10000.000000   0.0                       10000\n",
       "mean      18.016390   NaN  2025-08-01 16:59:13.560000\n",
       "min        1.400000   NaN         2025-07-30 14:00:00\n",
       "25%       14.500000   NaN         2025-07-31 15:00:00\n",
       "50%       17.700000   NaN         2025-08-01 17:00:00\n",
       "75%       21.800000   NaN         2025-08-02 19:00:00\n",
       "max       30.200000   NaN         2025-08-03 21:00:00\n",
       "std        4.910842   NaN                         NaN"
      ]
     },
     "execution_count": 54,
     "metadata": {},
     "output_type": "execute_result"
    }
   ],
   "source": [
    "data=df.head(10000).sort_values(by=['datetime'])\n",
    "data['Teplota'] = data['Teplota'].astype(float)\n",
    "data.info()\n",
    "data.describe()"
   ]
  },
  {
   "cell_type": "code",
   "execution_count": 55,
   "id": "e5a696b2",
   "metadata": {},
   "outputs": [
    {
     "name": "stdout",
     "output_type": "stream",
     "text": [
      "<class 'pandas.core.frame.DataFrame'>\n",
      "Index: 59420 entries, Oravský Podzámok to Žiharec\n",
      "Data columns (total 10 columns):\n",
      " #   Column     Non-Null Count  Dtype         \n",
      "---  ------     --------------  -----         \n",
      " 0   Stanica    59420 non-null  object        \n",
      " 1   Teplota    59420 non-null  float64       \n",
      " 2   Smer       58790 non-null  object        \n",
      " 3   Rýchlosť   59420 non-null  object        \n",
      " 4   Nárazy     597 non-null    object        \n",
      " 5   Tlak       23923 non-null  object        \n",
      " 6   Oblačnosť  9355 non-null   object        \n",
      " 7   Počasie    971 non-null    object        \n",
      " 8   Graf       0 non-null      float64       \n",
      " 9   datetime   59420 non-null  datetime64[us]\n",
      "dtypes: datetime64[us](1), float64(2), object(7)\n",
      "memory usage: 7.0+ MB\n"
     ]
    }
   ],
   "source": [
    "df.Teplota = df.Teplota.astype(float)\n",
    "df.info()"
   ]
  },
  {
   "cell_type": "code",
   "execution_count": 56,
   "id": "f755de53",
   "metadata": {},
   "outputs": [
    {
     "data": {
      "text/plain": [
       "Index(['Oravský Podzámok', 'Senica', 'Ružomberok', 'Rožňava', 'Roztoky',\n",
       "       'Rimavská Sobota', 'Revúca', 'Ratková', 'Rabča', 'Prievidza',\n",
       "       ...\n",
       "       'Kremnické Bane', 'Košice', 'Žilina - Dolný Hričov', 'Kojsovská hoľa',\n",
       "       'Štrbské pleso', 'Želiezovce', 'Donovaly', 'Košice - letisko',\n",
       "       'Lučenec - Boľkovce', 'Nitra - Velké Janíkovce'],\n",
       "      dtype='object', name='Stanica', length=105)"
      ]
     },
     "execution_count": 56,
     "metadata": {},
     "output_type": "execute_result"
    }
   ],
   "source": [
    "df.index.unique()"
   ]
  },
  {
   "cell_type": "code",
   "execution_count": 57,
   "id": "b5d7032a",
   "metadata": {},
   "outputs": [
    {
     "data": {
      "application/vnd.microsoft.datawrangler.viewer.v0+json": {
       "columns": [
        {
         "name": "Stanica",
         "rawType": "object",
         "type": "string"
        },
        {
         "name": "Teplota",
         "rawType": "float64",
         "type": "float"
        },
        {
         "name": "datetime",
         "rawType": "datetime64[us]",
         "type": "unknown"
        }
       ],
       "ref": "4c7aa112-ce51-47ac-9275-88c7c537ef3d",
       "rows": [
        [
         "Dudince",
         "27.5",
         "2025-07-30 14:00:00"
        ],
        [
         "Dudince",
         "27.3",
         "2025-07-30 15:00:00"
        ],
        [
         "Dudince",
         "27.3",
         "2025-07-30 15:00:00"
        ],
        [
         "Dudince",
         "27.5",
         "2025-07-30 16:00:00"
        ],
        [
         "Dudince",
         "26.8",
         "2025-07-30 17:00:00"
        ],
        [
         "Dudince",
         "26.0",
         "2025-07-30 18:00:00"
        ],
        [
         "Dudince",
         "25.3",
         "2025-07-30 19:00:00"
        ],
        [
         "Dudince",
         "23.2",
         "2025-07-30 20:00:00"
        ],
        [
         "Dudince",
         "19.7",
         "2025-07-30 21:00:00"
        ],
        [
         "Dudince",
         "18.3",
         "2025-07-30 22:00:00"
        ],
        [
         "Dudince",
         "16.5",
         "2025-07-30 23:00:00"
        ],
        [
         "Dudince",
         "15.5",
         "2025-07-31 00:00:00"
        ],
        [
         "Dudince",
         "14.6",
         "2025-07-31 01:00:00"
        ],
        [
         "Dudince",
         "13.5",
         "2025-07-31 02:00:00"
        ],
        [
         "Dudince",
         "12.7",
         "2025-07-31 03:00:00"
        ],
        [
         "Dudince",
         "12.3",
         "2025-07-31 04:00:00"
        ],
        [
         "Dudince",
         "12.0",
         "2025-07-31 05:00:00"
        ],
        [
         "Dudince",
         "11.4",
         "2025-07-31 06:00:00"
        ],
        [
         "Dudince",
         "14.5",
         "2025-07-31 07:00:00"
        ],
        [
         "Dudince",
         "17.4",
         "2025-07-31 08:00:00"
        ],
        [
         "Dudince",
         "20.9",
         "2025-07-31 09:00:00"
        ],
        [
         "Dudince",
         "22.2",
         "2025-07-31 10:00:00"
        ],
        [
         "Dudince",
         "23.5",
         "2025-07-31 11:00:00"
        ],
        [
         "Dudince",
         "24.1",
         "2025-07-31 12:00:00"
        ],
        [
         "Dudince",
         "25.4",
         "2025-07-31 13:00:00"
        ],
        [
         "Dudince",
         "25.6",
         "2025-07-31 14:00:00"
        ],
        [
         "Dudince",
         "25.9",
         "2025-07-31 15:00:00"
        ],
        [
         "Dudince",
         "26.7",
         "2025-07-31 16:00:00"
        ],
        [
         "Dudince",
         "26.1",
         "2025-07-31 17:00:00"
        ],
        [
         "Dudince",
         "25.3",
         "2025-07-31 18:00:00"
        ],
        [
         "Dudince",
         "24.6",
         "2025-07-31 19:00:00"
        ],
        [
         "Dudince",
         "22.7",
         "2025-07-31 20:00:00"
        ],
        [
         "Dudince",
         "19.4",
         "2025-07-31 21:00:00"
        ],
        [
         "Dudince",
         "18.5",
         "2025-07-31 22:00:00"
        ],
        [
         "Dudince",
         "16.8",
         "2025-07-31 23:00:00"
        ],
        [
         "Dudince",
         "15.1",
         "2025-08-01 00:00:00"
        ],
        [
         "Dudince",
         "13.7",
         "2025-08-01 01:00:00"
        ],
        [
         "Dudince",
         "13.2",
         "2025-08-01 02:00:00"
        ],
        [
         "Dudince",
         "12.6",
         "2025-08-01 03:00:00"
        ],
        [
         "Dudince",
         "12.1",
         "2025-08-01 04:00:00"
        ],
        [
         "Dudince",
         "11.5",
         "2025-08-01 05:00:00"
        ],
        [
         "Dudince",
         "11.2",
         "2025-08-01 06:00:00"
        ],
        [
         "Dudince",
         "13.3",
         "2025-08-01 07:00:00"
        ],
        [
         "Dudince",
         "17.1",
         "2025-08-01 08:00:00"
        ],
        [
         "Dudince",
         "20.3",
         "2025-08-01 09:00:00"
        ],
        [
         "Dudince",
         "23.3",
         "2025-08-01 10:00:00"
        ],
        [
         "Dudince",
         "24.4",
         "2025-08-01 11:00:00"
        ],
        [
         "Dudince",
         "25.6",
         "2025-08-01 12:00:00"
        ],
        [
         "Dudince",
         "25.8",
         "2025-08-01 13:00:00"
        ],
        [
         "Dudince",
         "26.9",
         "2025-08-01 14:00:00"
        ]
       ],
       "shape": {
        "columns": 2,
        "rows": 609
       }
      },
      "text/html": [
       "<div>\n",
       "<style scoped>\n",
       "    .dataframe tbody tr th:only-of-type {\n",
       "        vertical-align: middle;\n",
       "    }\n",
       "\n",
       "    .dataframe tbody tr th {\n",
       "        vertical-align: top;\n",
       "    }\n",
       "\n",
       "    .dataframe thead th {\n",
       "        text-align: right;\n",
       "    }\n",
       "</style>\n",
       "<table border=\"1\" class=\"dataframe\">\n",
       "  <thead>\n",
       "    <tr style=\"text-align: right;\">\n",
       "      <th></th>\n",
       "      <th>Teplota</th>\n",
       "      <th>datetime</th>\n",
       "    </tr>\n",
       "    <tr>\n",
       "      <th>Stanica</th>\n",
       "      <th></th>\n",
       "      <th></th>\n",
       "    </tr>\n",
       "  </thead>\n",
       "  <tbody>\n",
       "    <tr>\n",
       "      <th>Dudince</th>\n",
       "      <td>27.5</td>\n",
       "      <td>2025-07-30 14:00:00</td>\n",
       "    </tr>\n",
       "    <tr>\n",
       "      <th>Dudince</th>\n",
       "      <td>27.3</td>\n",
       "      <td>2025-07-30 15:00:00</td>\n",
       "    </tr>\n",
       "    <tr>\n",
       "      <th>Dudince</th>\n",
       "      <td>27.3</td>\n",
       "      <td>2025-07-30 15:00:00</td>\n",
       "    </tr>\n",
       "    <tr>\n",
       "      <th>Dudince</th>\n",
       "      <td>27.5</td>\n",
       "      <td>2025-07-30 16:00:00</td>\n",
       "    </tr>\n",
       "    <tr>\n",
       "      <th>Dudince</th>\n",
       "      <td>26.8</td>\n",
       "      <td>2025-07-30 17:00:00</td>\n",
       "    </tr>\n",
       "    <tr>\n",
       "      <th>...</th>\n",
       "      <td>...</td>\n",
       "      <td>...</td>\n",
       "    </tr>\n",
       "    <tr>\n",
       "      <th>Dudince</th>\n",
       "      <td>20.5</td>\n",
       "      <td>2025-08-24 18:00:00</td>\n",
       "    </tr>\n",
       "    <tr>\n",
       "      <th>Dudince</th>\n",
       "      <td>19.4</td>\n",
       "      <td>2025-08-24 19:00:00</td>\n",
       "    </tr>\n",
       "    <tr>\n",
       "      <th>Dudince</th>\n",
       "      <td>16.0</td>\n",
       "      <td>2025-08-24 20:00:00</td>\n",
       "    </tr>\n",
       "    <tr>\n",
       "      <th>Dudince</th>\n",
       "      <td>12.8</td>\n",
       "      <td>2025-08-24 21:00:00</td>\n",
       "    </tr>\n",
       "    <tr>\n",
       "      <th>Dudince</th>\n",
       "      <td>11.2</td>\n",
       "      <td>2025-08-24 22:00:00</td>\n",
       "    </tr>\n",
       "  </tbody>\n",
       "</table>\n",
       "<p>609 rows × 2 columns</p>\n",
       "</div>"
      ],
      "text/plain": [
       "         Teplota            datetime\n",
       "Stanica                             \n",
       "Dudince     27.5 2025-07-30 14:00:00\n",
       "Dudince     27.3 2025-07-30 15:00:00\n",
       "Dudince     27.3 2025-07-30 15:00:00\n",
       "Dudince     27.5 2025-07-30 16:00:00\n",
       "Dudince     26.8 2025-07-30 17:00:00\n",
       "...          ...                 ...\n",
       "Dudince     20.5 2025-08-24 18:00:00\n",
       "Dudince     19.4 2025-08-24 19:00:00\n",
       "Dudince     16.0 2025-08-24 20:00:00\n",
       "Dudince     12.8 2025-08-24 21:00:00\n",
       "Dudince     11.2 2025-08-24 22:00:00\n",
       "\n",
       "[609 rows x 2 columns]"
      ]
     },
     "execution_count": 57,
     "metadata": {},
     "output_type": "execute_result"
    }
   ],
   "source": [
    "df.index =df.Stanica\n",
    "dta=df.loc[['Dudince', 'Chopok'],['Teplota','datetime']]\n",
    "data=dta.loc[['Dudince'],:].sort_values(by=['datetime'])\n",
    "data"
   ]
  },
  {
   "cell_type": "code",
   "execution_count": 58,
   "id": "9f970099",
   "metadata": {},
   "outputs": [
    {
     "data": {
      "image/png": "[encoded data removed]",
      "text/plain": [
       "<Figure size 2500x1000 with 1 Axes>"
      ]
     },
     "metadata": {},
     "output_type": "display_data"
    }
   ],
   "source": [
    "dta=df.loc[['Dudince', 'Žilina','Chopok'],['Teplota','datetime']]\n",
    "dta=df.loc[['Dudince', 'Chopok'],['Teplota','datetime']]\n",
    "\n",
    "plt.figure(figsize=(25, 10))\n",
    "data=dta.loc[['Dudince'],:].sort_values(by=['datetime'])\n",
    "plt.plot(data['datetime'], data['Teplota'],marker='o', linestyle='-')\n",
    "data=dta.loc[['Chopok'],:].sort_values(by=['datetime'])\n",
    "plt.plot(data['datetime'], data['Teplota'],marker='o', linestyle='-')\n",
    "plt.xlabel('Datetime')\n",
    "plt.ylabel('Teplota')\n",
    "plt.title('Teplota over Time')\n",
    "plt.xticks(rotation=90)\n",
    "plt.tight_layout()\n",
    "plt.size=(150, 10)\n",
    "plt.show()"
   ]
  },
  {
   "cell_type": "code",
   "execution_count": 59,
   "id": "caebac85",
   "metadata": {},
   "outputs": [
    {
     "data": {
      "image/png": "[encoded data removed]",
      "text/plain": [
       "<Figure size 2500x1000 with 1 Axes>"
      ]
     },
     "metadata": {},
     "output_type": "display_data"
    }
   ],
   "source": [
    "# dta=df.loc[['Dudince', 'Žilina','Chopok'],['Teplota','datetime']]\n",
    "# dta=df.loc[['Dudince', 'Chopok'],['Teplota','datetime']]\n",
    "\n",
    "plt.figure(figsize=(25, 10))\n",
    "data=df.loc[['Žilina'],:].sort_values(by=['datetime'])\n",
    "plt.plot(data['datetime'], data['Teplota'],marker='', linestyle='-')\n",
    "data=df.loc[['Chopok'],:].sort_values(by=['datetime'])\n",
    "plt.plot(data['datetime'], data['Teplota'],marker='', linestyle='-')\n",
    "plt.xlabel('Datetime')\n",
    "plt.ylabel('Teplota')\n",
    "plt.title('Teplota over Time')\n",
    "plt.xticks(rotation=90)\n",
    "plt.tight_layout()\n",
    "plt.size=(150, 10)\n",
    "plt.show()"
   ]
  },
  {
   "cell_type": "code",
   "execution_count": 61,
   "id": "fe89765b",
   "metadata": {},
   "outputs": [],
   "source": [
    "dta=df.loc[['Dudince', 'Žilina','Chopok'],['Teplota','datetime']]\n",
    "dta=df.loc[['Dudince', 'Chopok'],['Teplota','datetime']]\n",
    "# df = df.drop('Stanica', axis=1)\n",
    "\n",
    "# davg = df.groupby(df.datetime.dt.dayofweek)['Teplota'].mean() #OK returns Series\n",
    "#print(df[['Teplota','datetime']]) #.info()\n",
    "# davg.info()\n",
    "# print(davg)\n",
    "# davg = df[['Stanica', 'Teplota','datetime']].groupby(pd.Grouper(key = 'Stanica')).mean() #OK Returns DataFrame\n",
    "# davg.info()\n",
    "# err davg = dta.groupby(pd.Grouper(key = ['Stanica', 'datetime'], freq='1d')).mean()             #ERROR\n",
    "# davg = df.groupby('Stanica').apply(lambda x: x.rolling('1D',on='datetime',closed='left')['Teplota'].sum())\n",
    "# davg = df.groupby(['Stanica', 'datetime'])['Teplota'].mean().reset_index()\n",
    "# print(davg)\n",
    "# dmi = df.set_index('datetime').groupby('Stanica').resample('1D')['Teplota'].mean().reset_index()\n",
    "# print(dmi)\n"
   ]
  },
  {
   "cell_type": "code",
   "execution_count": 65,
   "id": "974f364f",
   "metadata": {},
   "outputs": [
    {
     "ename": "KeyError",
     "evalue": "'Stanica'",
     "output_type": "error",
     "traceback": [
      "\u001b[31m---------------------------------------------------------------------------\u001b[39m",
      "\u001b[31mKeyError\u001b[39m                                  Traceback (most recent call last)",
      "\u001b[36mCell\u001b[39m\u001b[36m \u001b[39m\u001b[32mIn[65]\u001b[39m\u001b[32m, line 3\u001b[39m\n\u001b[32m      1\u001b[39m df = df.drop(\u001b[33m'\u001b[39m\u001b[33mStanica\u001b[39m\u001b[33m'\u001b[39m, axis=\u001b[32m1\u001b[39m)\n\u001b[32m      2\u001b[39m dmi = df.reset_index()\n\u001b[32m----> \u001b[39m\u001b[32m3\u001b[39m dmi = \u001b[43mdmi\u001b[49m\u001b[43m.\u001b[49m\u001b[43mset_index\u001b[49m\u001b[43m(\u001b[49m\u001b[43m[\u001b[49m\u001b[33;43m'\u001b[39;49m\u001b[33;43mdatetime\u001b[39;49m\u001b[33;43m'\u001b[39;49m\u001b[43m]\u001b[49m\u001b[43m)\u001b[49m\u001b[43m.\u001b[49m\u001b[43mgroupby\u001b[49m\u001b[43m(\u001b[49m\u001b[33;43m'\u001b[39;49m\u001b[33;43mStanica\u001b[39;49m\u001b[33;43m'\u001b[39;49m\u001b[43m)\u001b[49m.resample(\u001b[33m'\u001b[39m\u001b[33m12H\u001b[39m\u001b[33m'\u001b[39m)[\u001b[33m'\u001b[39m\u001b[33mTeplota\u001b[39m\u001b[33m'\u001b[39m].mean().reset_index()\n\u001b[32m      5\u001b[39m \u001b[38;5;28mprint\u001b[39m(dmi)\n\u001b[32m      6\u001b[39m df = dmi\n",
      "\u001b[36mFile \u001b[39m\u001b[32m~/program/jupyter/.venv/lib/python3.11/site-packages/pandas/core/frame.py:9190\u001b[39m, in \u001b[36mDataFrame.groupby\u001b[39m\u001b[34m(self, by, axis, level, as_index, sort, group_keys, observed, dropna)\u001b[39m\n\u001b[32m   9187\u001b[39m \u001b[38;5;28;01mif\u001b[39;00m level \u001b[38;5;129;01mis\u001b[39;00m \u001b[38;5;28;01mNone\u001b[39;00m \u001b[38;5;129;01mand\u001b[39;00m by \u001b[38;5;129;01mis\u001b[39;00m \u001b[38;5;28;01mNone\u001b[39;00m:\n\u001b[32m   9188\u001b[39m     \u001b[38;5;28;01mraise\u001b[39;00m \u001b[38;5;167;01mTypeError\u001b[39;00m(\u001b[33m\"\u001b[39m\u001b[33mYou have to supply one of \u001b[39m\u001b[33m'\u001b[39m\u001b[33mby\u001b[39m\u001b[33m'\u001b[39m\u001b[33m and \u001b[39m\u001b[33m'\u001b[39m\u001b[33mlevel\u001b[39m\u001b[33m'\u001b[39m\u001b[33m\"\u001b[39m)\n\u001b[32m-> \u001b[39m\u001b[32m9190\u001b[39m \u001b[38;5;28;01mreturn\u001b[39;00m \u001b[43mDataFrameGroupBy\u001b[49m\u001b[43m(\u001b[49m\n\u001b[32m   9191\u001b[39m \u001b[43m    \u001b[49m\u001b[43mobj\u001b[49m\u001b[43m=\u001b[49m\u001b[38;5;28;43mself\u001b[39;49m\u001b[43m,\u001b[49m\n\u001b[32m   9192\u001b[39m \u001b[43m    \u001b[49m\u001b[43mkeys\u001b[49m\u001b[43m=\u001b[49m\u001b[43mby\u001b[49m\u001b[43m,\u001b[49m\n\u001b[32m   9193\u001b[39m \u001b[43m    \u001b[49m\u001b[43maxis\u001b[49m\u001b[43m=\u001b[49m\u001b[43maxis\u001b[49m\u001b[43m,\u001b[49m\n\u001b[32m   9194\u001b[39m \u001b[43m    \u001b[49m\u001b[43mlevel\u001b[49m\u001b[43m=\u001b[49m\u001b[43mlevel\u001b[49m\u001b[43m,\u001b[49m\n\u001b[32m   9195\u001b[39m \u001b[43m    \u001b[49m\u001b[43mas_index\u001b[49m\u001b[43m=\u001b[49m\u001b[43mas_index\u001b[49m\u001b[43m,\u001b[49m\n\u001b[32m   9196\u001b[39m \u001b[43m    \u001b[49m\u001b[43msort\u001b[49m\u001b[43m=\u001b[49m\u001b[43msort\u001b[49m\u001b[43m,\u001b[49m\n\u001b[32m   9197\u001b[39m \u001b[43m    \u001b[49m\u001b[43mgroup_keys\u001b[49m\u001b[43m=\u001b[49m\u001b[43mgroup_keys\u001b[49m\u001b[43m,\u001b[49m\n\u001b[32m   9198\u001b[39m \u001b[43m    \u001b[49m\u001b[43mobserved\u001b[49m\u001b[43m=\u001b[49m\u001b[43mobserved\u001b[49m\u001b[43m,\u001b[49m\n\u001b[32m   9199\u001b[39m \u001b[43m    \u001b[49m\u001b[43mdropna\u001b[49m\u001b[43m=\u001b[49m\u001b[43mdropna\u001b[49m\u001b[43m,\u001b[49m\n\u001b[32m   9200\u001b[39m \u001b[43m\u001b[49m\u001b[43m)\u001b[49m\n",
      "\u001b[36mFile \u001b[39m\u001b[32m~/program/jupyter/.venv/lib/python3.11/site-packages/pandas/core/groupby/groupby.py:1330\u001b[39m, in \u001b[36mGroupBy.__init__\u001b[39m\u001b[34m(self, obj, keys, axis, level, grouper, exclusions, selection, as_index, sort, group_keys, observed, dropna)\u001b[39m\n\u001b[32m   1327\u001b[39m \u001b[38;5;28mself\u001b[39m.dropna = dropna\n\u001b[32m   1329\u001b[39m \u001b[38;5;28;01mif\u001b[39;00m grouper \u001b[38;5;129;01mis\u001b[39;00m \u001b[38;5;28;01mNone\u001b[39;00m:\n\u001b[32m-> \u001b[39m\u001b[32m1330\u001b[39m     grouper, exclusions, obj = \u001b[43mget_grouper\u001b[49m\u001b[43m(\u001b[49m\n\u001b[32m   1331\u001b[39m \u001b[43m        \u001b[49m\u001b[43mobj\u001b[49m\u001b[43m,\u001b[49m\n\u001b[32m   1332\u001b[39m \u001b[43m        \u001b[49m\u001b[43mkeys\u001b[49m\u001b[43m,\u001b[49m\n\u001b[32m   1333\u001b[39m \u001b[43m        \u001b[49m\u001b[43maxis\u001b[49m\u001b[43m=\u001b[49m\u001b[43maxis\u001b[49m\u001b[43m,\u001b[49m\n\u001b[32m   1334\u001b[39m \u001b[43m        \u001b[49m\u001b[43mlevel\u001b[49m\u001b[43m=\u001b[49m\u001b[43mlevel\u001b[49m\u001b[43m,\u001b[49m\n\u001b[32m   1335\u001b[39m \u001b[43m        \u001b[49m\u001b[43msort\u001b[49m\u001b[43m=\u001b[49m\u001b[43msort\u001b[49m\u001b[43m,\u001b[49m\n\u001b[32m   1336\u001b[39m \u001b[43m        \u001b[49m\u001b[43mobserved\u001b[49m\u001b[43m=\u001b[49m\u001b[38;5;28;43;01mFalse\u001b[39;49;00m\u001b[43m \u001b[49m\u001b[38;5;28;43;01mif\u001b[39;49;00m\u001b[43m \u001b[49m\u001b[43mobserved\u001b[49m\u001b[43m \u001b[49m\u001b[38;5;129;43;01mis\u001b[39;49;00m\u001b[43m \u001b[49m\u001b[43mlib\u001b[49m\u001b[43m.\u001b[49m\u001b[43mno_default\u001b[49m\u001b[43m \u001b[49m\u001b[38;5;28;43;01melse\u001b[39;49;00m\u001b[43m \u001b[49m\u001b[43mobserved\u001b[49m\u001b[43m,\u001b[49m\n\u001b[32m   1337\u001b[39m \u001b[43m        \u001b[49m\u001b[43mdropna\u001b[49m\u001b[43m=\u001b[49m\u001b[38;5;28;43mself\u001b[39;49m\u001b[43m.\u001b[49m\u001b[43mdropna\u001b[49m\u001b[43m,\u001b[49m\n\u001b[32m   1338\u001b[39m \u001b[43m    \u001b[49m\u001b[43m)\u001b[49m\n\u001b[32m   1340\u001b[39m \u001b[38;5;28;01mif\u001b[39;00m observed \u001b[38;5;129;01mis\u001b[39;00m lib.no_default:\n\u001b[32m   1341\u001b[39m     \u001b[38;5;28;01mif\u001b[39;00m \u001b[38;5;28many\u001b[39m(ping._passed_categorical \u001b[38;5;28;01mfor\u001b[39;00m ping \u001b[38;5;129;01min\u001b[39;00m grouper.groupings):\n",
      "\u001b[36mFile \u001b[39m\u001b[32m~/program/jupyter/.venv/lib/python3.11/site-packages/pandas/core/groupby/grouper.py:1043\u001b[39m, in \u001b[36mget_grouper\u001b[39m\u001b[34m(obj, key, axis, level, sort, observed, validate, dropna)\u001b[39m\n\u001b[32m   1041\u001b[39m         in_axis, level, gpr = \u001b[38;5;28;01mFalse\u001b[39;00m, gpr, \u001b[38;5;28;01mNone\u001b[39;00m\n\u001b[32m   1042\u001b[39m     \u001b[38;5;28;01melse\u001b[39;00m:\n\u001b[32m-> \u001b[39m\u001b[32m1043\u001b[39m         \u001b[38;5;28;01mraise\u001b[39;00m \u001b[38;5;167;01mKeyError\u001b[39;00m(gpr)\n\u001b[32m   1044\u001b[39m \u001b[38;5;28;01melif\u001b[39;00m \u001b[38;5;28misinstance\u001b[39m(gpr, Grouper) \u001b[38;5;129;01mand\u001b[39;00m gpr.key \u001b[38;5;129;01mis\u001b[39;00m \u001b[38;5;129;01mnot\u001b[39;00m \u001b[38;5;28;01mNone\u001b[39;00m:\n\u001b[32m   1045\u001b[39m     \u001b[38;5;66;03m# Add key to exclusions\u001b[39;00m\n\u001b[32m   1046\u001b[39m     exclusions.add(gpr.key)\n",
      "\u001b[31mKeyError\u001b[39m: 'Stanica'"
     ]
    }
   ],
   "source": [
    "df = df.drop('Stanica', axis=1)\n",
    "dmi = df.reset_index()\n",
    "dmi = dmi.set_index(['datetime']).groupby('Stanica').resample('12H')['Teplota'].mean().reset_index()\n",
    "\n",
    "print(dmi)\n",
    "df = dmi\n",
    "plt.figure(figsize=(25, 10))\n",
    "data=df.loc[['Žilina - letisko'],:].sort_values(by=['datetime'])\n",
    "plt.plot(data['datetime'], data['Teplota'],marker='', linestyle='-')\n",
    "data=df.loc[['Chopok'],:].sort_values(by=['datetime'])\n",
    "plt.plot(data['datetime'], data['Teplota'],marker='', linestyle='-')\n",
    "plt.xlabel('Datetime')\n",
    "plt.ylabel('Teplota')\n",
    "plt.title('Teplota over Time')\n",
    "plt.xticks(rotation=90)\n",
    "plt.tight_layout()\n",
    "plt.size=(150, 10)\n",
    "plt.show()\n",
    "\n"
   ]
  }
 ],
 "metadata": {
  "kernelspec": {
   "display_name": ".venv (3.11.2)",
   "language": "python",
   "name": "python3"
  },
  "language_info": {
   "codemirror_mode": {
    "name": "ipython",
    "version": 3
   },
   "file_extension": ".py",
   "mimetype": "text/x-python",
   "name": "python",
   "nbconvert_exporter": "python",
   "pygments_lexer": "ipython3",
   "version": "3.11.2"
  }
 },
 "nbformat": 4,
 "nbformat_minor": 5
}
