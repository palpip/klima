{
 "cells": [
  {
   "cell_type": "code",
   "execution_count": null,
   "id": "7ea9bec2",
   "metadata": {},
   "outputs": [],
   "source": [
    "import pandas as pd\n",
    "import numpy as np\n",
    "import matplotlib as mp\n",
    "\n",
    "from config import *\n",
    "\n",
    "TEMPTESTFILE = TEPLOTY_SK_DIR + 'teploty_breznox.csv'\n",
    "UHRNTESTFILE = ZRAZKY_BREZNO_DIR + '2025-07-30-23-45.html'\n",
    "tables = pd.read_csv(TEMPTESTFILE)"
   ]
  },
  {
   "cell_type": "code",
   "execution_count": null,
   "id": "c92f7613",
   "metadata": {},
   "outputs": [],
   "source": [
    "tables.dtypes\n"
   ]
  },
  {
   "cell_type": "code",
   "execution_count": null,
   "id": "b1eb5a1a",
   "metadata": {},
   "outputs": [],
   "source": [
    "print(tables.size)\n",
    "print(tables.shape)\n",
    "print(tables.columns)\n",
    "print(tables.index)\n",
    "# print(tables.head(10))\n",
    "# print(tables.tail(10))\n",
    "# print(tables.describe())\n",
    "# print(tables.info())\n",
    "# print(tables.memory_usage())\n",
    "# print(tables.isnull().sum())\n",
    "# print(tables.isna().sum())\n",
    "# print(tables['Teplota'].mean())\n",
    "print(tables['Teplota'].info())\n",
    "print(tables['Teplota'].describe())"
   ]
  },
  {
   "cell_type": "code",
   "execution_count": null,
   "id": "4999f26c",
   "metadata": {},
   "outputs": [],
   "source": [
    "t = tables['Teplota']\n",
    "print(type(t))\n",
    "print(t.info())\n",
    "print(t.describe())\n",
    "print(type(tables['Teplota'].values))\n",
    "print(type(t.values))\n",
    "print(t.name)\n",
    "print(t.index)\n",
    "# print(t.values)\n",
    "print(t.values.shape)\n",
    "print(t.values.size)\n",
    "print(t.values.dtype)\n",
    "print(t.values[1:10])\n",
    "print(t.values[:10])\n",
    "\n",
    "\n",
    "\n",
    "\n",
    "\n"
   ]
  },
  {
   "cell_type": "code",
   "execution_count": null,
   "id": "6bdc21bb",
   "metadata": {},
   "outputs": [],
   "source": [
    "print(t.index)\n",
    "list(t.index)"
   ]
  },
  {
   "cell_type": "code",
   "execution_count": null,
   "id": "02b5ab0d",
   "metadata": {},
   "outputs": [],
   "source": [
    "t.loc"
   ]
  },
  {
   "cell_type": "code",
   "execution_count": null,
   "id": "69454e12",
   "metadata": {},
   "outputs": [],
   "source": [
    "t[10]"
   ]
  },
  {
   "cell_type": "code",
   "execution_count": null,
   "id": "cf0bc765",
   "metadata": {},
   "outputs": [],
   "source": [
    "t.loc[10]\n",
    "t.iloc[10]"
   ]
  },
  {
   "cell_type": "code",
   "execution_count": null,
   "id": "4c95bb70",
   "metadata": {},
   "outputs": [],
   "source": [
    "t[t > t.mean()+t.std()]  \n",
    "\n"
   ]
  },
  {
   "cell_type": "code",
   "execution_count": null,
   "id": "036e6a80",
   "metadata": {},
   "outputs": [],
   "source": [
    "td = tables.loc[0:10,'Teplota']\n",
    "td = tables.iloc[:10,2:3]\n",
    "print(type(td))\n",
    "td = tables.iloc[1:10,[3]]\n",
    "print(type(td))\n",
    "td = tables.iloc[[3]]                                     \n",
    "print(type(td))\n",
    "td = tables.iloc[3:4]                                     \n",
    "print(type(td))\n",
    "td = tables.iloc[[3],[2]]                                     \n",
    "print(type(td))\n",
    "td = tables.iloc[[3,2,1],[2,4,3]]                                     \n",
    "print(type(td))\n",
    "td\n",
    "\n",
    "\n"
   ]
  },
  {
   "cell_type": "code",
   "execution_count": null,
   "id": "d77e9909",
   "metadata": {},
   "outputs": [],
   "source": [
    "t.name = 'Teplota[C]'\n",
    "print(t)"
   ]
  }
 ],
 "metadata": {
  "kernelspec": {
   "display_name": ".venv (3.11.2)",
   "language": "python",
   "name": "python3"
  },
  "language_info": {
   "codemirror_mode": {
    "name": "ipython",
    "version": 3
   },
   "file_extension": ".py",
   "mimetype": "text/x-python",
   "name": "python",
   "nbconvert_exporter": "python",
   "pygments_lexer": "ipython3",
   "version": "3.11.2"
  }
 },
 "nbformat": 4,
 "nbformat_minor": 5
}
