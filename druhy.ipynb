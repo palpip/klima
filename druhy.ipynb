{
 "cells": [
  {
   "cell_type": "code",
   "execution_count": 7,
   "id": "7ea9bec2",
   "metadata": {},
   "outputs": [],
   "source": [
    "import pandas as pd\n",
    "import numpy as np\n",
    "import matplotlib as mp\n",
    "\n",
    "TOPDIR = f'/home/pp/program/jupyter/Brezno - Klima/'\n",
    "TEMPDIR= f'/home/pp/program/jupyter/Brezno - Klima/temp/'\n",
    "UHRNDIR = f'/home/pp/program/jupyter/Brezno - Klima/uhrn/'\n",
    "TEMPTESTFILE = TEMPDIR + 'teploty_breznox.csv'\n",
    "UHRNTESTFILE = UHRNDIR + '2025-07-30-23-45.html'\n",
    "tables = pd.read_csv(TEMPTESTFILE)"
   ]
  },
  {
   "cell_type": "code",
   "execution_count": 8,
   "id": "c92f7613",
   "metadata": {},
   "outputs": [
    {
     "data": {
      "text/plain": [
       "Unnamed: 0      int64\n",
       "Stanica        object\n",
       "Teplota       float64\n",
       "Smer           object\n",
       "Rýchlosť        int64\n",
       "Nárazy        float64\n",
       "Tlak          float64\n",
       "Oblačnosť     float64\n",
       "Počasie       float64\n",
       "Graf          float64\n",
       "Datum          object\n",
       "Čas            object\n",
       "datetime       object\n",
       "dtype: object"
      ]
     },
     "execution_count": 8,
     "metadata": {},
     "output_type": "execute_result"
    }
   ],
   "source": [
    "tables.dtypes\n"
   ]
  },
  {
   "cell_type": "code",
   "execution_count": 9,
   "id": "13d7e7b3",
   "metadata": {},
   "outputs": [
    {
     "data": {
      "text/html": [
       "<div>\n",
       "<style scoped>\n",
       "    .dataframe tbody tr th:only-of-type {\n",
       "        vertical-align: middle;\n",
       "    }\n",
       "\n",
       "    .dataframe tbody tr th {\n",
       "        vertical-align: top;\n",
       "    }\n",
       "\n",
       "    .dataframe thead th {\n",
       "        text-align: right;\n",
       "    }\n",
       "</style>\n",
       "<table border=\"1\" class=\"dataframe\">\n",
       "  <thead>\n",
       "    <tr style=\"text-align: right;\">\n",
       "      <th></th>\n",
       "      <th>Unnamed: 0</th>\n",
       "      <th>Stanica</th>\n",
       "      <th>Teplota</th>\n",
       "      <th>Smer</th>\n",
       "      <th>Rýchlosť</th>\n",
       "      <th>Nárazy</th>\n",
       "      <th>Tlak</th>\n",
       "      <th>Oblačnosť</th>\n",
       "      <th>Počasie</th>\n",
       "      <th>Graf</th>\n",
       "      <th>Datum</th>\n",
       "      <th>Čas</th>\n",
       "      <th>datetime</th>\n",
       "    </tr>\n",
       "  </thead>\n",
       "  <tbody>\n",
       "    <tr>\n",
       "      <th>1</th>\n",
       "      <td>8</td>\n",
       "      <td>Brezno</td>\n",
       "      <td>10.9</td>\n",
       "      <td>JV</td>\n",
       "      <td>1</td>\n",
       "      <td>NaN</td>\n",
       "      <td>1016.2</td>\n",
       "      <td>NaN</td>\n",
       "      <td>NaN</td>\n",
       "      <td>NaN</td>\n",
       "      <td>01.08.2025</td>\n",
       "      <td>01:00</td>\n",
       "      <td>2025-08-01 01:00</td>\n",
       "    </tr>\n",
       "    <tr>\n",
       "      <th>2</th>\n",
       "      <td>8</td>\n",
       "      <td>Brezno</td>\n",
       "      <td>10.9</td>\n",
       "      <td>JV</td>\n",
       "      <td>1</td>\n",
       "      <td>NaN</td>\n",
       "      <td>1016.1</td>\n",
       "      <td>NaN</td>\n",
       "      <td>NaN</td>\n",
       "      <td>NaN</td>\n",
       "      <td>01.08.2025</td>\n",
       "      <td>02:00</td>\n",
       "      <td>2025-08-01 02:00</td>\n",
       "    </tr>\n",
       "    <tr>\n",
       "      <th>3</th>\n",
       "      <td>8</td>\n",
       "      <td>Brezno</td>\n",
       "      <td>10.0</td>\n",
       "      <td>V</td>\n",
       "      <td>1</td>\n",
       "      <td>NaN</td>\n",
       "      <td>1016.4</td>\n",
       "      <td>NaN</td>\n",
       "      <td>NaN</td>\n",
       "      <td>NaN</td>\n",
       "      <td>01.08.2025</td>\n",
       "      <td>03:00</td>\n",
       "      <td>2025-08-01 03:00</td>\n",
       "    </tr>\n",
       "    <tr>\n",
       "      <th>4</th>\n",
       "      <td>8</td>\n",
       "      <td>Brezno</td>\n",
       "      <td>9.8</td>\n",
       "      <td>BEZV</td>\n",
       "      <td>0</td>\n",
       "      <td>NaN</td>\n",
       "      <td>1016.3</td>\n",
       "      <td>NaN</td>\n",
       "      <td>NaN</td>\n",
       "      <td>NaN</td>\n",
       "      <td>01.08.2025</td>\n",
       "      <td>04:00</td>\n",
       "      <td>2025-08-01 04:00</td>\n",
       "    </tr>\n",
       "    <tr>\n",
       "      <th>5</th>\n",
       "      <td>8</td>\n",
       "      <td>Brezno</td>\n",
       "      <td>8.9</td>\n",
       "      <td>BEZV</td>\n",
       "      <td>0</td>\n",
       "      <td>NaN</td>\n",
       "      <td>1016.5</td>\n",
       "      <td>NaN</td>\n",
       "      <td>NaN</td>\n",
       "      <td>NaN</td>\n",
       "      <td>01.08.2025</td>\n",
       "      <td>05:00</td>\n",
       "      <td>2025-08-01 05:00</td>\n",
       "    </tr>\n",
       "  </tbody>\n",
       "</table>\n",
       "</div>"
      ],
      "text/plain": [
       "   Unnamed: 0 Stanica  Teplota  Smer  Rýchlosť  Nárazy    Tlak  Oblačnosť  \\\n",
       "1           8  Brezno     10.9    JV         1     NaN  1016.2        NaN   \n",
       "2           8  Brezno     10.9    JV         1     NaN  1016.1        NaN   \n",
       "3           8  Brezno     10.0     V         1     NaN  1016.4        NaN   \n",
       "4           8  Brezno      9.8  BEZV         0     NaN  1016.3        NaN   \n",
       "5           8  Brezno      8.9  BEZV         0     NaN  1016.5        NaN   \n",
       "\n",
       "   Počasie  Graf       Datum    Čas          datetime  \n",
       "1      NaN   NaN  01.08.2025  01:00  2025-08-01 01:00  \n",
       "2      NaN   NaN  01.08.2025  02:00  2025-08-01 02:00  \n",
       "3      NaN   NaN  01.08.2025  03:00  2025-08-01 03:00  \n",
       "4      NaN   NaN  01.08.2025  04:00  2025-08-01 04:00  \n",
       "5      NaN   NaN  01.08.2025  05:00  2025-08-01 05:00  "
      ]
     },
     "execution_count": 9,
     "metadata": {},
     "output_type": "execute_result"
    }
   ],
   "source": [
    "\n",
    "df = tables.loc[1:5]\n",
    "df"
   ]
  },
  {
   "cell_type": "code",
   "execution_count": 10,
   "id": "afa48610",
   "metadata": {},
   "outputs": [
    {
     "name": "stdout",
     "output_type": "stream",
     "text": [
      "1    2025-08-01 01:00\n",
      "2    2025-08-01 02:00\n",
      "3    2025-08-01 03:00\n",
      "4    2025-08-01 04:00\n",
      "5    2025-08-01 05:00\n",
      "Name: datetime, dtype: object\n"
     ]
    },
    {
     "name": "stderr",
     "output_type": "stream",
     "text": [
      "/tmp/ipykernel_3132/1694072901.py:3: SettingWithCopyWarning: \n",
      "A value is trying to be set on a copy of a slice from a DataFrame.\n",
      "Try using .loc[row_indexer,col_indexer] = value instead\n",
      "\n",
      "See the caveats in the documentation: https://pandas.pydata.org/pandas-docs/stable/user_guide/indexing.html#returning-a-view-versus-a-copy\n",
      "  df.datetime = pd.to_datetime(df.iloc[:,12])\n"
     ]
    },
    {
     "data": {
      "text/plain": [
       "Unnamed: 0             int64\n",
       "Stanica               object\n",
       "Teplota              float64\n",
       "Smer                  object\n",
       "Rýchlosť               int64\n",
       "Nárazy               float64\n",
       "Tlak                 float64\n",
       "Oblačnosť            float64\n",
       "Počasie              float64\n",
       "Graf                 float64\n",
       "Datum                 object\n",
       "Čas                   object\n",
       "datetime      datetime64[ns]\n",
       "dtype: object"
      ]
     },
     "execution_count": 10,
     "metadata": {},
     "output_type": "execute_result"
    }
   ],
   "source": [
    "df.iloc[0,10]\n",
    "print(df.iloc[:, 12])\n",
    "df.datetime = pd.to_datetime(df.iloc[:,12])\n",
    "#df.astype(df.datetime,'date64[pyarrow')\n",
    "df.dtypes"
   ]
  },
  {
   "cell_type": "code",
   "execution_count": 67,
   "id": "5acaabc9",
   "metadata": {},
   "outputs": [
    {
     "name": "stdout",
     "output_type": "stream",
     "text": [
      "        Unnamed: 0 Stanica  Teplota  Smer  Rýchlosť  Nárazy    Tlak  \\\n",
      "Tlak                                                                  \n",
      "1016.2           8  Brezno     10.9    JV         1     NaN  1016.2   \n",
      "1016.1           8  Brezno     10.9    JV         1     NaN  1016.1   \n",
      "1016.4           8  Brezno     10.0     V         1     NaN  1016.4   \n",
      "1016.3           8  Brezno      9.8  BEZV         0     NaN  1016.3   \n",
      "1016.5           8  Brezno      8.9  BEZV         0     NaN  1016.5   \n",
      "\n",
      "        Oblačnosť  Počasie  Graf       Datum    Čas            datetime  \n",
      "Tlak                                                                     \n",
      "1016.2        NaN      NaN   NaN  01.08.2025  01:00 2025-08-01 01:00:00  \n",
      "1016.1        NaN      NaN   NaN  01.08.2025  02:00 2025-08-01 02:00:00  \n",
      "1016.4        NaN      NaN   NaN  01.08.2025  03:00 2025-08-01 03:00:00  \n",
      "1016.3        NaN      NaN   NaN  01.08.2025  04:00 2025-08-01 04:00:00  \n",
      "1016.5        NaN      NaN   NaN  01.08.2025  05:00 2025-08-01 05:00:00  \n"
     ]
    },
    {
     "data": {
      "text/html": [
       "<div>\n",
       "<style scoped>\n",
       "    .dataframe tbody tr th:only-of-type {\n",
       "        vertical-align: middle;\n",
       "    }\n",
       "\n",
       "    .dataframe tbody tr th {\n",
       "        vertical-align: top;\n",
       "    }\n",
       "\n",
       "    .dataframe thead th {\n",
       "        text-align: right;\n",
       "    }\n",
       "</style>\n",
       "<table border=\"1\" class=\"dataframe\">\n",
       "  <thead>\n",
       "    <tr style=\"text-align: right;\">\n",
       "      <th></th>\n",
       "      <th>Unnamed: 0</th>\n",
       "      <th>Stanica</th>\n",
       "      <th>Teplota</th>\n",
       "      <th>Smer</th>\n",
       "      <th>Rýchlosť</th>\n",
       "      <th>Nárazy</th>\n",
       "      <th>Tlak</th>\n",
       "      <th>Oblačnosť</th>\n",
       "      <th>Počasie</th>\n",
       "      <th>Graf</th>\n",
       "      <th>Datum</th>\n",
       "      <th>Čas</th>\n",
       "      <th>datetime</th>\n",
       "    </tr>\n",
       "    <tr>\n",
       "      <th>Tlak</th>\n",
       "      <th></th>\n",
       "      <th></th>\n",
       "      <th></th>\n",
       "      <th></th>\n",
       "      <th></th>\n",
       "      <th></th>\n",
       "      <th></th>\n",
       "      <th></th>\n",
       "      <th></th>\n",
       "      <th></th>\n",
       "      <th></th>\n",
       "      <th></th>\n",
       "      <th></th>\n",
       "    </tr>\n",
       "  </thead>\n",
       "  <tbody>\n",
       "    <tr>\n",
       "      <th>1016.2</th>\n",
       "      <td>8</td>\n",
       "      <td>Brezno</td>\n",
       "      <td>10.9</td>\n",
       "      <td>JV</td>\n",
       "      <td>1</td>\n",
       "      <td>NaN</td>\n",
       "      <td>1016.2</td>\n",
       "      <td>NaN</td>\n",
       "      <td>NaN</td>\n",
       "      <td>NaN</td>\n",
       "      <td>01.08.2025</td>\n",
       "      <td>01:00</td>\n",
       "      <td>2025-08-01 01:00:00</td>\n",
       "    </tr>\n",
       "    <tr>\n",
       "      <th>1016.1</th>\n",
       "      <td>8</td>\n",
       "      <td>Brezno</td>\n",
       "      <td>10.9</td>\n",
       "      <td>JV</td>\n",
       "      <td>1</td>\n",
       "      <td>NaN</td>\n",
       "      <td>1016.1</td>\n",
       "      <td>NaN</td>\n",
       "      <td>NaN</td>\n",
       "      <td>NaN</td>\n",
       "      <td>01.08.2025</td>\n",
       "      <td>02:00</td>\n",
       "      <td>2025-08-01 02:00:00</td>\n",
       "    </tr>\n",
       "    <tr>\n",
       "      <th>1016.4</th>\n",
       "      <td>8</td>\n",
       "      <td>Brezno</td>\n",
       "      <td>10.0</td>\n",
       "      <td>V</td>\n",
       "      <td>1</td>\n",
       "      <td>NaN</td>\n",
       "      <td>1016.4</td>\n",
       "      <td>NaN</td>\n",
       "      <td>NaN</td>\n",
       "      <td>NaN</td>\n",
       "      <td>01.08.2025</td>\n",
       "      <td>03:00</td>\n",
       "      <td>2025-08-01 03:00:00</td>\n",
       "    </tr>\n",
       "    <tr>\n",
       "      <th>1016.3</th>\n",
       "      <td>8</td>\n",
       "      <td>Brezno</td>\n",
       "      <td>9.8</td>\n",
       "      <td>BEZV</td>\n",
       "      <td>0</td>\n",
       "      <td>NaN</td>\n",
       "      <td>1016.3</td>\n",
       "      <td>NaN</td>\n",
       "      <td>NaN</td>\n",
       "      <td>NaN</td>\n",
       "      <td>01.08.2025</td>\n",
       "      <td>04:00</td>\n",
       "      <td>2025-08-01 04:00:00</td>\n",
       "    </tr>\n",
       "    <tr>\n",
       "      <th>1016.5</th>\n",
       "      <td>8</td>\n",
       "      <td>Brezno</td>\n",
       "      <td>8.9</td>\n",
       "      <td>BEZV</td>\n",
       "      <td>0</td>\n",
       "      <td>NaN</td>\n",
       "      <td>1016.5</td>\n",
       "      <td>NaN</td>\n",
       "      <td>NaN</td>\n",
       "      <td>NaN</td>\n",
       "      <td>01.08.2025</td>\n",
       "      <td>05:00</td>\n",
       "      <td>2025-08-01 05:00:00</td>\n",
       "    </tr>\n",
       "  </tbody>\n",
       "</table>\n",
       "</div>"
      ],
      "text/plain": [
       "        Unnamed: 0 Stanica  Teplota  Smer  Rýchlosť  Nárazy    Tlak  \\\n",
       "Tlak                                                                  \n",
       "1016.2           8  Brezno     10.9    JV         1     NaN  1016.2   \n",
       "1016.1           8  Brezno     10.9    JV         1     NaN  1016.1   \n",
       "1016.4           8  Brezno     10.0     V         1     NaN  1016.4   \n",
       "1016.3           8  Brezno      9.8  BEZV         0     NaN  1016.3   \n",
       "1016.5           8  Brezno      8.9  BEZV         0     NaN  1016.5   \n",
       "\n",
       "        Oblačnosť  Počasie  Graf       Datum    Čas            datetime  \n",
       "Tlak                                                                     \n",
       "1016.2        NaN      NaN   NaN  01.08.2025  01:00 2025-08-01 01:00:00  \n",
       "1016.1        NaN      NaN   NaN  01.08.2025  02:00 2025-08-01 02:00:00  \n",
       "1016.4        NaN      NaN   NaN  01.08.2025  03:00 2025-08-01 03:00:00  \n",
       "1016.3        NaN      NaN   NaN  01.08.2025  04:00 2025-08-01 04:00:00  \n",
       "1016.5        NaN      NaN   NaN  01.08.2025  05:00 2025-08-01 05:00:00  "
      ]
     },
     "execution_count": 67,
     "metadata": {},
     "output_type": "execute_result"
    }
   ],
   "source": [
    "# df[['Teplota':'Tlak']] invalid syntax\n",
    "print(df)\n",
    "#df['Teplota','Tlak']\n",
    "df.loc[:,['Teplota','Tlak']]\n",
    "#df.loc[:,['Teplota':'Tlak']]\n",
    "df.iloc[0:2, 3:]\n",
    "df.Tlak\n",
    "#df[0:5][1:2]\n",
    "df.index = df.Tlak\n",
    "df\n",
    "df.iloc[0:5]\n",
    "\n"
   ]
  },
  {
   "cell_type": "code",
   "execution_count": 78,
   "id": "c81a99f3",
   "metadata": {},
   "outputs": [],
   "source": [
    "df=df.reset_index(drop=True)"
   ]
  },
  {
   "cell_type": "code",
   "execution_count": 79,
   "id": "e2914d79",
   "metadata": {},
   "outputs": [
    {
     "data": {
      "text/html": [
       "<div>\n",
       "<style scoped>\n",
       "    .dataframe tbody tr th:only-of-type {\n",
       "        vertical-align: middle;\n",
       "    }\n",
       "\n",
       "    .dataframe tbody tr th {\n",
       "        vertical-align: top;\n",
       "    }\n",
       "\n",
       "    .dataframe thead th {\n",
       "        text-align: right;\n",
       "    }\n",
       "</style>\n",
       "<table border=\"1\" class=\"dataframe\">\n",
       "  <thead>\n",
       "    <tr style=\"text-align: right;\">\n",
       "      <th></th>\n",
       "      <th>Unnamed: 0</th>\n",
       "      <th>Stanica</th>\n",
       "      <th>Teplota</th>\n",
       "      <th>Smer</th>\n",
       "      <th>Rýchlosť</th>\n",
       "      <th>Nárazy</th>\n",
       "      <th>Tlak</th>\n",
       "      <th>Oblačnosť</th>\n",
       "      <th>Počasie</th>\n",
       "      <th>Graf</th>\n",
       "      <th>Datum</th>\n",
       "      <th>Čas</th>\n",
       "      <th>datetime</th>\n",
       "    </tr>\n",
       "  </thead>\n",
       "  <tbody>\n",
       "    <tr>\n",
       "      <th>0</th>\n",
       "      <td>8</td>\n",
       "      <td>Brezno</td>\n",
       "      <td>10.9</td>\n",
       "      <td>JV</td>\n",
       "      <td>1</td>\n",
       "      <td>NaN</td>\n",
       "      <td>1016.2</td>\n",
       "      <td>NaN</td>\n",
       "      <td>NaN</td>\n",
       "      <td>NaN</td>\n",
       "      <td>01.08.2025</td>\n",
       "      <td>01:00</td>\n",
       "      <td>2025-08-01 01:00:00</td>\n",
       "    </tr>\n",
       "    <tr>\n",
       "      <th>1</th>\n",
       "      <td>8</td>\n",
       "      <td>Brezno</td>\n",
       "      <td>10.9</td>\n",
       "      <td>JV</td>\n",
       "      <td>1</td>\n",
       "      <td>NaN</td>\n",
       "      <td>1016.1</td>\n",
       "      <td>NaN</td>\n",
       "      <td>NaN</td>\n",
       "      <td>NaN</td>\n",
       "      <td>01.08.2025</td>\n",
       "      <td>02:00</td>\n",
       "      <td>2025-08-01 02:00:00</td>\n",
       "    </tr>\n",
       "    <tr>\n",
       "      <th>2</th>\n",
       "      <td>8</td>\n",
       "      <td>Brezno</td>\n",
       "      <td>10.0</td>\n",
       "      <td>V</td>\n",
       "      <td>1</td>\n",
       "      <td>NaN</td>\n",
       "      <td>1016.4</td>\n",
       "      <td>NaN</td>\n",
       "      <td>NaN</td>\n",
       "      <td>NaN</td>\n",
       "      <td>01.08.2025</td>\n",
       "      <td>03:00</td>\n",
       "      <td>2025-08-01 03:00:00</td>\n",
       "    </tr>\n",
       "    <tr>\n",
       "      <th>3</th>\n",
       "      <td>8</td>\n",
       "      <td>Brezno</td>\n",
       "      <td>9.8</td>\n",
       "      <td>BEZV</td>\n",
       "      <td>0</td>\n",
       "      <td>NaN</td>\n",
       "      <td>1016.3</td>\n",
       "      <td>NaN</td>\n",
       "      <td>NaN</td>\n",
       "      <td>NaN</td>\n",
       "      <td>01.08.2025</td>\n",
       "      <td>04:00</td>\n",
       "      <td>2025-08-01 04:00:00</td>\n",
       "    </tr>\n",
       "    <tr>\n",
       "      <th>4</th>\n",
       "      <td>8</td>\n",
       "      <td>Brezno</td>\n",
       "      <td>8.9</td>\n",
       "      <td>BEZV</td>\n",
       "      <td>0</td>\n",
       "      <td>NaN</td>\n",
       "      <td>1016.5</td>\n",
       "      <td>NaN</td>\n",
       "      <td>NaN</td>\n",
       "      <td>NaN</td>\n",
       "      <td>01.08.2025</td>\n",
       "      <td>05:00</td>\n",
       "      <td>2025-08-01 05:00:00</td>\n",
       "    </tr>\n",
       "  </tbody>\n",
       "</table>\n",
       "</div>"
      ],
      "text/plain": [
       "   Unnamed: 0 Stanica  Teplota  Smer  Rýchlosť  Nárazy    Tlak  Oblačnosť  \\\n",
       "0           8  Brezno     10.9    JV         1     NaN  1016.2        NaN   \n",
       "1           8  Brezno     10.9    JV         1     NaN  1016.1        NaN   \n",
       "2           8  Brezno     10.0     V         1     NaN  1016.4        NaN   \n",
       "3           8  Brezno      9.8  BEZV         0     NaN  1016.3        NaN   \n",
       "4           8  Brezno      8.9  BEZV         0     NaN  1016.5        NaN   \n",
       "\n",
       "   Počasie  Graf       Datum    Čas            datetime  \n",
       "0      NaN   NaN  01.08.2025  01:00 2025-08-01 01:00:00  \n",
       "1      NaN   NaN  01.08.2025  02:00 2025-08-01 02:00:00  \n",
       "2      NaN   NaN  01.08.2025  03:00 2025-08-01 03:00:00  \n",
       "3      NaN   NaN  01.08.2025  04:00 2025-08-01 04:00:00  \n",
       "4      NaN   NaN  01.08.2025  05:00 2025-08-01 05:00:00  "
      ]
     },
     "execution_count": 79,
     "metadata": {},
     "output_type": "execute_result"
    }
   ],
   "source": [
    "df"
   ]
  },
  {
   "cell_type": "code",
   "execution_count": 77,
   "id": "689f1e7b",
   "metadata": {},
   "outputs": [
    {
     "data": {
      "text/plain": [
       "Tlak\n",
       "1016.2    Brezno\n",
       "1016.1    Brezno\n",
       "1016.4    Brezno\n",
       "1016.3    Brezno\n",
       "1016.5    Brezno\n",
       "Name: Stanica, dtype: object"
      ]
     },
     "execution_count": 77,
     "metadata": {},
     "output_type": "execute_result"
    }
   ],
   "source": [
    "df['Stanica']"
   ]
  },
  {
   "cell_type": "code",
   "execution_count": 81,
   "id": "2ccadbea",
   "metadata": {},
   "outputs": [
    {
     "data": {
      "text/html": [
       "<div>\n",
       "<style scoped>\n",
       "    .dataframe tbody tr th:only-of-type {\n",
       "        vertical-align: middle;\n",
       "    }\n",
       "\n",
       "    .dataframe tbody tr th {\n",
       "        vertical-align: top;\n",
       "    }\n",
       "\n",
       "    .dataframe thead th {\n",
       "        text-align: right;\n",
       "    }\n",
       "</style>\n",
       "<table border=\"1\" class=\"dataframe\">\n",
       "  <thead>\n",
       "    <tr style=\"text-align: right;\">\n",
       "      <th></th>\n",
       "      <th>Unnamed: 0</th>\n",
       "      <th>Stanica</th>\n",
       "      <th>Teplota</th>\n",
       "      <th>Smer</th>\n",
       "      <th>Rýchlosť</th>\n",
       "      <th>Nárazy</th>\n",
       "      <th>Tlak</th>\n",
       "      <th>Oblačnosť</th>\n",
       "      <th>Počasie</th>\n",
       "      <th>Graf</th>\n",
       "      <th>Datum</th>\n",
       "      <th>Čas</th>\n",
       "      <th>datetime</th>\n",
       "    </tr>\n",
       "  </thead>\n",
       "  <tbody>\n",
       "    <tr>\n",
       "      <th>0</th>\n",
       "      <td>8</td>\n",
       "      <td>Brezno</td>\n",
       "      <td>10.9</td>\n",
       "      <td>JV</td>\n",
       "      <td>1</td>\n",
       "      <td>NaN</td>\n",
       "      <td>1016.2</td>\n",
       "      <td>NaN</td>\n",
       "      <td>NaN</td>\n",
       "      <td>NaN</td>\n",
       "      <td>01.08.2025</td>\n",
       "      <td>01:00</td>\n",
       "      <td>2025-08-01 01:00:00</td>\n",
       "    </tr>\n",
       "    <tr>\n",
       "      <th>1</th>\n",
       "      <td>8</td>\n",
       "      <td>Brezno</td>\n",
       "      <td>10.9</td>\n",
       "      <td>JV</td>\n",
       "      <td>1</td>\n",
       "      <td>NaN</td>\n",
       "      <td>1016.1</td>\n",
       "      <td>NaN</td>\n",
       "      <td>NaN</td>\n",
       "      <td>NaN</td>\n",
       "      <td>01.08.2025</td>\n",
       "      <td>02:00</td>\n",
       "      <td>2025-08-01 02:00:00</td>\n",
       "    </tr>\n",
       "    <tr>\n",
       "      <th>2</th>\n",
       "      <td>8</td>\n",
       "      <td>Brezno</td>\n",
       "      <td>10.0</td>\n",
       "      <td>V</td>\n",
       "      <td>1</td>\n",
       "      <td>NaN</td>\n",
       "      <td>1016.4</td>\n",
       "      <td>NaN</td>\n",
       "      <td>NaN</td>\n",
       "      <td>NaN</td>\n",
       "      <td>01.08.2025</td>\n",
       "      <td>03:00</td>\n",
       "      <td>2025-08-01 03:00:00</td>\n",
       "    </tr>\n",
       "    <tr>\n",
       "      <th>3</th>\n",
       "      <td>8</td>\n",
       "      <td>Brezno</td>\n",
       "      <td>9.8</td>\n",
       "      <td>BEZV</td>\n",
       "      <td>0</td>\n",
       "      <td>NaN</td>\n",
       "      <td>1016.3</td>\n",
       "      <td>NaN</td>\n",
       "      <td>NaN</td>\n",
       "      <td>NaN</td>\n",
       "      <td>01.08.2025</td>\n",
       "      <td>04:00</td>\n",
       "      <td>2025-08-01 04:00:00</td>\n",
       "    </tr>\n",
       "    <tr>\n",
       "      <th>4</th>\n",
       "      <td>8</td>\n",
       "      <td>Brezno</td>\n",
       "      <td>8.9</td>\n",
       "      <td>BEZV</td>\n",
       "      <td>0</td>\n",
       "      <td>NaN</td>\n",
       "      <td>1016.5</td>\n",
       "      <td>NaN</td>\n",
       "      <td>NaN</td>\n",
       "      <td>NaN</td>\n",
       "      <td>01.08.2025</td>\n",
       "      <td>05:00</td>\n",
       "      <td>2025-08-01 05:00:00</td>\n",
       "    </tr>\n",
       "  </tbody>\n",
       "</table>\n",
       "</div>"
      ],
      "text/plain": [
       "   Unnamed: 0 Stanica  Teplota  Smer  Rýchlosť  Nárazy    Tlak  Oblačnosť  \\\n",
       "0           8  Brezno     10.9    JV         1     NaN  1016.2        NaN   \n",
       "1           8  Brezno     10.9    JV         1     NaN  1016.1        NaN   \n",
       "2           8  Brezno     10.0     V         1     NaN  1016.4        NaN   \n",
       "3           8  Brezno      9.8  BEZV         0     NaN  1016.3        NaN   \n",
       "4           8  Brezno      8.9  BEZV         0     NaN  1016.5        NaN   \n",
       "\n",
       "   Počasie  Graf       Datum    Čas            datetime  \n",
       "0      NaN   NaN  01.08.2025  01:00 2025-08-01 01:00:00  \n",
       "1      NaN   NaN  01.08.2025  02:00 2025-08-01 02:00:00  \n",
       "2      NaN   NaN  01.08.2025  03:00 2025-08-01 03:00:00  \n",
       "3      NaN   NaN  01.08.2025  04:00 2025-08-01 04:00:00  \n",
       "4      NaN   NaN  01.08.2025  05:00 2025-08-01 05:00:00  "
      ]
     },
     "execution_count": 81,
     "metadata": {},
     "output_type": "execute_result"
    }
   ],
   "source": [
    "df"
   ]
  },
  {
   "cell_type": "code",
   "execution_count": 84,
   "id": "f1d718da",
   "metadata": {},
   "outputs": [
    {
     "data": {
      "text/plain": [
       "Unnamed: 0                      8\n",
       "Stanica                    Brezno\n",
       "Teplota                      10.9\n",
       "Smer                           JV\n",
       "Rýchlosť                        1\n",
       "Nárazy                        NaN\n",
       "Tlak                       1016.2\n",
       "Oblačnosť                     NaN\n",
       "Počasie                       NaN\n",
       "Graf                          NaN\n",
       "Datum                  01.08.2025\n",
       "Čas                         01:00\n",
       "datetime      2025-08-01 01:00:00\n",
       "Name: 0, dtype: object"
      ]
     },
     "execution_count": 84,
     "metadata": {},
     "output_type": "execute_result"
    }
   ],
   "source": [
    "df.loc[0]"
   ]
  },
  {
   "cell_type": "code",
   "execution_count": null,
   "id": "b9b290ad",
   "metadata": {},
   "outputs": [
    {
     "data": {
      "text/html": [
       "<div>\n",
       "<style scoped>\n",
       "    .dataframe tbody tr th:only-of-type {\n",
       "        vertical-align: middle;\n",
       "    }\n",
       "\n",
       "    .dataframe tbody tr th {\n",
       "        vertical-align: top;\n",
       "    }\n",
       "\n",
       "    .dataframe thead th {\n",
       "        text-align: right;\n",
       "    }\n",
       "</style>\n",
       "<table border=\"1\" class=\"dataframe\">\n",
       "  <thead>\n",
       "    <tr style=\"text-align: right;\">\n",
       "      <th></th>\n",
       "      <th>Unnamed: 0</th>\n",
       "      <th>Stanica</th>\n",
       "      <th>Teplota</th>\n",
       "      <th>Smer</th>\n",
       "      <th>Rýchlosť</th>\n",
       "      <th>Nárazy</th>\n",
       "      <th>Tlak</th>\n",
       "      <th>Oblačnosť</th>\n",
       "      <th>Počasie</th>\n",
       "      <th>Graf</th>\n",
       "      <th>Datum</th>\n",
       "      <th>Čas</th>\n",
       "      <th>datetime</th>\n",
       "    </tr>\n",
       "  </thead>\n",
       "  <tbody>\n",
       "    <tr>\n",
       "      <th>0</th>\n",
       "      <td>8</td>\n",
       "      <td>Brezno</td>\n",
       "      <td>10.9</td>\n",
       "      <td>JV</td>\n",
       "      <td>1</td>\n",
       "      <td>NaN</td>\n",
       "      <td>1016.2</td>\n",
       "      <td>NaN</td>\n",
       "      <td>NaN</td>\n",
       "      <td>NaN</td>\n",
       "      <td>01.08.2025</td>\n",
       "      <td>01:00</td>\n",
       "      <td>2025-08-01 01:00:00</td>\n",
       "    </tr>\n",
       "    <tr>\n",
       "      <th>1</th>\n",
       "      <td>8</td>\n",
       "      <td>Brezno</td>\n",
       "      <td>10.9</td>\n",
       "      <td>JV</td>\n",
       "      <td>1</td>\n",
       "      <td>NaN</td>\n",
       "      <td>1016.1</td>\n",
       "      <td>NaN</td>\n",
       "      <td>NaN</td>\n",
       "      <td>NaN</td>\n",
       "      <td>01.08.2025</td>\n",
       "      <td>02:00</td>\n",
       "      <td>2025-08-01 02:00:00</td>\n",
       "    </tr>\n",
       "    <tr>\n",
       "      <th>2</th>\n",
       "      <td>8</td>\n",
       "      <td>Brezno</td>\n",
       "      <td>10.0</td>\n",
       "      <td>V</td>\n",
       "      <td>1</td>\n",
       "      <td>NaN</td>\n",
       "      <td>1016.4</td>\n",
       "      <td>NaN</td>\n",
       "      <td>NaN</td>\n",
       "      <td>NaN</td>\n",
       "      <td>01.08.2025</td>\n",
       "      <td>03:00</td>\n",
       "      <td>2025-08-01 03:00:00</td>\n",
       "    </tr>\n",
       "    <tr>\n",
       "      <th>3</th>\n",
       "      <td>8</td>\n",
       "      <td>Brezno</td>\n",
       "      <td>9.8</td>\n",
       "      <td>BEZV</td>\n",
       "      <td>0</td>\n",
       "      <td>NaN</td>\n",
       "      <td>1016.3</td>\n",
       "      <td>NaN</td>\n",
       "      <td>NaN</td>\n",
       "      <td>NaN</td>\n",
       "      <td>01.08.2025</td>\n",
       "      <td>04:00</td>\n",
       "      <td>2025-08-01 04:00:00</td>\n",
       "    </tr>\n",
       "  </tbody>\n",
       "</table>\n",
       "</div>"
      ],
      "text/plain": [
       "   Unnamed: 0 Stanica  Teplota  Smer  Rýchlosť  Nárazy    Tlak  Oblačnosť  \\\n",
       "0           8  Brezno     10.9    JV         1     NaN  1016.2        NaN   \n",
       "1           8  Brezno     10.9    JV         1     NaN  1016.1        NaN   \n",
       "2           8  Brezno     10.0     V         1     NaN  1016.4        NaN   \n",
       "3           8  Brezno      9.8  BEZV         0     NaN  1016.3        NaN   \n",
       "\n",
       "   Počasie  Graf       Datum    Čas            datetime  \n",
       "0      NaN   NaN  01.08.2025  01:00 2025-08-01 01:00:00  \n",
       "1      NaN   NaN  01.08.2025  02:00 2025-08-01 02:00:00  \n",
       "2      NaN   NaN  01.08.2025  03:00 2025-08-01 03:00:00  \n",
       "3      NaN   NaN  01.08.2025  04:00 2025-08-01 04:00:00  "
      ]
     },
     "execution_count": 85,
     "metadata": {},
     "output_type": "execute_result"
    }
   ],
   "source": [
    "df.loc[0:3]\n"
   ]
  },
  {
   "cell_type": "code",
   "execution_count": 88,
   "id": "11002b4a",
   "metadata": {},
   "outputs": [
    {
     "data": {
      "text/plain": [
       "<bound method DataFrame.count of    Unnamed: 0 Stanica  Teplota Smer  Rýchlosť  Nárazy    Tlak  Oblačnosť  \\\n",
       "0           8  Brezno     10.9   JV         1     NaN  1016.2        NaN   \n",
       "1           8  Brezno     10.9   JV         1     NaN  1016.1        NaN   \n",
       "2           8  Brezno     10.0    V         1     NaN  1016.4        NaN   \n",
       "\n",
       "   Počasie  Graf       Datum    Čas            datetime  \n",
       "0      NaN   NaN  01.08.2025  01:00 2025-08-01 01:00:00  \n",
       "1      NaN   NaN  01.08.2025  02:00 2025-08-01 02:00:00  \n",
       "2      NaN   NaN  01.08.2025  03:00 2025-08-01 03:00:00  >"
      ]
     },
     "execution_count": 88,
     "metadata": {},
     "output_type": "execute_result"
    }
   ],
   "source": [
    "df.iloc[0:3].count"
   ]
  },
  {
   "cell_type": "code",
   "execution_count": 89,
   "id": "1b66667a",
   "metadata": {},
   "outputs": [
    {
     "data": {
      "text/plain": [
       "Unnamed: 0    5\n",
       "Stanica       5\n",
       "Teplota       5\n",
       "Smer          5\n",
       "Rýchlosť      5\n",
       "Nárazy        0\n",
       "Tlak          5\n",
       "Oblačnosť     0\n",
       "Počasie       0\n",
       "Graf          0\n",
       "Datum         5\n",
       "Čas           5\n",
       "datetime      5\n",
       "dtype: int64"
      ]
     },
     "execution_count": 89,
     "metadata": {},
     "output_type": "execute_result"
    }
   ],
   "source": [
    "df.count()"
   ]
  },
  {
   "cell_type": "code",
   "execution_count": 90,
   "id": "2bb5953a",
   "metadata": {},
   "outputs": [
    {
     "data": {
      "text/plain": [
       "Unnamed: 0    1\n",
       "Stanica       1\n",
       "Teplota       1\n",
       "Smer          1\n",
       "Rýchlosť      1\n",
       "Nárazy        1\n",
       "Tlak          1\n",
       "Oblačnosť     1\n",
       "Počasie       1\n",
       "Graf          1\n",
       "Datum         1\n",
       "Čas           1\n",
       "datetime      1\n",
       "Name: count, dtype: int64"
      ]
     },
     "execution_count": 90,
     "metadata": {},
     "output_type": "execute_result"
    }
   ],
   "source": [
    "df.columns.value_counts()"
   ]
  },
  {
   "cell_type": "code",
   "execution_count": 91,
   "id": "fc44cb84",
   "metadata": {},
   "outputs": [
    {
     "name": "stdout",
     "output_type": "stream",
     "text": [
      "<class 'pandas.core.frame.DataFrame'>\n",
      "RangeIndex: 5 entries, 0 to 4\n",
      "Data columns (total 13 columns):\n",
      " #   Column      Non-Null Count  Dtype         \n",
      "---  ------      --------------  -----         \n",
      " 0   Unnamed: 0  5 non-null      int64         \n",
      " 1   Stanica     5 non-null      object        \n",
      " 2   Teplota     5 non-null      float64       \n",
      " 3   Smer        5 non-null      object        \n",
      " 4   Rýchlosť    5 non-null      int64         \n",
      " 5   Nárazy      0 non-null      float64       \n",
      " 6   Tlak        5 non-null      float64       \n",
      " 7   Oblačnosť   0 non-null      float64       \n",
      " 8   Počasie     0 non-null      float64       \n",
      " 9   Graf        0 non-null      float64       \n",
      " 10  Datum       5 non-null      object        \n",
      " 11  Čas         5 non-null      object        \n",
      " 12  datetime    5 non-null      datetime64[ns]\n",
      "dtypes: datetime64[ns](1), float64(6), int64(2), object(4)\n",
      "memory usage: 652.0+ bytes\n"
     ]
    }
   ],
   "source": [
    "df.info()"
   ]
  },
  {
   "cell_type": "code",
   "execution_count": 93,
   "id": "11c9dc89",
   "metadata": {},
   "outputs": [
    {
     "data": {
      "text/plain": [
       "(5, 13)"
      ]
     },
     "execution_count": 93,
     "metadata": {},
     "output_type": "execute_result"
    }
   ],
   "source": [
    "df.shape"
   ]
  },
  {
   "cell_type": "code",
   "execution_count": 94,
   "id": "ed256462",
   "metadata": {},
   "outputs": [
    {
     "data": {
      "text/plain": [
       "2"
      ]
     },
     "execution_count": 94,
     "metadata": {},
     "output_type": "execute_result"
    }
   ],
   "source": [
    "df.ndim"
   ]
  },
  {
   "cell_type": "code",
   "execution_count": 95,
   "id": "f20de49f",
   "metadata": {},
   "outputs": [
    {
     "data": {
      "text/plain": [
       "array([[8, 'Brezno', 10.9, 'JV', 1, nan, 1016.2, nan, nan, nan,\n",
       "        '01.08.2025', '01:00', Timestamp('2025-08-01 01:00:00')],\n",
       "       [8, 'Brezno', 10.9, 'JV', 1, nan, 1016.1, nan, nan, nan,\n",
       "        '01.08.2025', '02:00', Timestamp('2025-08-01 02:00:00')],\n",
       "       [8, 'Brezno', 10.0, 'V', 1, nan, 1016.4, nan, nan, nan,\n",
       "        '01.08.2025', '03:00', Timestamp('2025-08-01 03:00:00')],\n",
       "       [8, 'Brezno', 9.8, 'BEZV', 0, nan, 1016.3, nan, nan, nan,\n",
       "        '01.08.2025', '04:00', Timestamp('2025-08-01 04:00:00')],\n",
       "       [8, 'Brezno', 8.9, 'BEZV', 0, nan, 1016.5, nan, nan, nan,\n",
       "        '01.08.2025', '05:00', Timestamp('2025-08-01 05:00:00')]],\n",
       "      dtype=object)"
      ]
     },
     "execution_count": 95,
     "metadata": {},
     "output_type": "execute_result"
    }
   ],
   "source": [
    "df.values"
   ]
  },
  {
   "cell_type": "code",
   "execution_count": 97,
   "id": "6113883b",
   "metadata": {},
   "outputs": [
    {
     "data": {
      "text/plain": [
       "0    1016.2\n",
       "1    1016.1\n",
       "2    1016.4\n",
       "3    1016.3\n",
       "4    1016.5\n",
       "Name: Tlak, dtype: float64"
      ]
     },
     "execution_count": 97,
     "metadata": {},
     "output_type": "execute_result"
    }
   ],
   "source": [
    "s = df.Tlak\n",
    "s"
   ]
  },
  {
   "cell_type": "code",
   "execution_count": 98,
   "id": "d5d5963f",
   "metadata": {},
   "outputs": [
    {
     "data": {
      "text/plain": [
       "0    1016.2\n",
       "1    1016.1\n",
       "2    1016.4\n",
       "Name: Tlak, dtype: float64"
      ]
     },
     "execution_count": 98,
     "metadata": {},
     "output_type": "execute_result"
    }
   ],
   "source": [
    "s[0:3]"
   ]
  },
  {
   "cell_type": "code",
   "execution_count": 99,
   "id": "a2ca6e87",
   "metadata": {},
   "outputs": [
    {
     "data": {
      "text/plain": [
       "pandas.core.series.Series"
      ]
     },
     "execution_count": 99,
     "metadata": {},
     "output_type": "execute_result"
    }
   ],
   "source": [
    "type(s)"
   ]
  },
  {
   "cell_type": "code",
   "execution_count": 102,
   "id": "62ecf422",
   "metadata": {},
   "outputs": [
    {
     "data": {
      "text/plain": [
       "np.float64(0.39999999999997726)"
      ]
     },
     "execution_count": 102,
     "metadata": {},
     "output_type": "execute_result"
    }
   ],
   "source": [
    "s.max() -s.min()"
   ]
  },
  {
   "cell_type": "code",
   "execution_count": 103,
   "id": "9895aa7c",
   "metadata": {},
   "outputs": [
    {
     "data": {
      "text/plain": [
       "0    2016.2\n",
       "1    2016.1\n",
       "2    2016.4\n",
       "3    2016.3\n",
       "4    2016.5\n",
       "Name: Tlak, dtype: float64"
      ]
     },
     "execution_count": 103,
     "metadata": {},
     "output_type": "execute_result"
    }
   ],
   "source": [
    "d = s+1000\n",
    "d"
   ]
  },
  {
   "cell_type": "code",
   "execution_count": 104,
   "id": "dd140701",
   "metadata": {},
   "outputs": [
    {
     "data": {
      "text/html": [
       "<div>\n",
       "<style scoped>\n",
       "    .dataframe tbody tr th:only-of-type {\n",
       "        vertical-align: middle;\n",
       "    }\n",
       "\n",
       "    .dataframe tbody tr th {\n",
       "        vertical-align: top;\n",
       "    }\n",
       "\n",
       "    .dataframe thead th {\n",
       "        text-align: right;\n",
       "    }\n",
       "</style>\n",
       "<table border=\"1\" class=\"dataframe\">\n",
       "  <thead>\n",
       "    <tr style=\"text-align: right;\">\n",
       "      <th></th>\n",
       "      <th>Unnamed: 0</th>\n",
       "      <th>Stanica</th>\n",
       "      <th>Teplota</th>\n",
       "      <th>Smer</th>\n",
       "      <th>Rýchlosť</th>\n",
       "      <th>Nárazy</th>\n",
       "      <th>Tlak</th>\n",
       "      <th>Oblačnosť</th>\n",
       "      <th>Počasie</th>\n",
       "      <th>Graf</th>\n",
       "      <th>Datum</th>\n",
       "      <th>Čas</th>\n",
       "      <th>datetime</th>\n",
       "    </tr>\n",
       "  </thead>\n",
       "  <tbody>\n",
       "    <tr>\n",
       "      <th>0</th>\n",
       "      <td>8</td>\n",
       "      <td>Brezno</td>\n",
       "      <td>10.9</td>\n",
       "      <td>JV</td>\n",
       "      <td>1</td>\n",
       "      <td>NaN</td>\n",
       "      <td>1016.2</td>\n",
       "      <td>NaN</td>\n",
       "      <td>NaN</td>\n",
       "      <td>NaN</td>\n",
       "      <td>01.08.2025</td>\n",
       "      <td>01:00</td>\n",
       "      <td>2025-08-01 01:00:00</td>\n",
       "    </tr>\n",
       "    <tr>\n",
       "      <th>1</th>\n",
       "      <td>8</td>\n",
       "      <td>Brezno</td>\n",
       "      <td>10.9</td>\n",
       "      <td>JV</td>\n",
       "      <td>1</td>\n",
       "      <td>NaN</td>\n",
       "      <td>1016.1</td>\n",
       "      <td>NaN</td>\n",
       "      <td>NaN</td>\n",
       "      <td>NaN</td>\n",
       "      <td>01.08.2025</td>\n",
       "      <td>02:00</td>\n",
       "      <td>2025-08-01 02:00:00</td>\n",
       "    </tr>\n",
       "    <tr>\n",
       "      <th>2</th>\n",
       "      <td>8</td>\n",
       "      <td>Brezno</td>\n",
       "      <td>10.0</td>\n",
       "      <td>V</td>\n",
       "      <td>1</td>\n",
       "      <td>NaN</td>\n",
       "      <td>1016.4</td>\n",
       "      <td>NaN</td>\n",
       "      <td>NaN</td>\n",
       "      <td>NaN</td>\n",
       "      <td>01.08.2025</td>\n",
       "      <td>03:00</td>\n",
       "      <td>2025-08-01 03:00:00</td>\n",
       "    </tr>\n",
       "    <tr>\n",
       "      <th>3</th>\n",
       "      <td>8</td>\n",
       "      <td>Brezno</td>\n",
       "      <td>9.8</td>\n",
       "      <td>BEZV</td>\n",
       "      <td>0</td>\n",
       "      <td>NaN</td>\n",
       "      <td>1016.3</td>\n",
       "      <td>NaN</td>\n",
       "      <td>NaN</td>\n",
       "      <td>NaN</td>\n",
       "      <td>01.08.2025</td>\n",
       "      <td>04:00</td>\n",
       "      <td>2025-08-01 04:00:00</td>\n",
       "    </tr>\n",
       "    <tr>\n",
       "      <th>4</th>\n",
       "      <td>8</td>\n",
       "      <td>Brezno</td>\n",
       "      <td>8.9</td>\n",
       "      <td>BEZV</td>\n",
       "      <td>0</td>\n",
       "      <td>NaN</td>\n",
       "      <td>1016.5</td>\n",
       "      <td>NaN</td>\n",
       "      <td>NaN</td>\n",
       "      <td>NaN</td>\n",
       "      <td>01.08.2025</td>\n",
       "      <td>05:00</td>\n",
       "      <td>2025-08-01 05:00:00</td>\n",
       "    </tr>\n",
       "  </tbody>\n",
       "</table>\n",
       "</div>"
      ],
      "text/plain": [
       "   Unnamed: 0 Stanica  Teplota  Smer  Rýchlosť  Nárazy    Tlak  Oblačnosť  \\\n",
       "0           8  Brezno     10.9    JV         1     NaN  1016.2        NaN   \n",
       "1           8  Brezno     10.9    JV         1     NaN  1016.1        NaN   \n",
       "2           8  Brezno     10.0     V         1     NaN  1016.4        NaN   \n",
       "3           8  Brezno      9.8  BEZV         0     NaN  1016.3        NaN   \n",
       "4           8  Brezno      8.9  BEZV         0     NaN  1016.5        NaN   \n",
       "\n",
       "   Počasie  Graf       Datum    Čas            datetime  \n",
       "0      NaN   NaN  01.08.2025  01:00 2025-08-01 01:00:00  \n",
       "1      NaN   NaN  01.08.2025  02:00 2025-08-01 02:00:00  \n",
       "2      NaN   NaN  01.08.2025  03:00 2025-08-01 03:00:00  \n",
       "3      NaN   NaN  01.08.2025  04:00 2025-08-01 04:00:00  \n",
       "4      NaN   NaN  01.08.2025  05:00 2025-08-01 05:00:00  "
      ]
     },
     "execution_count": 104,
     "metadata": {},
     "output_type": "execute_result"
    }
   ],
   "source": [
    "df\n"
   ]
  },
  {
   "cell_type": "code",
   "execution_count": 108,
   "id": "cc52f6c3",
   "metadata": {},
   "outputs": [
    {
     "data": {
      "text/plain": [
       "['Unnamed: 0',\n",
       " 'Stanica',\n",
       " 'Teplota',\n",
       " 'Smer',\n",
       " 'Rýchlosť',\n",
       " 'Nárazy',\n",
       " 'Tlak',\n",
       " 'Oblačnosť',\n",
       " 'Počasie',\n",
       " 'Graf',\n",
       " 'Datum',\n",
       " 'Čas',\n",
       " 'datetime']"
      ]
     },
     "execution_count": 108,
     "metadata": {},
     "output_type": "execute_result"
    }
   ],
   "source": [
    "list(df.columns)"
   ]
  },
  {
   "cell_type": "code",
   "execution_count": 112,
   "id": "1c42fa96",
   "metadata": {},
   "outputs": [
    {
     "data": {
      "text/html": [
       "<div>\n",
       "<style scoped>\n",
       "    .dataframe tbody tr th:only-of-type {\n",
       "        vertical-align: middle;\n",
       "    }\n",
       "\n",
       "    .dataframe tbody tr th {\n",
       "        vertical-align: top;\n",
       "    }\n",
       "\n",
       "    .dataframe thead th {\n",
       "        text-align: right;\n",
       "    }\n",
       "</style>\n",
       "<table border=\"1\" class=\"dataframe\">\n",
       "  <thead>\n",
       "    <tr style=\"text-align: right;\">\n",
       "      <th></th>\n",
       "      <th>Teplota</th>\n",
       "      <th>Tlak</th>\n",
       "      <th>Stanica</th>\n",
       "    </tr>\n",
       "  </thead>\n",
       "  <tbody>\n",
       "    <tr>\n",
       "      <th>0</th>\n",
       "      <td>10.9</td>\n",
       "      <td>1016.2</td>\n",
       "      <td>Brezno</td>\n",
       "    </tr>\n",
       "    <tr>\n",
       "      <th>1</th>\n",
       "      <td>10.9</td>\n",
       "      <td>1016.1</td>\n",
       "      <td>Brezno</td>\n",
       "    </tr>\n",
       "    <tr>\n",
       "      <th>2</th>\n",
       "      <td>10.0</td>\n",
       "      <td>1016.4</td>\n",
       "      <td>Brezno</td>\n",
       "    </tr>\n",
       "    <tr>\n",
       "      <th>3</th>\n",
       "      <td>9.8</td>\n",
       "      <td>1016.3</td>\n",
       "      <td>Brezno</td>\n",
       "    </tr>\n",
       "    <tr>\n",
       "      <th>4</th>\n",
       "      <td>8.9</td>\n",
       "      <td>1016.5</td>\n",
       "      <td>Brezno</td>\n",
       "    </tr>\n",
       "  </tbody>\n",
       "</table>\n",
       "</div>"
      ],
      "text/plain": [
       "   Teplota    Tlak Stanica\n",
       "0     10.9  1016.2  Brezno\n",
       "1     10.9  1016.1  Brezno\n",
       "2     10.0  1016.4  Brezno\n",
       "3      9.8  1016.3  Brezno\n",
       "4      8.9  1016.5  Brezno"
      ]
     },
     "execution_count": 112,
     "metadata": {},
     "output_type": "execute_result"
    }
   ],
   "source": [
    "df[['Teplota','Tlak','Stanica']]"
   ]
  },
  {
   "cell_type": "code",
   "execution_count": 114,
   "id": "a27d5483",
   "metadata": {},
   "outputs": [
    {
     "data": {
      "text/html": [
       "<div>\n",
       "<style scoped>\n",
       "    .dataframe tbody tr th:only-of-type {\n",
       "        vertical-align: middle;\n",
       "    }\n",
       "\n",
       "    .dataframe tbody tr th {\n",
       "        vertical-align: top;\n",
       "    }\n",
       "\n",
       "    .dataframe thead th {\n",
       "        text-align: right;\n",
       "    }\n",
       "</style>\n",
       "<table border=\"1\" class=\"dataframe\">\n",
       "  <thead>\n",
       "    <tr style=\"text-align: right;\">\n",
       "      <th></th>\n",
       "      <th>Unnamed: 0</th>\n",
       "      <th>Stanica</th>\n",
       "      <th>Teplota</th>\n",
       "      <th>Smer</th>\n",
       "      <th>Rýchlosť</th>\n",
       "      <th>Nárazy</th>\n",
       "      <th>Tlak</th>\n",
       "      <th>Oblačnosť</th>\n",
       "      <th>Počasie</th>\n",
       "      <th>Graf</th>\n",
       "      <th>Datum</th>\n",
       "      <th>Čas</th>\n",
       "      <th>datetime</th>\n",
       "    </tr>\n",
       "  </thead>\n",
       "  <tbody>\n",
       "    <tr>\n",
       "      <th>1</th>\n",
       "      <td>8</td>\n",
       "      <td>Brezno</td>\n",
       "      <td>10.9</td>\n",
       "      <td>JV</td>\n",
       "      <td>1</td>\n",
       "      <td>NaN</td>\n",
       "      <td>1016.1</td>\n",
       "      <td>NaN</td>\n",
       "      <td>NaN</td>\n",
       "      <td>NaN</td>\n",
       "      <td>01.08.2025</td>\n",
       "      <td>02:00</td>\n",
       "      <td>2025-08-01 02:00:00</td>\n",
       "    </tr>\n",
       "    <tr>\n",
       "      <th>2</th>\n",
       "      <td>8</td>\n",
       "      <td>Brezno</td>\n",
       "      <td>10.0</td>\n",
       "      <td>V</td>\n",
       "      <td>1</td>\n",
       "      <td>NaN</td>\n",
       "      <td>1016.4</td>\n",
       "      <td>NaN</td>\n",
       "      <td>NaN</td>\n",
       "      <td>NaN</td>\n",
       "      <td>01.08.2025</td>\n",
       "      <td>03:00</td>\n",
       "      <td>2025-08-01 03:00:00</td>\n",
       "    </tr>\n",
       "    <tr>\n",
       "      <th>3</th>\n",
       "      <td>8</td>\n",
       "      <td>Brezno</td>\n",
       "      <td>9.8</td>\n",
       "      <td>BEZV</td>\n",
       "      <td>0</td>\n",
       "      <td>NaN</td>\n",
       "      <td>1016.3</td>\n",
       "      <td>NaN</td>\n",
       "      <td>NaN</td>\n",
       "      <td>NaN</td>\n",
       "      <td>01.08.2025</td>\n",
       "      <td>04:00</td>\n",
       "      <td>2025-08-01 04:00:00</td>\n",
       "    </tr>\n",
       "  </tbody>\n",
       "</table>\n",
       "</div>"
      ],
      "text/plain": [
       "   Unnamed: 0 Stanica  Teplota  Smer  Rýchlosť  Nárazy    Tlak  Oblačnosť  \\\n",
       "1           8  Brezno     10.9    JV         1     NaN  1016.1        NaN   \n",
       "2           8  Brezno     10.0     V         1     NaN  1016.4        NaN   \n",
       "3           8  Brezno      9.8  BEZV         0     NaN  1016.3        NaN   \n",
       "\n",
       "   Počasie  Graf       Datum    Čas            datetime  \n",
       "1      NaN   NaN  01.08.2025  02:00 2025-08-01 02:00:00  \n",
       "2      NaN   NaN  01.08.2025  03:00 2025-08-01 03:00:00  \n",
       "3      NaN   NaN  01.08.2025  04:00 2025-08-01 04:00:00  "
      ]
     },
     "execution_count": 114,
     "metadata": {},
     "output_type": "execute_result"
    }
   ],
   "source": [
    "df.loc[1:3]"
   ]
  },
  {
   "cell_type": "code",
   "execution_count": 116,
   "id": "54190248",
   "metadata": {},
   "outputs": [
    {
     "data": {
      "text/html": [
       "<div>\n",
       "<style scoped>\n",
       "    .dataframe tbody tr th:only-of-type {\n",
       "        vertical-align: middle;\n",
       "    }\n",
       "\n",
       "    .dataframe tbody tr th {\n",
       "        vertical-align: top;\n",
       "    }\n",
       "\n",
       "    .dataframe thead th {\n",
       "        text-align: right;\n",
       "    }\n",
       "</style>\n",
       "<table border=\"1\" class=\"dataframe\">\n",
       "  <thead>\n",
       "    <tr style=\"text-align: right;\">\n",
       "      <th></th>\n",
       "      <th>Teplota</th>\n",
       "      <th>Tlak</th>\n",
       "      <th>Stanica</th>\n",
       "    </tr>\n",
       "  </thead>\n",
       "  <tbody>\n",
       "    <tr>\n",
       "      <th>0</th>\n",
       "      <td>10.9</td>\n",
       "      <td>1016.2</td>\n",
       "      <td>Brezno</td>\n",
       "    </tr>\n",
       "    <tr>\n",
       "      <th>1</th>\n",
       "      <td>10.9</td>\n",
       "      <td>1016.1</td>\n",
       "      <td>Brezno</td>\n",
       "    </tr>\n",
       "    <tr>\n",
       "      <th>4</th>\n",
       "      <td>8.9</td>\n",
       "      <td>1016.5</td>\n",
       "      <td>Brezno</td>\n",
       "    </tr>\n",
       "  </tbody>\n",
       "</table>\n",
       "</div>"
      ],
      "text/plain": [
       "   Teplota    Tlak Stanica\n",
       "0     10.9  1016.2  Brezno\n",
       "1     10.9  1016.1  Brezno\n",
       "4      8.9  1016.5  Brezno"
      ]
     },
     "execution_count": 116,
     "metadata": {},
     "output_type": "execute_result"
    }
   ],
   "source": [
    "df.loc[[0, 1, 4],['Teplota','Tlak','Stanica']]"
   ]
  },
  {
   "cell_type": "code",
   "execution_count": 117,
   "id": "4ece9ae8",
   "metadata": {},
   "outputs": [
    {
     "data": {
      "text/html": [
       "<div>\n",
       "<style scoped>\n",
       "    .dataframe tbody tr th:only-of-type {\n",
       "        vertical-align: middle;\n",
       "    }\n",
       "\n",
       "    .dataframe tbody tr th {\n",
       "        vertical-align: top;\n",
       "    }\n",
       "\n",
       "    .dataframe thead th {\n",
       "        text-align: right;\n",
       "    }\n",
       "</style>\n",
       "<table border=\"1\" class=\"dataframe\">\n",
       "  <thead>\n",
       "    <tr style=\"text-align: right;\">\n",
       "      <th></th>\n",
       "      <th>Unnamed: 0</th>\n",
       "      <th>Stanica</th>\n",
       "      <th>Rýchlosť</th>\n",
       "    </tr>\n",
       "  </thead>\n",
       "  <tbody>\n",
       "    <tr>\n",
       "      <th>0</th>\n",
       "      <td>8</td>\n",
       "      <td>Brezno</td>\n",
       "      <td>1</td>\n",
       "    </tr>\n",
       "    <tr>\n",
       "      <th>1</th>\n",
       "      <td>8</td>\n",
       "      <td>Brezno</td>\n",
       "      <td>1</td>\n",
       "    </tr>\n",
       "    <tr>\n",
       "      <th>4</th>\n",
       "      <td>8</td>\n",
       "      <td>Brezno</td>\n",
       "      <td>0</td>\n",
       "    </tr>\n",
       "  </tbody>\n",
       "</table>\n",
       "</div>"
      ],
      "text/plain": [
       "   Unnamed: 0 Stanica  Rýchlosť\n",
       "0           8  Brezno         1\n",
       "1           8  Brezno         1\n",
       "4           8  Brezno         0"
      ]
     },
     "execution_count": 117,
     "metadata": {},
     "output_type": "execute_result"
    }
   ],
   "source": [
    "df.iloc[[0, 1, 4],[0, 1, 4]]"
   ]
  },
  {
   "cell_type": "code",
   "execution_count": 127,
   "id": "b5cecee7",
   "metadata": {},
   "outputs": [
    {
     "name": "stdout",
     "output_type": "stream",
     "text": [
      "<class 'pandas.core.frame.DataFrame'>\n",
      "<class 'pandas.core.series.Series'>\n"
     ]
    }
   ],
   "source": [
    "fr = pd.DataFrame(np.arange(1, 51, 2).reshape(5,5), index = list('abcde'), columns=list('uvxyz'))\n",
    "print(type(fr[['x']]))\n",
    "print(type(fr['x']))\n"
   ]
  },
  {
   "cell_type": "code",
   "execution_count": 129,
   "id": "cb4bc0a2",
   "metadata": {},
   "outputs": [
    {
     "name": "stdout",
     "output_type": "stream",
     "text": [
      "<class 'pandas.core.frame.DataFrame'>\n",
      "Index: 5 entries, a to e\n",
      "Data columns (total 5 columns):\n",
      " #   Column  Non-Null Count  Dtype\n",
      "---  ------  --------------  -----\n",
      " 0   u       5 non-null      int64\n",
      " 1   v       5 non-null      int64\n",
      " 2   x       5 non-null      int64\n",
      " 3   y       5 non-null      int64\n",
      " 4   z       5 non-null      int64\n",
      "dtypes: int64(5)\n",
      "memory usage: 240.0+ bytes\n"
     ]
    }
   ],
   "source": [
    "fr.info()"
   ]
  },
  {
   "cell_type": "code",
   "execution_count": 130,
   "id": "8c1bb42a",
   "metadata": {},
   "outputs": [
    {
     "name": "stdout",
     "output_type": "stream",
     "text": [
      "<class 'pandas.core.frame.DataFrame'>\n",
      "Index: 5 entries, a to e\n",
      "Data columns (total 5 columns):\n",
      " #   Column  Non-Null Count  Dtype\n",
      "---  ------  --------------  -----\n",
      " 0   u       5 non-null      int16\n",
      " 1   v       5 non-null      int16\n",
      " 2   x       5 non-null      int16\n",
      " 3   y       5 non-null      int16\n",
      " 4   z       5 non-null      int16\n",
      "dtypes: int16(5)\n",
      "memory usage: 90.0+ bytes\n"
     ]
    }
   ],
   "source": [
    "fr32 = fr.astype('int16')\n",
    "fr32.info()"
   ]
  },
  {
   "cell_type": "code",
   "execution_count": 138,
   "id": "5a1fd9da",
   "metadata": {},
   "outputs": [
    {
     "data": {
      "text/html": [
       "<div>\n",
       "<style scoped>\n",
       "    .dataframe tbody tr th:only-of-type {\n",
       "        vertical-align: middle;\n",
       "    }\n",
       "\n",
       "    .dataframe tbody tr th {\n",
       "        vertical-align: top;\n",
       "    }\n",
       "\n",
       "    .dataframe thead th {\n",
       "        text-align: right;\n",
       "    }\n",
       "</style>\n",
       "<table border=\"1\" class=\"dataframe\">\n",
       "  <thead>\n",
       "    <tr style=\"text-align: right;\">\n",
       "      <th></th>\n",
       "      <th>xxx</th>\n",
       "      <th>y</th>\n",
       "      <th>zzz</th>\n",
       "      <th>u</th>\n",
       "      <th>v</th>\n",
       "    </tr>\n",
       "  </thead>\n",
       "  <tbody>\n",
       "    <tr>\n",
       "      <th>a</th>\n",
       "      <td>1</td>\n",
       "      <td>3</td>\n",
       "      <td>5</td>\n",
       "      <td>7</td>\n",
       "      <td>9</td>\n",
       "    </tr>\n",
       "    <tr>\n",
       "      <th>b</th>\n",
       "      <td>11</td>\n",
       "      <td>13</td>\n",
       "      <td>15</td>\n",
       "      <td>17</td>\n",
       "      <td>19</td>\n",
       "    </tr>\n",
       "    <tr>\n",
       "      <th>c</th>\n",
       "      <td>21</td>\n",
       "      <td>23</td>\n",
       "      <td>25</td>\n",
       "      <td>27</td>\n",
       "      <td>29</td>\n",
       "    </tr>\n",
       "    <tr>\n",
       "      <th>d</th>\n",
       "      <td>31</td>\n",
       "      <td>33</td>\n",
       "      <td>35</td>\n",
       "      <td>37</td>\n",
       "      <td>39</td>\n",
       "    </tr>\n",
       "    <tr>\n",
       "      <th>e</th>\n",
       "      <td>41</td>\n",
       "      <td>43</td>\n",
       "      <td>45</td>\n",
       "      <td>47</td>\n",
       "      <td>49</td>\n",
       "    </tr>\n",
       "  </tbody>\n",
       "</table>\n",
       "</div>"
      ],
      "text/plain": [
       "   xxx   y  zzz   u   v\n",
       "a    1   3    5   7   9\n",
       "b   11  13   15  17  19\n",
       "c   21  23   25  27  29\n",
       "d   31  33   35  37  39\n",
       "e   41  43   45  47  49"
      ]
     },
     "execution_count": 138,
     "metadata": {},
     "output_type": "execute_result"
    }
   ],
   "source": [
    "type(fr.columns[0])\n",
    "fr.columns = ['x', 'y', 'zzz', 'u', 'v']\n",
    "fr = fr.rename(columns = {'x' : 'xxx'})\n",
    "fr"
   ]
  },
  {
   "cell_type": "code",
   "execution_count": null,
   "id": "2c8be949",
   "metadata": {},
   "outputs": [],
   "source": []
  },
  {
   "cell_type": "code",
   "execution_count": null,
   "id": "f6418d0c",
   "metadata": {},
   "outputs": [],
   "source": []
  },
  {
   "cell_type": "code",
   "execution_count": null,
   "id": "b1eb5a1a",
   "metadata": {},
   "outputs": [],
   "source": [
    "df = df.rename(columns={'Teplota': 'Teplota_C'})"
   ]
  }
 ],
 "metadata": {
  "kernelspec": {
   "display_name": ".venv (3.11.2)",
   "language": "python",
   "name": "python3"
  },
  "language_info": {
   "codemirror_mode": {
    "name": "ipython",
    "version": 3
   },
   "file_extension": ".py",
   "mimetype": "text/x-python",
   "name": "python",
   "nbconvert_exporter": "python",
   "pygments_lexer": "ipython3",
   "version": "3.11.2"
  }
 },
 "nbformat": 4,
 "nbformat_minor": 5
}
