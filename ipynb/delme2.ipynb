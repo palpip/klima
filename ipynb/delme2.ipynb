{
 "cells": [
  {
   "cell_type": "markdown",
   "id": "7efb55cb",
   "metadata": {},
   "source": [
    "## Test na categories.\n",
    "Overit, ci pri spojeni dvoch dataframov s nerovnakymi kategorickymi datami si Pandas poradi"
   ]
  },
  {
   "cell_type": "code",
   "execution_count": 72,
   "id": "1aa316ff",
   "metadata": {},
   "outputs": [
    {
     "name": "stdout",
     "output_type": "stream",
     "text": [
      "    A  B\n",
      "6   b  4\n",
      "7   c  5\n",
      "9   b  4\n",
      "10  c  5\n",
      "RangeIndex(start=0, stop=2, step=1)\n",
      "    A  B\n",
      "0   a  1\n",
      "1   b  2\n",
      "2   c  3\n",
      "3   a  1\n",
      "4   b  2\n",
      "5   d  3\n",
      "6   b  4\n",
      "7   c  5\n",
      "8   d  6\n",
      "9   b  4\n",
      "10  c  5\n",
      "11  a  6\n",
      "    A  B\n",
      "0   a  1\n",
      "1   b  2\n",
      "2   c  3\n",
      "3   a  1\n",
      "4   b  2\n",
      "5   d  3\n",
      "6   b  4\n",
      "7   c  5\n",
      "8   d  6\n",
      "9   b  4\n",
      "10  c  5\n",
      "11  a  6\n",
      "///    A  B\n",
      "4  b  2\n",
      "   A  B\n",
      "0  a  1\n",
      "1  b  2\n",
      "   A  B\n",
      "0  a  1\n",
      "1  b  2\n",
      "2  c  3\n"
     ]
    }
   ],
   "source": [
    "#vytvorme dve dataframy s kategorickymi datami\n",
    "import pandas as pd\n",
    "import numpy as np\n",
    "df1 = pd.DataFrame({'A': pd.Categorical(['a', 'b', 'c', 'a', 'b', 'd']),\n",
    "                    'B': [1, 2, 3, 1, 2, 3]})\n",
    "df2 = pd.DataFrame({'A': pd.Categorical(['b', 'c', 'd','b', 'c', 'a']),\n",
    "                    'B': [4, 5, 6, 4, 5, 6]})\n",
    "#spojime ich\n",
    "df3 = pd.concat([df1, df2], ignore_index=True)\n",
    "\n",
    "df4 = df3.copy()\n",
    "# print(df4)\n",
    "df5 = df4.copy()\n",
    "df5.index = df5.A\n",
    "# print(df5)\n",
    "#Select rows where the index is 'a' or 'b'\n",
    "# print(df5.loc[df5.index.isin(['a', 'b'])])\n",
    "#Select rows where column 'A' is 'a' or 'b'\n",
    "# print(df5.loc[df5.A.isin(['a', 'b'])])\n",
    "#Select rows where column 'A' is less than 'c'\n",
    "# print(df5.loc[df5.A <'c']) error unorderable types: 'str' < 'int'\n",
    "df5.reset_index(inplace=True, drop=True)\n",
    "df5 = df5.sort_index()\n",
    "print(df5.loc[df5.B.isin([4, 5])])\n",
    "#Select rows by position\n",
    "print(df5.iloc[0:2].index)\n",
    "print(df5)\n",
    "#Reset the index to default integer index\n",
    "df5.reset_index(drop=True, inplace=True)\n",
    "print(df5)\n",
    "# Select rows where column 'A' is less than 'c'\n",
    "print('///', df5.iloc[df5.index == 4])\n",
    "#Select rows by position\n",
    "print(df5.iloc[0:2])\n",
    "#Select rows by label   \n",
    "print(df5.loc[0:2])\n",
    "\n",
    "\n",
    "\n",
    "\n",
    "\n",
    "\n",
    "\n",
    "\n"
   ]
  },
  {
   "cell_type": "markdown",
   "id": "002a7968",
   "metadata": {},
   "source": [
    "Znamenalo by to, ze vcera pri deleni niektore vypadli"
   ]
  },
  {
   "cell_type": "code",
   "execution_count": null,
   "id": "d6704e3d",
   "metadata": {},
   "outputs": [],
   "source": [
    "import pandas as pd\n",
    "import numpy as np\n",
    "df1 = pd.DataFrame(np.random.randn(5, 3), columns=['A', 'B', 'C'], index=['a', 'b', 'c', 'd', 'e'])\n",
    "print(df1)\n",
    "#reindexujeme s vyplnenim hodnotou 0\n",
    "df2 = df1.reindex([ 'b', 'c', 'd', 'e', 'f', 'g'], fill_value=0)\n",
    "df2"
   ]
  }
 ],
 "metadata": {
  "kernelspec": {
   "display_name": ".venv (3.11.2)",
   "language": "python",
   "name": "python3"
  },
  "language_info": {
   "codemirror_mode": {
    "name": "ipython",
    "version": 3
   },
   "file_extension": ".py",
   "mimetype": "text/x-python",
   "name": "python",
   "nbconvert_exporter": "python",
   "pygments_lexer": "ipython3",
   "version": "3.11.2"
  }
 },
 "nbformat": 4,
 "nbformat_minor": 5
}
