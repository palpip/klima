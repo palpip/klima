{
 "cells": [
  {
   "cell_type": "code",
   "execution_count": 183,
   "id": "d93e7ce1",
   "metadata": {},
   "outputs": [],
   "source": [
    "import pandas as pd\n",
    "import re\n",
    "import openpyxl\n",
    "import datetime\n",
    "import sqlite3\n",
    "import pyarrow as pa\n",
    "import pyarrow.parquet as pq\n",
    "from pathlib import Path\n",
    "import decimal\n",
    "\n",
    "import os\n",
    "import sys\n",
    "# SRC_DIR = r'/home/pp/program/jupyter/'\n",
    "sys.path.append(os.path.dirname(r'/home/pp/program/jupyter/'))\n",
    "from config import *\n",
    "\n",
    "# Replace 'your_file.parquet' with the path to your Parquet file\n",
    "df = pd.read_parquet(TEPLOTY_SK_DIR + 'teploty_sk.parquet'   )\n",
    "\n"
   ]
  },
  {
   "cell_type": "code",
   "execution_count": 184,
   "id": "59af033e",
   "metadata": {},
   "outputs": [
    {
     "name": "stdout",
     "output_type": "stream",
     "text": [
      "np.float64 1007760\n",
      "np.float64 2015520\n",
      "dp.float64 1133730\n",
      "dp.float64 2141490\n",
      "np.float32 503880\n",
      "np.float32 1511640\n",
      "pd.Float32 629850\n",
      "pd.Float32 1637610\n",
      "pd.Float32 503880\n",
      "pd.Float32 1511640\n"
     ]
    }
   ],
   "source": [
    "print('np.float64',df.Teplota.astype('float64').nbytes)\n",
    "print('np.float64', df.Teplota.astype('float64').memory_usage(deep=True))\n",
    "print('dp.float64',df.Teplota.astype('Float64').nbytes)\n",
    "print('dp.float64', df.Teplota.astype('Float64').memory_usage(deep=True))\n",
    "print('np.float32',df.Teplota.astype('float32').nbytes)\n",
    "print('np.float32', df.Teplota.astype('float32').memory_usage(deep=True))\n",
    "print('pd.Float32',df.Teplota.astype('Float32').nbytes)\n",
    "print('pd.Float32',df.Teplota.astype('Float32').memory_usage(deep=True))\n",
    "\n",
    "print('pd.Float32',df.Teplota.astype('float32[pyarrow]').nbytes)\n",
    "print('pd.Float32',df.Teplota.astype('float32[pyarrow]').memory_usage(deep=True))\n"
   ]
  },
  {
   "cell_type": "code",
   "execution_count": 185,
   "id": "97633d6c",
   "metadata": {},
   "outputs": [
    {
     "name": "stdout",
     "output_type": "stream",
     "text": [
      "<class 'pandas.core.series.Series'>\n",
      "Index: 125970 entries, 36 to 25\n",
      "Series name: Stanica\n",
      "Non-Null Count   Dtype \n",
      "--------------   ----- \n",
      "125970 non-null  object\n",
      "dtypes: object(1)\n",
      "memory usage: 1.9+ MB\n",
      "None\n",
      "pd.obj  1007760\n",
      "pd.obj  12392245\n",
      "pd.pd2  2068663\n",
      "pd.pd2  3076423\n",
      "pd.str  1007760\n",
      "pd.str  13697874\n",
      "categry 126834\n",
      "categry 1148945\n",
      "categar 127810\n",
      "categar 1139738\n"
     ]
    }
   ],
   "source": [
    "pyarr = pd.ArrowDtype(pa.string())\n",
    "\n",
    "print(df.Stanica.info())\n",
    "print('pd.obj ',df.Stanica.astype('object').nbytes)\n",
    "print('pd.obj ', df.Stanica.astype('object').memory_usage(deep=True))\n",
    "\n",
    "print('pd.pd2 ',df.Stanica.astype(pyarr).nbytes)\n",
    "print('pd.pd2 ', df.Stanica.astype(pyarr).memory_usage(deep=True))\n",
    "\n",
    "print('pd.str ',df.Stanica.astype('str').nbytes)\n",
    "print('pd.str ', df.Stanica.astype('str').memory_usage(deep=True))\n",
    "print('categry',df.Stanica.astype('category').nbytes)\n",
    "print('categry', df.Stanica.astype('category').memory_usage(deep=True))\n",
    "print('categar', df.Stanica.astype(pyarr).astype('category').nbytes)\n",
    "print('categar', df.Stanica.astype(pyarr).astype('category').memory_usage(deep=True))\n"
   ]
  },
  {
   "cell_type": "code",
   "execution_count": 186,
   "id": "c832f387",
   "metadata": {},
   "outputs": [
    {
     "name": "stdout",
     "output_type": "stream",
     "text": [
      "CategoricalIndex([                'Malý Javorník',\n",
      "                                         'Bzovík',\n",
      "                                         'Chopok',\n",
      "                                          'Čadca',\n",
      "                                         'Čaklov',\n",
      "                                'Červený Kláštor',\n",
      "                               'Dolné Plachtince',\n",
      "                                        'Dudince',\n",
      "                                      'Gabčíkovo',\n",
      "                                        'Gánovce',\n",
      "                  ...\n",
      "                  'Liptovský Mikuláš - Ondrašová',\n",
      "                               'Liptovský Hrádok',\n",
      "                                'Liptovská Osada',\n",
      "                                         'Liesek',\n",
      "                                        'Kuchyňa',\n",
      "                                 'Kremnické Bane',\n",
      "                              'Kráľova pri Senci',\n",
      "                            'Košice - Podhradová',\n",
      "                                       'Kamanová',\n",
      "                                         'Košice'],\n",
      "                 categories=[Banská Bystrica - Zelená, Banská Štiavnica, Bardejov, Beluša, ..., Žikava, Žilina, Žilina - Dolný Hričov, Žilina - letisko], ordered=False, dtype='category', name='Stanica', length=125970)\n",
      "Index(['Banská Bystrica - Zelená', 'Banská Štiavnica', 'Bardejov', 'Beluša',\n",
      "       'Boľkovce', 'Bratislava - Mlynská Dolina', 'Bratislava - letisko',\n",
      "       'Bratislava Ivanka', 'Bratislava Koliba', 'Brezno',\n",
      "       ...\n",
      "       'Štrbské pleso', 'Štós - kúpele', 'Švedlár', 'Želiezovce',\n",
      "       'Žiar nad Hronom', 'Žiharec', 'Žikava', 'Žilina',\n",
      "       'Žilina - Dolný Hričov', 'Žilina - letisko'],\n",
      "      dtype='string[pyarrow]', length=108)\n"
     ]
    },
    {
     "data": {
      "application/vnd.microsoft.datawrangler.viewer.v0+json": {
       "columns": [
        {
         "name": "Stanica",
         "rawType": "category",
         "type": "unknown"
        },
        {
         "name": "Teplota",
         "rawType": "float64",
         "type": "float"
        }
       ],
       "ref": "8a741752-2258-4960-b883-a3cc559104c2",
       "rows": [
        [
         "Brezno",
         "24.3"
        ],
        [
         "Brezno",
         "24.9"
        ],
        [
         "Brezno",
         "24.9"
        ],
        [
         "Brezno",
         "24.9"
        ],
        [
         "Brezno",
         "24.9"
        ],
        [
         "Brezno",
         "24.9"
        ],
        [
         "Brezno",
         "24.9"
        ],
        [
         "Brezno",
         "24.9"
        ],
        [
         "Brezno",
         "24.8"
        ],
        [
         "Brezno",
         "24.0"
        ],
        [
         "Brezno",
         "22.2"
        ],
        [
         "Brezno",
         "20.3"
        ],
        [
         "Brezno",
         "16.9"
        ],
        [
         "Brezno",
         "14.7"
        ],
        [
         "Brezno",
         "13.4"
        ],
        [
         "Brezno",
         "12.7"
        ],
        [
         "Brezno",
         "12.1"
        ],
        [
         "Brezno",
         "11.8"
        ],
        [
         "Brezno",
         "11.0"
        ],
        [
         "Brezno",
         "10.0"
        ],
        [
         "Brezno",
         "9.5"
        ],
        [
         "Brezno",
         "9.4"
        ],
        [
         "Brezno",
         "10.5"
        ],
        [
         "Brezno",
         "12.9"
        ],
        [
         "Brezno",
         "16.5"
        ],
        [
         "Brezno",
         "20.2"
        ],
        [
         "Brezno",
         "20.8"
        ],
        [
         "Brezno",
         "22.7"
        ],
        [
         "Brezno",
         "23.4"
        ],
        [
         "Brezno",
         "22.9"
        ],
        [
         "Brezno",
         "23.8"
        ],
        [
         "Brezno",
         "23.8"
        ],
        [
         "Brezno",
         "24.1"
        ],
        [
         "Brezno",
         "22.9"
        ],
        [
         "Brezno",
         "21.7"
        ],
        [
         "Brezno",
         "19.3"
        ],
        [
         "Brezno",
         "16.7"
        ],
        [
         "Brezno",
         "14.9"
        ],
        [
         "Brezno",
         "13.3"
        ],
        [
         "Brezno",
         "11.7"
        ],
        [
         "Brezno",
         "10.9"
        ],
        [
         "Brezno",
         "10.9"
        ],
        [
         "Brezno",
         "10.0"
        ],
        [
         "Brezno",
         "9.8"
        ],
        [
         "Brezno",
         "8.9"
        ],
        [
         "Brezno",
         "8.7"
        ],
        [
         "Brezno",
         "9.8"
        ],
        [
         "Brezno",
         "12.2"
        ],
        [
         "Brezno",
         "16.3"
        ],
        [
         "Brezno",
         "19.4"
        ]
       ],
       "shape": {
        "columns": 1,
        "rows": 2563
       }
      },
      "text/plain": [
       "Stanica\n",
       "Brezno     24.3\n",
       "Brezno     24.9\n",
       "Brezno     24.9\n",
       "Brezno     24.9\n",
       "Brezno     24.9\n",
       "           ... \n",
       "Roztoky    24.3\n",
       "Roztoky    23.1\n",
       "Roztoky    20.9\n",
       "Roztoky    19.6\n",
       "Roztoky    19.7\n",
       "Name: Teplota, Length: 2563, dtype: float64"
      ]
     },
     "execution_count": 186,
     "metadata": {},
     "output_type": "execute_result"
    }
   ],
   "source": [
    "yarr = pd.ArrowDtype(pa.string())\n",
    "dr = df.copy()\n",
    "dr['Stanica'] = dr.Stanica.astype(yarr).astype('category')\n",
    "dr.set_index('Stanica', inplace=True)\n",
    "print(dr.index)\n",
    "# dr.index=dr.Stanica\n",
    "print(dr.index.categories)\n",
    "\n",
    "dr.loc[['Brezno', 'Roztoky'],'Teplota']\n"
   ]
  },
  {
   "cell_type": "code",
   "execution_count": 187,
   "id": "d9c1eb4a",
   "metadata": {},
   "outputs": [
    {
     "name": "stdout",
     "output_type": "stream",
     "text": [
      "<class 'pandas.core.frame.DataFrame'>\n",
      "Index: 125970 entries, 36 to 25\n",
      "Data columns (total 11 columns):\n",
      " #   Column     Non-Null Count   Dtype         \n",
      "---  ------     --------------   -----         \n",
      " 0   Stanica    125970 non-null  object        \n",
      " 1   Teplota    125970 non-null  float64       \n",
      " 2   Smer       124560 non-null  object        \n",
      " 3   Rýchlosť   124178 non-null  float64       \n",
      " 4   Nárazy     1430 non-null    object        \n",
      " 5   Tlak       50849 non-null   float64       \n",
      " 6   Oblačnosť  19430 non-null   object        \n",
      " 7   Počasie    2703 non-null    object        \n",
      " 8   Graf       0 non-null       float64       \n",
      " 9   Cas_CET    125970 non-null  datetime64[us]\n",
      " 10  file       125970 non-null  object        \n",
      "dtypes: datetime64[us](1), float64(4), object(6)\n",
      "memory usage: 11.5+ MB\n"
     ]
    }
   ],
   "source": [
    "df.info()"
   ]
  },
  {
   "cell_type": "code",
   "execution_count": 196,
   "id": "d1477cdd",
   "metadata": {},
   "outputs": [
    {
     "name": "stdout",
     "output_type": "stream",
     "text": [
      "l1 len 108 {'Rimavská Sobota', 'Hurbanovo', 'Jaslovské Bohunice', 'Spišské Vlachy', 'Košice', 'Lomnický štít', 'Donovaly', 'Banská Bystrica - Zelená', 'Uhrovec', 'Vígľaš - Pstruša', 'Podbanské', 'Poprad', 'Veľké Lovce', 'Liptovský Mikuláš - Ondrašová', 'Kuchyňa - Nový Dvor', 'Kojsovská hoľa', 'Medzilaborce - Borov', 'Myjava', 'Oravský Podzámok', 'Liptovská Osada', 'Brezno', 'Kojšovská hoľa', 'Stará Lesná', 'Banská Štiavnica', 'Lom nad Rimavicou', 'Osadné', 'Žilina - Dolný Hričov', 'Liesek', 'Kuchyňa', 'Bzovík', 'Bratislava - Mlynská Dolina', 'Plaveč nad Popradom', 'Jakubovany', 'Rabča', 'Červený Kláštor', 'Kamanová', 'Moldava nad Bodvou', 'Turčianske Teplice', 'Trenčín', 'Revúca', 'Trebišov', 'Podolínec', 'Tisinec', 'Rožňava', 'Beluša', 'Žiar nad Hronom', 'Tatranská Javorina', 'Kráľova pri Senci', 'Štós - kúpele', 'Čadca', 'Švedlár', 'Chopok', 'Milhostov', 'Somotor', 'Slovenský Grob', 'Málinec', 'Turzovka', 'Kremnické Bane', 'Oravská Lesná', 'Vysoká nad Uhom', 'Boľkovce', 'Piešťany', 'Ružomberok', 'Košice - Podhradová', 'Gabčíkovo', 'Kamenica nad Cirochou', 'Telgárt', 'Mochovce', 'Želiezovce', 'Ratková', 'Malý Javorník', 'Martin - Žabokreky', 'Prievidza', 'Štrbské pleso', 'Bratislava - letisko', 'Roztoky', 'Michalovce', 'Bratislava Ivanka', 'Dolné Plachtince', 'Orechová', 'Žikava', 'Žilina', 'Bardejov', 'Dudince', 'Štrbské Pleso', 'Gánovce', 'Moravský Svätý Ján', 'Bratislava Koliba', 'Čaklov', 'Tatranská Lomnica', 'Žilina - letisko', 'Oravské Veselé', 'Mužla', 'Žiharec', 'Tatranská Polianka', 'Skalnaté pleso', 'Liptovský Hrádok', 'Sliač', 'Senica', 'Nitra', 'Nitra - Velké Janíkovce', 'Silica', 'Modra - Piesok', 'Lučenec - Boľkovce', 'Holíč', 'Zlatá Baňa', 'Prešov', 'Košice - letisko'}\n",
      "l2 len 108 {'Rimavská Sobota', 'Hurbanovo', 'Jaslovské Bohunice', 'Spišské Vlachy', 'Košice', 'Lomnický štít', 'Donovaly', 'Banská Bystrica - Zelená', 'Uhrovec', 'Vígľaš - Pstruša', 'Podbanské', 'Poprad', 'Veľké Lovce', 'Liptovský Mikuláš - Ondrašová', 'Kuchyňa - Nový Dvor', 'Kojsovská hoľa', 'Medzilaborce - Borov', 'Myjava', 'Oravský Podzámok', 'Liptovská Osada', 'Brezno', 'Kojšovská hoľa', 'Stará Lesná', 'Banská Štiavnica', 'Lom nad Rimavicou', 'Osadné', 'Žilina - Dolný Hričov', 'Liesek', 'Kuchyňa', 'Bzovík', 'Bratislava - Mlynská Dolina', 'Plaveč nad Popradom', 'Jakubovany', 'Rabča', 'Červený Kláštor', 'Kamanová', 'Moldava nad Bodvou', 'Turčianske Teplice', 'Trenčín', 'Revúca', 'Trebišov', 'Podolínec', 'Tisinec', 'Rožňava', 'Beluša', 'Žiar nad Hronom', 'Tatranská Javorina', 'Kráľova pri Senci', 'Štós - kúpele', 'Čadca', 'Švedlár', 'Chopok', 'Milhostov', 'Somotor', 'Slovenský Grob', 'Málinec', 'Turzovka', 'Kremnické Bane', 'Oravská Lesná', 'Vysoká nad Uhom', 'Boľkovce', 'Piešťany', 'Ružomberok', 'Košice - Podhradová', 'Gabčíkovo', 'Kamenica nad Cirochou', 'Telgárt', 'Mochovce', 'Želiezovce', 'Ratková', 'Malý Javorník', 'Martin - Žabokreky', 'Prievidza', 'Štrbské pleso', 'Bratislava - letisko', 'Roztoky', 'Michalovce', 'Bratislava Ivanka', 'Dolné Plachtince', 'Orechová', 'Žikava', 'Žilina', 'Bardejov', 'Dudince', 'Štrbské Pleso', 'Gánovce', 'Moravský Svätý Ján', 'Bratislava Koliba', 'Čaklov', 'Tatranská Lomnica', 'Žilina - letisko', 'Oravské Veselé', 'Mužla', 'Žiharec', 'Tatranská Polianka', 'Skalnaté pleso', 'Liptovský Hrádok', 'Sliač', 'Senica', 'Nitra', 'Nitra - Velké Janíkovce', 'Silica', 'Modra - Piesok', 'Lučenec - Boľkovce', 'Holíč', 'Zlatá Baňa', 'Prešov', 'Košice - letisko'}\n",
      "l1-l2 set()\n",
      "l2-l1 set()\n",
      "---\n",
      "\n",
      "\n",
      "df1 St  ['Malý Javorník' 'Bzovík' 'Chopok' 'Čadca' 'Čaklov' 'Červený Kláštor'\n",
      " 'Dolné Plachtince' 'Dudince' 'Gabčíkovo' 'Gánovce' 'Holíč' 'Hurbanovo'\n",
      " 'Jakubovany' 'Jaslovské Bohunice' 'Kamanová' 'Kamenica nad Cirochou'\n",
      " 'Kojšovská hoľa' 'Košice' 'Brezno' 'Košice - Podhradová'\n",
      " 'Bratislava Koliba' 'Bratislava - Mlynská Dolina' 'Trebišov' 'Tisinec'\n",
      " 'Telgárt' 'Tatranská Polianka' 'Tatranská Lomnica' 'Tatranská Javorina'\n",
      " 'Švedlár' 'Štrbské Pleso' 'Štós - kúpele' 'Stará Lesná' 'Spišské Vlachy'\n",
      " 'Somotor' 'Banská Bystrica - Zelená' 'Banská Štiavnica' 'Bardejov'\n",
      " 'Beluša' 'Boľkovce' 'Bratislava Ivanka' 'Kráľova pri Senci'\n",
      " 'Kremnické Bane' 'Kuchyňa' 'Osadné' 'Piešťany' 'Plaveč nad Popradom'\n",
      " 'Podbanské' 'Podolínec' 'Poprad' 'Prešov' 'Prievidza' 'Rabča' 'Ratková'\n",
      " 'Revúca' 'Rimavská Sobota' 'Roztoky' 'Rožňava' 'Ružomberok' 'Senica'\n",
      " 'Silica' 'Orechová' 'Oravský Podzámok' 'Oravské Veselé' 'Oravská Lesná'\n",
      " 'Liesek' 'Liptovská Osada' 'Liptovský Hrádok'\n",
      " 'Liptovský Mikuláš - Ondrašová' 'Lom nad Rimavicou' 'Lomnický štít'\n",
      " 'Slovenský Grob' 'Martin - Žabokreky' 'Trenčín' 'Málinec' 'Michalovce'\n",
      " 'Mochovce' 'Modra - Piesok' 'Moldava nad Bodvou' 'Moravský Svätý Ján'\n",
      " 'Mužla' 'Myjava' 'Nitra' 'Medzilaborce - Borov' 'Turčianske Teplice'\n",
      " 'Turzovka' 'Uhrovec' 'Skalnaté pleso' 'Žilina - letisko' 'Žilina'\n",
      " 'Žikava' 'Žiharec' 'Sliač' 'Zlatá Baňa' 'Vysoká nad Uhom'\n",
      " 'Vígľaš - Pstruša' 'Veľké Lovce' 'Žiar nad Hronom' 'Kojsovská hoľa'\n",
      " 'Žilina - Dolný Hričov' 'Štrbské pleso' 'Želiezovce' 'Donovaly'\n",
      " 'Košice - letisko' 'Lučenec - Boľkovce' 'Nitra - Velké Janíkovce'\n",
      " 'Bratislava - letisko'] Index(['Malý Javorník', 'Bzovík', 'Chopok', 'Čadca', 'Čaklov',\n",
      "       'Červený Kláštor', 'Dolné Plachtince', 'Dudince', 'Gabčíkovo',\n",
      "       'Gánovce',\n",
      "       ...\n",
      "       'Žiar nad Hronom', 'Kojsovská hoľa', 'Žilina - Dolný Hričov',\n",
      "       'Štrbské pleso', 'Želiezovce', 'Donovaly', 'Košice - letisko',\n",
      "       'Lučenec - Boľkovce', 'Nitra - Velké Janíkovce',\n",
      "       'Bratislava - letisko'],\n",
      "      dtype='object', name='Stanica', length=106)\n",
      "df2 St  ['Kamanová' 'Dolné Plachtince' 'Jaslovské Bohunice' 'Jakubovany'\n",
      " 'Hurbanovo' 'Holíč' 'Gánovce' 'Gabčíkovo' 'Dudince' 'Donovaly'\n",
      " 'Červený Kláštor' 'Bratislava Koliba' 'Čadca' 'Chopok' 'Bzovík' 'Brezno'\n",
      " 'Bratislava Ivanka' 'Bratislava - Mlynská Dolina' 'Boľkovce' 'Beluša'\n",
      " 'Bardejov' 'Banská Štiavnica' 'Kamenica nad Cirochou' 'Čaklov'\n",
      " 'Banská Bystrica - Zelená' 'Kojšovská hoľa' 'Košice - Podhradová'\n",
      " 'Tatranská Lomnica' 'Tatranská Javorina' 'Švedlár' 'Štrbské Pleso'\n",
      " 'Štós - kúpele' 'Spišské Vlachy' 'Tatranská Polianka' 'Somotor' 'Sliač'\n",
      " 'Skalnaté pleso' 'Silica' 'Senica' 'Ružomberok' 'Rožňava'\n",
      " 'Slovenský Grob' 'Telgárt' 'Tisinec' 'Trebišov' 'Košice'\n",
      " 'Žilina - letisko' 'Žilina' 'Žikava' 'Žiharec' 'Žiar nad Hronom'\n",
      " 'Želiezovce' 'Zlatá Baňa' 'Vysoká nad Uhom' 'Vígľaš - Pstruša'\n",
      " 'Veľké Lovce' 'Uhrovec' 'Turzovka' 'Turčianske Teplice' 'Trenčín'\n",
      " 'Roztoky' 'Rimavská Sobota' 'Stará Lesná' 'Ratková' 'Mochovce'\n",
      " 'Michalovce' 'Medzilaborce - Borov' 'Málinec' 'Martin - Žabokreky'\n",
      " 'Malý Javorník' 'Lomnický štít' 'Lom nad Rimavicou' 'Liptovský Hrádok'\n",
      " 'Liptovská Osada' 'Liesek' 'Kuchyňa' 'Kremnické Bane' 'Kráľova pri Senci'\n",
      " 'Revúca' 'Modra - Piesok' 'Moldava nad Bodvou'\n",
      " 'Liptovský Mikuláš - Ondrašová' 'Mužla' 'Prievidza' 'Rabča'\n",
      " 'Moravský Svätý Ján' 'Prešov' 'Poprad' 'Podbanské' 'Plaveč nad Popradom'\n",
      " 'Podolínec' 'Osadné' 'Orechová' 'Oravský Podzámok' 'Oravské Veselé'\n",
      " 'Myjava' 'Nitra' 'Piešťany' 'Oravská Lesná' 'Košice - letisko'\n",
      " 'Štrbské pleso' 'Milhostov' 'Bratislava - letisko' 'Kuchyňa - Nový Dvor'\n",
      " 'Lučenec - Boľkovce' 'Nitra - Velké Janíkovce'] Index(['Kamanová', 'Dolné Plachtince', 'Jaslovské Bohunice', 'Jakubovany',\n",
      "       'Hurbanovo', 'Holíč', 'Gánovce', 'Gabčíkovo', 'Dudince', 'Donovaly',\n",
      "       ...\n",
      "       'Nitra', 'Piešťany', 'Oravská Lesná', 'Košice - letisko',\n",
      "       'Štrbské pleso', 'Milhostov', 'Bratislava - letisko',\n",
      "       'Kuchyňa - Nový Dvor', 'Lučenec - Boľkovce', 'Nitra - Velké Janíkovce'],\n",
      "      dtype='object', name='Stanica', length=106)\n",
      "l1 len 106 {'Rimavská Sobota', 'Hurbanovo', 'Jaslovské Bohunice', 'Spišské Vlachy', 'Košice', 'Lomnický štít', 'Donovaly', 'Banská Bystrica - Zelená', 'Uhrovec', 'Vígľaš - Pstruša', 'Podbanské', 'Poprad', 'Veľké Lovce', 'Liptovský Mikuláš - Ondrašová', 'Kojsovská hoľa', 'Medzilaborce - Borov', 'Myjava', 'Oravský Podzámok', 'Liptovská Osada', 'Brezno', 'Kojšovská hoľa', 'Stará Lesná', 'Banská Štiavnica', 'Lom nad Rimavicou', 'Osadné', 'Žilina - Dolný Hričov', 'Liesek', 'Kuchyňa', 'Bzovík', 'Bratislava - Mlynská Dolina', 'Plaveč nad Popradom', 'Jakubovany', 'Rabča', 'Červený Kláštor', 'Kamanová', 'Moldava nad Bodvou', 'Turčianske Teplice', 'Trenčín', 'Revúca', 'Trebišov', 'Podolínec', 'Tisinec', 'Rožňava', 'Beluša', 'Žiar nad Hronom', 'Tatranská Javorina', 'Kráľova pri Senci', 'Štós - kúpele', 'Čadca', 'Švedlár', 'Chopok', 'Somotor', 'Slovenský Grob', 'Málinec', 'Turzovka', 'Kremnické Bane', 'Oravská Lesná', 'Vysoká nad Uhom', 'Boľkovce', 'Piešťany', 'Ružomberok', 'Košice - Podhradová', 'Gabčíkovo', 'Kamenica nad Cirochou', 'Telgárt', 'Mochovce', 'Želiezovce', 'Ratková', 'Malý Javorník', 'Martin - Žabokreky', 'Prievidza', 'Štrbské pleso', 'Bratislava - letisko', 'Roztoky', 'Michalovce', 'Bratislava Ivanka', 'Dolné Plachtince', 'Orechová', 'Žikava', 'Žilina', 'Bardejov', 'Dudince', 'Štrbské Pleso', 'Gánovce', 'Moravský Svätý Ján', 'Bratislava Koliba', 'Čaklov', 'Tatranská Lomnica', 'Žilina - letisko', 'Oravské Veselé', 'Mužla', 'Žiharec', 'Tatranská Polianka', 'Skalnaté pleso', 'Liptovský Hrádok', 'Sliač', 'Senica', 'Nitra', 'Nitra - Velké Janíkovce', 'Silica', 'Modra - Piesok', 'Lučenec - Boľkovce', 'Holíč', 'Zlatá Baňa', 'Prešov', 'Košice - letisko'}\n",
      "l2 len 106 {'Rimavská Sobota', 'Hurbanovo', 'Jaslovské Bohunice', 'Spišské Vlachy', 'Košice', 'Lomnický štít', 'Donovaly', 'Banská Bystrica - Zelená', 'Vígľaš - Pstruša', 'Uhrovec', 'Poprad', 'Veľké Lovce', 'Podbanské', 'Liptovský Mikuláš - Ondrašová', 'Kuchyňa - Nový Dvor', 'Medzilaborce - Borov', 'Myjava', 'Oravský Podzámok', 'Liptovská Osada', 'Brezno', 'Banská Štiavnica', 'Kojšovská hoľa', 'Stará Lesná', 'Lom nad Rimavicou', 'Osadné', 'Liesek', 'Kuchyňa', 'Bratislava - Mlynská Dolina', 'Bzovík', 'Plaveč nad Popradom', 'Jakubovany', 'Rabča', 'Červený Kláštor', 'Kamanová', 'Moldava nad Bodvou', 'Turčianske Teplice', 'Trenčín', 'Revúca', 'Trebišov', 'Podolínec', 'Tisinec', 'Rožňava', 'Beluša', 'Žiar nad Hronom', 'Tatranská Javorina', 'Štós - kúpele', 'Chopok', 'Čadca', 'Švedlár', 'Kráľova pri Senci', 'Milhostov', 'Somotor', 'Slovenský Grob', 'Málinec', 'Turzovka', 'Kremnické Bane', 'Oravská Lesná', 'Vysoká nad Uhom', 'Boľkovce', 'Piešťany', 'Ružomberok', 'Košice - Podhradová', 'Gabčíkovo', 'Kamenica nad Cirochou', 'Telgárt', 'Želiezovce', 'Mochovce', 'Ratková', 'Malý Javorník', 'Martin - Žabokreky', 'Prievidza', 'Štrbské pleso', 'Bratislava - letisko', 'Roztoky', 'Michalovce', 'Bratislava Ivanka', 'Dolné Plachtince', 'Žikava', 'Orechová', 'Žilina', 'Bardejov', 'Dudince', 'Štrbské Pleso', 'Gánovce', 'Moravský Svätý Ján', 'Bratislava Koliba', 'Čaklov', 'Tatranská Lomnica', 'Žilina - letisko', 'Žiharec', 'Mužla', 'Oravské Veselé', 'Tatranská Polianka', 'Skalnaté pleso', 'Liptovský Hrádok', 'Sliač', 'Senica', 'Nitra', 'Nitra - Velké Janíkovce', 'Silica', 'Modra - Piesok', 'Lučenec - Boľkovce', 'Holíč', 'Zlatá Baňa', 'Prešov', 'Košice - letisko'}\n",
      "l1-l2 {'Žilina - Dolný Hričov', 'Kojsovská hoľa'}\n",
      "l2-l1 {'Milhostov', 'Kuchyňa - Nový Dvor'}\n",
      "l3 len 108 {'Rimavská Sobota', 'Hurbanovo', 'Jaslovské Bohunice', 'Spišské Vlachy', 'Košice', 'Lomnický štít', 'Donovaly', 'Banská Bystrica - Zelená', 'Uhrovec', 'Vígľaš - Pstruša', 'Podbanské', 'Poprad', 'Veľké Lovce', 'Liptovský Mikuláš - Ondrašová', 'Kuchyňa - Nový Dvor', 'Kojsovská hoľa', 'Medzilaborce - Borov', 'Myjava', 'Oravský Podzámok', 'Liptovská Osada', 'Brezno', 'Kojšovská hoľa', 'Stará Lesná', 'Banská Štiavnica', 'Lom nad Rimavicou', 'Osadné', 'Žilina - Dolný Hričov', 'Liesek', 'Kuchyňa', 'Bzovík', 'Bratislava - Mlynská Dolina', 'Plaveč nad Popradom', 'Jakubovany', 'Rabča', 'Červený Kláštor', 'Kamanová', 'Moldava nad Bodvou', 'Turčianske Teplice', 'Trenčín', 'Revúca', 'Trebišov', 'Podolínec', 'Tisinec', 'Rožňava', 'Beluša', 'Žiar nad Hronom', 'Tatranská Javorina', 'Štós - kúpele', 'Kráľova pri Senci', 'Čadca', 'Švedlár', 'Chopok', 'Milhostov', 'Somotor', 'Slovenský Grob', 'Málinec', 'Turzovka', 'Kremnické Bane', 'Oravská Lesná', 'Vysoká nad Uhom', 'Boľkovce', 'Piešťany', 'Ružomberok', 'Košice - Podhradová', 'Gabčíkovo', 'Kamenica nad Cirochou', 'Telgárt', 'Mochovce', 'Želiezovce', 'Ratková', 'Malý Javorník', 'Martin - Žabokreky', 'Prievidza', 'Štrbské pleso', 'Bratislava - letisko', 'Roztoky', 'Michalovce', 'Bratislava Ivanka', 'Dolné Plachtince', 'Orechová', 'Žikava', 'Žilina', 'Bardejov', 'Dudince', 'Štrbské Pleso', 'Gánovce', 'Moravský Svätý Ján', 'Bratislava Koliba', 'Čaklov', 'Tatranská Lomnica', 'Žilina - letisko', 'Oravské Veselé', 'Mužla', 'Žiharec', 'Tatranská Polianka', 'Skalnaté pleso', 'Liptovský Hrádok', 'Sliač', 'Senica', 'Nitra', 'Nitra - Velké Janíkovce', 'Silica', 'Modra - Piesok', 'Lučenec - Boľkovce', 'Holíč', 'Zlatá Baňa', 'Prešov', 'Košice - letisko'}\n",
      "---\n",
      "76624 49346 125970 True\n",
      "                                     Stanica  Teplota  Smer  Rýchlosť Nárazy  \\\n",
      "Stanica                                                                        \n",
      "Žilina - Dolný Hričov  Žilina - Dolný Hričov     19.1    SZ       1.0   None   \n",
      "Žilina - Dolný Hričov  Žilina - Dolný Hričov     19.8  PREM       1.0   None   \n",
      "Žilina - Dolný Hričov  Žilina - Dolný Hričov     23.9  PREM       1.0   None   \n",
      "\n",
      "                         Tlak         Oblačnosť Počasie  Graf  \\\n",
      "Stanica                                                         \n",
      "Žilina - Dolný Hričov  1014.8    Malá oblačnosť    None   NaN   \n",
      "Žilina - Dolný Hričov  1014.0           Oblačno    None   NaN   \n",
      "Žilina - Dolný Hričov  1004.4  Takmer zamračené    None   NaN   \n",
      "\n",
      "                                  Cas_CET              file  \n",
      "Stanica                                                      \n",
      "Žilina - Dolný Hričov 2025-07-30 20:00:00  2025-07-30-20-45  \n",
      "Žilina - Dolný Hričov 2025-08-27 20:00:00  2025-08-27-20-45  \n",
      "Žilina - Dolný Hričov 2025-08-29 20:00:00  2025-08-29-20-45  \n",
      "                                     Stanica  Teplota  Smer  Rýchlosť Nárazy  \\\n",
      "Stanica                                                                        \n",
      "Žilina - Dolný Hričov  Žilina - Dolný Hričov     19.1    SZ       1.0   None   \n",
      "Žilina - Dolný Hričov  Žilina - Dolný Hričov     19.8  PREM       1.0   None   \n",
      "Žilina - Dolný Hričov  Žilina - Dolný Hričov     23.9  PREM       1.0   None   \n",
      "\n",
      "                         Tlak         Oblačnosť Počasie  Graf  \\\n",
      "Stanica                                                         \n",
      "Žilina - Dolný Hričov  1014.8    Malá oblačnosť    None   NaN   \n",
      "Žilina - Dolný Hričov  1014.0           Oblačno    None   NaN   \n",
      "Žilina - Dolný Hričov  1004.4  Takmer zamračené    None   NaN   \n",
      "\n",
      "                                  Cas_CET              file  \n",
      "Stanica                                                      \n",
      "Žilina - Dolný Hričov 2025-07-30 20:00:00  2025-07-30-20-45  \n",
      "Žilina - Dolný Hričov 2025-08-27 20:00:00  2025-08-27-20-45  \n",
      "Žilina - Dolný Hričov 2025-08-29 20:00:00  2025-08-29-20-45  \n",
      "Empty DataFrame\n",
      "Columns: [Stanica, Teplota, Smer, Rýchlosť, Nárazy, Tlak, Oblačnosť, Počasie, Graf, Cas_CET, file]\n",
      "Index: []\n"
     ]
    }
   ],
   "source": [
    "# df.reset_index(drop=False, inplace=True)\n",
    "# df.index = df.Stanica\n",
    "df2 = df.copy()\n",
    "df1 = df.copy()\n",
    "df1.set_index(df1.Stanica, inplace=True)\n",
    "df2.set_index(df2.Stanica, inplace=True)\n",
    "df.set_index(df.Stanica, inplace=True)\n",
    "\n",
    "# print('df St ', df.Stanica.unique(), df.index.unique())\n",
    "# print('df1 St ', df1.Stanica.unique(), df1.index.unique())\n",
    "# print('df2 St ', df2.Stanica.unique(), df2.index.unique())\n",
    "l1 = set(df1.Stanica.unique())\n",
    "l2 = set(df2.Stanica.unique())\n",
    "print(f'l1 len {len(l1)} {l1}')\n",
    "print(f'l2 len {len(l2)} {l2}')\n",
    "print('l1-l2', l1 - l2)\n",
    "print('l2-l1', l2 - l1)\n",
    "\n",
    "\n",
    "print('---\\n\\n')\n",
    "# print(df1)\n",
    "# print(df1['Teplota'])\n",
    "df1 = df1[df1['Cas_CET'] < '2025-09-01']\n",
    "print('df1 St ', df1.Stanica.unique(), df1.index.unique())\n",
    "df2 = df2[df2['Cas_CET'] >= '2025-09-01']\n",
    "print('df2 St ', df2.Stanica.unique(), df2.index.unique())\n",
    "l1 = set(df1.Stanica.unique())\n",
    "l2 = set(df2.Stanica.unique())\n",
    "l3 = l1.union(l2)\n",
    "print(f'l1 len {len(l1)} {l1}')\n",
    "print(f'l2 len {len(l2)} {l2}')\n",
    "print('l1-l2', l1 - l2)\n",
    "print('l2-l1', l2 - l1)\n",
    "print(f'l3 len {len(l3)} {l3}')\n",
    "\n",
    "\n",
    "print('---')\n",
    "print(c1 := len(df1.index), c2 := len(df2.index) ,c := len(df.index), c1+c2 == c)\n",
    "# print(df1.index.is_unique, df2.index.is_unique)\n",
    "# print(df1.index.nunique(), df2.index.nunique())\n",
    "# print(df1.index.has_duplicates, df2.index.has_duplicates)\n",
    "# print(df1.index.duplicated().sum(), df2.index.duplicated().sum())\n",
    "# print(df1.index.duplicated())\n",
    "# print(df2.index.duplicated())\n",
    "\n",
    "# print(df1.info())\n",
    "# print(df2.info())\n",
    "\n",
    "# print(df1.index)\n",
    "# df1.filter(regex='^B', axis=0) # .drop(inplace=True,axis=0)\n",
    "# df2.filter(like='^R', axis=0)  #  .drop(inplace=True,axis=0)\n",
    "\n",
    "\n",
    "# print(df1.info())\n",
    "# print(df2.info())\n",
    "TESTLOK = 'Žilina - Dolný Hričov'\n",
    "filt_df = df.filter(like=TESTLOK, axis=0,)\n",
    "print(df.filter(like=TESTLOK, axis=0,))\n",
    "print(df1.filter(like=TESTLOK, axis=0,))\n",
    "print(df2.filter(like=TESTLOK, axis=0,))\n"
   ]
  },
  {
   "cell_type": "code",
   "execution_count": 189,
   "id": "8e85034f",
   "metadata": {},
   "outputs": [
    {
     "name": "stdout",
     "output_type": "stream",
     "text": [
      "d1 St  ['Malý Javorník', 'Čadca', 'Čaklov', 'Červený Kláštor', 'Trebišov', ..., 'Žilina - Dolný Hričov', 'Štrbské pleso', 'Želiezovce', 'Lučenec - Boľkovce', 'Nitra - Velké Janíkovce']\n",
      "Length: 75\n",
      "Categories (75, object): ['Liesek', 'Liptovská Osada', 'Liptovský Hrádok', 'Liptovský Mikuláš - Ondrašová', ..., 'Žikava', 'Žilina', 'Žilina - Dolný Hričov', 'Žilina - letisko'] Index(['Malý Javorník', 'Čadca', 'Čaklov', 'Červený Kláštor', 'Trebišov',\n",
      "       'Tisinec', 'Telgárt', 'Tatranská Polianka', 'Tatranská Lomnica',\n",
      "       'Tatranská Javorina', 'Švedlár', 'Štrbské Pleso', 'Štós - kúpele',\n",
      "       'Stará Lesná', 'Spišské Vlachy', 'Somotor', 'Osadné', 'Piešťany',\n",
      "       'Plaveč nad Popradom', 'Podbanské', 'Podolínec', 'Poprad', 'Prešov',\n",
      "       'Prievidza', 'Rabča', 'Ratková', 'Revúca', 'Rimavská Sobota', 'Roztoky',\n",
      "       'Rožňava', 'Ružomberok', 'Senica', 'Silica', 'Orechová',\n",
      "       'Oravský Podzámok', 'Oravské Veselé', 'Oravská Lesná', 'Liesek',\n",
      "       'Liptovská Osada', 'Liptovský Hrádok', 'Liptovský Mikuláš - Ondrašová',\n",
      "       'Lom nad Rimavicou', 'Lomnický štít', 'Slovenský Grob',\n",
      "       'Martin - Žabokreky', 'Trenčín', 'Málinec', 'Michalovce', 'Mochovce',\n",
      "       'Modra - Piesok', 'Moldava nad Bodvou', 'Moravský Svätý Ján', 'Mužla',\n",
      "       'Myjava', 'Nitra', 'Medzilaborce - Borov', 'Turčianske Teplice',\n",
      "       'Turzovka', 'Uhrovec', 'Skalnaté pleso', 'Žilina - letisko', 'Žilina',\n",
      "       'Žikava', 'Žiharec', 'Sliač', 'Zlatá Baňa', 'Vysoká nad Uhom',\n",
      "       'Vígľaš - Pstruša', 'Veľké Lovce', 'Žiar nad Hronom',\n",
      "       'Žilina - Dolný Hričov', 'Štrbské pleso', 'Želiezovce',\n",
      "       'Lučenec - Boľkovce', 'Nitra - Velké Janíkovce'],\n",
      "      dtype='object', name='Stanica')\n",
      "d2 St  ['Bzovík', 'Chopok', 'Čadca', 'Čaklov', 'Červený Kláštor', ..., 'Štrbské pleso', 'Želiezovce', 'Donovaly', 'Košice - letisko', 'Bratislava - letisko']\n",
      "Length: 53\n",
      "Categories (53, object): ['Banská Bystrica - Zelená', 'Banská Štiavnica', 'Bardejov', 'Beluša', ..., 'Žikava', 'Žilina', 'Žilina - Dolný Hričov', 'Žilina - letisko'] Index(['Bzovík', 'Chopok', 'Čadca', 'Čaklov', 'Červený Kláštor',\n",
      "       'Dolné Plachtince', 'Dudince', 'Gabčíkovo', 'Gánovce', 'Holíč',\n",
      "       'Hurbanovo', 'Jakubovany', 'Jaslovské Bohunice', 'Kamanová',\n",
      "       'Kamenica nad Cirochou', 'Kojšovská hoľa', 'Košice', 'Brezno',\n",
      "       'Košice - Podhradová', 'Bratislava Koliba',\n",
      "       'Bratislava - Mlynská Dolina', 'Švedlár', 'Štrbské Pleso',\n",
      "       'Štós - kúpele', 'Banská Bystrica - Zelená', 'Banská Štiavnica',\n",
      "       'Bardejov', 'Beluša', 'Boľkovce', 'Bratislava Ivanka',\n",
      "       'Kráľova pri Senci', 'Kremnické Bane', 'Kuchyňa', 'Piešťany',\n",
      "       'Plaveč nad Popradom', 'Podbanské', 'Podolínec', 'Poprad', 'Prešov',\n",
      "       'Prievidza', 'Žilina - letisko', 'Žilina', 'Žikava', 'Žiharec',\n",
      "       'Zlatá Baňa', 'Žiar nad Hronom', 'Kojsovská hoľa',\n",
      "       'Žilina - Dolný Hričov', 'Štrbské pleso', 'Želiezovce', 'Donovaly',\n",
      "       'Košice - letisko', 'Bratislava - letisko'],\n",
      "      dtype='object', name='Stanica')\n",
      "d3 St  ['Malý Javorník' 'Čadca' 'Čaklov' 'Červený Kláštor' 'Trebišov' 'Tisinec'\n",
      " 'Telgárt' 'Tatranská Polianka' 'Tatranská Lomnica' 'Tatranská Javorina'\n",
      " 'Švedlár' 'Štrbské Pleso' 'Štós - kúpele' 'Stará Lesná' 'Spišské Vlachy'\n",
      " 'Somotor' 'Osadné' 'Piešťany' 'Plaveč nad Popradom' 'Podbanské'\n",
      " 'Podolínec' 'Poprad' 'Prešov' 'Prievidza' 'Rabča' 'Ratková' 'Revúca'\n",
      " 'Rimavská Sobota' 'Roztoky' 'Rožňava' 'Ružomberok' 'Senica' 'Silica'\n",
      " 'Orechová' 'Oravský Podzámok' 'Oravské Veselé' 'Oravská Lesná' 'Liesek'\n",
      " 'Liptovská Osada' 'Liptovský Hrádok' 'Liptovský Mikuláš - Ondrašová'\n",
      " 'Lom nad Rimavicou' 'Lomnický štít' 'Slovenský Grob' 'Martin - Žabokreky'\n",
      " 'Trenčín' 'Málinec' 'Michalovce' 'Mochovce' 'Modra - Piesok'\n",
      " 'Moldava nad Bodvou' 'Moravský Svätý Ján' 'Mužla' 'Myjava' 'Nitra'\n",
      " 'Medzilaborce - Borov' 'Turčianske Teplice' 'Turzovka' 'Uhrovec'\n",
      " 'Skalnaté pleso' 'Žilina - letisko' 'Žilina' 'Žikava' 'Žiharec' 'Sliač'\n",
      " 'Zlatá Baňa' 'Vysoká nad Uhom' 'Vígľaš - Pstruša' 'Veľké Lovce'\n",
      " 'Žiar nad Hronom' 'Žilina - Dolný Hričov' 'Štrbské pleso' 'Želiezovce'\n",
      " 'Lučenec - Boľkovce' 'Nitra - Velké Janíkovce' 'Bzovík' 'Chopok'\n",
      " 'Dolné Plachtince' 'Dudince' 'Gabčíkovo' 'Gánovce' 'Holíč' 'Hurbanovo'\n",
      " 'Jakubovany' 'Jaslovské Bohunice' 'Kamanová' 'Kamenica nad Cirochou'\n",
      " 'Kojšovská hoľa' 'Košice' 'Brezno' 'Košice - Podhradová'\n",
      " 'Bratislava Koliba' 'Bratislava - Mlynská Dolina'\n",
      " 'Banská Bystrica - Zelená' 'Banská Štiavnica' 'Bardejov' 'Beluša'\n",
      " 'Boľkovce' 'Bratislava Ivanka' 'Kráľova pri Senci' 'Kremnické Bane'\n",
      " 'Kuchyňa' 'Kojsovská hoľa' 'Donovaly' 'Košice - letisko'\n",
      " 'Bratislava - letisko'] Index(['Malý Javorník', 'Čadca', 'Čaklov', 'Červený Kláštor', 'Trebišov',\n",
      "       'Tisinec', 'Telgárt', 'Tatranská Polianka', 'Tatranská Lomnica',\n",
      "       'Tatranská Javorina',\n",
      "       ...\n",
      "       'Beluša', 'Boľkovce', 'Bratislava Ivanka', 'Kráľova pri Senci',\n",
      "       'Kremnické Bane', 'Kuchyňa', 'Kojsovská hoľa', 'Donovaly',\n",
      "       'Košice - letisko', 'Bratislava - letisko'],\n",
      "      dtype='object', name='Stanica', length=106)\n",
      "False\n"
     ]
    },
    {
     "data": {
      "text/plain": [
       "array(['Malý Javorník', 'Bzovík', 'Chopok', 'Čadca', 'Čaklov',\n",
       "       'Červený Kláštor', 'Dolné Plachtince', 'Dudince', 'Gabčíkovo',\n",
       "       'Gánovce', 'Holíč', 'Hurbanovo', 'Jakubovany',\n",
       "       'Jaslovské Bohunice', 'Kamanová', 'Kamenica nad Cirochou',\n",
       "       'Kojšovská hoľa', 'Košice', 'Brezno', 'Košice - Podhradová',\n",
       "       'Bratislava Koliba', 'Bratislava - Mlynská Dolina', 'Trebišov',\n",
       "       'Tisinec', 'Telgárt', 'Tatranská Polianka', 'Tatranská Lomnica',\n",
       "       'Tatranská Javorina', 'Švedlár', 'Štrbské Pleso', 'Štós - kúpele',\n",
       "       'Stará Lesná', 'Spišské Vlachy', 'Somotor',\n",
       "       'Banská Bystrica - Zelená', 'Banská Štiavnica', 'Bardejov',\n",
       "       'Beluša', 'Boľkovce', 'Bratislava Ivanka', 'Kráľova pri Senci',\n",
       "       'Kremnické Bane', 'Kuchyňa', 'Osadné', 'Piešťany',\n",
       "       'Plaveč nad Popradom', 'Podbanské', 'Podolínec', 'Poprad',\n",
       "       'Prešov', 'Prievidza', 'Rabča', 'Ratková', 'Revúca',\n",
       "       'Rimavská Sobota', 'Roztoky', 'Rožňava', 'Ružomberok', 'Senica',\n",
       "       'Silica', 'Orechová', 'Oravský Podzámok', 'Oravské Veselé',\n",
       "       'Oravská Lesná', 'Liesek', 'Liptovská Osada', 'Liptovský Hrádok',\n",
       "       'Liptovský Mikuláš - Ondrašová', 'Lom nad Rimavicou',\n",
       "       'Lomnický štít', 'Slovenský Grob', 'Martin - Žabokreky', 'Trenčín',\n",
       "       'Málinec', 'Michalovce', 'Mochovce', 'Modra - Piesok',\n",
       "       'Moldava nad Bodvou', 'Moravský Svätý Ján', 'Mužla', 'Myjava',\n",
       "       'Nitra', 'Medzilaborce - Borov', 'Turčianske Teplice', 'Turzovka',\n",
       "       'Uhrovec', 'Skalnaté pleso', 'Žilina - letisko', 'Žilina',\n",
       "       'Žikava', 'Žiharec', 'Sliač', 'Zlatá Baňa', 'Vysoká nad Uhom',\n",
       "       'Vígľaš - Pstruša', 'Veľké Lovce', 'Žiar nad Hronom',\n",
       "       'Kojsovská hoľa', 'Žilina - Dolný Hričov', 'Štrbské pleso',\n",
       "       'Želiezovce', 'Donovaly', 'Košice - letisko', 'Lučenec - Boľkovce',\n",
       "       'Nitra - Velké Janíkovce', 'Bratislava - letisko'], dtype=object)"
      ]
     },
     "execution_count": 189,
     "metadata": {},
     "output_type": "execute_result"
    }
   ],
   "source": [
    "\n",
    "df1.filter(regex='^B', axis=0)\n",
    "d1 = df1.drop(index=df1.filter(\n",
    "    regex='^[ABCDFGHIJK]', axis=0).index, inplace=False)\n",
    "d2 = df1.drop(df1.filter(regex='^[LMNOQRSTUV]', axis=0).index, inplace=False)\n",
    "d1.Stanica = d1.Stanica.astype('str').astype('category')\n",
    "d2.Stanica = d2.Stanica.astype('str').astype('category')\n",
    "\n",
    "# d1.set_index(d1.Stanica, inplace=True)\n",
    "# d2.set_index(d2.Stanica, inplace=True)\n",
    "\n",
    "print('d1 St ', d1.Stanica.unique(), d1.index.unique())\n",
    "print('d2 St ', d2.Stanica.unique(), d2.index.unique())\n",
    "d3 = pd.concat([d1, d2])\n",
    "print('d3 St ', d3.Stanica.unique(), d3.index.unique())\n",
    "\n",
    "\n",
    "print(d1.equals(d2))\n",
    "\n",
    "df2.drop(index=df2.filter(regex='^[EFGH]', axis=0).index, inplace=False)\n",
    "df2.drop(df2.filter(regex='^[EFGH]', axis=0).index, inplace=False)\n",
    "\n",
    "df1.Stanica.unique()"
   ]
  },
  {
   "cell_type": "code",
   "execution_count": 190,
   "id": "20a9ad29",
   "metadata": {},
   "outputs": [],
   "source": [
    "# s = pd.Series([1, 2, 3])\n",
    "# print(s)\n",
    "# s=s.reindex([0, 2, 2, 3, 0, 1])\n",
    "# s=s.reset_index(drop=False)\n",
    "# print(s)\n",
    "# s = pd.Series(['1', '2', '3'])\n",
    "# s.reindex([1, 2, 3])\n"
   ]
  }
 ],
 "metadata": {
  "kernelspec": {
   "display_name": ".venv (3.11.2)",
   "language": "python",
   "name": "python3"
  },
  "language_info": {
   "codemirror_mode": {
    "name": "ipython",
    "version": 3
   },
   "file_extension": ".py",
   "mimetype": "text/x-python",
   "name": "python",
   "nbconvert_exporter": "python",
   "pygments_lexer": "ipython3",
   "version": "3.11.2"
  }
 },
 "nbformat": 4,
 "nbformat_minor": 5
}
