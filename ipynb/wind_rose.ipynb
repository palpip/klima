{
 "cells": [
  {
   "cell_type": "markdown",
   "metadata": {},
   "source": [
    "# Making a wind rose with pandas/matplotlib\n",
    "## Import the libraries and other setup"
   ]
  },
  {
   "cell_type": "code",
   "execution_count": null,
   "metadata": {
    "collapsed": false
   },
   "outputs": [],
   "source": [
    "import pandas\n",
    "import numpy\n",
    "import re\n",
    "import openpyxl\n",
    "import datetime as dt\n",
    "import sqlite3\n",
    "import pyarrow as pa\n",
    "import pyarrow.parquet as pq\n",
    "from pathlib import Path\n",
    "import decimal\n",
    "import seaborn\n",
    "\n",
    "import os\n",
    "import sys\n",
    "from matplotlib import pyplot\n",
    "\n",
    "# SRC_DIR = r'/home/pp/program/jupyter/'\n",
    "sys.path.append(os.path.dirname(r'/home/pp/program/jupyter/'))\n",
    "from config import *\n",
    "\n",
    "# Replace 'your_file.parquet' with the path to your Parquet file\n",
    "df = pandas.read_parquet(TEPLOTY_SK_DIR + 'teploty_sk.parquet')\n",
    "tf =df.copy()\n",
    "\n",
    "\n",
    "seaborn.set_style('ticks')\n",
    "%matplotlib inline"
   ]
  },
  {
   "cell_type": "code",
   "execution_count": null,
   "metadata": {},
   "outputs": [],
   "source": [
    "# dfbrez = df[df.Stanica == 'Brezno']\n",
    "# maskbrez = df.Stanica == 'Brezno'\n",
    "\n",
    "# dfbrez = df.loc[maskbrez,['Stanica', 'Smer', 'Rýchlosť', 'Cas_CET']] #OK\n",
    "dfbrez = df.loc[df.Stanica == 'Bratislava - letisko',['Stanica', 'Smer', 'Rýchlosť', 'Cas_CET']] #OK\n",
    "\n",
    "directionVocab = {'S': 0, 'SV': 45, 'V': 90, 'JV' : 135, 'J' : 180, 'JZ' : 225,  'Z' : 270, 'SZ' : 315, 'PREM' : 0, 'BEZV' : 0, None : 0}\n",
    "dfbrez['WindDir'] = dfbrez.Smer.apply(lambda x: directionVocab[x])\n",
    "dfbrez.rename(columns = {'Rýchlosť' : 'WindSpd'}, inplace=True)\n",
    "kpdx = dfbrez.loc[:, ['WindSpd', 'WindDir']]"
   ]
  },
  {
   "cell_type": "markdown",
   "metadata": {},
   "source": [
    "## Load the data"
   ]
  },
  {
   "cell_type": "code",
   "execution_count": null,
   "metadata": {
    "collapsed": false
   },
   "outputs": [],
   "source": [
    "# sta = metar.WeatherStation('KPDX')\n",
    "\n",
    "windcols = ['WindSpd', 'WindDir']\n",
    "\n",
    "# sta.getASOSData('2012-01-01', '2015-01-01', filename='wrdemo.csv')\n",
    "# kpdx = sta.loadCompiledFile('asos', filenum=1).dropna(subset=windcols)\n",
    "\n",
    "kpdx.WindDir.value_counts()"
   ]
  },
  {
   "cell_type": "markdown",
   "metadata": {},
   "source": [
    "## Determine the total number of observations and how many have calm conditions"
   ]
  },
  {
   "cell_type": "code",
   "execution_count": null,
   "metadata": {
    "collapsed": false
   },
   "outputs": [],
   "source": [
    "total_count = kpdx.shape[0]\n",
    "calm_count = kpdx.query(\"WindSpd == 0\").shape[0]\n",
    "\n",
    "print('Of {} total observations, {} have calm winds.'.format(total_count, calm_count))"
   ]
  },
  {
   "cell_type": "markdown",
   "metadata": {},
   "source": [
    "## Define a function that will give us nice labels for a wind speed range\n",
    "E.g., *5 - 10 knots*"
   ]
  },
  {
   "cell_type": "code",
   "execution_count": null,
   "metadata": {
    "collapsed": true
   },
   "outputs": [],
   "source": [
    "def speed_labels(bins, units):   \n",
    "    labels = []\n",
    "    for left, right in zip(bins[:-1], bins[1:]):\n",
    "        if left == bins[0]:\n",
    "            labels.append('calm'.format(right))\n",
    "        elif numpy.isinf(right):\n",
    "            labels.append('>{} {}'.format(left, units))\n",
    "        else:\n",
    "            labels.append('{} - {} {}'.format(left, right, units))\n",
    "\n",
    "    return list(labels)"
   ]
  },
  {
   "cell_type": "markdown",
   "metadata": {},
   "source": [
    "### Define a function to convert centered angles to left-edge radians"
   ]
  },
  {
   "cell_type": "code",
   "execution_count": null,
   "metadata": {
    "collapsed": true
   },
   "outputs": [],
   "source": [
    "def _convert_dir(directions, N=None):\n",
    "    if N is None:\n",
    "        N = directions.shape[0]\n",
    "    barDir = directions * numpy.pi/180. #- numpy.pi/N\n",
    "    barWidth = 1.8 * numpy.pi / N\n",
    "    return barDir, barWidth"
   ]
  },
  {
   "cell_type": "markdown",
   "metadata": {},
   "source": [
    "### Define our bins and labels for speed and wind"
   ]
  },
  {
   "cell_type": "code",
   "execution_count": null,
   "metadata": {
    "collapsed": true
   },
   "outputs": [],
   "source": [
    "spd_bins = [-1, 0, 1, 2, 3, 4, 5, 10, 15, 20, 25, 30, numpy.inf]\n",
    "spd_labels = speed_labels(spd_bins, units='m/s')\n",
    "\n",
    "dir_bins = numpy.arange(-22.5, 370, 45)\n",
    "dir_labels = (dir_bins[:-1] + dir_bins[1:]) / 2"
   ]
  },
  {
   "cell_type": "markdown",
   "metadata": {},
   "source": [
    "## Determine the relative percentage of observation in each speed and direction bin\n",
    "Here's how we do it:\n",
    "  - assign a speed bin for each row with `pandas.cut`\n",
    "  - assign a direction bin for each row (again, `pandas.cut`)\n",
    "  - unify the 360° and 0° bins under the 0° label\n",
    "  - group the data simultaneously on both speed and direction bins\n",
    "  - compute the size of each group\n",
    "  - unstack (pivot) the speed bins into columns\n",
    "  - fill missing values with 0\n",
    "  - assign a \"calm\" column to be the total number of calm observations evenly distributed across all directions\n",
    "  - sort the columns -- they are a catgerical index, so \"calm\" will be first (this is awesome!)\n",
    "  - convert all of the counts to percentages of the total number of observations"
   ]
  },
  {
   "cell_type": "code",
   "execution_count": null,
   "metadata": {
    "collapsed": false
   },
   "outputs": [],
   "source": [
    "rose = (\n",
    "    kpdx.assign(WindSpd_bins=lambda df:\n",
    "            pandas.cut(df['WindSpd'], bins=spd_bins, labels=spd_labels, right=True)\n",
    "         )\n",
    "        .assign(WindDir_bins=lambda df:\n",
    "            pandas.cut(df['WindDir'], bins=dir_bins, labels=dir_labels, right=False)\n",
    "         )\n",
    "        .replace({'WindDir_bins': {360: 0}})\n",
    "        .groupby(by=['WindSpd_bins', 'WindDir_bins'])\n",
    "        .size()\n",
    "        .unstack(level='WindSpd_bins')\n",
    "        .fillna(0)\n",
    "        .assign(calm=lambda df: calm_count / df.shape[0])\n",
    "        .sort_index(axis=1)\n",
    "        .applymap(lambda x: x / total_count * 100)\n",
    ")"
   ]
  },
  {
   "cell_type": "markdown",
   "metadata": {},
   "source": [
    "## Define our wind rose function"
   ]
  },
  {
   "cell_type": "code",
   "execution_count": null,
   "metadata": {
    "collapsed": false
   },
   "outputs": [],
   "source": [
    "def wind_rose(rosedata, wind_dirs, palette=None):\n",
    "    if palette is None:\n",
    "        palette = seaborn.color_palette('inferno', n_colors=rosedata.shape[1])\n",
    "\n",
    "    bar_dir, bar_width = _convert_dir(wind_dirs)\n",
    "\n",
    "    fig, ax = pyplot.subplots(figsize=(10, 10), subplot_kw=dict(polar=True))\n",
    "    ax.set_theta_direction('clockwise')\n",
    "    ax.set_theta_zero_location('N')\n",
    "\n",
    "    for n, (c1, c2) in enumerate(zip(rosedata.columns[:-1], rosedata.columns[1:])):\n",
    "        if n == 0:\n",
    "            # first column only\n",
    "            ax.bar(bar_dir, rosedata[c1].values, \n",
    "                   width=bar_width,\n",
    "                   color=palette[0],\n",
    "                   edgecolor='none',\n",
    "                   label=c1,\n",
    "                   linewidth=0)\n",
    "\n",
    "        # all other columns\n",
    "        ax.bar(bar_dir, rosedata[c2].values, \n",
    "               width=bar_width, \n",
    "               bottom=rosedata.cumsum(axis=1)[c1].values,\n",
    "               color=palette[n+1],\n",
    "               edgecolor='none',\n",
    "               label=c2,\n",
    "               linewidth=0)\n",
    "\n",
    "    leg = ax.legend(loc=(0.75, 0.95), ncol=2)\n",
    "    xtl = ax.set_xticklabels(['N', 'NE', 'E', 'SE', 'S', 'SW', 'W', 'NW'])\n",
    "    \n",
    "    return fig"
   ]
  },
  {
   "cell_type": "markdown",
   "metadata": {},
   "source": [
    "##  Use it"
   ]
  },
  {
   "cell_type": "code",
   "execution_count": null,
   "metadata": {
    "collapsed": false
   },
   "outputs": [],
   "source": [
    "directions = numpy.arange(-0, 360, 45)\n",
    "fig = wind_rose(rose, directions)"
   ]
  },
  {
   "cell_type": "code",
   "execution_count": null,
   "metadata": {
    "collapsed": true
   },
   "outputs": [],
   "source": [
    "print(dfbrez['Smer'].value_counts())\n",
    "# numpy.arange(-22.5, 370, 45)\n",
    "print(sorted(df.Stanica.unique()))\n"
   ]
  }
 ],
 "metadata": {
  "kernelspec": {
   "display_name": ".venv (3.11.2)",
   "language": "python",
   "name": "python3"
  },
  "language_info": {
   "codemirror_mode": {
    "name": "ipython",
    "version": 3
   },
   "file_extension": ".py",
   "mimetype": "text/x-python",
   "name": "python",
   "nbconvert_exporter": "python",
   "pygments_lexer": "ipython3",
   "version": "3.11.2"
  }
 },
 "nbformat": 4,
 "nbformat_minor": 0
}
