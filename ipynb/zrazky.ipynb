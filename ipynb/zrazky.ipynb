{
 "cells": [
  {
   "cell_type": "code",
   "execution_count": 2,
   "id": "7d4d0b3a",
   "metadata": {},
   "outputs": [
    {
     "name": "stdout",
     "output_type": "stream",
     "text": [
      "                  Stanica   Typ       Čas merania  Zrážky 1h  Zrážky 3h  \\\n",
      "0         Myjava - Myjava   AHS  01.09.2025 00:00        0.0        0.0   \n",
      "17                Tisovec  APS2  01.09.2025 00:00        0.0        0.0   \n",
      "16  Muráň - Hrdzavý potok   AHS  01.09.2025 00:00        0.0        0.0   \n",
      "15               Štrkovec  APS2  01.09.2025 00:00        0.0        0.0   \n",
      "14              Skerešovo  APS2  01.09.2025 00:00        0.0        0.2   \n",
      "\n",
      "    Zrážky 6h  Zrážky 12h  Zrážky 24h              file    Cas_CET  \n",
      "0         0.0         0.0        15.7  2025-09-01-23-55 2025-09-01  \n",
      "17        0.0         0.0         0.0  2025-09-01-23-55 2025-09-01  \n",
      "16        0.0         0.0         0.0  2025-09-01-23-55 2025-09-01  \n",
      "15        4.7         4.7         4.8  2025-09-01-23-55 2025-09-01  \n",
      "14        0.9         0.9         0.9  2025-09-01-23-55 2025-09-01  \n",
      "<class 'pandas.core.frame.DataFrame'>\n",
      "Index: 587407 entries, 0 to 13\n",
      "Data columns (total 10 columns):\n",
      " #   Column       Non-Null Count   Dtype         \n",
      "---  ------       --------------   -----         \n",
      " 0   Stanica      587407 non-null  object        \n",
      " 1   Typ          587407 non-null  object        \n",
      " 2   Čas merania  587407 non-null  object        \n",
      " 3   Zrážky 1h    584741 non-null  float64       \n",
      " 4   Zrážky 3h    585664 non-null  float64       \n",
      " 5   Zrážky 6h    586308 non-null  float64       \n",
      " 6   Zrážky 12h   587014 non-null  float64       \n",
      " 7   Zrážky 24h   587407 non-null  float64       \n",
      " 8   file         587407 non-null  object        \n",
      " 9   Cas_CET      587407 non-null  datetime64[ns]\n",
      "dtypes: datetime64[ns](1), float64(5), object(4)\n",
      "memory usage: 49.3+ MB\n"
     ]
    }
   ],
   "source": [
    "import pandas as pd\n",
    "import numpy as np\n",
    "\n",
    "\n",
    "import re\n",
    "import openpyxl\n",
    "import datetime as dt\n",
    "import sqlite3\n",
    "import pyarrow as pa\n",
    "import pyarrow.parquet as pq\n",
    "from pathlib import Path\n",
    "import seaborn as sns\n",
    "import matplotlib.pyplot as plt \n",
    "\n",
    "import decimal\n",
    "import os\n",
    "import sys\n",
    "\n",
    "# SRC_DIR = r'/home/pp/program/jupyter/'\n",
    "sys.path.append(os.path.dirname(r'/home/pp/program/jupyter/'))\n",
    "from config import *\n",
    "\n",
    "# Replace 'your_file.parquet' with the path to your Parquet file\n",
    "df = pd.read_parquet(ZRAZKY_SK_DIR + 'zrazky_sk.parquet'   )\n",
    "\n",
    "print(df.head())\n",
    "df.info()"
   ]
  },
  {
   "cell_type": "code",
   "execution_count": 3,
   "id": "7848e9d2",
   "metadata": {},
   "outputs": [
    {
     "name": "stdout",
     "output_type": "stream",
     "text": [
      "         Zrážky 1h    Zrážky 3h    Zrážky 6h   Zrážky 12h   Zrážky 24h  \\\n",
      "count  1206.000000  1206.000000  1206.000000  1206.000000  1206.000000   \n",
      "mean      0.106965     0.320978     0.641791     1.283333     2.556302   \n",
      "min       0.000000     0.000000     0.000000     0.000000     0.000000   \n",
      "25%       0.000000     0.000000     0.000000     0.000000     0.000000   \n",
      "50%       0.000000     0.000000     0.000000     0.000000     0.000000   \n",
      "75%       0.000000     0.000000     0.000000     0.000000     0.900000   \n",
      "max       8.700000    14.900000    22.600000    28.100000    28.100000   \n",
      "std       0.571219     1.420379     2.493872     4.039779     6.059888   \n",
      "\n",
      "                             Cas_CET  \n",
      "count                           1206  \n",
      "mean   2025-09-02 16:58:57.313432832  \n",
      "min              2025-08-08 09:00:00  \n",
      "25%              2025-08-21 03:15:00  \n",
      "50%              2025-09-02 17:30:00  \n",
      "75%              2025-09-15 07:45:00  \n",
      "max              2025-09-27 22:00:00  \n",
      "std                              NaN  \n"
     ]
    },
    {
     "data": {
      "image/png": "[encoded data removed]",
      "text/plain": [
       "<Figure size 640x480 with 1 Axes>"
      ]
     },
     "metadata": {},
     "output_type": "display_data"
    }
   ],
   "source": [
    "#BREZNO\n",
    "dfbr = df[df.Stanica == 'Brezno']\n",
    "print(dfbr.describe())\n",
    "import matplotlib.pyplot as plt\n",
    "# plt.hist(dfbr['Zrážky 12h'].__pow__(.1), bins=150)\n",
    "plt.hist(dfbr.loc[dfbr['Zrážky 24h']>0,['Zrážky 24h']], bins=150)\n",
    "plt.xlabel('Zr 1h')\n",
    "plt.ylabel('Frequency')\n",
    "plt.title('Histogram of Zrazky Brezno')\n",
    "plt.show()\n"
   ]
  },
  {
   "cell_type": "code",
   "execution_count": 4,
   "id": "56f2b422",
   "metadata": {},
   "outputs": [],
   "source": [
    "# sns.swarmplot(x=dfbr['Zrážky 12h']).head(1000)\n",
    "# plt.show()"
   ]
  },
  {
   "cell_type": "code",
   "execution_count": 5,
   "id": "4ea4b25f",
   "metadata": {},
   "outputs": [],
   "source": [
    "result = dfbr.sort_values(by='Cas_CET').copy()\n",
    "result['rolsum'] = result['Zrážky 1h'].rolling(window=24).sum()\n",
    "result['diff'] = result['Zrážky 24h'] - result.rolsum\n",
    "\n"
   ]
  },
  {
   "cell_type": "code",
   "execution_count": 12,
   "id": "26185e53",
   "metadata": {},
   "outputs": [],
   "source": [
    "f = pd.read_parquet(ZRAZKY_SK_DIR + 'zrazky_sk.parquet'   )\n",
    "# make daily averages\n",
    "# whole dataframe SK - not grouped by station\n",
    "df_agg = df.copy()\n",
    "df_agg = df_agg.set_index('Cas_CET').resample('D')['Zrážky 1h'].agg(['sum', 'mean', 'max'])"
   ]
  }
 ],
 "metadata": {
  "kernelspec": {
   "display_name": ".venv (3.11.2)",
   "language": "python",
   "name": "python3"
  },
  "language_info": {
   "codemirror_mode": {
    "name": "ipython",
    "version": 3
   },
   "file_extension": ".py",
   "mimetype": "text/x-python",
   "name": "python",
   "nbconvert_exporter": "python",
   "pygments_lexer": "ipython3",
   "version": "3.11.2"
  }
 },
 "nbformat": 4,
 "nbformat_minor": 5
}
