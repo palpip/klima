{
 "cells": [
  {
   "cell_type": "code",
   "execution_count": 5,
   "id": "7d4d0b3a",
   "metadata": {},
   "outputs": [
    {
     "name": "stdout",
     "output_type": "stream",
     "text": [
      "25730880\n",
      "25730880\n"
     ]
    }
   ],
   "source": [
    "import pandas as pd\n",
    "import numpy as np\n",
    "import re\n",
    "import openpyxl\n",
    "import datetime as dt\n",
    "import sqlite3\n",
    "import pyarrow as pa\n",
    "import pyarrow.parquet as pq\n",
    "from pathlib import Path\n",
    "import seaborn as sns\n",
    "import matplotlib.pyplot as plt \n",
    "\n",
    "import decimal\n",
    "import os\n",
    "import sys\n",
    "\n",
    "# SRC_DIR = r'/home/pp/program/jupyter/'\n",
    "sys.path.append(os.path.dirname(r'/home/pp/program/jupyter/'))\n",
    "from config import *\n",
    "\n",
    "# Replace 'your_file.parquet' with the path to your Parquet file\n",
    "df = pd.read_parquet(ZRAZKY_SK_DIR + 'zrazky_sk.parquet'   )\n",
    "\n",
    "# print(df.info())\n",
    "\n",
    "dectype = pa.decimal128(5, 2)\n",
    "df = df.rename(columns={'Zrážky 24h': 'Zr24h', 'Zrážky 12h': 'Zr12h', 'Zrážky 1h': 'Zr1h',  'Zrážky 6h': 'Zr6h', 'Zrážky 3h': 'Zr3h'})\n",
    "print(df.memory_usage(deep=True, index=True).sum())\n",
    "\n",
    "# df['Zr1h'] = df['Zr1h'].astype(pd.ArrowDtype (dectype))\n",
    "# df['Zr3h'] = df['Zr3h'].astype(pd.ArrowDtype (dectype))\n",
    "# df['Zr6h'] = df['Zr6h'].astype(pd.ArrowDtype (dectype))\n",
    "# df['Zr12h'] = df['Zr12h'].astype(pd.ArrowDtype (dectype))\n",
    "# df['Zr24h'] = df['Zr24h'].astype(pd.ArrowDtype (dectype))\n",
    "print(df.memory_usage(deep=True, index=True).sum())\n",
    "\n",
    "# print(df.head())"
   ]
  },
  {
   "cell_type": "code",
   "execution_count": 2,
   "id": "7848e9d2",
   "metadata": {},
   "outputs": [
    {
     "name": "stdout",
     "output_type": "stream",
     "text": [
      "                             Cas_CET      Zr1h     Zr24h\n",
      "count                           1487    1487.0    1487.0\n",
      "mean   2025-09-09 12:42:43.819771136  0.089307  2.132751\n",
      "min              2025-08-08 09:00:00       0.0       0.0\n",
      "25%              2025-08-24 23:30:00       0.0       0.0\n",
      "50%              2025-09-09 12:00:00       0.0       0.0\n",
      "75%              2025-09-25 01:30:00       0.0       0.8\n",
      "max              2025-10-10 20:00:00       8.7      28.1\n",
      "std                              NaN  0.516993  5.532187\n"
     ]
    },
    {
     "data": {
      "image/png": "[encoded data removed]",
      "text/plain": [
       "<Figure size 640x480 with 1 Axes>"
      ]
     },
     "metadata": {},
     "output_type": "display_data"
    }
   ],
   "source": [
    "#BREZNO\n",
    "dfbr = df[df.Stanica == 'Brezno']\n",
    "print(dfbr.describe())\n",
    "import matplotlib.pyplot as plt\n",
    "# plt.hist(dfbr['Zrážky 12h'].__pow__(.1), bins=150)\n",
    "plt.hist(dfbr.loc[dfbr['Zr24h']>0,['Zr24h']], bins=150)\n",
    "plt.xlabel('Zr1h')\n",
    "plt.ylabel('Frequency')\n",
    "plt.title('Histogram of Zrazky Brezno')\n",
    "plt.show()\n"
   ]
  },
  {
   "cell_type": "code",
   "execution_count": null,
   "id": "56f2b422",
   "metadata": {},
   "outputs": [],
   "source": [
    "# sns.swarmplot(x=dfbr['Zrážky 12h']).head(1000)\n",
    "# plt.show()"
   ]
  },
  {
   "cell_type": "code",
   "execution_count": 3,
   "id": "4ea4b25f",
   "metadata": {},
   "outputs": [],
   "source": [
    "result = dfbr.sort_values(by='Cas_CET').copy()\n",
    "result['rolsum'] = result['Zr1h'].rolling(window=24).sum()\n",
    "result['diff'] = result['Zr24h'] - result.rolsum\n",
    "\n"
   ]
  },
  {
   "cell_type": "code",
   "execution_count": 4,
   "id": "26185e53",
   "metadata": {},
   "outputs": [
    {
     "name": "stdout",
     "output_type": "stream",
     "text": [
      "       index  sum  mean   max\n",
      "0 2025-08-08  NaN   NaN   1.5\n",
      "1 2025-08-09  0.0  <NA>  <NA>\n",
      "2 2025-08-10  NaN   NaN  20.2\n",
      "3 2025-08-11  NaN   NaN   0.4\n",
      "4 2025-08-12  NaN   NaN   0.3\n"
     ]
    }
   ],
   "source": [
    "f = pd.read_parquet(ZRAZKY_SK_DIR + 'zrazky_sk.parquet'   )\n",
    "# make daily averages\n",
    "# whole dataframe SK - not grouped by station\n",
    "df_agg = df.copy()\n",
    "df_agg = df_agg.set_index('Cas_CET').resample('D')['Zr1h'].agg(['sum', 'mean', 'max'])\n",
    "df_agg = df_agg.reset_index()\n",
    "print(df_agg.head())"
   ]
  }
 ],
 "metadata": {
  "kernelspec": {
   "display_name": ".venv (3.11.2)",
   "language": "python",
   "name": "python3"
  },
  "language_info": {
   "codemirror_mode": {
    "name": "ipython",
    "version": 3
   },
   "file_extension": ".py",
   "mimetype": "text/x-python",
   "name": "python",
   "nbconvert_exporter": "python",
   "pygments_lexer": "ipython3",
   "version": "3.11.2"
  }
 },
 "nbformat": 4,
 "nbformat_minor": 5
}
