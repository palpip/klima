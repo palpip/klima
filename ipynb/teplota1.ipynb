{
 "cells": [
  {
   "cell_type": "code",
   "execution_count": null,
   "id": "1403f08f",
   "metadata": {},
   "outputs": [],
   "source": []
  },
  {
   "cell_type": "code",
   "execution_count": null,
   "id": "be546166",
   "metadata": {},
   "outputs": [],
   "source": [
    "import pandas as pd\n",
    "import pandas as pd\n",
    "import re\n",
    "import openpyxl\n",
    "import datetime as dt\n",
    "import sqlite3\n",
    "import pyarrow as pa\n",
    "import pyarrow.parquet as pq\n",
    "from pathlib import Path\n",
    "import decimal\n",
    "\n",
    "import os\n",
    "import sys\n",
    "# SRC_DIR = r'/home/pp/program/jupyter/'\n",
    "sys.path.append(os.path.dirname(r'/home/pp/program/jupyter/'))\n",
    "from config import *\n",
    "\n",
    "# Replace 'your_file.parquet' with the path to your Parquet file\n",
    "df = pd.read_parquet(TEPLOTY_SK_DIR + 'teploty_sk.parquet')\n",
    "tf =df.copy()\n",
    "\n",
    "print(df.head())"
   ]
  },
  {
   "cell_type": "code",
   "execution_count": null,
   "id": "aac89d50",
   "metadata": {},
   "outputs": [],
   "source": [
    "dt = tf[['Cas_CET', 'Teplota']]\n",
    "print(dt.head())\n",
    "dt.info()\n",
    "dt['Teplota'].astype(float).describe()\n"
   ]
  },
  {
   "cell_type": "code",
   "execution_count": null,
   "id": "2fc44766",
   "metadata": {},
   "outputs": [],
   "source": [
    "import seaborn as sns\n",
    "import matplotlib.pyplot as plt \n",
    "sns.boxplot(x=dt['Teplota'].astype(float))\n",
    "plt.show()"
   ]
  },
  {
   "cell_type": "code",
   "execution_count": null,
   "id": "ad3b068f",
   "metadata": {},
   "outputs": [],
   "source": [
    "sns.swarmplot(x=dt['Teplota'].astype(float).head(1000))\n",
    "plt.show()"
   ]
  },
  {
   "cell_type": "code",
   "execution_count": null,
   "id": "9f970099",
   "metadata": {},
   "outputs": [],
   "source": [
    "dta=df.loc[['Dudince', 'Žilina','Chopok'],['Teplota','Cas_CET']]\n",
    "dta=df.loc[['Dudince', 'Chopok'],['Teplota','Cas_CET']]\n",
    "\n",
    "plt.figure(figsize=(25, 10))\n",
    "data=dta.loc[['Dudince'],:].sort_values(by=['Cas_CET'])\n",
    "plt.plot(data['Cas_CET'], data['Teplota'],marker='o', linestyle='-')\n",
    "data=dta.loc[['Chopok'],:].sort_values(by=['Cas_CET'])\n",
    "plt.plot(data['Cas_CET'], data['Teplota'],marker='o', linestyle='-')\n",
    "plt.xlabel('Cas_CET')\n",
    "plt.ylabel('Teplota')\n",
    "plt.title('Teplota over Time')\n",
    "plt.xticks(rotation=90)\n",
    "plt.tight_layout()\n",
    "plt.size=(150, 10)\n",
    "plt.show()"
   ]
  },
  {
   "cell_type": "code",
   "execution_count": null,
   "id": "caebac85",
   "metadata": {},
   "outputs": [],
   "source": [
    "# dta=df.loc[['Dudince', 'Žilina','Chopok'],['Teplota','Cas_CET']]\n",
    "# dta=df.loc[['Dudince', 'Chopok'],['Teplota','Cas_CET']]\n",
    "\n",
    "plt.figure(figsize=(25, 10))\n",
    "data=df.loc[['Žilina'],:].sort_values(by=['Cas_CET'])\n",
    "plt.plot(data['Cas_CET'], data['Teplota'],marker='', linestyle='-')\n",
    "data=df.loc[['Chopok'],:].sort_values(by=['Cas_CET'])\n",
    "plt.plot(data['Cas_CET'], data['Teplota'],marker='', linestyle='-')\n",
    "plt.xlabel('Cas_CET')\n",
    "plt.ylabel('Teplota')\n",
    "plt.title('Teplota over Time')\n",
    "plt.xticks(rotation=90)\n",
    "plt.tight_layout()\n",
    "plt.size=(150, 10)\n",
    "plt.show()"
   ]
  },
  {
   "cell_type": "code",
   "execution_count": null,
   "id": "974f364f",
   "metadata": {},
   "outputs": [],
   "source": [
    "# Resample to daily frequency, calculating the mean temperature for each day\n",
    "dmi = df.set_index(['Cas_CET']).groupby('Stanica').resample('1D')['Teplota'].mean()\n",
    "# Calculate a rolling mean with a window of 5 days\n",
    "dmroll = dmi.rolling(window=5).mean()\n",
    "# Reset index to turn the MultiIndex into columns\n",
    "dmroll = dmroll.reset_index().set_index(['Stanica'])\n",
    "dmi = dmi.reset_index().set_index(['Stanica'])\n",
    "\n",
    "# For multiple aggregations\n",
    "dfMultiple = df.set_index(['Cas_CET']).groupby('Stanica').resample('1D').agg({'Teplota': ['mean', 'max', 'min']})\n",
    "# Reset index to turn the MultiIndex into columns\n",
    "dfMultiple = dfMultiple.reset_index().set_index(['Stanica'])\n",
    "print(dfMultiple.head(10))\n"
   ]
  },
  {
   "cell_type": "code",
   "execution_count": null,
   "id": "462c0d9b",
   "metadata": {},
   "outputs": [],
   "source": [
    "\n",
    "\n",
    "\n",
    "\n",
    "# df = dmi.set_index('Stanica')\n",
    "plt.figure(figsize=(25, 10))\n",
    "data=df.loc[['Žilina - letisko'],:].sort_values(by=['Cas_CET'])\n",
    "plt.plot(data['Cas_CET'], data['Teplota'],marker='', linestyle='-')\n",
    "data=dmi.loc[['Žilina - letisko'],:].sort_values(by=['Cas_CET'])\n",
    "plt.plot(data['Cas_CET'], data['Teplota'],marker='', color='#FF0000', linestyle='-')\n",
    "data=dmroll.loc[['Žilina - letisko'],:].sort_values(by=['Cas_CET'])\n",
    "plt.plot(data['Cas_CET']  - pd.DateOffset(days=0), data['Teplota'],marker='', color='#00FF00', linestyle='-')\n",
    "\n",
    "\n",
    "data=df.loc[['Chopok'],:].sort_values(by=['Cas_CET'])\n",
    "plt.plot(data['Cas_CET'] , data['Teplota'],marker='', color=\"#2F00FF\", linestyle='-')\n",
    "\n",
    "data=dmroll.loc[['Chopok'],:].sort_values(by=['Cas_CET'])\n",
    "plt.plot(data['Cas_CET']  - pd.DateOffset(days=2), data['Teplota'],marker='', color='#00FF00', linestyle='-')\n",
    "\n",
    "plt.xlabel('Cas_CET')\n",
    "plt.ylabel('Teplota')\n",
    "plt.title('Teplota over Time')\n",
    "plt.xticks(rotation=90)\n",
    "plt.tight_layout()\n",
    "plt.size=(150, 10)\n",
    "plt.show()\n",
    "\n"
   ]
  },
  {
   "cell_type": "code",
   "execution_count": null,
   "id": "7d95047e",
   "metadata": {},
   "outputs": [],
   "source": [
    "dmi = df.set_index(['Cas_CET']).groupby('Stanica').resample('1ME')['Teplota'].mean()\n",
    "dmi.info()\n",
    "dmi=dmi.reset_index()\n",
    "dmi=dmi.set_index('Stanica')\n",
    "dmi.info()\n",
    "df.index\n",
    "dmi.index\n",
    "dmi.loc[['Žilina - letisko']]\n"
   ]
  },
  {
   "cell_type": "code",
   "execution_count": null,
   "id": "25091d10",
   "metadata": {},
   "outputs": [],
   "source": [
    "brezno = df[df['Stanica'] == 'Brezno']\n",
    "dfbr = brezno.set_index(['Cas_CET']).resample('D').Teplota.agg(['min', 'max', 'mean', 'median' ])\n",
    "dfbr.reset_index(inplace=True)\n",
    "dfbr['Cas_CET'] = dfbr['Cas_CET'].dt.strftime('%Y-%m-%d')\n",
    "dfbr.info()\n",
    "dfbr\n"
   ]
  },
  {
   "cell_type": "code",
   "execution_count": null,
   "id": "b19491f9",
   "metadata": {},
   "outputs": [],
   "source": [
    "br = brezno[brezno['Cas_CET'] < '2025-08-01']\n",
    "br = br.loc[:,['Cas_CET','Teplota']]\n",
    "br['Datum'] = br['Cas_CET'].dt.strftime('%Y-%m-%d')\n",
    "# br['Cas_CET'].strftime('%Y-%m-d%')\n",
    "# seria = br['Cas_CET'].copy()\n",
    "# seria.info()\n",
    "# br['Datum'] = seria.dt.strftime('%Y-%m-%d')\n",
    "br\n"
   ]
  }
 ],
 "metadata": {
  "kernelspec": {
   "display_name": ".venv (3.11.2)",
   "language": "python",
   "name": "python3"
  },
  "language_info": {
   "codemirror_mode": {
    "name": "ipython",
    "version": 3
   },
   "file_extension": ".py",
   "mimetype": "text/x-python",
   "name": "python",
   "nbconvert_exporter": "python",
   "pygments_lexer": "ipython3",
   "version": "3.11.2"
  }
 },
 "nbformat": 4,
 "nbformat_minor": 5
}
