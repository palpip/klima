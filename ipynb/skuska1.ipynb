{
 "cells": [
  {
   "cell_type": "code",
   "execution_count": null,
   "id": "be546166",
   "metadata": {},
   "outputs": [],
   "source": [
    "import pandas as pd\n",
    "import pandas as pd\n",
    "import re\n",
    "import openpyxl\n",
    "import datetime\n",
    "import sqlite3\n",
    "import pyarrow as pa\n",
    "import pyarrow.parquet as pq\n",
    "from pathlib import Path\n",
    "import decimal\n",
    "from config import *\n",
    "\n",
    "\n",
    "# Replace 'your_file.parquet' with the path to your Parquet file\n",
    "df = pd.read_parquet(TEPLOTY_SK_DIR + 'teplotyx.parquet'   )\n",
    "\n",
    "print(df.head())"
   ]
  },
  {
   "cell_type": "code",
   "execution_count": null,
   "id": "5e7de493",
   "metadata": {},
   "outputs": [],
   "source": [
    "df.index = df['Stanica']\n",
    "brez = df.loc[['Roztoky'],:]"
   ]
  },
  {
   "cell_type": "code",
   "execution_count": null,
   "id": "1ff38872",
   "metadata": {},
   "outputs": [],
   "source": [
    "brez"
   ]
  },
  {
   "cell_type": "code",
   "execution_count": null,
   "id": "08e66f7e",
   "metadata": {},
   "outputs": [],
   "source": [
    "brez.info()"
   ]
  },
  {
   "cell_type": "code",
   "execution_count": null,
   "id": "7eed1e76",
   "metadata": {},
   "outputs": [],
   "source": [
    "tf = brez\n",
    "tf.describe()\n",
    "tf.info()"
   ]
  },
  {
   "cell_type": "code",
   "execution_count": null,
   "id": "3d9ab5a4",
   "metadata": {},
   "outputs": [],
   "source": [
    "tf.Teplota = tf.Teplota.astype(float)\n",
    "print(tf.describe())"
   ]
  },
  {
   "cell_type": "code",
   "execution_count": null,
   "id": "024b5137",
   "metadata": {},
   "outputs": [],
   "source": [
    "# tf.astype(pd.Float32Dtype()).info() \n"
   ]
  },
  {
   "cell_type": "code",
   "execution_count": null,
   "id": "df9231d0",
   "metadata": {},
   "outputs": [],
   "source": [
    "import matplotlib.pyplot as plt\n",
    "plt.hist(tf.Teplota, bins=50)\n",
    "plt.xlabel('Teplota')\n",
    "plt.ylabel('Frequency')\n",
    "plt.title('Histogram of Teplota')\n",
    "plt.show()"
   ]
  },
  {
   "cell_type": "code",
   "execution_count": null,
   "id": "381d7278",
   "metadata": {},
   "outputs": [],
   "source": [
    "tf.columns"
   ]
  },
  {
   "cell_type": "code",
   "execution_count": null,
   "id": "22a4fe38",
   "metadata": {},
   "outputs": [],
   "source": [
    "tf['datetime']"
   ]
  },
  {
   "cell_type": "code",
   "execution_count": null,
   "id": "952988e1",
   "metadata": {},
   "outputs": [],
   "source": [
    "tf.datetime"
   ]
  },
  {
   "cell_type": "code",
   "execution_count": null,
   "id": "aacb2adf",
   "metadata": {},
   "outputs": [],
   "source": [
    "tf[['datetime']]"
   ]
  },
  {
   "cell_type": "code",
   "execution_count": null,
   "id": "aac89d50",
   "metadata": {},
   "outputs": [],
   "source": [
    "dt = tf[['datetime', 'Teplota']]\n",
    "print(dt.head())\n",
    "dt.info()\n",
    "dt['Teplota'].astype(float).describe()\n"
   ]
  },
  {
   "cell_type": "code",
   "execution_count": null,
   "id": "2fc44766",
   "metadata": {},
   "outputs": [],
   "source": [
    "import seaborn as sns\n",
    "import matplotlib.pyplot as plt \n",
    "sns.boxplot(x=dt['Teplota'].astype(float))\n",
    "plt.show()"
   ]
  },
  {
   "cell_type": "code",
   "execution_count": null,
   "id": "ad3b068f",
   "metadata": {},
   "outputs": [],
   "source": [
    "sns.swarmplot(x=dt['Teplota'].astype(float).head(1000))\n",
    "plt.show()"
   ]
  },
  {
   "cell_type": "code",
   "execution_count": null,
   "id": "038b4fa0",
   "metadata": {},
   "outputs": [],
   "source": [
    "data=dt.head(10000).sort_values(by=['datetime'])\n",
    "data['Teplota'] = data['Teplota'].astype(float)\n",
    "data.info()\n",
    "data.describe()"
   ]
  },
  {
   "cell_type": "code",
   "execution_count": null,
   "id": "e5a696b2",
   "metadata": {},
   "outputs": [],
   "source": [
    "df.Teplota = df.Teplota.astype(float)\n",
    "df.info()"
   ]
  },
  {
   "cell_type": "code",
   "execution_count": null,
   "id": "f755de53",
   "metadata": {},
   "outputs": [],
   "source": [
    "df.index.unique()"
   ]
  },
  {
   "cell_type": "code",
   "execution_count": null,
   "id": "9f970099",
   "metadata": {},
   "outputs": [],
   "source": [
    "data=df.loc[['Dudince', 'Žilina','Chopok'],['Teplota','datetime']]\n",
    "data=df.loc[['Dudince', 'Chopok'],['Teplota','datetime']]\n",
    "\n",
    "plt.figure(figsize=(25, 10))\n",
    "plt.plot(data['datetime'], data['Teplota'],marker='o', linestyle='-')\n",
    "plt.xlabel('Datetime')\n",
    "plt.ylabel('Teplota')\n",
    "plt.title('Teplota over Time')\n",
    "plt.xticks(rotation=90)\n",
    "plt.tight_layout()\n",
    "plt.size=(150, 10)\n",
    "plt.show()"
   ]
  },
  {
   "cell_type": "code",
   "execution_count": null,
   "id": "8a611279",
   "metadata": {},
   "outputs": [],
   "source": [
    "plt.size"
   ]
  },
  {
   "cell_type": "code",
   "execution_count": null,
   "id": "8c24e51b",
   "metadata": {},
   "outputs": [],
   "source": [
    "dir(decimal)\n"
   ]
  }
 ],
 "metadata": {
  "kernelspec": {
   "display_name": ".venv (3.11.2)",
   "language": "python",
   "name": "python3"
  },
  "language_info": {
   "codemirror_mode": {
    "name": "ipython",
    "version": 3
   },
   "file_extension": ".py",
   "mimetype": "text/x-python",
   "name": "python",
   "nbconvert_exporter": "python",
   "pygments_lexer": "ipython3",
   "version": "3.11.2"
  }
 },
 "nbformat": 4,
 "nbformat_minor": 5
}
