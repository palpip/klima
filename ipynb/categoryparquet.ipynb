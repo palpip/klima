{
 "cells": [
  {
   "cell_type": "code",
   "execution_count": null,
   "id": "1c24fe36",
   "metadata": {},
   "outputs": [],
   "source": []
  },
  {
   "cell_type": "code",
   "execution_count": null,
   "id": "bf5ccdd7",
   "metadata": {},
   "outputs": [],
   "source": [
    "import pandas as pd\n",
    "import numpy as np\n",
    "import re\n",
    "import openpyxl\n",
    "import datetime as dt\n",
    "import sqlite3\n",
    "import pyarrow as pa\n",
    "import pyarrow.parquet as pq\n",
    "from pathlib import Path\n",
    "import seaborn as sns\n",
    "import matplotlib.pyplot as plt \n",
    "\n",
    "import decimal\n",
    "import os\n",
    "import sys\n",
    "\n",
    "\n",
    "SRC_DIR = r'/home/pp/program/jupyter/temp/'\n",
    "sys.path.append(os.path.dirname(r'/home/pp/program/jupyter/'))\n",
    "from config import *\n",
    "\n",
    "# Replace 'your_file.parquet' with the path to your Parquet file\n",
    "#df = pd.read_parquet(ZRAZKY_SK_DIR + 'zrazky_sk.parquet'   )\n",
    "\n",
    "d1 = list('abcdef')\n",
    "d2 = list('fghija')\n",
    "n1 = list(range(6))\n",
    "n2 = list(range(6, 12))\n",
    "\n",
    "i1= pd.Index(map(lambda s: s.upper(), d1))\n",
    "i2= pd.Index(map(lambda s: s.upper(), d2))\n",
    "\n",
    "\n",
    "df1 = pd.DataFrame({'c1' : d1, 'c2' : n1}, index=i1, columns=['c1', 'c2'])\n",
    "# df1 = pd.DataFrame({'c1' : d1, 'c2' : n1}, index=i1, columns=['col1', 'col2'])\n",
    "df2 = pd.DataFrame({'c1' : n2, 'c2' : n1, 'c3' : d2}, index=i2)\n",
    "df2.c1 = df2.c1.astype('category')\n",
    "df2.c2 = df2.c2.astype('Float32')\n",
    "df1.c1 = df1.c1.astype('category')\n",
    "df1.c2 = df1.c2.astype('Int16')\n",
    "print(df1)\n",
    "print(df2)\n",
    "\n",
    "df1.to_parquet(SRC_DIR+'df1.parquet', engine='auto')\n",
    "df2.to_parquet(SRC_DIR+'df2.parquet', engine='auto')\n",
    "\n",
    "df11 = pd.read_parquet(SRC_DIR + 'df1.parquet')\n",
    "df21 = pd.read_parquet(SRC_DIR + 'df2.parquet')\n",
    "df3 = pd.concat([df1, df2, df11, df21], axis=0, ignore_index=False, join='outer', sort=False)\n",
    "\n",
    "print(df3)\n",
    "print()\n",
    "\n"
   ]
  }
 ],
 "metadata": {
  "kernelspec": {
   "display_name": ".venv (3.11.2)",
   "language": "python",
   "name": "python3"
  },
  "language_info": {
   "codemirror_mode": {
    "name": "ipython",
    "version": 3
   },
   "file_extension": ".py",
   "mimetype": "text/x-python",
   "name": "python",
   "nbconvert_exporter": "python",
   "pygments_lexer": "ipython3",
   "version": "3.11.2"
  }
 },
 "nbformat": 4,
 "nbformat_minor": 5
}
