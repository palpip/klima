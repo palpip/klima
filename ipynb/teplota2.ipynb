{
 "cells": [
  {
   "cell_type": "code",
   "execution_count": null,
   "id": "7442f214",
   "metadata": {},
   "outputs": [],
   "source": [
    "import pandas as pd\n",
    "import pandas as pd\n",
    "import re\n",
    "import openpyxl\n",
    "import datetime as dt\n",
    "import sqlite3\n",
    "import pyarrow as pa\n",
    "import pyarrow.parquet as pq\n",
    "from pathlib import Path\n",
    "import decimal\n",
    "\n",
    "import os\n",
    "import sys\n",
    "# SRC_DIR = r'/home/pp/program/jupyter/'\n",
    "sys.path.append(os.path.dirname(r'/home/pp/program/jupyter/'))\n",
    "from config import *\n",
    "\n",
    "# Replace 'your_file.parquet' with the path to your Parquet file\n",
    "df = pd.read_parquet(TEPLOTY_SK_DIR + 'teploty_sk.parquet')\n"
   ]
  },
  {
   "cell_type": "code",
   "execution_count": null,
   "id": "21a67f04",
   "metadata": {},
   "outputs": [],
   "source": [
    "\n",
    "# print(df.head())\n",
    "# print(df.describe())\n",
    "# print(tf.info())\n",
    "# print(df.filter(like=25, axis=0).head(20))\n",
    "bdf = df[df['Stanica'] == 'Brezno']\n",
    "# bdf = df[df.index == 8]\n",
    "bdf.index.unique()\n",
    "\n",
    "# print(bdf.info())"
   ]
  },
  {
   "cell_type": "code",
   "execution_count": null,
   "id": "c9e173ea",
   "metadata": {},
   "outputs": [],
   "source": [
    "bdf.loc[:,['Teplota','Tlak']].agg(['min', 'max', 'mean', 'std', 'count'])\n"
   ]
  },
  {
   "cell_type": "code",
   "execution_count": null,
   "id": "19258141",
   "metadata": {},
   "outputs": [],
   "source": [
    "bdf.loc[:,['Teplota','Tlak']].plot(kind='scatter', x='Teplota', y='Tlak', figsize=(10,5), title='Brezno - Teplota a Tlak (1961-2023)')"
   ]
  },
  {
   "cell_type": "code",
   "execution_count": null,
   "id": "5e7868ce",
   "metadata": {},
   "outputs": [],
   "source": [
    "result = bdf.set_index(bdf.Cas_CET).resample('D').agg({'Teplota':['min', 'max', 'mean'], 'Tlak':['mean']})  \n",
    "# bdf.groupby(bdf.index).agg({'Teplota':['min', 'max', 'mean', 'std', 'count'], 'Tlak':['min', 'max', 'mean', 'std', 'count']}).plot(kind='line', y=('Teplota','mean'), figsize=(10,5), title='Brezno - Teplota (1961-2023)')    \n",
    "result.to_excel(TEPLOTY_SK_DIR + 'teploty_brezno_den.xlsx')\n",
    "# result.in\n"
   ]
  }
 ],
 "metadata": {
  "kernelspec": {
   "display_name": ".venv (3.11.2)",
   "language": "python",
   "name": "python3"
  },
  "language_info": {
   "codemirror_mode": {
    "name": "ipython",
    "version": 3
   },
   "file_extension": ".py",
   "mimetype": "text/x-python",
   "name": "python",
   "nbconvert_exporter": "python",
   "pygments_lexer": "ipython3",
   "version": "3.11.2"
  }
 },
 "nbformat": 4,
 "nbformat_minor": 5
}
