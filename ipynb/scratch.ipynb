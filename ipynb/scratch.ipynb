{
 "cells": [
  {
   "cell_type": "code",
   "execution_count": 1,
   "id": "57b5eb98",
   "metadata": {},
   "outputs": [
    {
     "name": "stdout",
     "output_type": "stream",
     "text": [
      "Index(['a', 'd', 'f'], dtype='object', name='index')\n"
     ]
    },
    {
     "data": {
      "text/plain": [
       "'[[adf]]'"
      ]
     },
     "execution_count": 1,
     "metadata": {},
     "output_type": "execute_result"
    }
   ],
   "source": [
    "\n",
    "import pandas as pd\n",
    "import numpy as np\n",
    "import re\n",
    "import openpyxl\n",
    "import datetime\n",
    "import sqlite3\n",
    "import pyarrow as pa\n",
    "import pyarrow.parquet as pq\n",
    "from pathlib import Path\n",
    "import decimal\n",
    "\n",
    "import os\n",
    "import sys\n",
    "# SRC_DIR = r'/home/pp/program/jupyter/'\n",
    "sys.path.append(os.path.dirname(r'/home/pp/program/jupyter/'))\n",
    "from config import *\n",
    "\n",
    "\n",
    "df = pd.DataFrame(np.arange(12).reshape(6, 2), columns=list('ab'), index=list('abcdef'))\n",
    "df.reset_index(inplace=True)\n",
    "df.set_index('a', inplace=True)\n",
    "df.reset_index(inplace=True)\n",
    "df.set_index('index', inplace=True)\n",
    "df.filter(regex='[bdf]', axis=0)\n",
    "df.filter(regex='[bdf]', axis=1)\n",
    "df['c'] = df['b'].astype('string')\n",
    "df.drop(df.filter(regex='[bdf]', axis=0).index, axis=0, inplace=False)\n",
    "# print(index=df.filter(regex='[bdf]', axis=0).index)\n",
    "\n",
    "flt = '[adf]'\n",
    "df.drop(df.filter(regex=flt, axis=0).index, axis=0, inplace=False)\n",
    "\n",
    "print(df.filter(regex=flt, axis=0).index)\n",
    "\n",
    "flt\n",
    "'[' + ''.join(flt) + ']'"
   ]
  }
 ],
 "metadata": {
  "kernelspec": {
   "display_name": ".venv (3.11.2)",
   "language": "python",
   "name": "python3"
  },
  "language_info": {
   "codemirror_mode": {
    "name": "ipython",
    "version": 3
   },
   "file_extension": ".py",
   "mimetype": "text/x-python",
   "name": "python",
   "nbconvert_exporter": "python",
   "pygments_lexer": "ipython3",
   "version": "3.11.2"
  }
 },
 "nbformat": 4,
 "nbformat_minor": 5
}
