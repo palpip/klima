{
 "cells": [
  {
   "cell_type": "code",
   "execution_count": null,
   "id": "1403f08f",
   "metadata": {},
   "outputs": [],
   "source": []
  },
  {
   "cell_type": "code",
   "execution_count": null,
   "id": "be546166",
   "metadata": {},
   "outputs": [],
   "source": [
    "import pandas as pd\n",
    "import pandas as pd\n",
    "import re\n",
    "import openpyxl\n",
    "import datetime\n",
    "import sqlite3\n",
    "import pyarrow as pa\n",
    "import pyarrow.parquet as pq\n",
    "from pathlib import Path\n",
    "import decimal\n",
    "\n",
    "import os\n",
    "import sys\n",
    "# SRC_DIR = r'/home/pp/program/jupyter/'\n",
    "sys.path.append(os.path.dirname(r'/home/pp/program/jupyter/'))\n",
    "from config import *\n",
    "\n",
    "# Replace 'your_file.parquet' with the path to your Parquet file\n",
    "df = pd.read_parquet(TEPLOTY_SK_DIR + 'teploty_sk.parquet'   )\n",
    "\n",
    "print(df.head())"
   ]
  },
  {
   "cell_type": "code",
   "execution_count": null,
   "id": "5e7de493",
   "metadata": {},
   "outputs": [],
   "source": [
    "df.index = df['Stanica']\n",
    "brez = df.loc[['Roztoky'],:]"
   ]
  },
  {
   "cell_type": "code",
   "execution_count": null,
   "id": "aa5f3faf",
   "metadata": {},
   "outputs": [],
   "source": [
    "brez"
   ]
  },
  {
   "cell_type": "code",
   "execution_count": null,
   "id": "2bc55976",
   "metadata": {},
   "outputs": [],
   "source": []
  },
  {
   "cell_type": "code",
   "execution_count": null,
   "id": "1ff38872",
   "metadata": {},
   "outputs": [],
   "source": [
    "brez"
   ]
  },
  {
   "cell_type": "code",
   "execution_count": null,
   "id": "08e66f7e",
   "metadata": {},
   "outputs": [],
   "source": [
    "brez.info()"
   ]
  },
  {
   "cell_type": "code",
   "execution_count": null,
   "id": "093da99c",
   "metadata": {},
   "outputs": [],
   "source": []
  },
  {
   "cell_type": "code",
   "execution_count": null,
   "id": "7eed1e76",
   "metadata": {},
   "outputs": [],
   "source": [
    "tf = brez\n",
    "tf.describe()\n",
    "tf.info()"
   ]
  },
  {
   "cell_type": "code",
   "execution_count": null,
   "id": "3d9ab5a4",
   "metadata": {},
   "outputs": [],
   "source": [
    "tf.Teplota = tf.Teplota.astype(float)\n",
    "print(tf.describe())"
   ]
  },
  {
   "cell_type": "code",
   "execution_count": null,
   "id": "024b5137",
   "metadata": {},
   "outputs": [],
   "source": [
    "tf.Teplota.astype(pd.Float32Dtype()).info() \n"
   ]
  },
  {
   "cell_type": "code",
   "execution_count": null,
   "id": "df9231d0",
   "metadata": {},
   "outputs": [],
   "source": [
    "import matplotlib.pyplot as plt\n",
    "plt.hist(tf.Teplota, bins=50)\n",
    "plt.xlabel('Teplota')\n",
    "plt.ylabel('Frequency')\n",
    "plt.title('Histogram of Teplota')\n",
    "plt.show()"
   ]
  },
  {
   "cell_type": "code",
   "execution_count": null,
   "id": "b80693ae",
   "metadata": {},
   "outputs": [],
   "source": [
    "tf"
   ]
  },
  {
   "cell_type": "code",
   "execution_count": null,
   "id": "381d7278",
   "metadata": {},
   "outputs": [],
   "source": [
    "tf.columns"
   ]
  },
  {
   "cell_type": "code",
   "execution_count": null,
   "id": "22a4fe38",
   "metadata": {},
   "outputs": [],
   "source": [
    "tf['Cas_CET']"
   ]
  },
  {
   "cell_type": "code",
   "execution_count": null,
   "id": "952988e1",
   "metadata": {},
   "outputs": [],
   "source": [
    "tf.Cas_CET"
   ]
  },
  {
   "cell_type": "code",
   "execution_count": null,
   "id": "b0087248",
   "metadata": {},
   "outputs": [],
   "source": [
    "tf['Cas_CET']"
   ]
  },
  {
   "cell_type": "code",
   "execution_count": null,
   "id": "aacb2adf",
   "metadata": {},
   "outputs": [],
   "source": [
    "tf[['Cas_CET']]"
   ]
  },
  {
   "cell_type": "code",
   "execution_count": null,
   "id": "aac89d50",
   "metadata": {},
   "outputs": [],
   "source": [
    "dt = tf[['Cas_CET', 'Teplota']]\n",
    "print(dt.head())\n",
    "dt.info()\n",
    "dt['Teplota'].astype(float).describe()\n"
   ]
  },
  {
   "cell_type": "code",
   "execution_count": null,
   "id": "2fc44766",
   "metadata": {},
   "outputs": [],
   "source": [
    "import seaborn as sns\n",
    "import matplotlib.pyplot as plt \n",
    "sns.boxplot(x=dt['Teplota'].astype(float))\n",
    "plt.show()"
   ]
  },
  {
   "cell_type": "code",
   "execution_count": null,
   "id": "ad3b068f",
   "metadata": {},
   "outputs": [],
   "source": [
    "sns.swarmplot(x=dt['Teplota'].astype(float).head(1000))\n",
    "plt.show()"
   ]
  },
  {
   "cell_type": "code",
   "execution_count": null,
   "id": "038b4fa0",
   "metadata": {},
   "outputs": [],
   "source": [
    "data=df.head(10000).sort_values(by=['Cas_CET'])\n",
    "data['Teplota'] = data['Teplota'].astype(float)\n",
    "data.info()\n",
    "data.describe()"
   ]
  },
  {
   "cell_type": "code",
   "execution_count": null,
   "id": "e5a696b2",
   "metadata": {},
   "outputs": [],
   "source": [
    "df.Teplota = df.Teplota.astype(float)\n",
    "df.info()"
   ]
  },
  {
   "cell_type": "code",
   "execution_count": null,
   "id": "f755de53",
   "metadata": {},
   "outputs": [],
   "source": [
    "df.index.unique()"
   ]
  },
  {
   "cell_type": "code",
   "execution_count": null,
   "id": "b5d7032a",
   "metadata": {},
   "outputs": [],
   "source": [
    "df.index =df.Stanica\n",
    "dta=df.loc[['Dudince', 'Chopok'],['Teplota','Cas_CET']]\n",
    "data=dta.loc[['Dudince'],:].sort_values(by=['Cas_CET'])\n",
    "data"
   ]
  },
  {
   "cell_type": "code",
   "execution_count": null,
   "id": "9f970099",
   "metadata": {},
   "outputs": [],
   "source": [
    "dta=df.loc[['Dudince', 'Žilina','Chopok'],['Teplota','Cas_CET']]\n",
    "dta=df.loc[['Dudince', 'Chopok'],['Teplota','Cas_CET']]\n",
    "\n",
    "plt.figure(figsize=(25, 10))\n",
    "data=dta.loc[['Dudince'],:].sort_values(by=['Cas_CET'])\n",
    "plt.plot(data['Cas_CET'], data['Teplota'],marker='o', linestyle='-')\n",
    "data=dta.loc[['Chopok'],:].sort_values(by=['Cas_CET'])\n",
    "plt.plot(data['Cas_CET'], data['Teplota'],marker='o', linestyle='-')\n",
    "plt.xlabel('Cas_CET')\n",
    "plt.ylabel('Teplota')\n",
    "plt.title('Teplota over Time')\n",
    "plt.xticks(rotation=90)\n",
    "plt.tight_layout()\n",
    "plt.size=(150, 10)\n",
    "plt.show()"
   ]
  },
  {
   "cell_type": "code",
   "execution_count": null,
   "id": "caebac85",
   "metadata": {},
   "outputs": [],
   "source": [
    "# dta=df.loc[['Dudince', 'Žilina','Chopok'],['Teplota','Cas_CET']]\n",
    "# dta=df.loc[['Dudince', 'Chopok'],['Teplota','Cas_CET']]\n",
    "\n",
    "plt.figure(figsize=(25, 10))\n",
    "data=df.loc[['Žilina'],:].sort_values(by=['Cas_CET'])\n",
    "plt.plot(data['Cas_CET'], data['Teplota'],marker='', linestyle='-')\n",
    "data=df.loc[['Chopok'],:].sort_values(by=['Cas_CET'])\n",
    "plt.plot(data['Cas_CET'], data['Teplota'],marker='', linestyle='-')\n",
    "plt.xlabel('Cas_CET')\n",
    "plt.ylabel('Teplota')\n",
    "plt.title('Teplota over Time')\n",
    "plt.xticks(rotation=90)\n",
    "plt.tight_layout()\n",
    "plt.size=(150, 10)\n",
    "plt.show()"
   ]
  },
  {
   "cell_type": "code",
   "execution_count": null,
   "id": "fe89765b",
   "metadata": {},
   "outputs": [],
   "source": [
    "dta=df.loc[['Dudince', 'Žilina','Chopok'],['Teplota','Cas_CET']]\n",
    "dta=df.loc[['Dudince', 'Chopok'],['Teplota','Cas_CET']]\n",
    "# df = df.drop('Stanica', axis=1)\n",
    "\n",
    "# davg = df.groupby(df.['Cas-CET'].dt.dayofweek)['Teplota'].mean() #OK returns Series\n",
    "#print(df[['Teplota','Cas_CET']]) #.info()\n",
    "# davg.info()\n",
    "# print(davg)\n",
    "# davg = df[['Stanica', 'Teplota','Cas_CET']].groupby(pd.Grouper(key = 'Stanica')).mean() #OK Returns DataFrame\n",
    "# davg.info()\n",
    "# err davg = dta.groupby(pd.Grouper(key = ['Stanica', 'Cas_CET'], freq='1d')).mean()             #ERROR\n",
    "# davg = df.groupby('Stanica').apply(lambda x: x.rolling('1D',on='Cas_CET',closed='left')['Teplota'].sum())\n",
    "# davg = df.groupby(['Stanica', 'Cas_CET'])['Teplota'].mean().reset_index()\n",
    "# print(davg)\n",
    "# dmi = df.set_index('Cas_CET').groupby('Stanica').resample('1D')['Teplota'].mean().reset_index()\n",
    "# print(dmi)\n"
   ]
  },
  {
   "cell_type": "code",
   "execution_count": null,
   "id": "974f364f",
   "metadata": {},
   "outputs": [],
   "source": [
    "# df = df.drop('Stanica', axis=1)\n",
    "# dmi = df.reset_index()\n",
    "dmi = df.set_index(['Cas_CET']).groupby('Stanica').resample('12H')['Teplota'].mean().reset_index()\n",
    "\n",
    "print(dmi)\n",
    "# df = dmi.set_index('Stanica')\n",
    "plt.figure(figsize=(25, 10))\n",
    "data=df.loc[['Žilina - letisko'],:].sort_values(by=['Cas_CET'])\n",
    "plt.plot(data['Cas_CET'], data['Teplota'],marker='', linestyle='-')\n",
    "data=df.loc[['Chopok'],:].sort_values(by=['Cas_CET'])\n",
    "plt.plot(data['Cas_CET'], data['Teplota'],marker='', linestyle='-')\n",
    "plt.xlabel('Cas_CET')\n",
    "plt.ylabel('Teplota')\n",
    "plt.title('Teplota over Time')\n",
    "plt.xticks(rotation=90)\n",
    "plt.tight_layout()\n",
    "plt.size=(150, 10)\n",
    "plt.show()\n",
    "\n"
   ]
  }
 ],
 "metadata": {
  "kernelspec": {
   "display_name": ".venv (3.11.2)",
   "language": "python",
   "name": "python3"
  },
  "language_info": {
   "codemirror_mode": {
    "name": "ipython",
    "version": 3
   },
   "file_extension": ".py",
   "mimetype": "text/x-python",
   "name": "python",
   "nbconvert_exporter": "python",
   "pygments_lexer": "ipython3",
   "version": "3.11.2"
  }
 },
 "nbformat": 4,
 "nbformat_minor": 5
}
