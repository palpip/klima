{
 "cells": [
  {
   "cell_type": "code",
   "execution_count": null,
   "id": "fa525ee3",
   "metadata": {},
   "outputs": [],
   "source": [
    "import pandas as pd\n",
    "import numpy as np\n",
    "import matplotlib as mp\n",
    "\n",
    "import os\n",
    "import sys\n",
    "\n",
    "# SRC_DIR = r'/home/pp/program/jupyter/'\n",
    "sys.path.append(os.path.dirname(r'/home/pp/program/jupyter/'))\n",
    "from config import *\n",
    "\n",
    "TEMPTESTFILE = TEPLOTY_SK_DIR + '2025-07-30-15-00.html'\n",
    "UHRNTESTFILE = ZRAZKY_BREZNO_DIR + '2025-07-30-23-45.html'\n",
    "tables = pd.read_html(TEMPTESTFILE)    \n",
    "    \n"
   ]
  },
  {
   "cell_type": "code",
   "execution_count": null,
   "id": "8da185ee",
   "metadata": {},
   "outputs": [],
   "source": [
    "tables[0]\n",
    "# len(tables[0])"
   ]
  },
  {
   "cell_type": "code",
   "execution_count": null,
   "id": "65791a0b",
   "metadata": {},
   "outputs": [],
   "source": [
    "dir(tables)"
   ]
  },
  {
   "cell_type": "code",
   "execution_count": null,
   "id": "22b7d85e",
   "metadata": {},
   "outputs": [],
   "source": [
    "dir(tables[0])\n",
    "print(type(tables))\n",
    "print(type(tables[0]))"
   ]
  },
  {
   "cell_type": "code",
   "execution_count": null,
   "id": "9bc3d778",
   "metadata": {},
   "outputs": [],
   "source": [
    "t=tables[0]\n",
    "t"
   ]
  },
  {
   "cell_type": "code",
   "execution_count": null,
   "id": "b00308f2",
   "metadata": {},
   "outputs": [],
   "source": [
    "# t.columns = t.columns.droplevel(0)\n",
    "t1 = t.loc[1:5]\n",
    "# t1.droplevel(0)\n",
    "t1.columns.levels[1]\n",
    "t2 = t1\n",
    "t2.columns = t2.columns.droplevel(0)\n",
    "t2"
   ]
  },
  {
   "cell_type": "code",
   "execution_count": null,
   "id": "9d88804a",
   "metadata": {},
   "outputs": [],
   "source": [
    "# print(t2.iloc[0:2, 0:2])\n",
    "# print(t2.loc[:,:]) #OK\n",
    "# print(t2.loc[0:2]) #OK\n",
    "# print(t2.loc[0:2,:]) #OK\n",
    "print(t2.iloc[0:2,0:3]) #OK\n",
    "print(t2.loc[0:2,'Stanica':'Smer']) #OK\n",
    "\n"
   ]
  },
  {
   "cell_type": "code",
   "execution_count": null,
   "id": "7d6393bc",
   "metadata": {},
   "outputs": [],
   "source": [
    "t3 = t2\n",
    "t3.index = t3.Stanica\n",
    "print(t3['Bardejov':'Boľkovce'])\n",
    "print(t3.loc['Bardejov':'Boľkovce'])\n",
    "print(t3.loc[:, 'Smer':'Nárazy'])\n",
    "print(t3.loc['Bardejov':'Boľkovce', 'Smer':'Rýchlosť'])\n",
    "print(t3.loc['Boľkovce', 'Rýchlosť'])\n",
    "\n"
   ]
  },
  {
   "cell_type": "code",
   "execution_count": null,
   "id": "c2a90eee",
   "metadata": {},
   "outputs": [],
   "source": [
    "t3[t3['Rýchlosť'] < '2']\n",
    "t3.Stanica > 'Be'\n",
    "t3[t3.Stanica < 'Be']\n",
    "t3[t3.Stanica < 'Be']\n",
    "t4 =t3\n",
    "t4.index[2]\n",
    "t4.iloc[2]\n",
    "t4.loc['Beluša']\n"
   ]
  }
 ],
 "metadata": {
  "kernelspec": {
   "display_name": ".venv (3.11.2)",
   "language": "python",
   "name": "python3"
  },
  "language_info": {
   "codemirror_mode": {
    "name": "ipython",
    "version": 3
   },
   "file_extension": ".py",
   "mimetype": "text/x-python",
   "name": "python",
   "nbconvert_exporter": "python",
   "pygments_lexer": "ipython3",
   "version": "3.11.2"
  }
 },
 "nbformat": 4,
 "nbformat_minor": 5
}
