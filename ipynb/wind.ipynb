{
 "cells": [
  {
   "cell_type": "code",
   "execution_count": 32,
   "id": "537d7640",
   "metadata": {},
   "outputs": [
    {
     "name": "stdout",
     "output_type": "stream",
     "text": [
      "                Stanica  Teplota Smer  Rýchlosť Nárazy    Tlak Oblačnosť  \\\n",
      "49       Oravské Veselé     20.9    Z       2.0   None     NaN      None   \n",
      "25               Košice     22.8   SZ       3.0   None  1013.6   Oblačno   \n",
      "26  Košice - Podhradová     24.1   SV       2.0   None  1013.2      None   \n",
      "27    Kráľova pri Senci     24.3    Z       3.0   None     NaN      None   \n",
      "28       Kremnické Bane     20.2   SZ       2.0   None     NaN      None   \n",
      "\n",
      "   Počasie  Graf             Cas_CET              file  \n",
      "49    None   NaN 2025-07-30 14:00:00  2025-07-30-15-00  \n",
      "25    None   NaN 2025-07-30 14:00:00  2025-07-30-15-00  \n",
      "26    None   NaN 2025-07-30 14:00:00  2025-07-30-15-00  \n",
      "27    None   NaN 2025-07-30 14:00:00  2025-07-30-15-00  \n",
      "28    None   NaN 2025-07-30 14:00:00  2025-07-30-15-00  \n"
     ]
    }
   ],
   "source": [
    "import pandas as pd\n",
    "import numpy as np\n",
    "import re\n",
    "import openpyxl\n",
    "import datetime as dt\n",
    "import sqlite3\n",
    "import pyarrow as pa\n",
    "import pyarrow.parquet as pq\n",
    "from pathlib import Path\n",
    "import decimal\n",
    "\n",
    "import os\n",
    "import sys\n",
    "# SRC_DIR = r'/home/pp/program/jupyter/'\n",
    "sys.path.append(os.path.dirname(r'/home/pp/program/jupyter/'))\n",
    "from config import *\n",
    "\n",
    "# Replace 'your_file.parquet' with the path to your Parquet file\n",
    "df = pd.read_parquet(TEPLOTY_SK_DIR + 'teploty_sk.parquet')\n",
    "tf =df.copy()\n",
    "\n",
    "print(df.head())"
   ]
  },
  {
   "cell_type": "code",
   "execution_count": 36,
   "id": "8f63d5ab",
   "metadata": {},
   "outputs": [
    {
     "data": {
      "text/plain": [
       "180"
      ]
     },
     "execution_count": 36,
     "metadata": {},
     "output_type": "execute_result"
    }
   ],
   "source": [
    "dfbrez = df[df.Stanica == 'Brezno']\n",
    "maskbrez = df.Stanica == 'Brezno'\n",
    "\n",
    "dfbrez = df.loc[maskbrez,['Stanica', 'Smer', 'Rýchlosť', 'Cas_CET']] #OK\n",
    "dfbrez = df.loc[df.Stanica == 'Brezno',['Stanica', 'Smer', 'Rýchlosť', 'Cas_CET']] #OK\n",
    "\n",
    "directions = {'S': 0, 'SV': 45, 'V': 90, 'JV' : 135, 'J' : 180, 'JZ' : 225,  'Z' : 270, 'SZ' : 315, 'BEZV' : 400, None : 500}\n",
    "directions['J']\n"
   ]
  },
  {
   "cell_type": "code",
   "execution_count": 39,
   "id": "915ef0f3",
   "metadata": {},
   "outputs": [
    {
     "data": {
      "text/plain": [
       "<bound method DataFrame.info of    Stanica  Smer  Rýchlosť             Cas_CET  winddir\n",
       "8   Brezno     Z       2.0 2025-07-30 14:00:00      270\n",
       "8   Brezno    JZ       2.0 2025-07-30 15:00:00      225\n",
       "8   Brezno    JZ       2.0 2025-07-30 15:00:00      225\n",
       "8   Brezno    JZ       2.0 2025-07-30 15:00:00      225\n",
       "8   Brezno    JZ       2.0 2025-07-30 15:00:00      225\n",
       "..     ...   ...       ...                 ...      ...\n",
       "8   Brezno     V       1.0 2025-09-25 17:00:00       90\n",
       "8   Brezno     V       1.0 2025-09-25 18:00:00       90\n",
       "8   Brezno     V       1.0 2025-09-25 19:00:00       90\n",
       "8   Brezno  BEZV       0.0 2025-09-25 20:00:00      400\n",
       "8   Brezno    JV       1.0 2025-09-25 21:00:00      135\n",
       "\n",
       "[1376 rows x 5 columns]>"
      ]
     },
     "execution_count": 39,
     "metadata": {},
     "output_type": "execute_result"
    }
   ],
   "source": [
    "def k(x):\n",
    "    return directions[x]\n",
    "dfbrez\n",
    "k('SV')\n",
    "dfbrez['winddir'] = dfbrez.Smer.apply(lambda x: directions[x])\n",
    "dfbrez.info\n"
   ]
  }
 ],
 "metadata": {
  "kernelspec": {
   "display_name": ".venv (3.11.2)",
   "language": "python",
   "name": "python3"
  },
  "language_info": {
   "codemirror_mode": {
    "name": "ipython",
    "version": 3
   },
   "file_extension": ".py",
   "mimetype": "text/x-python",
   "name": "python",
   "nbconvert_exporter": "python",
   "pygments_lexer": "ipython3",
   "version": "3.11.2"
  }
 },
 "nbformat": 4,
 "nbformat_minor": 5
}
