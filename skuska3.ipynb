{
 "cells": [
  {
   "cell_type": "code",
   "execution_count": null,
   "id": "ecab7564",
   "metadata": {},
   "outputs": [],
   "source": []
  },
  {
   "cell_type": "markdown",
   "id": "16e77ba9",
   "metadata": {},
   "source": []
  },
  {
   "cell_type": "markdown",
   "id": "43e65d20",
   "metadata": {},
   "source": [
    "import pandas as pd\n",
    "import numpy as np\n",
    "import matplotlib.pyplot as plt\n",
    "import matplotlib.dates as mdates\n",
    "\n",
    "import re\n",
    "import openpyxl\n",
    "import datetime\n",
    "import sqlite3\n",
    "import pyarrow as pa\n",
    "import pyarrow.parquet as pq\n",
    "from pathlib import Path\n",
    "import decimal\n",
    "import csv\n",
    "TOPDIR = r'/home/pp/program/jupyter/Brezno - Klima/'\n",
    "TEMPDIR= TOPDIR + r'temp/'\n",
    "\n",
    "# Replace 'your_file.parquet' with the path to your Parquet file\n",
    "# dmi = pd.read_parquet(TEMPDIR + 'teplotyx.parquet', engine='pyarrow')  \n",
    "df = pd.read_parquet(TEMPDIR + 'teplotyx.parquet', engine='auto')\n",
    "df = df.replace({'Rýchlosť':'-'}, None)\n",
    "df = df.astype({'Teplota': pd.Float64Dtype(), 'Rýchlosť': pd.Float64Dtype(),'Tlak': pd.Float64Dtype()}, copy=False)\n",
    "# df.info()\n",
    "# print(\"print(df['Rýchlosť'] == '-')\")\n",
    "# print(df['Rýchlosť'] == '-')\n",
    "\n",
    "ndx = pd.isnull(df['Rýchlosť'])\n",
    "print(df.loc[ndx,:])\n"
   ]
  },
  {
   "cell_type": "code",
   "execution_count": null,
   "id": "351c87bf",
   "metadata": {},
   "outputs": [],
   "source": [
    "dmi = df.set_index(['datetime']).groupby('Stanica').resample('1h')['Teplota','Tlak'].mean().reset_index()\n",
    "dmi = dmi.set_index(['Stanica'])\n",
    "print(dmi)\n",
    "dmi = dmi\n",
    "ax = plt.figure(figsize=(25, 10)).add_subplot(1, 1, 1)\n",
    "data=dmi.loc[['Žilina - letisko'],:].sort_values(by=['datetime'])\n",
    "plt.plot(data['datetime'], data['Teplota'],marker='', linestyle='-')\n",
    "plt.plot(data['datetime'], data['Tlak']-1000,marker='', linestyle='-')\n",
    "\n",
    "data=dmi.loc[['Chopok'],:].sort_values(by=['datetime'])\n",
    "plt.plot(data['datetime'], data['Teplota'],marker='', linestyle='-')\n",
    "plt.xlabel('Datetime')\n",
    "plt.ylabel('Teplota')\n",
    "plt.title('Teplota over Time')\n",
    "plt.xticks(rotation=90)\n",
    "ax.xaxis.set_major_locator(mdates.DayLocator(interval=1))  #denne\n",
    "plt.tight_layout()\n",
    "plt.grid(True)\n",
    "plt.axis\n",
    "plt.size=(150, 10)\n",
    "plt.show()"
   ]
  },
  {
   "cell_type": "code",
   "execution_count": null,
   "id": "7b68d0a1",
   "metadata": {},
   "outputs": [],
   "source": [
    "dmean = df.set_index(['datetime']).groupby('Stanica').resample('1d')['Teplota'].mean().reset_index().set_index(['Stanica'])\n",
    "print(dmean)\n",
    "dmin = df.set_index(['datetime']).groupby('Stanica').resample('1d')['Teplota'].min().reset_index().set_index(['Stanica'])\n",
    "dmax = df.set_index(['datetime']).groupby('Stanica').resample('1d')['Teplota'].max().reset_index().set_index(['Stanica'])\n",
    "\n",
    "print(dmax)\n",
    "\n",
    "dmi = dmean\n",
    "ax = plt.figure(figsize=(25, 10)).add_subplot(1, 1, 1)\n",
    "data=dmi.loc[['Žilina - letisko'],:].sort_values(by=['datetime'])\n",
    "plt.plot(data['datetime'], data['Teplota'],marker='', linestyle='-')\n",
    "data=dmi.loc[['Chopok'],:].sort_values(by=['datetime'])\n",
    "plt.plot(data['datetime'], data['Teplota'],marker='', linestyle='-')\n",
    "plt.xlabel('Datetime')\n",
    "plt.ylabel('Teplota')\n",
    "plt.title('Teplota over Time')\n",
    "plt.xticks(rotation=90)\n",
    "ax.xaxis.set_major_locator(mdates.DayLocator(interval=1))  #denne\n",
    "plt.tight_layout()\n",
    "plt.grid(True)\n",
    "plt.axis\n",
    "plt.size=(150, 10)\n",
    "plt.show()"
   ]
  },
  {
   "cell_type": "code",
   "execution_count": null,
   "id": "b8b752e0",
   "metadata": {},
   "outputs": [],
   "source": [
    "dmean['Tmin'] = dmin['Teplota']\n",
    "dmean['Tmax'] = dmax['Teplota']\n",
    "print(dmean)\n",
    "dmi = dmean\n",
    "ax = plt.figure(figsize=(25, 10)).add_subplot(1, 1, 1)\n",
    "data=dmi.loc[['Žilina - letisko'],:].sort_values(by=['datetime'])\n",
    "plt.plot(data['datetime'], data['Teplota'],marker='o', linestyle='-')\n",
    "plt.plot(data['datetime'], data['Tmin'],marker='.', linestyle='-')\n",
    "plt.plot(data['datetime'], data['Tmax'],marker='+', linestyle='-')\n",
    "\n",
    "data=df.set_index('Stanica').loc[['Žilina - letisko'],:].sort_values(by=['datetime'])\n",
    "plt.plot(data['datetime'], data['Teplota'],marker='', linestyle='-')\n",
    "\n",
    "# data=dmi.loc[['Chopok'],:].sort_values(by=['datetime'])\n",
    "# plt.plot(data['datetime'], data['Teplota'],marker='', linestyle='-')\n",
    "plt.xlabel('Datetime')\n",
    "plt.ylabel('Teplota')\n",
    "plt.title('Teplota over Time')\n",
    "plt.xticks(rotation=90)\n",
    "ax.xaxis.set_major_locator(mdates.DayLocator(interval=1))  #denne\n",
    "plt.tight_layout()\n",
    "plt.grid(True)\n",
    "plt.axis\n",
    "plt.size=(150, 10)\n",
    "plt.show()   \n",
    "\n"
   ]
  },
  {
   "cell_type": "code",
   "execution_count": null,
   "id": "a7aaa5f9-32d7-4d3d-bd86-490848844823",
   "metadata": {},
   "outputs": [],
   "source": []
  },
  {
   "cell_type": "code",
   "execution_count": null,
   "id": "c8cf8118-e7a4-4d21-bb1f-9fd666d57709",
   "metadata": {},
   "outputs": [],
   "source": []
  }
 ],
 "metadata": {
  "kernelspec": {
   "display_name": ".venv (3.11.2)",
   "language": "python",
   "name": "python3"
  },
  "language_info": {
   "codemirror_mode": {
    "name": "ipython",
    "version": 3
   },
   "file_extension": ".py",
   "mimetype": "text/x-python",
   "name": "python",
   "nbconvert_exporter": "python",
   "pygments_lexer": "ipython3",
   "version": "3.11.2"
  }
 },
 "nbformat": 4,
 "nbformat_minor": 5
}
