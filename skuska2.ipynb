{
 "cells": [
  {
   "cell_type": "code",
   "execution_count": null,
   "id": "13a3e189",
   "metadata": {},
   "outputs": [],
   "source": [
    "import pandas as pd\n",
    "import numpy as np\n",
    "import re\n",
    "import openpyxl\n",
    "import datetime\n",
    "import sqlite3\n",
    "import pyarrow as pa\n",
    "import pyarrow.parquet as pq\n",
    "from pathlib import Path\n",
    "import decimal\n",
    "import csv\n",
    "TOPDIR = r'/home/pp/program/jupyter/Brezno - Klima/'\n",
    "TEMPDIR= TOPDIR + r'temp/'\n",
    "\n",
    "# Replace 'your_file.parquet' with the path to your Parquet file\n",
    "# df = pd.read_parquet(TEMPDIR + 'teplotyx.parquet', engine='pyarrow')  \n",
    "df = pd.read_parquet(TEMPDIR + 'teplotyx.parquet', engine='auto')\n",
    "d0 = df.copy()\n",
    "df = df.replace({'Rýchlosť':'-'}, None)\n",
    "df = df.astype({'Teplota': pd.Float64Dtype(), 'Rýchlosť': pd.Float64Dtype(),'Tlak': pd.Float64Dtype()}, copy=False)\n",
    "# df.info()\n",
    "# print(df['Rýchlosť'] == '-')\n",
    "\n",
    "ndx = pd.isnull(df['Rýchlosť'])\n",
    "print(ndx)\n",
    "print(df.loc[ndx,:])\n",
    "df                       \n",
    "# df = df[df['Rýchlosť'] == '-']\n",
    "# df"
   ]
  },
  {
   "cell_type": "code",
   "execution_count": null,
   "id": "fae8caca",
   "metadata": {},
   "outputs": [],
   "source": [
    "\n",
    "d0 = df\n",
    "# tl = df['Rýchlosť'].astype(pd.Float64Dtype())\n",
    "# d1 = df[df['Rýchlosť'] == None]\n",
    "# d1\n",
    "# df[df['Rýchlosť'] == '-'] = np.nan\n",
    "# df[df['Rýchlosť'] == np.nan] = 0\n",
    "# df[df['Rýchlosť'].isna()] = 0\n",
    "\n",
    "\n",
    "# df.info()\n",
    "# df\n",
    "d0\n"
   ]
  }
 ],
 "metadata": {
  "kernelspec": {
   "display_name": ".venv (3.11.2)",
   "language": "python",
   "name": "python3"
  },
  "language_info": {
   "codemirror_mode": {
    "name": "ipython",
    "version": 3
   },
   "file_extension": ".py",
   "mimetype": "text/x-python",
   "name": "python",
   "nbconvert_exporter": "python",
   "pygments_lexer": "ipython3",
   "version": "3.11.2"
  }
 },
 "nbformat": 4,
 "nbformat_minor": 5
}
